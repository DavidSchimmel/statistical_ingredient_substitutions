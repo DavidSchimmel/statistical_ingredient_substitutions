{
 "cells": [
  {
   "cell_type": "markdown",
   "metadata": {},
   "source": [
    "# Inspecting the Results of the Arcelik Survey Round 1"
   ]
  },
  {
   "cell_type": "code",
   "execution_count": 1,
   "metadata": {},
   "outputs": [],
   "source": [
    "import os\n",
    "import pickle"
   ]
  },
  {
   "cell_type": "code",
   "execution_count": 36,
   "metadata": {},
   "outputs": [],
   "source": [
    "RESULTS_DICT_PATH = os.path.abspath(\"./survey_results_processed/fused_results.pkl\")\n",
    "RECIPES_WITH_ANSWERS_PATH = os.path.abspath(\"./survey_results_processed/survey_samples_with_answers.pkl\")"
   ]
  },
  {
   "cell_type": "markdown",
   "metadata": {},
   "source": [
    "#### Load Data"
   ]
  },
  {
   "cell_type": "code",
   "execution_count": 40,
   "metadata": {},
   "outputs": [],
   "source": [
    "with open(RESULTS_DICT_PATH, \"rb\") as results_dict_file:\n",
    "    results = pickle.load(results_dict_file)\n",
    "\n",
    "with open (RECIPES_WITH_ANSWERS_PATH, \"rb\") as recipes_with_answers_file:\n",
    "    recipes_with_answers = pickle.load(recipes_with_answers_file)"
   ]
  },
  {
   "cell_type": "code",
   "execution_count": 10,
   "metadata": {},
   "outputs": [
    {
     "name": "stdout",
     "output_type": "stream",
     "text": [
      "(0, {'individual_responses': {'fit': [1, 1, 1, 1, 1], 'tastechange': [0, 1, 0, 1, 0], 'nutruientschange': [0], 'processchange': [0, 0, 0, 0, 0], 'categorychange': [1, 0, 0, 0, 0], 'mainingr': [], 'selection': ['Pork belly', 'Pork belly', 'Pork belly', 'Pork belly', 'Pork loin'], 'usersuggestion': []}, 'consensual_answers': {'fit': 1, 'tastechange': 0, 'nutruientschange': None, 'processchange': 0, 'categorychange': 0, 'mainingr': [], 'selection': 'Pork belly', 'usersuggestion': []}})\n"
     ]
    }
   ],
   "source": [
    "print(list(results.items())[0])"
   ]
  },
  {
   "cell_type": "code",
   "execution_count": 7,
   "metadata": {},
   "outputs": [
    {
     "name": "stdout",
     "output_type": "stream",
     "text": [
      "{'fit': 1, 'tastechange': 1, 'nutruientschange': None, 'processchange': 0, 'categorychange': 0, 'mainingr': [], 'selection': 'Ground beef', 'usersuggestion': ['ground goat']}\n"
     ]
    }
   ],
   "source": [
    "print(list(results.items())[2][1][\"consensual_answers\"])"
   ]
  },
  {
   "cell_type": "code",
   "execution_count": 32,
   "metadata": {},
   "outputs": [],
   "source": [
    "for _, result in list(results.items()):\n",
    "    consensual_answers = result[\"consensual_answers\"]\n",
    "    if consensual_answers[\"selection\"] == \"None\":\n",
    "        print(consensual_answers)\n",
    "        break"
   ]
  },
  {
   "cell_type": "code",
   "execution_count": 14,
   "metadata": {},
   "outputs": [],
   "source": [
    "def get_numbers_for_consensus(results, question):\n",
    "    no_consensus = 0\n",
    "    consensus_is_yes = 0\n",
    "    conseneus_is_no = 0\n",
    "    errors = 0\n",
    "\n",
    "    for result in list(results.items()):\n",
    "        consensual_answers = result[1][\"consensual_answers\"]\n",
    "        fit_answer = consensual_answers[question]\n",
    "        if fit_answer is None:\n",
    "            no_consensus += 1\n",
    "        elif fit_answer == 1:\n",
    "            consensus_is_yes += 1\n",
    "        elif fit_answer == 0:\n",
    "            conseneus_is_no += 1\n",
    "        else:\n",
    "            errors += 1\n",
    "\n",
    "    return no_consensus, consensus_is_yes, conseneus_is_no, errors"
   ]
  },
  {
   "cell_type": "markdown",
   "metadata": {},
   "source": [
    "## Q1: Does the suggested substitution fit the recipe?"
   ]
  },
  {
   "cell_type": "code",
   "execution_count": 24,
   "metadata": {},
   "outputs": [
    {
     "name": "stdout",
     "output_type": "stream",
     "text": [
      "nr of answers without consens: 38\n",
      "nr of answers where consens was yes: 434\n",
      "nr of answers where consens was no: 29\n",
      "nr of error cases: 0\n"
     ]
    }
   ],
   "source": [
    "\n",
    "question = \"fit\"\n",
    "\n",
    "no_consensus, consensus_is_yes, conseneus_is_no, errors = get_numbers_for_consensus(results, question)\n",
    "\n",
    "print(f\"nr of answers without consens: {no_consensus}\")\n",
    "print(f\"nr of answers where consens was yes: {consensus_is_yes}\")\n",
    "print(f\"nr of answers where consens was no: {conseneus_is_no}\")\n",
    "print(f\"nr of error cases: {errors}\")"
   ]
  },
  {
   "cell_type": "markdown",
   "metadata": {},
   "source": [
    "## Q2: Does the suggested substitution constitute a major taste change?"
   ]
  },
  {
   "cell_type": "code",
   "execution_count": 23,
   "metadata": {},
   "outputs": [
    {
     "name": "stdout",
     "output_type": "stream",
     "text": [
      "nr of answers without consens: 94\n",
      "nr of answers where consens was yes: 383\n",
      "nr of answers where consens was no: 24\n",
      "nr of error cases: 0\n"
     ]
    }
   ],
   "source": [
    "question = \"tastechange\"\n",
    "\n",
    "no_consensus, consensus_is_yes, conseneus_is_no, errors = get_numbers_for_consensus(results, question)\n",
    "\n",
    "print(f\"nr of answers without consens: {no_consensus}\")\n",
    "print(f\"nr of answers where consens was yes: {consensus_is_yes}\")\n",
    "print(f\"nr of answers where consens was no: {conseneus_is_no}\")\n",
    "print(f\"nr of error cases: {errors}\")"
   ]
  },
  {
   "cell_type": "markdown",
   "metadata": {},
   "source": [
    "## Q3: Does the suggested substitution constitute a change in the nutritional profile of the recipe?"
   ]
  },
  {
   "cell_type": "code",
   "execution_count": 18,
   "metadata": {},
   "outputs": [
    {
     "name": "stdout",
     "output_type": "stream",
     "text": [
      "nr of answers without consens: 472\n",
      "nr of answers where consens was yes: 8\n",
      "nr of answers where consens was no: 21\n",
      "nr of error cases: 0\n"
     ]
    }
   ],
   "source": [
    "question = \"nutruientschange\"\n",
    "\n",
    "no_consensus, consensus_is_yes, conseneus_is_no, errors = get_numbers_for_consensus(results, question)\n",
    "\n",
    "print(f\"nr of answers without consens: {no_consensus}\")\n",
    "print(f\"nr of answers where consens was yes: {consensus_is_yes}\")\n",
    "print(f\"nr of answers where consens was no: {conseneus_is_no}\")\n",
    "print(f\"nr of error cases: {errors}\")"
   ]
  },
  {
   "cell_type": "markdown",
   "metadata": {},
   "source": [
    "## Q4: Does the suggested substitution require a major change in the cooking instructions?"
   ]
  },
  {
   "cell_type": "code",
   "execution_count": 19,
   "metadata": {},
   "outputs": [
    {
     "name": "stdout",
     "output_type": "stream",
     "text": [
      "nr of answers without consens: 67\n",
      "nr of answers where consens was yes: 89\n",
      "nr of answers where consens was no: 345\n",
      "nr of error cases: 0\n"
     ]
    }
   ],
   "source": [
    "question = \"processchange\"\n",
    "\n",
    "no_consensus, consensus_is_yes, conseneus_is_no, errors = get_numbers_for_consensus(results, question)\n",
    "\n",
    "print(f\"nr of answers without consens: {no_consensus}\")\n",
    "print(f\"nr of answers where consens was yes: {consensus_is_yes}\")\n",
    "print(f\"nr of answers where consens was no: {conseneus_is_no}\")\n",
    "print(f\"nr of error cases: {errors}\")"
   ]
  },
  {
   "cell_type": "markdown",
   "metadata": {},
   "source": [
    "## Q5: Does the suggested substitution constitute a change in the food category (e.g. making the recipe vegetarian)?"
   ]
  },
  {
   "cell_type": "code",
   "execution_count": 20,
   "metadata": {},
   "outputs": [
    {
     "name": "stdout",
     "output_type": "stream",
     "text": [
      "nr of answers without consens: 60\n",
      "nr of answers where consens was yes: 80\n",
      "nr of answers where consens was no: 361\n",
      "nr of error cases: 0\n"
     ]
    }
   ],
   "source": [
    "question = \"categorychange\"\n",
    "\n",
    "no_consensus, consensus_is_yes, conseneus_is_no, errors = get_numbers_for_consensus(results, question)\n",
    "\n",
    "print(f\"nr of answers without consens: {no_consensus}\")\n",
    "print(f\"nr of answers where consens was yes: {consensus_is_yes}\")\n",
    "print(f\"nr of answers where consens was no: {conseneus_is_no}\")\n",
    "print(f\"nr of error cases: {errors}\")"
   ]
  },
  {
   "cell_type": "markdown",
   "metadata": {},
   "source": [
    "## Q6: Is __ the main ingredient?"
   ]
  },
  {
   "cell_type": "code",
   "execution_count": null,
   "metadata": {},
   "outputs": [],
   "source": []
  },
  {
   "cell_type": "markdown",
   "metadata": {},
   "source": [
    "## Q7: Which is the best substitution?"
   ]
  },
  {
   "cell_type": "code",
   "execution_count": 35,
   "metadata": {},
   "outputs": [
    {
     "name": "stdout",
     "output_type": "stream",
     "text": [
      "nr of answers without consens: 239\n",
      "nr of answers where consens was 'other': 0\n",
      "nr of answers where consens was a specific ingredient: 262\n"
     ]
    }
   ],
   "source": [
    "question = \"selection\"\n",
    "\n",
    "no_consensus = 0\n",
    "ingredient_consensus = 0\n",
    "other_consensus = 0\n",
    "for result in list(results.items()):\n",
    "    consensual_answers = result[1][\"consensual_answers\"]\n",
    "    fit_answer = consensual_answers[question]\n",
    "    if fit_answer == \"other\":\n",
    "        other_consensus += 1\n",
    "    elif fit_answer is None:\n",
    "        no_consensus += 1\n",
    "    else:\n",
    "        ingredient_consensus += 1\n",
    "\n",
    "print(f\"nr of answers without consens: {no_consensus}\")\n",
    "print(f\"nr of answers where consens was 'other': {other_consensus}\")\n",
    "print(f\"nr of answers where consens was a specific ingredient: {ingredient_consensus}\")"
   ]
  },
  {
   "cell_type": "markdown",
   "metadata": {},
   "source": [
    "## q8: If none of the suggested ingredients were good, which alternative do you suggest?"
   ]
  },
  {
   "cell_type": "code",
   "execution_count": null,
   "metadata": {},
   "outputs": [],
   "source": []
  },
  {
   "cell_type": "markdown",
   "metadata": {},
   "source": [
    "## How are answers distributed for substitution tuples?"
   ]
  },
  {
   "cell_type": "code",
   "execution_count": 41,
   "metadata": {},
   "outputs": [
    {
     "name": "stdout",
     "output_type": "stream",
     "text": [
      "done\n"
     ]
    }
   ],
   "source": [
    "answers_per_recipe_sub_pair = {}\n",
    "\n",
    "for recipe in recipes_with_answers:\n",
    "    key = (recipe[\"sample_sub\"][0], recipe[\"sample_sub\"][1])\n",
    "    if key not in answers_per_recipe_sub_pair.keys():\n",
    "        answers_per_recipe_sub_pair[key] = {}\n",
    "    consensual_answers = recipe['consensual_answers']\n",
    "    for question, consensual_answer in list(consensual_answers.items()):\n",
    "        if question not in answers_per_recipe_sub_pair[key].keys():\n",
    "            answers_per_recipe_sub_pair[key][question] = []\n",
    "        answers_per_recipe_sub_pair[key][question].append(consensual_answer)\n",
    "\n",
    "print(\"done\")"
   ]
  },
  {
   "cell_type": "code",
   "execution_count": null,
   "metadata": {},
   "outputs": [],
   "source": []
  }
 ],
 "metadata": {
  "kernelspec": {
   "display_name": "foodrecommnederscrapbooks",
   "language": "python",
   "name": "python3"
  },
  "language_info": {
   "codemirror_mode": {
    "name": "ipython",
    "version": 3
   },
   "file_extension": ".py",
   "mimetype": "text/x-python",
   "name": "python",
   "nbconvert_exporter": "python",
   "pygments_lexer": "ipython3",
   "version": "3.11.4"
  }
 },
 "nbformat": 4,
 "nbformat_minor": 2
}
