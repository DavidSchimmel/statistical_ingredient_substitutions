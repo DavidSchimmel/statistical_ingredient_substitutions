{
 "cells": [
  {
   "cell_type": "markdown",
   "metadata": {},
   "source": [
    "# Inspecting the Results of the Arcelik Survey Round 1"
   ]
  },
  {
   "cell_type": "code",
   "execution_count": 1,
   "metadata": {},
   "outputs": [],
   "source": [
    "import os\n",
    "import pickle"
   ]
  },
  {
   "cell_type": "code",
   "execution_count": 2,
   "metadata": {},
   "outputs": [],
   "source": [
    "RESULTS_DICT_PATH = os.path.abspath(\"./survey_results/fused_results.pkl\")"
   ]
  },
  {
   "cell_type": "markdown",
   "metadata": {},
   "source": [
    "#### Load Data"
   ]
  },
  {
   "cell_type": "code",
   "execution_count": 3,
   "metadata": {},
   "outputs": [],
   "source": [
    "with open(RESULTS_DICT_PATH, \"rb\") as results_dict_file:\n",
    "    results = pickle.load(results_dict_file)"
   ]
  },
  {
   "cell_type": "code",
   "execution_count": 4,
   "metadata": {},
   "outputs": [
    {
     "name": "stdout",
     "output_type": "stream",
     "text": [
      "(0, {'individual_responses': {'fit': [1, 1, 1, 1], 'tastechange': [0, 1, 0, 1], 'nutruientschange': [0], 'processchange': [0, 0, 0, 0], 'categorychange': [1, 0, 0, 0], 'mainingr': [], 'selection': ['Pork belly', 'Pork belly', 'Pork belly', 'Pork belly'], 'usersuggestion': []}, 'consensual_answers': {'fit': 1, 'tastechange': None, 'nutruientschange': None, 'processchange': 0, 'categorychange': 0, 'mainingr': [], 'selection': 'Pork belly', 'usersuggestion': []}})\n"
     ]
    }
   ],
   "source": [
    "print(list(results.items())[0])"
   ]
  },
  {
   "cell_type": "code",
   "execution_count": null,
   "metadata": {},
   "outputs": [],
   "source": []
  }
 ],
 "metadata": {
  "kernelspec": {
   "display_name": "foodrecommnederscrapbooks",
   "language": "python",
   "name": "python3"
  },
  "language_info": {
   "codemirror_mode": {
    "name": "ipython",
    "version": 3
   },
   "file_extension": ".py",
   "mimetype": "text/x-python",
   "name": "python",
   "nbconvert_exporter": "python",
   "pygments_lexer": "ipython3",
   "version": "3.11.4"
  }
 },
 "nbformat": 4,
 "nbformat_minor": 2
}
