{
 "cells": [
  {
   "cell_type": "markdown",
   "metadata": {},
   "source": [
    "# Inspecting the Results of the Arcelik Survey Round 1"
   ]
  },
  {
   "cell_type": "code",
   "execution_count": 15,
   "metadata": {},
   "outputs": [],
   "source": [
    "import os\n",
    "import pickle\n",
    "\n",
    "import pandas as pd\n",
    "import matplotlib.pyplot as plt\n",
    "import seaborn as sns"
   ]
  },
  {
   "cell_type": "code",
   "execution_count": 2,
   "metadata": {},
   "outputs": [],
   "source": [
    "RESULTS_DICT_PATH = os.path.abspath(\"./survey_results_processed/fused_results.pkl\")\n",
    "RECIPES_WITH_ANSWERS_PATH = os.path.abspath(\"./survey_results_processed/survey_samples_with_answers.pkl\")"
   ]
  },
  {
   "cell_type": "markdown",
   "metadata": {},
   "source": [
    "#### Load Data"
   ]
  },
  {
   "cell_type": "code",
   "execution_count": 3,
   "metadata": {},
   "outputs": [],
   "source": [
    "with open(RESULTS_DICT_PATH, \"rb\") as results_dict_file:\n",
    "    results = pickle.load(results_dict_file)\n",
    "\n",
    "with open (RECIPES_WITH_ANSWERS_PATH, \"rb\") as recipes_with_answers_file:\n",
    "    recipes_with_answers = pickle.load(recipes_with_answers_file)"
   ]
  },
  {
   "cell_type": "code",
   "execution_count": 4,
   "metadata": {},
   "outputs": [
    {
     "name": "stdout",
     "output_type": "stream",
     "text": [
      "(0, {'individual_responses': {'fit': [1, 1, 1, 1, 1], 'tastechange': [0, 1, 0, 1, 0], 'nutruientschange': [0], 'processchange': [0, 0, 0, 0, 0], 'categorychange': [1, 0, 0, 0, 0], 'mainingr': [], 'selection': ['Pork belly', 'Pork belly', 'Pork belly', 'Pork belly', 'Pork loin'], 'usersuggestion': []}, 'consensual_answers': {'fit': 1, 'tastechange': 0, 'nutruientschange': None, 'processchange': 0, 'categorychange': 0, 'mainingr': [], 'selection': 'Pork belly', 'usersuggestion': []}})\n"
     ]
    }
   ],
   "source": [
    "print(list(results.items())[0])"
   ]
  },
  {
   "cell_type": "code",
   "execution_count": 5,
   "metadata": {},
   "outputs": [
    {
     "name": "stdout",
     "output_type": "stream",
     "text": [
      "{'fit': 1, 'tastechange': 1, 'nutruientschange': None, 'processchange': 0, 'categorychange': 0, 'mainingr': [], 'selection': 'Ground beef', 'usersuggestion': ['ground goat']}\n"
     ]
    }
   ],
   "source": [
    "print(list(results.items())[2][1][\"consensual_answers\"])"
   ]
  },
  {
   "cell_type": "code",
   "execution_count": 6,
   "metadata": {},
   "outputs": [],
   "source": [
    "for _, result in list(results.items()):\n",
    "    consensual_answers = result[\"consensual_answers\"]\n",
    "    if consensual_answers[\"selection\"] == \"None\":\n",
    "        print(consensual_answers)\n",
    "        break"
   ]
  },
  {
   "cell_type": "code",
   "execution_count": 7,
   "metadata": {},
   "outputs": [],
   "source": [
    "def get_numbers_for_consensus(results, question):\n",
    "    no_consensus = 0\n",
    "    consensus_is_yes = 0\n",
    "    conseneus_is_no = 0\n",
    "    errors = 0\n",
    "    avg_number_of_responses = 0\n",
    "    fewer_than_2_responses = 0\n",
    "    avg_positive_to_negative_rate = 0\n",
    "    avg_negative_to_positive_quotient = 0\n",
    "\n",
    "    for result in list(results.items()):\n",
    "        individual_answers = result[1][\"individual_responses\"][question]\n",
    "        consensual_answers = result[1][\"consensual_answers\"][question]\n",
    "\n",
    "        avg_number_of_responses += len(individual_answers)\n",
    "        if len(individual_answers) < 1:\n",
    "            fewer_than_2_responses += 1\n",
    "\n",
    "        if len(individual_answers) > 0:\n",
    "            avg_negative_to_positive_quotient += 1\n",
    "            n_negative_ansers = len([answer for answer in individual_answers if answer == 0])\n",
    "            n_positive_answers = len([answer for answer in individual_answers if answer == 1])\n",
    "            if n_negative_ansers == 0:\n",
    "                avg_positive_to_negative_rate += 1 # we can assume all answers must be positive if there is no negative answer, because we already checked the number of answer such not both nor negative can be cnt 0\n",
    "            else:\n",
    "                avg_positive_to_negative_rate += (n_positive_answers / n_negative_ansers) / len(individual_answers)\n",
    "\n",
    "        if consensual_answers is None:\n",
    "            no_consensus += 1\n",
    "        elif consensual_answers == 1:\n",
    "            consensus_is_yes += 1\n",
    "        elif consensual_answers == 0:\n",
    "            conseneus_is_no += 1\n",
    "        else:\n",
    "            errors += 1\n",
    "\n",
    "    avg_number_of_responses = avg_number_of_responses / len(list(results.items()))\n",
    "    if avg_negative_to_positive_quotient > 0:\n",
    "        avg_positive_to_negative_rate = avg_positive_to_negative_rate / avg_negative_to_positive_quotient\n",
    "\n",
    "    return no_consensus, consensus_is_yes, conseneus_is_no, errors, avg_number_of_responses, fewer_than_2_responses, avg_positive_to_negative_rate"
   ]
  },
  {
   "cell_type": "markdown",
   "metadata": {},
   "source": [
    "## Q1: Does the suggested substitution fit the recipe?"
   ]
  },
  {
   "cell_type": "code",
   "execution_count": 8,
   "metadata": {},
   "outputs": [
    {
     "name": "stdout",
     "output_type": "stream",
     "text": [
      "nr of answers without consens: 38\n",
      "nr of answers where consens was yes: 434\n",
      "nr of answers where consens was no: 29\n",
      "nr of error cases: 0\n",
      "on average, there were 3.8962075848303392 responses per question\n",
      "nr of questions with fewer than 2 answers: 1\n",
      "on average, the rate of positive responses to negative responses was: 0.8275999999999997\n"
     ]
    }
   ],
   "source": [
    "\n",
    "question = \"fit\"\n",
    "\n",
    "no_consensus, consensus_is_yes, conseneus_is_no, errors, avg_number_of_responses, fewer_than_2_responses, avg_positive_to_negative_rate = get_numbers_for_consensus(results, question)\n",
    "\n",
    "q1 = [no_consensus, consensus_is_yes, conseneus_is_no, errors, avg_number_of_responses, fewer_than_2_responses, avg_positive_to_negative_rate]\n",
    "\n",
    "print(f\"nr of answers without consens: {no_consensus}\")\n",
    "print(f\"nr of answers where consens was yes: {consensus_is_yes}\")\n",
    "print(f\"nr of answers where consens was no: {conseneus_is_no}\")\n",
    "print(f\"nr of error cases: {errors}\")\n",
    "print(f\"on average, there were {avg_number_of_responses} responses per question\")\n",
    "print(f\"nr of questions with fewer than 2 answers: {fewer_than_2_responses}\")\n",
    "print(f\"on average, the rate of positive responses to negative responses was: {avg_positive_to_negative_rate}\")"
   ]
  },
  {
   "cell_type": "markdown",
   "metadata": {},
   "source": [
    "## Q2: Does the suggested substitution constitute a major taste change?"
   ]
  },
  {
   "cell_type": "code",
   "execution_count": 9,
   "metadata": {},
   "outputs": [
    {
     "name": "stdout",
     "output_type": "stream",
     "text": [
      "nr of answers without consens: 94\n",
      "nr of answers where consens was yes: 383\n",
      "nr of answers where consens was no: 24\n",
      "nr of error cases: 0\n",
      "on average, there were 3.8922155688622753 responses per question\n",
      "nr of questions with fewer than 2 answers: 1\n",
      "on average, the rate of positive responses to negative responses was: 0.7125666666666663\n"
     ]
    }
   ],
   "source": [
    "question = \"tastechange\"\n",
    "\n",
    "no_consensus, consensus_is_yes, conseneus_is_no, errors, avg_number_of_responses, fewer_than_2_responses, avg_positive_to_negative_rate = get_numbers_for_consensus(results, question)\n",
    "\n",
    "q2 = [no_consensus, consensus_is_yes, conseneus_is_no, errors, avg_number_of_responses, fewer_than_2_responses, avg_positive_to_negative_rate]\n",
    "\n",
    "print(f\"nr of answers without consens: {no_consensus}\")\n",
    "print(f\"nr of answers where consens was yes: {consensus_is_yes}\")\n",
    "print(f\"nr of answers where consens was no: {conseneus_is_no}\")\n",
    "print(f\"nr of error cases: {errors}\")\n",
    "print(f\"on average, there were {avg_number_of_responses} responses per question\")\n",
    "print(f\"nr of questions with fewer than 2 answers: {fewer_than_2_responses}\")\n",
    "print(f\"on average, the rate of positive responses to negative responses was: {avg_positive_to_negative_rate}\")"
   ]
  },
  {
   "cell_type": "markdown",
   "metadata": {},
   "source": [
    "## Q3: Does the suggested substitution constitute a change in the nutritional profile of the recipe?"
   ]
  },
  {
   "cell_type": "code",
   "execution_count": 10,
   "metadata": {},
   "outputs": [
    {
     "name": "stdout",
     "output_type": "stream",
     "text": [
      "nr of answers without consens: 472\n",
      "nr of answers where consens was yes: 8\n",
      "nr of answers where consens was no: 21\n",
      "nr of error cases: 0\n",
      "on average, there were 0.9660678642714571 responses per question\n",
      "nr of questions with fewer than 2 answers: 65\n",
      "on average, the rate of positive responses to negative responses was: 0.41456422018348615\n"
     ]
    }
   ],
   "source": [
    "question = \"nutruientschange\"\n",
    "\n",
    "no_consensus, consensus_is_yes, conseneus_is_no, errors, avg_number_of_responses, fewer_than_2_responses, avg_positive_to_negative_rate = get_numbers_for_consensus(results, question)\n",
    "\n",
    "q3 = [no_consensus, consensus_is_yes, conseneus_is_no, errors, avg_number_of_responses, fewer_than_2_responses, avg_positive_to_negative_rate]\n",
    "\n",
    "print(f\"nr of answers without consens: {no_consensus}\")\n",
    "print(f\"nr of answers where consens was yes: {consensus_is_yes}\")\n",
    "print(f\"nr of answers where consens was no: {conseneus_is_no}\")\n",
    "print(f\"nr of error cases: {errors}\")\n",
    "print(f\"on average, there were {avg_number_of_responses} responses per question\")\n",
    "print(f\"nr of questions with fewer than 2 answers: {fewer_than_2_responses}\")\n",
    "print(f\"on average, the rate of positive responses to negative responses was: {avg_positive_to_negative_rate}\")"
   ]
  },
  {
   "cell_type": "markdown",
   "metadata": {},
   "source": [
    "## Q4: Does the suggested substitution require a major change in the cooking instructions?"
   ]
  },
  {
   "cell_type": "code",
   "execution_count": 11,
   "metadata": {},
   "outputs": [
    {
     "name": "stdout",
     "output_type": "stream",
     "text": [
      "nr of answers without consens: 67\n",
      "nr of answers where consens was yes: 89\n",
      "nr of answers where consens was no: 345\n",
      "nr of error cases: 0\n",
      "on average, there were 3.8902195608782435 responses per question\n",
      "nr of questions with fewer than 2 answers: 1\n",
      "on average, the rate of positive responses to negative responses was: 0.19993333333333305\n"
     ]
    }
   ],
   "source": [
    "question = \"processchange\"\n",
    "\n",
    "no_consensus, consensus_is_yes, conseneus_is_no, errors, avg_number_of_responses, fewer_than_2_responses, avg_positive_to_negative_rate = get_numbers_for_consensus(results, question)\n",
    "\n",
    "q4 = [no_consensus, consensus_is_yes, conseneus_is_no, errors, avg_number_of_responses, fewer_than_2_responses, avg_positive_to_negative_rate]\n",
    "\n",
    "print(f\"nr of answers without consens: {no_consensus}\")\n",
    "print(f\"nr of answers where consens was yes: {consensus_is_yes}\")\n",
    "print(f\"nr of answers where consens was no: {conseneus_is_no}\")\n",
    "print(f\"nr of error cases: {errors}\")\n",
    "print(f\"on average, there were {avg_number_of_responses} responses per question\")\n",
    "print(f\"nr of questions with fewer than 2 answers: {fewer_than_2_responses}\")\n",
    "print(f\"on average, the rate of positive responses to negative responses was: {avg_positive_to_negative_rate}\")"
   ]
  },
  {
   "cell_type": "markdown",
   "metadata": {},
   "source": [
    "## Q5: Does the suggested substitution constitute a change in the food category (e.g. making the recipe vegetarian)?"
   ]
  },
  {
   "cell_type": "code",
   "execution_count": 12,
   "metadata": {},
   "outputs": [
    {
     "name": "stdout",
     "output_type": "stream",
     "text": [
      "nr of answers without consens: 60\n",
      "nr of answers where consens was yes: 80\n",
      "nr of answers where consens was no: 361\n",
      "nr of error cases: 0\n",
      "on average, there were 3.8602794411177643 responses per question\n",
      "nr of questions with fewer than 2 answers: 1\n",
      "on average, the rate of positive responses to negative responses was: 0.1889666666666666\n"
     ]
    }
   ],
   "source": [
    "question = \"categorychange\"\n",
    "\n",
    "no_consensus, consensus_is_yes, conseneus_is_no, errors, avg_number_of_responses, fewer_than_2_responses, avg_positive_to_negative_rate = get_numbers_for_consensus(results, question)\n",
    "\n",
    "q5 = [no_consensus, consensus_is_yes, conseneus_is_no, errors, avg_number_of_responses, fewer_than_2_responses, avg_positive_to_negative_rate]\n",
    "\n",
    "print(f\"nr of answers without consens: {no_consensus}\")\n",
    "print(f\"nr of answers where consens was yes: {consensus_is_yes}\")\n",
    "print(f\"nr of answers where consens was no: {conseneus_is_no}\")\n",
    "print(f\"nr of error cases: {errors}\")\n",
    "print(f\"on average, there were {avg_number_of_responses} responses per question\")\n",
    "print(f\"nr of questions with fewer than 2 answers: {fewer_than_2_responses}\")\n",
    "print(f\"on average, the rate of positive responses to negative responses was: {avg_positive_to_negative_rate}\")"
   ]
  },
  {
   "cell_type": "markdown",
   "metadata": {},
   "source": [
    "## Q6: Is __ the main ingredient?"
   ]
  },
  {
   "cell_type": "code",
   "execution_count": null,
   "metadata": {},
   "outputs": [],
   "source": []
  },
  {
   "cell_type": "markdown",
   "metadata": {},
   "source": [
    "## Q7: Which is the best substitution?"
   ]
  },
  {
   "cell_type": "code",
   "execution_count": 13,
   "metadata": {},
   "outputs": [
    {
     "name": "stdout",
     "output_type": "stream",
     "text": [
      "nr of answers without consens: 239\n",
      "nr of answers where consens was 'other': 0\n",
      "nr of answers where consens was a specific ingredient: 262\n"
     ]
    }
   ],
   "source": [
    "question = \"selection\"\n",
    "\n",
    "no_consensus = 0\n",
    "ingredient_consensus = 0\n",
    "other_consensus = 0\n",
    "for result in list(results.items()):\n",
    "    consensual_answers = result[1][\"consensual_answers\"]\n",
    "    fit_answer = consensual_answers[question]\n",
    "    if fit_answer == \"other\":\n",
    "        other_consensus += 1\n",
    "    elif fit_answer is None:\n",
    "        no_consensus += 1\n",
    "    else:\n",
    "        ingredient_consensus += 1\n",
    "\n",
    "print(f\"nr of answers without consens: {no_consensus}\")\n",
    "print(f\"nr of answers where consens was 'other': {other_consensus}\")\n",
    "print(f\"nr of answers where consens was a specific ingredient: {ingredient_consensus}\")"
   ]
  },
  {
   "cell_type": "markdown",
   "metadata": {},
   "source": [
    "## q8: If none of the suggested ingredients were good, which alternative do you suggest?"
   ]
  },
  {
   "cell_type": "code",
   "execution_count": null,
   "metadata": {},
   "outputs": [],
   "source": []
  },
  {
   "cell_type": "markdown",
   "metadata": {},
   "source": [
    "## Summary"
   ]
  },
  {
   "cell_type": "code",
   "execution_count": 35,
   "metadata": {},
   "outputs": [
    {
     "data": {
      "text/plain": [
       "[Text(0.5, 0, 'no consens'),\n",
       " Text(1.5, 0, 'cons. pos.'),\n",
       " Text(2.5, 0, 'cons. neg.'),\n",
       " Text(3.5, 0, 'nr q with nr. responses<=1')]"
      ]
     },
     "execution_count": 35,
     "metadata": {},
     "output_type": "execute_result"
    },
    {
     "data": {
      "image/png": "[encoded data removed]",
      "text/plain": [
       "<Figure size 800x600 with 2 Axes>"
      ]
     },
     "metadata": {},
     "output_type": "display_data"
    }
   ],
   "source": [
    "df_q_1_to_5 = pd.DataFrame([q1, q2, q3, q4, q5], index = [\"q1\", \"q2\", \"q3\", \"q4\", \"q5\"], columns = [\"no consens\", \"cons. pos.\", \"cons. neg.\", \"errors\", \"avg. nr. responses\", \"nr q with nr. responses<=1\", \"avg. pos.-neg. rate\"])\n",
    "# print(df_q_1_to_5.head(2))\n",
    "# print(df_q_1_to_5.shape)\n",
    "\n",
    "df_q_1_to_5_a = df_q_1_to_5.iloc[:, [0,1,2,5]]\n",
    "df_q_1_to_5_b = df_q_1_to_5.iloc[:, [4]]\n",
    "df_q_1_to_5_c = df_q_1_to_5.iloc[:, [6]]\n",
    "\n",
    "plt.figure(figsize=(8, 6))\n",
    "heatmap = sns.heatmap(df_q_1_to_5_a, cmap='viridis', annot=True, fmt='.2f', linewidths=.5)\n",
    "heatmap.set_xticklabels(heatmap.get_xticklabels(), rotation=45, ha='right')"
   ]
  },
  {
   "cell_type": "code",
   "execution_count": 39,
   "metadata": {},
   "outputs": [
    {
     "data": {
      "text/plain": [
       "[Text(0.5, 0, 'avg. nr. responses')]"
      ]
     },
     "execution_count": 39,
     "metadata": {},
     "output_type": "execute_result"
    },
    {
     "data": {
      "image/png": "[encoded data removed]",
      "text/plain": [
       "<Figure size 200x600 with 2 Axes>"
      ]
     },
     "metadata": {},
     "output_type": "display_data"
    }
   ],
   "source": [
    "plt.figure(figsize=(2, 6))\n",
    "heatmap = sns.heatmap(df_q_1_to_5_b, cmap='viridis', annot=True, fmt='.2f', linewidths=.5)\n",
    "heatmap.set_xticklabels(heatmap.get_xticklabels(), rotation=45, ha='right')"
   ]
  },
  {
   "cell_type": "code",
   "execution_count": 40,
   "metadata": {},
   "outputs": [
    {
     "data": {
      "text/plain": [
       "[Text(0.5, 0, 'avg. pos.-neg. rate')]"
      ]
     },
     "execution_count": 40,
     "metadata": {},
     "output_type": "execute_result"
    },
    {
     "data": {
      "image/png": "[encoded data removed]",
      "text/plain": [
       "<Figure size 200x600 with 2 Axes>"
      ]
     },
     "metadata": {},
     "output_type": "display_data"
    }
   ],
   "source": [
    "plt.figure(figsize=(2, 6))\n",
    "heatmap = sns.heatmap(df_q_1_to_5_c, cmap='viridis', annot=True, fmt='.2f', linewidths=.5)\n",
    "heatmap.set_xticklabels(heatmap.get_xticklabels(), rotation=45, ha='right')"
   ]
  },
  {
   "cell_type": "markdown",
   "metadata": {},
   "source": [
    "## How are answers distributed for substitution tuples?"
   ]
  },
  {
   "cell_type": "code",
   "execution_count": 61,
   "metadata": {},
   "outputs": [
    {
     "name": "stdout",
     "output_type": "stream",
     "text": [
      "done\n"
     ]
    }
   ],
   "source": [
    "answers_per_recipe_sub_pair = {}\n",
    "\n",
    "for recipe in recipes_with_answers:\n",
    "    key = (recipe[\"sample_sub\"][0], recipe[\"sample_sub\"][1])\n",
    "    if key not in answers_per_recipe_sub_pair.keys():\n",
    "        answers_per_recipe_sub_pair[key] = {}\n",
    "    consensual_answers = recipe['consensual_answers']\n",
    "    for question, consensual_answer in list(consensual_answers.items()):\n",
    "        if question not in answers_per_recipe_sub_pair[key].keys():\n",
    "            answers_per_recipe_sub_pair[key][question] = []\n",
    "        answers_per_recipe_sub_pair[key][question].append(consensual_answer)\n",
    "\n",
    "print(\"done\")"
   ]
  },
  {
   "cell_type": "markdown",
   "metadata": {},
   "source": [
    "### create a dictionary and dataframe for answers per substitution tuple"
   ]
  },
  {
   "cell_type": "code",
   "execution_count": 62,
   "metadata": {},
   "outputs": [],
   "source": [
    "binary_questions = ['fit', 'tastechange', 'nutruientschange', 'processchange', 'categorychange']\n",
    "n_expected_answers = 10\n",
    "\n",
    "answer_counts_per_sub_tuple = {}\n",
    "for sub_tuple, answers_per_question in list(answers_per_recipe_sub_pair.items()):\n",
    "    answer_counts_per_sub_tuple[sub_tuple] = {}\n",
    "    for question, answers in list(answers_per_question.items()):\n",
    "        if question not in binary_questions:\n",
    "            continue\n",
    "        n_no_consensus = len([answer for answer in answers if answer is None])\n",
    "        n_consensus_positive = len([answer for answer in answers if answer == 1])\n",
    "        n_consensus_negative = len([answer for answer in answers if answer == 0])\n",
    "        answer_counts_per_sub_tuple[sub_tuple][question] = {}\n",
    "        answer_counts_per_sub_tuple[sub_tuple][question][\"consensus_positive\"] = n_consensus_positive\n",
    "        answer_counts_per_sub_tuple[sub_tuple][question][\"consensus_negative\"] = n_consensus_negative\n",
    "        answer_counts_per_sub_tuple[sub_tuple][question][\"no_consensus\"] = n_no_consensus\n",
    "\n",
    "#print(list(answer_counts_per_sub_tuple.values())[0])"
   ]
  },
  {
   "cell_type": "code",
   "execution_count": 63,
   "metadata": {},
   "outputs": [],
   "source": [
    "df_a_per_sub_tup = pd.DataFrame(answer_counts_per_sub_tuple)\n",
    "\n",
    "# print(df_a_per_sub_tup.shape)\n",
    "# print(df_a_per_sub_tup.head(2))"
   ]
  },
  {
   "cell_type": "code",
   "execution_count": 64,
   "metadata": {},
   "outputs": [
    {
     "name": "stdout",
     "output_type": "stream",
     "text": [
      "Average number of results per substitution tuple:\n",
      "Question: fit\n",
      "    Answer: consensus_positive - average count: 8.68\n",
      "    Answer: consensus_negative - average count: 0.58\n",
      "    Answer: no_consensus - average count: 0.74\n",
      "Question: tastechange\n",
      "    Answer: consensus_positive - average count: 7.66\n",
      "    Answer: consensus_negative - average count: 0.48\n",
      "    Answer: no_consensus - average count: 1.86\n",
      "Question: nutruientschange\n",
      "    Answer: consensus_positive - average count: 0.16\n",
      "    Answer: consensus_negative - average count: 0.42\n",
      "    Answer: no_consensus - average count: 9.42\n",
      "Question: processchange\n",
      "    Answer: consensus_positive - average count: 1.78\n",
      "    Answer: consensus_negative - average count: 6.9\n",
      "    Answer: no_consensus - average count: 1.32\n",
      "Question: categorychange\n",
      "    Answer: consensus_positive - average count: 1.6\n",
      "    Answer: consensus_negative - average count: 7.22\n",
      "    Answer: no_consensus - average count: 1.18\n"
     ]
    }
   ],
   "source": [
    "binary_questions = ['fit', 'tastechange', 'nutruientschange', 'processchange', 'categorychange']\n",
    "avg_answ_per_sub_tuple = {question: {\"consensus_positive\": 0, \"consensus_negative\": 0, \"no_consensus\": 0} for question in binary_questions}\n",
    "for sub_tuple, questions in answer_counts_per_sub_tuple.items():\n",
    "    for question, answer in questions.items():\n",
    "        for answer, value in answer.items():\n",
    "            avg_answ_per_sub_tuple[question][answer] += value\n",
    "\n",
    "for question, answers in list(avg_answ_per_sub_tuple.items()):\n",
    "    for answer, value in answers.items():\n",
    "        avg_answ_per_sub_tuple[question][answer] = value / len(list(answer_counts_per_sub_tuple.keys()))\n",
    "\n",
    "print(\"Average number of results per substitution tuple:\")\n",
    "for question, answers in avg_answ_per_sub_tuple.items():\n",
    "    print(f\"Question: {question}\")\n",
    "    for answer, value in answers.items():\n",
    "        print(f\"    Answer: {answer} - average count: {value}\")\n"
   ]
  },
  {
   "cell_type": "code",
   "execution_count": null,
   "metadata": {},
   "outputs": [],
   "source": []
  },
  {
   "cell_type": "code",
   "execution_count": 24,
   "metadata": {},
   "outputs": [],
   "source": [
    "binary_questions = ['fit', 'tastechange', 'nutruientschange', 'processchange', 'categorychange']\n",
    "n_expected_answers = 10\n",
    "\n",
    "answer_counts_per_sub_tuple_ = {question: {\"consensus_positive\": {}, \"consensus_negative\": {}, \"no_consensus\": {}} for question in binary_questions}\n",
    "for sub_tuple, answers_per_question in list(answers_per_recipe_sub_pair.items()):\n",
    "    for question, answers in list(answers_per_question.items()):\n",
    "        if question not in binary_questions:\n",
    "            continue\n",
    "        n_consensus_positive = len([answer for answer in answers if answer == 1])\n",
    "        n_consensus_negative = len([answer for answer in answers if answer == 0])\n",
    "        n_no_consensus = len([answer for answer in answers if answer is None])\n",
    "        answer_counts_per_sub_tuple_[question][\"consensus_positive\"][sub_tuple] = n_consensus_positive\n",
    "        answer_counts_per_sub_tuple_[question][\"consensus_negative\"][sub_tuple] = n_consensus_negative\n",
    "        answer_counts_per_sub_tuple_[question][\"no_consensus\"][sub_tuple] = n_no_consensus\n"
   ]
  },
  {
   "cell_type": "code",
   "execution_count": 25,
   "metadata": {},
   "outputs": [],
   "source": [
    "df_q_a_sub_tup = pd.DataFrame(answer_counts_per_sub_tuple_)"
   ]
  },
  {
   "cell_type": "code",
   "execution_count": 26,
   "metadata": {},
   "outputs": [
    {
     "name": "stdout",
     "output_type": "stream",
     "text": [
      "Index(['consensus_positive', 'consensus_negative', 'no_consensus'], dtype='object')\n",
      "Index(['fit', 'tastechange', 'nutruientschange', 'processchange',\n",
      "       'categorychange'],\n",
      "      dtype='object')\n",
      "                                                                  fit  \\\n",
      "consensus_positive  {('white_wine', 'white_wine_vinegar'): 10, ('t...   \n",
      "consensus_negative  {('white_wine', 'white_wine_vinegar'): 0, ('to...   \n",
      "\n",
      "                                                          tastechange  \\\n",
      "consensus_positive  {('white_wine', 'white_wine_vinegar'): 3, ('to...   \n",
      "consensus_negative  {('white_wine', 'white_wine_vinegar'): 2, ('to...   \n",
      "\n",
      "                                                     nutruientschange  \\\n",
      "consensus_positive  {('white_wine', 'white_wine_vinegar'): 0, ('to...   \n",
      "consensus_negative  {('white_wine', 'white_wine_vinegar'): 1, ('to...   \n",
      "\n",
      "                                                        processchange  \\\n",
      "consensus_positive  {('white_wine', 'white_wine_vinegar'): 0, ('to...   \n",
      "consensus_negative  {('white_wine', 'white_wine_vinegar'): 10, ('t...   \n",
      "\n",
      "                                                       categorychange  \n",
      "consensus_positive  {('white_wine', 'white_wine_vinegar'): 0, ('to...  \n",
      "consensus_negative  {('white_wine', 'white_wine_vinegar'): 10, ('t...  \n"
     ]
    }
   ],
   "source": [
    "print(df_q_a_sub_tup.index)\n",
    "print(df_q_a_sub_tup.columns)\n",
    "print(df_q_a_sub_tup.head(2))"
   ]
  },
  {
   "cell_type": "code",
   "execution_count": null,
   "metadata": {},
   "outputs": [],
   "source": []
  }
 ],
 "metadata": {
  "kernelspec": {
   "display_name": "foodrecommnederscrapbooks",
   "language": "python",
   "name": "python3"
  },
  "language_info": {
   "codemirror_mode": {
    "name": "ipython",
    "version": 3
   },
   "file_extension": ".py",
   "mimetype": "text/x-python",
   "name": "python",
   "nbconvert_exporter": "python",
   "pygments_lexer": "ipython3",
   "version": "3.11.4"
  }
 },
 "nbformat": 4,
 "nbformat_minor": 2
}
