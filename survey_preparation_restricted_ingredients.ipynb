{
 "cells": [
  {
   "cell_type": "markdown",
   "metadata": {},
   "source": [
    "# Prepare the survey with the more restricted ingredient set"
   ]
  },
  {
   "cell_type": "code",
   "execution_count": 43,
   "metadata": {},
   "outputs": [],
   "source": [
    "import os\n",
    "import json\n",
    "import pickle\n",
    "import random\n",
    "\n",
    "from generic_preprocessing import (make_recipes_extended_dict)\n",
    "\n",
    "from calc_recipe_ingredient_info_distances import collectSomeRecipeRecommendations, get_all_comments, get_all_mutual_info, evalRecommendations, getRecommendationsBasedOnMutualInformationRole, get_graph_nodes, get_all_gt_recipes, get_recipes_per_ingredient, get_recipes_per_ingredient_pairs, get_all_frequencies,getNaiveBayesRecommendations"
   ]
  },
  {
   "cell_type": "code",
   "execution_count": 56,
   "metadata": {},
   "outputs": [],
   "source": [
    "ORDERED_RECIPE_IDS_PATH = os.path.abspath(\"./outputs/sorted_recipe_ids_list.pkl\")\n",
    "TRAIN_COMMENTS_PATH = os.path.abspath(\"./inputs/train_comments_subs.pkl\") # train recipes with substitutions\n",
    "TEST_COMMENTS_PATH = os.path.abspath(\"./inputs/test_comments_subs.pkl\") # test recipes with substitutions\n",
    "VAL_COMMENTS_PATH = os.path.abspath(\"./inputs/val_comments_subs.pkl\") # validation recipes with substitutions\n",
    "GRAPH_NODES_PATH = os.path.abspath(\"./inputs/graph/nodes_191120.csv\")\n",
    "\n",
    "MUTUAL_INFO_DICT_PATH = os.path.abspath(\"./outputs/mutual_info_dict_with_self_info.pkl\")\n",
    "RECIPES_PER_INGREDIENT_SMALL_PATH = os.path.abspath(\n",
    "    \"./outputs/recipes_per_ingredient_small.pkl\"\n",
    ")\n",
    "RECIPES_PER_INGREDIENT_PAIRS_SMALL_PATH = os.path.abspath(\n",
    "    \"./outputs/recipes_per_ingredient_pairs_small.pkl\"\n",
    ")\n",
    "PROCESSED_RECIPES_PATH = os.path.abspath(\"./outputs/processed_recipes.pkl\")\n",
    "PATH_ONE_HOT_RECIPE_INGREDIENTS = os.path.abspath(\"./outputs/one_hot_recipe_ingredients.pkl\")\n",
    "\n",
    "EXTENDED_RECIPES_PATH_OLD = os.path.abspath(\"./inputs/extended_recipes_with_instructions_and_titles.json\")\n",
    "\n",
    "EXTENDED_RECIPES_PATH = os.path.abspath(\"./inputs/extended_recipes_with_quantities.json\")\n",
    "\n",
    "\n",
    "SURVEY_COMPLETE_SUB_TUPLE_AND_RECIPE_SET_PATH = os.path.abspath(\"./outputs/suvey_all_subs_and_recipes.json\")\n",
    "\n",
    "SURVEY_QUESTION_SET_A_PATH = os.path.abspath(\"./outputs/suvey_question_set_restrained_a.json\")\n",
    "SURVEY_QUESTION_SET_B_PATH = os.path.abspath(\"./outputs/suvey_question_set_restrained_b.json\")\n",
    "SURVEY_QUESTION_500_SET_PATH = os.path.abspath(\"./outputs/suvey_question_set_restrained_500.json\")\n",
    "\n",
    "ARCELIC_TO_R1M_RAW_PATH = os.path.abspath(\"./outputs/arcelic_raw_to_r1m.json\")"
   ]
  },
  {
   "cell_type": "code",
   "execution_count": 3,
   "metadata": {},
   "outputs": [
    {
     "name": "stdout",
     "output_type": "stream",
     "text": [
      "1260\n"
     ]
    }
   ],
   "source": [
    "ingredients = get_graph_nodes(GRAPH_NODES_PATH)\n",
    "\n",
    "with open(SURVEY_COMPLETE_SUB_TUPLE_AND_RECIPE_SET_PATH, \"r\") as survey_data_path:\n",
    "    survey_data = json.load(survey_data_path)\n",
    "\n",
    "print(len(survey_data))\n",
    "\n",
    "with open(ARCELIC_TO_R1M_RAW_PATH, \"r\") as arcelic_to_r1m_file:\n",
    "    arcelic_to_r1m_raw = json.load(arcelic_to_r1m_file)\n",
    "\n",
    "QUALTRICS_SURVEY_DATA_FILE_PATH = os.path.abspath(\"./inputs/survey_recipes_cgpt_suggestions.json\")\n",
    "with open(QUALTRICS_SURVEY_DATA_FILE_PATH, \"r\") as qualstrics_data_file:\n",
    "    qualtrics_data = json.load(qualstrics_data_file)\n"
   ]
  },
  {
   "cell_type": "code",
   "execution_count": 44,
   "metadata": {},
   "outputs": [],
   "source": [
    "# recipes with comments, lists, names, and gt_truths\n",
    "with open(EXTENDED_RECIPES_PATH, 'r') as recipe_extended_with_original_info:\n",
    "    extended_recipes = json.load(recipe_extended_with_original_info)\n",
    "\n",
    "recipes_extended_dict = make_recipes_extended_dict(extended_recipes)"
   ]
  },
  {
   "cell_type": "markdown",
   "metadata": {},
   "source": [
    "## Check if all the parsed labels are present in FlavorGraph"
   ]
  },
  {
   "cell_type": "code",
   "execution_count": 4,
   "metadata": {},
   "outputs": [
    {
     "name": "stdout",
     "output_type": "stream",
     "text": [
      "['10%_cream', '18%_table_cream', '2%_cheddar_cheese', '2%_evaporated_milk', '2%_milk', '2%_mozzarella_cheese', '35%_cream', '80%_lean_ground_beef', '85%_lean_ground_beef', '90%_lean_ground_beef']\n"
     ]
    }
   ],
   "source": [
    "# get set of distinct r1m ingredients from the mapping:\n",
    "distinct_mapping_targets = sorted({x for v in arcelic_to_r1m_raw.values() for x in v})\n",
    "print(distinct_mapping_targets[:10])"
   ]
  },
  {
   "cell_type": "code",
   "execution_count": 5,
   "metadata": {},
   "outputs": [
    {
     "name": "stdout",
     "output_type": "stream",
     "text": [
      "1804\n",
      "0\n"
     ]
    }
   ],
   "source": [
    "found_labels = []\n",
    "not_found_labels = []\n",
    "\n",
    "for mapped_target in distinct_mapping_targets:\n",
    "    if mapped_target in ingredients:\n",
    "        found_labels.append(mapped_target)\n",
    "    else:\n",
    "        not_found_labels.append(mapped_target)\n",
    "\n",
    "print(len(found_labels))\n",
    "print(len(not_found_labels))"
   ]
  },
  {
   "cell_type": "markdown",
   "metadata": {},
   "source": [
    "## Enrich the survey candidate recipes\n",
    "\n",
    "Check how many ingredients are in the mapping list, how many are not in that list but are in the ingredients list, and how many are in neither"
   ]
  },
  {
   "cell_type": "code",
   "execution_count": 6,
   "metadata": {},
   "outputs": [],
   "source": [
    "for substitution_tuple, recipe in survey_data:\n",
    "    sub_source, sub_target = substitution_tuple\n",
    "    if \"arcelic_familiar_sub_pair\" not in list(recipe.keys()):\n",
    "        if sub_source in distinct_mapping_targets and sub_target in distinct_mapping_targets:\n",
    "            recipe[\"arcelic_familiar_sub_pair\"] = True\n",
    "        else:\n",
    "            recipe[\"arcelic_familiar_sub_pair\"] = False\n",
    "\n",
    "    for recipe_ingredientrecipe in [\"ingredients\"]:\n",
    "        ingredient_mapped = False\n",
    "\n",
    "pass\n"
   ]
  },
  {
   "cell_type": "code",
   "execution_count": 7,
   "metadata": {},
   "outputs": [
    {
     "name": "stdout",
     "output_type": "stream",
     "text": [
      "345\n",
      "915\n"
     ]
    }
   ],
   "source": [
    "# check the results:\n",
    "# how many samples have sub pairs that are not mappable?\n",
    "samples_with_mapped_sub_pairs = []\n",
    "samples_with_not_mapped_sub_pairs = []\n",
    "for sample in survey_data:\n",
    "    substitution_tuple, recipe = sample\n",
    "    if recipe[\"arcelic_familiar_sub_pair\"]:\n",
    "        samples_with_mapped_sub_pairs.append(sample)\n",
    "    else:\n",
    "        samples_with_not_mapped_sub_pairs.append(sample)\n",
    "\n",
    "print(len(samples_with_mapped_sub_pairs))\n",
    "print(len(samples_with_not_mapped_sub_pairs))"
   ]
  },
  {
   "cell_type": "code",
   "execution_count": null,
   "metadata": {},
   "outputs": [],
   "source": []
  },
  {
   "cell_type": "code",
   "execution_count": 8,
   "metadata": {},
   "outputs": [
    {
     "name": "stdout",
     "output_type": "stream",
     "text": [
      "175\n",
      "325\n"
     ]
    }
   ],
   "source": [
    "for substitution_tuple, recipe, sample_id in qualtrics_data:\n",
    "    sub_source, sub_target = substitution_tuple\n",
    "    if \"arcelic_familiar_sub_pair\" not in list(recipe.keys()):\n",
    "        if sub_source in distinct_mapping_targets and sub_target in distinct_mapping_targets:\n",
    "            recipe[\"arcelic_familiar_sub_pair\"] = True\n",
    "        else:\n",
    "            recipe[\"arcelic_familiar_sub_pair\"] = False\n",
    "\n",
    "    for recipe_ingredientrecipe in [\"ingredients\"]:\n",
    "        ingredient_mapped = False\n",
    "\n",
    "# check the results:\n",
    "# how many samples have sub pairs that are not mappable?\n",
    "qsamples_with_mapped_sub_pairs = []\n",
    "qsamples_with_not_mapped_sub_pairs = []\n",
    "for sample in qualtrics_data:\n",
    "    substitution_tuple, recipe, sample_id = sample\n",
    "    if recipe[\"arcelic_familiar_sub_pair\"]:\n",
    "        qsamples_with_mapped_sub_pairs.append(sample)\n",
    "    else:\n",
    "        qsamples_with_not_mapped_sub_pairs.append(sample)\n",
    "\n",
    "print(len(qsamples_with_mapped_sub_pairs))\n",
    "print(len(qsamples_with_not_mapped_sub_pairs))\n"
   ]
  },
  {
   "cell_type": "code",
   "execution_count": 19,
   "metadata": {},
   "outputs": [
    {
     "name": "stdout",
     "output_type": "stream",
     "text": [
      "34\n",
      "['paprika', 'chili_powder']\n",
      "['ground_beef', 'roast_beef']\n",
      "['walnut', 'slivered_almond']\n",
      "['lemon', 'lime']\n",
      "['green_pepper', 'red_bell_pepper']\n",
      "['raisin', 'blueberry']\n",
      "['diced_tomato', 'crushed_tomato']\n",
      "['apple', 'applesauce']\n",
      "['dry_white_wine', 'water']\n",
      "['lean_ground_beef', 'ground_pork']\n",
      "['lean_ground_beef', 'turkey_meat']\n",
      "['white_wine', 'lemon_juice']\n",
      "['semi_sweet_chocolate_chip', 'walnut']\n",
      "['cooked_chicken', 'turkey']\n",
      "['white_vinegar', 'white_wine_vinegar']\n",
      "['chicken', 'turkey_breast']\n",
      "['slivered_almond', 'walnut']\n",
      "['red_wine', 'water']\n",
      "['red_wine', 'white_wine']\n",
      "['ground_turkey', 'lean_ground_beef']\n",
      "['cherry_tomato', 'plum_tomato']\n",
      "['unsweetened_applesauce', 'banana']\n",
      "['pork_tenderloin', 'pork_loin_roast']\n",
      "['fresh_tomato', 'diced_tomato']\n",
      "['ground_chicken', 'turkey']\n",
      "['flank_steak', 'sirloin_steak']\n",
      "['chicken_piece', 'chicken_breast']\n",
      "['extra_lean_ground_beef', 'ground_turkey']\n",
      "['chicken_wing', 'chicken_leg']\n",
      "['lean_ground_turkey', 'beef']\n",
      "['deli_ham', 'bacon']\n",
      "['walnut_piece', 'almond']\n",
      "['walnut_half', 'almond_half']\n",
      "['marsala_wine', 'white_wine']\n",
      "35\n"
     ]
    }
   ],
   "source": [
    "candidate_mapped_sub_pairs = [sp for sp, r in samples_with_mapped_sub_pairs]\n",
    "already_selected_mapped_sub_pairs = [sp for sp, r, i in qsamples_with_mapped_sub_pairs]\n",
    "\n",
    "unique_already_selected_mapped_sub_pairs = []\n",
    "for sub_pair in already_selected_mapped_sub_pairs:\n",
    "    if sub_pair not in unique_already_selected_mapped_sub_pairs:\n",
    "        unique_already_selected_mapped_sub_pairs.append(sub_pair)\n",
    "\n",
    "# print(candidate_mapped_sub_pairs)\n",
    "# print(already_selected_mapped_sub_pairs)\n",
    "potential_additional_sub_pairs = []\n",
    "for sub_pair in candidate_mapped_sub_pairs:\n",
    "    if sub_pair in potential_additional_sub_pairs:\n",
    "        continue\n",
    "    if sub_pair not in already_selected_mapped_sub_pairs:\n",
    "        potential_additional_sub_pairs.append(sub_pair)\n",
    "\n",
    "print(len(potential_additional_sub_pairs))\n",
    "\n",
    "for sub_pair in potential_additional_sub_pairs:\n",
    "    print(sub_pair)\n",
    "\n",
    "print(len(unique_already_selected_mapped_sub_pairs))\n",
    "\n",
    "# for sub_pair in unique_already_selected_mapped_sub_pairs:\n",
    "#     print(sub_pair)"
   ]
  },
  {
   "cell_type": "code",
   "execution_count": 10,
   "metadata": {},
   "outputs": [
    {
     "data": {
      "text/plain": [
       "15"
      ]
     },
     "execution_count": 10,
     "metadata": {},
     "output_type": "execute_result"
    }
   ],
   "source": [
    "new_sub_tuples = [\n",
    "    ['ground_beef', 'roast_beef'],\n",
    "    ['dry_white_wine', 'water'],\n",
    "    ['lean_ground_beef', 'ground_pork'],\n",
    "    ['lean_ground_beef', 'turkey_meat'],\n",
    "    ['white_wine', 'lemon_juice'],\n",
    "    ['semi_sweet_chocolate_chip', 'walnut'],\n",
    "    ['chicken', 'turkey_breast'],\n",
    "    ['slivered_almond', 'walnut'],\n",
    "    ['ground_turkey', 'lean_ground_beef'],\n",
    "    ['unsweetened_applesauce', 'banana'],\n",
    "    ['ground_chicken', 'turkey'],\n",
    "    ['flank_steak', 'sirloin_steak'],\n",
    "    ['extra_lean_ground_beef', 'ground_turkey'],\n",
    "    ['lean_ground_turkey', 'beef'],\n",
    "    ['deli_ham', 'bacon'],\n",
    "]\n",
    "len(new_sub_tuples)"
   ]
  },
  {
   "cell_type": "code",
   "execution_count": 11,
   "metadata": {},
   "outputs": [
    {
     "name": "stdout",
     "output_type": "stream",
     "text": [
      "50\n"
     ]
    }
   ],
   "source": [
    "new_survey_sub_pairs = [*unique_already_selected_mapped_sub_pairs, *new_sub_tuples]\n",
    "print(len(new_survey_sub_pairs))\n",
    "# for p in new_survey_sub_pairs:\n",
    "#     print(p)"
   ]
  },
  {
   "cell_type": "markdown",
   "metadata": {},
   "source": [
    "## Select samples where sub pair is suggested\n",
    "\n",
    "- sub pair must be included in the sample as suggested for this recipe\n",
    "- numbers with the least number of occurrences of ingredients that canont be matched are included first, then in order\n",
    "- we aim for 7 recipes where the sub tuple was recommended, and fill up to 10 from other recipes\n",
    "- if there are fewer than 7 recipes to choose from, use all of them and padd with more from the other recipes\n",
    "- (Bonus: consider the argelic recipes first for padding up the rest)"
   ]
  },
  {
   "cell_type": "code",
   "execution_count": 32,
   "metadata": {},
   "outputs": [],
   "source": [
    "ALL_SAMPLES_PER_ORIGINAL_RECOMMENDATION_PATH = os.path.abspath(\"./outputs/survey_candidate_samples.pkl\")\n",
    "with open(ALL_SAMPLES_PER_ORIGINAL_RECOMMENDATION_PATH, \"rb\") as samples_per_original_recommendation_file:\n",
    "            all_samples_per_original_recommendation = pickle.load(samples_per_original_recommendation_file)\n"
   ]
  },
  {
   "cell_type": "code",
   "execution_count": 34,
   "metadata": {},
   "outputs": [
    {
     "name": "stdout",
     "output_type": "stream",
     "text": [
      "50\n"
     ]
    }
   ],
   "source": [
    "recipes_per_selected_sub_pair = {(sub_pair[0], sub_pair[1]): all_samples_per_original_recommendation[(sub_pair[0], sub_pair[1])] for sub_pair in new_survey_sub_pairs}\n",
    "print(len(recipes_per_selected_sub_pair))"
   ]
  },
  {
   "cell_type": "code",
   "execution_count": 39,
   "metadata": {},
   "outputs": [],
   "source": [
    "def sortRecipesByNrLeastUnmatchedIngredients(recipe_list):\n",
    "    for recipe in recipe_list:\n",
    "        nr_unmatched_ingredients = 0\n",
    "        for ingredient in recipe[\"ingredients\"]:\n",
    "            ingredient_is_unmatched = True\n",
    "            if isinstance(ingredient, list):\n",
    "                for ingredient_variant in ingredient:\n",
    "                    if ingredient_variant in distinct_mapping_targets:\n",
    "                        ingredient_is_unmatched = False\n",
    "            else:\n",
    "                if ingredient in distinct_mapping_targets:\n",
    "                    ingredient_is_unmatched = False\n",
    "            if ingredient_is_unmatched:\n",
    "                nr_unmatched_ingredients += 1\n",
    "        recipe[\"nr_arcelic_unmatched_ingredients\"] = nr_unmatched_ingredients\n",
    "\n",
    "    recipe_list_sorted = sorted(recipe_list, key=lambda x: x[\"nr_arcelic_unmatched_ingredients\"])\n",
    "    return recipe_list_sorted\n",
    "\n",
    "def sample_n_most_familiar_recipes(sorted_recipe_list, n):\n",
    "    unmapped_arcelic_ingredients_count_target = sorted_recipe_list[n][\"nr_arcelic_unmatched_ingredients\"]\n",
    "    viable_recipes = [\n",
    "        recipe for recipe in sorted_recipe_list if recipe[\"nr_arcelic_unmatched_ingredients\"] <= unmapped_arcelic_ingredients_count_target\n",
    "        ]\n",
    "\n",
    "    selected_recipes = random.sample(viable_recipes, n)\n",
    "    return selected_recipes\n"
   ]
  },
  {
   "cell_type": "code",
   "execution_count": 42,
   "metadata": {},
   "outputs": [
    {
     "name": "stdout",
     "output_type": "stream",
     "text": [
      "50\n"
     ]
    }
   ],
   "source": [
    "n = 7\n",
    "\n",
    "final_recipes_per_ingredient = {}\n",
    "for sub_tuple, recipes in list(recipes_per_selected_sub_pair.items()):\n",
    "    if len(recipes) <= n:\n",
    "        final_recipes_per_ingredient[sub_tuple] = recipes\n",
    "    else:\n",
    "        final_recipes_per_ingredient[sub_tuple] = sample_n_most_familiar_recipes(sortRecipesByNrLeastUnmatchedIngredients(recipes), n)\n",
    "\n",
    "print(len(final_recipes_per_ingredient))"
   ]
  },
  {
   "cell_type": "markdown",
   "metadata": {},
   "source": [
    "### jetze musste ohno die alten rezepte durchwurschtln unde liste offülln\n"
   ]
  },
  {
   "cell_type": "code",
   "execution_count": 45,
   "metadata": {},
   "outputs": [],
   "source": [
    "def getRecipesSubsAreIngredientsButNotGT(sub_pair, recipes_extended_dict):\n",
    "    gt_source = sub_pair[0]\n",
    "    gt_target = sub_pair[1]\n",
    "\n",
    "    matched_recipes = []\n",
    "    for recipe_id, recipe in list(recipes_extended_dict.items()):\n",
    "        ingredients = recipe[\"ingredients\"]\n",
    "        has_gt_sub_recommendation = False\n",
    "        subs_collection = recipe[\"subs_collection\"]\n",
    "\n",
    "        for sub in subs_collection:\n",
    "            if isinstance(sub[0], list):\n",
    "                sub_source = sub[0][0]\n",
    "                sub_target = sub[0][1]\n",
    "            else:\n",
    "                sub_source = sub[0]\n",
    "                sub_target = sub[1]\n",
    "            if gt_source == sub_source and gt_target == sub_target:\n",
    "                has_gt_sub_recommendation = True\n",
    "                break\n",
    "\n",
    "        if has_gt_sub_recommendation:\n",
    "            continue\n",
    "\n",
    "        for ingredient in ingredients:\n",
    "            for ingredient_variant in ingredient:\n",
    "                if ingredient_variant == gt_source:\n",
    "                    matched_recipes.append(recipe)\n",
    "                else:\n",
    "                    continue\n",
    "    return matched_recipes"
   ]
  },
  {
   "cell_type": "code",
   "execution_count": 49,
   "metadata": {},
   "outputs": [],
   "source": [
    "N = 10\n",
    "\n",
    "if N < n:\n",
    "    raise RuntimeError(\"total number of requested recipes greater than number of gt recommended recipes\")\n",
    "\n",
    "for sub_pair, recipe_list in list(final_recipes_per_ingredient.items()):\n",
    "    k = N - len(recipe_list) # fill with k recipes to have N recipes per sub tuple total\n",
    "\n",
    "    alternative_recipe_options = getRecipesSubsAreIngredientsButNotGT(sub_pair, recipes_extended_dict)\n",
    "    alternative_recipe_options_sorted = sortRecipesByNrLeastUnmatchedIngredients(alternative_recipe_options)\n",
    "    additinoal_recipes = sample_n_most_familiar_recipes(alternative_recipe_options_sorted, k)\n",
    "    final_recipes_per_ingredient[sub_pair] = [*recipe_list, *additinoal_recipes]"
   ]
  },
  {
   "cell_type": "code",
   "execution_count": 51,
   "metadata": {},
   "outputs": [],
   "source": [
    "for sub_tuple, recipe_list in list(final_recipes_per_ingredient.items()):\n",
    "    if len(recipe_list) != 10:\n",
    "        print(sub_pair)"
   ]
  },
  {
   "cell_type": "markdown",
   "metadata": {},
   "source": [
    "## Format the finaly samples into ye trusty olde json format"
   ]
  },
  {
   "cell_type": "code",
   "execution_count": 55,
   "metadata": {},
   "outputs": [
    {
     "name": "stdout",
     "output_type": "stream",
     "text": [
      "500\n"
     ]
    }
   ],
   "source": [
    "final_samples = []\n",
    "id_counter = 0\n",
    "for sub_tuple, recipe_list in list(final_recipes_per_ingredient.items()):\n",
    "    for recipe in recipe_list:\n",
    "        final_samples.append([\n",
    "            [sub_tuple[0], sub_tuple[1]],\n",
    "            recipe,\n",
    "            id_counter\n",
    "            ])\n",
    "        id_counter += 1\n",
    "\n",
    "random.shuffle(final_samples)\n",
    "\n",
    "print(len(final_samples))"
   ]
  },
  {
   "cell_type": "markdown",
   "metadata": {},
   "source": [
    "## finally print the stuff to the json"
   ]
  },
  {
   "cell_type": "code",
   "execution_count": 58,
   "metadata": {},
   "outputs": [],
   "source": [
    "with open(SURVEY_QUESTION_500_SET_PATH, \"w\") as restrianed_samples_file:\n",
    "    json.dump(final_samples, restrianed_samples_file, indent=2)"
   ]
  },
  {
   "cell_type": "code",
   "execution_count": null,
   "metadata": {},
   "outputs": [],
   "source": []
  }
 ],
 "metadata": {
  "kernelspec": {
   "display_name": "foodrecommnederscrapbooks",
   "language": "python",
   "name": "python3"
  },
  "language_info": {
   "codemirror_mode": {
    "name": "ipython",
    "version": 3
   },
   "file_extension": ".py",
   "mimetype": "text/x-python",
   "name": "python",
   "nbconvert_exporter": "python",
   "pygments_lexer": "ipython3",
   "version": "3.11.4"
  }
 },
 "nbformat": 4,
 "nbformat_minor": 2
}
