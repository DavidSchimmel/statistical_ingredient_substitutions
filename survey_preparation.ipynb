{
 "cells": [
  {
   "cell_type": "code",
   "execution_count": 1,
   "metadata": {},
   "outputs": [],
   "source": [
    "import os\n",
    "import pickle\n",
    "import pandas as pd\n",
    "import json\n",
    "import pprint\n",
    "import random\n",
    "\n",
    "from calc_recipe_ingredient_info_distances import collectSomeRecipeRecommendations, get_all_comments, get_all_mutual_info, evalRecommendations, getRecommendationsBasedOnMutualInformationRole, get_graph_nodes, get_all_gt_recipes, get_recipes_per_ingredient, get_recipes_per_ingredient_pairs, get_all_frequencies,getNaiveBayesRecommendations\n",
    "\n",
    "from generic_preprocessing import (make_recipes_extended_dict)\n",
    "\n",
    "from recipe_clustering_helpers import (\n",
    "    create_one_hot_ingredients_per_df, getRecipeIdsForSubTuples, get_hamming_distances\n",
    ")"
   ]
  },
  {
   "cell_type": "code",
   "execution_count": 2,
   "metadata": {},
   "outputs": [],
   "source": [
    "ORDERED_RECIPE_IDS_PATH = os.path.abspath(\"./outputs/sorted_recipe_ids_list.pkl\")\n",
    "TRAIN_COMMENTS_PATH = os.path.abspath(\"./inputs/train_comments_subs.pkl\") # train recipes with substitutions\n",
    "TEST_COMMENTS_PATH = os.path.abspath(\"./inputs/test_comments_subs.pkl\") # test recipes with substitutions\n",
    "VAL_COMMENTS_PATH = os.path.abspath(\"./inputs/val_comments_subs.pkl\") # validation recipes with substitutions\n",
    "GRAPH_NODES_PATH = os.path.abspath(\"./inputs/graph/nodes_191120.csv\")\n",
    "\n",
    "MUTUAL_INFO_DICT_PATH = os.path.abspath(\"./outputs/mutual_info_dict_with_self_info.pkl\")\n",
    "RECIPES_PER_INGREDIENT_SMALL_PATH = os.path.abspath(\n",
    "    \"./outputs/recipes_per_ingredient_small.pkl\"\n",
    ")\n",
    "RECIPES_PER_INGREDIENT_PAIRS_SMALL_PATH = os.path.abspath(\n",
    "    \"./outputs/recipes_per_ingredient_pairs_small.pkl\"\n",
    ")\n",
    "PROCESSED_RECIPES_PATH = os.path.abspath(\"./outputs/processed_recipes.pkl\")\n",
    "PATH_ONE_HOT_RECIPE_INGREDIENTS = os.path.abspath(\"./outputs/one_hot_recipe_ingredients.pkl\")\n",
    "\n",
    "EXTENDED_RECIPES_PATH_OLD = os.path.abspath(\"./inputs/extended_recipes_with_instructions_and_titles.json\")\n",
    "\n",
    "EXTENDED_RECIPES_PATH = os.path.abspath(\"./inputs/extended_recipes_with_quantities.json\")\n",
    "\n",
    "\n",
    "SURVEY_COMPLETE_SUB_TUPLE_AND_RECIPE_SET_PATH = os.path.abspath(\"./outputs/suvey_all_subs_and_recipes.json\")\n",
    "\n",
    "SURVEY_QUESTION_SET_A_PATH = os.path.abspath(\"./outputs/suvey_question_set_a.json\")\n",
    "SURVEY_QUESTION_SET_B_PATH = os.path.abspath(\"./outputs/suvey_question_set_b.json\")\n",
    "SURVEY_QUESTION_500_SET_PATH = os.path.abspath(\"./outputs/suvey_question_set_500.json\")\n"
   ]
  },
  {
   "cell_type": "code",
   "execution_count": 3,
   "metadata": {},
   "outputs": [],
   "source": [
    "\n",
    "if os.path.isfile(ORDERED_RECIPE_IDS_PATH):\n",
    "    with open(ORDERED_RECIPE_IDS_PATH, \"rb\") as file:\n",
    "        ordered_recipe_ids = pickle.load(file)\n",
    "recipe_ids_with_ranks = ordered_recipe_ids\n",
    "ordered_recipe_ids = [recipe[1] for recipe in recipe_ids_with_ranks]\n",
    "\n",
    "# recipes with comments, lists, names, and gt_truths\n",
    "with open(EXTENDED_RECIPES_PATH, 'r') as recipe_extended_with_original_info:\n",
    "    extended_recipes = json.load(recipe_extended_with_original_info)\n",
    "\n",
    "recipes_extended_dict = make_recipes_extended_dict(extended_recipes)\n",
    "\n",
    "\n",
    "\n",
    "# recipe ingredient df one hot\n",
    "# INGREDIENT_RECIPE_MATRIX_PATH = os.path.abspath(\"./outputs/ingredient_recipe_matrix.pkl\")\n",
    "# recipe_ingredient_df = get_recipe_ingredient_df( ingredients, recipes, recipes_per_ingredient, INGREDIENT_RECIPE_MATRIX_PATH)\n",
    "# recipe_ingredient_df_bool = recipe_ingredient_df.astype(bool)\n",
    "\n",
    "with open(MUTUAL_INFO_DICT_PATH, \"rb\") as mutual_info_dict_file:\n",
    "            mutual_info_dict = pickle.load(mutual_info_dict_file)\n",
    "\n",
    "ingredients = get_graph_nodes(GRAPH_NODES_PATH)\n",
    "\n",
    "recipes = get_all_gt_recipes(TRAIN_COMMENTS_PATH, TEST_COMMENTS_PATH,\n",
    "                                VAL_COMMENTS_PATH, PROCESSED_RECIPES_PATH)\n",
    "recipes_per_ingredient = get_recipes_per_ingredient(\n",
    "    ingredients, recipes, RECIPES_PER_INGREDIENT_SMALL_PATH)\n",
    "\n",
    "recipes_per_ingredient_pairs = get_recipes_per_ingredient_pairs(\n",
    "    recipes_per_ingredient, RECIPES_PER_INGREDIENT_PAIRS_SMALL_PATH)\n",
    "recipe_ingredient_counts, recipe_ingredient_pair_counts = get_all_frequencies(recipes_per_ingredient,\n",
    "                                        recipes_per_ingredient_pairs)\n"
   ]
  },
  {
   "cell_type": "code",
   "execution_count": 4,
   "metadata": {},
   "outputs": [
    {
     "name": "stdout",
     "output_type": "stream",
     "text": [
      "70520\n",
      "44429\n"
     ]
    }
   ],
   "source": [
    "print(len(extended_recipes))\n",
    "print(len(recipes_extended_dict))"
   ]
  },
  {
   "cell_type": "markdown",
   "metadata": {},
   "source": [
    "# Checking user comments GT substitution pairs"
   ]
  },
  {
   "cell_type": "markdown",
   "metadata": {},
   "source": [
    "## Which GT tuple ingredients are not represented as nodes?"
   ]
  },
  {
   "cell_type": "code",
   "execution_count": 5,
   "metadata": {},
   "outputs": [
    {
     "name": "stdout",
     "output_type": "stream",
     "text": [
      "number of GT substitution tuples from user comments: 70520\n",
      "number of ingredients that are not nodes: 2583\n",
      "list of ingredients that are not nodes: ['ground_cilantro', 'mixed_glace_fruit', 'frozen_concentrated_lemonade', 'frozen_salad_shrimp', 'frozen_broccoli_florets', 'frozen_margarita_mix', 'salt_free_garlic_powder', 'pollock_fillet', 'coarse_ground_mustard', 'fresh_basil_leaves', 'breaded_chicken_breast', 'cream_soda', 'whole_grain_rice', 'frozen_peas_and_corn', 'peanut_butter_cookie', 'tuna_salad', 'vanilla_wafer_cookie', 'berry_yogurt', 'cabbage_leaves', 'cherries_in_juice', 'cranberry_vodka', 'red_jalapeno_jelly', 'saltines', 'invert_sugar', 'butterscotch_candy', 'coarse_black_pepper', 'low_fat_creme_fraiche', 'fat_free_sour_cream', 'non_fat_cooking_spray', 'lite_firm_tofu', 'kamut', 'lemon_infused_olive_oil', 'light_sour_cream', 'roasted_sunflower_seeds', 'onion_dip_mix', 'eggs', 'pork_rib_roast', 'butter_flavored_cracker_crumbs', 'raspberry_preserves', 'frozen_broccoli_and_cauliflower', 'winesap_apples', 'blueberry_preserves', 'tomato_sauce_with_onion', 'turkey_fat', '2%_low_fat_milk', 'salt_free_cajun_seasoning', 'beef_sirloin_tip', 'pollock', 'peach_preserves', 'pork_gravy_mix', 'fatty_bacon', 'distilled_white_vinegar', 'custard_mix', 'tomato_bisque_soup', 'nestle_cream', 'herbal_tea', 'bay_leaves', 'major_grey_chutney', 'manioc_flour', 'cheese_sticks', 'crushed_pineapple_in_juice', 'vegetable_cocktail', 'minute_white_rice', 'shredded_reduced_fat_cheddar_cheese', 'cream_filled_chocolate_sandwich_cookies', 'no_salt_added_tomato_puree', 'whole_wheat_orzo', 'coleslaw_mix', 'frozen_peas', 'grilled_steak', 'cherry_preserves', 'cashew_nuts', 'hot_ketchup', 'cracked_black_pepper', 'beef_stock_granules', 'neufchatel_cheese', 'breast_milk', 'cinnamon_ice_cream', 'refrigerated_crescent_dinner_rolls', 'brazil_nuts', 'medium_hot_salsa', 'diced_tomatoes_with_sweet_onions', 'sugar_free_apricot_preserves', 'whiskey', 'sugar_cookie', 'diet_7_up', 'meat_ravioli', 'condensed_cream_of_chicken_with_herbs_soup', 'cumin_seeds', 'frozen_corn', 'fresh_breadcrumbs', 'chicken_coating_mix', 'smoked_gouda_cheese', 'buckwheat_honey', 'mrs._dash_tomato_basil_garlic_seasoning', 'cream_of_rice', \"mrs_dash's_extra_spicy_seasoning\", 'dark_chocolate_syrup', 'lamb_tenderloin', 'bread_enhancer', 'corn_flakes', 'canned_broth', 'cashews', 'frozen_hash_browns', 'creamed_honey', 'dates', 'gingerbread_cookie', 'garlic_spread', 'mango_rum', 'red_pepper_pod', 'mushroom_ravioli', 'cheddar_cheese_sauce', 'unsalted_vegetable_stock', 'panini_bread', 'lemon_cucumber', 'thai_seasoning', 'multigrain_cereal', 'breading', 'organic_peanut_butter', 'borage', 'soy_sausage', 'wraps', 'low_fat_feta', 'glace_fruit', 'red_chili', 'dried_fennel', 'vegetarian_bacon', 'green_onions', 'large_shrimp', 'dried_parsley', 'fruitcake', 'ground_red_pepper', 'cornbread_muffin_mix', 'amaretti_cookie', 'graham_cracker_sticks', 'reduced_fat_blue_cheese', 'vodka_sauce', 'liquid_amino_acid', 'onion_flakes', 'carbonated_beverage', 'orange_spice_tea_bags', 'instant_brown_rice', 'lime_juice_concentrate', 'hyssop', 'sausage_gravy', 'mint_oreo_cookie', 'jojoba_oil', 'baby_spinach_leaves', 'sour_orange', 'soy_sour_cream', 'milk_chocolate_cake_mix', 'lemon_olive_oil', 'vegetable_oil_cooking_spray', 'organic_virgin_coconut_oil', 'pancakes', 'fat_free_sweetened_condensed_milk', 'key_lime_pie_yogurt', 'tomatoes', 'green_goddess_salad_dressing', 'canned_chili', 'white_chocolate_bark', 'nuts', 'cream_of_chicken_soup_mix', 'cherry_soda', 'chocolate_sandwich_style_cookies', 'pinto_beans_with_jalapeno_peppers', 'strawberry_preserves', 'dried_onion_flakes', 'pierogi', 'dried_peppermint', 'powdered_turmeric', \"red_bird's_eye_chili\", 'jalapenos', 'semisweet_chocolate_chunk', 'raclette_cheese', 'garden_vegetable_spaghetti_sauce', 'pesto_sauce_mix', 'red_pepper_jelly', 'powdered_cumin', 'seedless_raspberry_preserves', 'rotini_pasta', 'kaiser_rolls', 'chicken_breast_fillet', 'frozen_chopped_broccoli', 'fat_free_mayonnaise', 'jamon_serrano', 'fresh_mushrooms', 'hot_water', 'gluten_free_chicken_stock', 'accent_seasoning', 'coconut_cream', 'berry_sugar', 'fresh_bay_leaves', 'vegeta', 'red_raspberry_preserves', 'date_syrup', 'frozen_squash', 'diet_sprite', 'pecans', 'ground_pepper', '98%_fat_free_condensed_cream_of_celery_soup', 'coarse_sea_salt', 'sweet_bread', 'farfel', 'mushrooms', 'french_vanilla_cool_whip', 'yogurt_covered_raisins', 'guava_jelly', 'beef_ravioli', 'mirliton', 'candy_coating', 'dinner_rolls', 'ground_sirloin', 'thyme_leaves', 'coarse_salt', 'lime_marmalade', 'black_bean_salsa', 'cholesterol_free_egg_substitute', 'unsweetened_cocoa', 'unsweetened_vanilla_almond_breeze', 'wheat_gluten_flour', 'preserves', 'dry_thyme_leaves', 'canned_pink_salmon', 'cranberry_chutney', 'artificial_sweetener', 'vanilla_butternut_flavoring', 'other_seasoning', 'cherry_kool_aid', 'dried_rosemary', 'onion_bagel', 'gingersnap_crumbs', 'low_calorie_sweetener', 'fresh_parmesan_cheese', 'fish_oil', 'cheez_it_crackers', 'mccormick_mild_chili_seasoning', 'wok_oil', 'cooked_rigatoni_pasta', 'morton_tender_quick_salt', 'unsweetened_coconut_milk', 'soul_seasoning', 'mustard_greens', 'frozen_broccoli', 'egg_roll_wraps', 'fresh_lemon_zest', 'cooked_chicken_breast', 'vanilla_rum', 'boneless_pork_chop', 'dry_crushed_red_pepper', 'sunflower_seeds', 'rainbow_trout_fillets', 'sesame_seeds', 'smoked_beef', 'fragrance_oil', 'contadina_tomato_sauce', 'graham_cracker_crumbs', 'refrigerated_reduced_fat_buttermilk_biscuits', 'shiso_leaves', 'venison_sausage', 'table_salt', 'reduced_fat_cream_cheese', 'five_cheese_blend', 'carrots', 'chile_salsa', 'chocolate_candy_melts', 'diet_coke', 'zwieback_toast_crumbs', 'cilantro_leaves', 'rolls', 'sweet_almond_oil', 'lemon_mayonnaise', 'garlic_hummus', 'molasses_sugar', 'banana_rum', 'rose_extract', 'dried_mexican_oregano', 'butter_cookie', 'jerk_sauce', 'fat_free_condensed_milk', 'butterscotch_extract', 'beef_marrow', 'reduced_fat_ranch_dressing', 'fresh_garlic', 'pepperoncini_peppers', 'spinach_leaves', 'chapati', 'caramel_liqueur', 'green_chili_powder', 'popcorn_shrimp', 'whole_wheat_fusilli', 'hot_taco_sauce', 'dark_chocolate_melts', 'hot_pepper_sesame_oil', 'soured_milk', 'green_onion_tops', 'unsweetened_pineapple_tidbits', 'lime_soda', 'chickens', 'brownie_mix', 'coconut_essence', 'green_chartreuse_liqueur', 'low_fat_cheddar_cheese', 'dukkah', 'apricot_pineapple_preserves', 'buttermilk_dressing', 'garlic_powder_with_parsley', 'pimento_strips', 'vegan_mozzarella_cheese', 'roma', 'almond_cookies', 'unbleached_flour', 'recaito', 'spicy_smoked_sausage', 'breadcrumbs', 'parsnips', 'cheese_sauce_mix', 'pepper_jelly', 'white_flour', 'cheese_pasta_sauce', 'lemon_salt', 'lingonberry_preserves', 'cornichon', 'grey_poupon_dijon_mustard', 'walnuts', 'fruit_sauce', 'bittersweet_dark_chocolate', 'gomashio', 'oats', 'leaf_oregano', 'smoked_cheese', 'beef_flank_steak', 'kaffir_lime_leaves', 'salad_leaves', 'reduced_fat_oreo_cookies', 'greens', 'onions', 'marinated_tofu', 'fat_free_sugar_free_instant_chocolate_pudding_mix', 'basil_leaves', 'rockfish', 'sugar_free_lime_gelatin', 'curds', 'fig_preserves', 'apricot_preserves', 'hot_smoked_sausage', 'low_fat_graham_cracker_crumbs', 'smoked_duck', 'refrigerated_cornbread_twists_dough', 'pine_nuts', 'minced_fresh_garlic_cloves', 'mountain_bread', 'reduced_sodium_chicken_broth', 'spaghetti_noodles', 'vegetable_salt', 'white_grape_juice_concentrate', 'chives', 'chicken_broth_with_roasted_garlic', 'fresh_peach', 'butterfinger_bar', 'vinaigrette_dressing', 'chocolate_peanut_butter', 'saffron_rice_mix', 'coffee_syrup', 'chocolate_cupcake', 'no_salt_added_pinto_beans', 'spinach_dip', 'unbleached_all_purpose_flour', 'cherry_vodka', 'frozen_tater_tots', 'reduced_fat_sour_cream', 'sugar_free_applesauce', 'mushroom_stems', 'sugar_free_caramel_topping', 'onion_and_garlic_powder', 'sticks', 'whole_wheat_bun', 'lemon_marmalade', 'hazelnuts', 'dry_onion_soup_mix', 'dried_basil_leaves', 'honey_mustard_sauce', 'thyme_leave', 'pineapple_juice_concentrate', 'margarine_spread', 'lime_rind', 'honey_barbeque_sauce', 'red_pepper_flakes', 'boar', 'peach_baby_food', 'extra_firm_tofu', 'canned_chick_peas', 'brown_rice_pasta', 'buddig_beef', 'castor_oil', 'blackberry_preserves', 'fresh_thyme_leave', 'frozen_orange_juice_concentrate', 'ground_turkey_breast', 'instant_rice', 'oregano_leaves', 'lsa', 'sugar_free_chocolate_chips', 'low_fat_sausage', 'reduced_fat_mayonnaise', 'chocolate_chip_ice_cream', 'duck_egg', 'sugar_free_lemon_gelatin', 'full_cream_milk', 'low_sodium_beef_broth', 'garfava_flour', 'ginger_puree', 'boneless_skinless_salmon', 'steamed_rice', 'mint_syrup', 'red_chili_pepper_flakes', 'salt_free_lemon_pepper', 'sour_cream_substitute', 'becel_margarine', 'orange_sweet_potatoes', 'lettuce_leaves', 'processed_cheese_with_jalapeno_peppers', 'raisins', 'celery_seeds', 'seedless_blackberry_preserves', 'rice_bran', 'wasabi_mayonnaise', 'blackberry_juice', 'nestle_milk_chocolate_and_peanut_butter_swirled_morsels', 'andouille_chicken_sausage', 'sugar_free_fat_free_butterscotch_pudding', 'red_pepper_seasoning', 'oatmeal_cookie', 'puffed_brown_rice_cereal', 'lemon_concentrate', 'canned_whole_cranberry_sauce', 'raspberry_spreadable_fruit', 'fat_free_vanilla_pudding', 'turkey_bacon', 'light_cottage_cheese', 'turkey_pastrami', 'canola_oil_mayonnaise', 'whole_wheat_noodles', 'whole_wheat_spiral_pasta', 'pinto_beans_in_chili_sauce', 'boule', 'nonfat_sour_cream', 'olive_bread', 'fruity_pebbles_cereal', 'soy_protein', 'tangelo', 'instant_chocolate_fudge_pudding', 'garlic_and_herb_seasoned_breadcrumbs', 'chocolate_malt_powder', 'celery_leaves', 'russet_potatoes', 'liquid_shortening', 'low_carb_tortilla', 'bon_appetit_seasoning_mix', 'low_fat_mayonnaise', 'chickpeas', 'low_fat_buttermilk', 'light_coconut_cream', 'crispbread', 'oat_bran_flour']\n"
     ]
    }
   ],
   "source": [
    "all_gt_substitution_tuples = [recipe['subs'] for recipe in extended_recipes]\n",
    "all_gt_substitution_tuples = sorted(all_gt_substitution_tuples, key=lambda x: x[0][0])\n",
    "all_gt_substitution_tuples\n",
    "print(f\"number of GT substitution tuples from user comments: {len(all_gt_substitution_tuples)}\")\n",
    "ingredients_that_are_not_nodes = []\n",
    "for sub_tuple in all_gt_substitution_tuples:\n",
    "    if sub_tuple[0] not in ingredients:\n",
    "        ingredients_that_are_not_nodes.append(sub_tuple[0])\n",
    "    if sub_tuple[1] not in ingredients:\n",
    "        ingredients_that_are_not_nodes.append(sub_tuple[1])\n",
    "print(f\"number of ingredients that are not nodes: {len(ingredients_that_are_not_nodes)}\")\n",
    "print(f\"list of ingredients that are not nodes: {list(set(ingredients_that_are_not_nodes))}\")"
   ]
  },
  {
   "cell_type": "markdown",
   "metadata": {},
   "source": [
    "## How often do ground truth substitution tuples appear in recipes?"
   ]
  },
  {
   "cell_type": "code",
   "execution_count": 6,
   "metadata": {},
   "outputs": [],
   "source": [
    "ground_truth_tuple_recipes = getRecipeIdsForSubTuples(extended_recipes)\n",
    "ground_truth_tuple_counts = {gt_sub: len(recipe_list) for gt_sub, recipe_list in ground_truth_tuple_recipes.items()}\n",
    "ground_truth_tuple_counts = dict(sorted(ground_truth_tuple_counts.items(), key=lambda item: item[1], reverse=True))\n"
   ]
  },
  {
   "cell_type": "code",
   "execution_count": 7,
   "metadata": {},
   "outputs": [
    {
     "name": "stdout",
     "output_type": "stream",
     "text": [
      "[(('butter', 'olive_oil'), 547), (('water', 'chicken_broth'), 412), (('walnut', 'pecan'), 392), (('sugar', 'honey'), 373), (('margarine', 'butter'), 349), (('butter', 'margarine'), 320), (('pecan', 'walnut'), 272), (('vegetable_oil', 'applesauce'), 239), (('ground_beef', 'ground_turkey'), 230), (('egg', 'egg_white'), 222), (('onion', 'onion_powder'), 213), (('sour_cream', 'yogurt'), 212), (('water', 'beef_broth'), 200), (('water', 'milk'), 199), (('water', 'chicken_stock'), 194)]\n",
      "[(('butter', 'olive_oil'), 547), (('water', 'chicken_broth'), 412), (('walnut', 'pecan'), 392), (('sugar', 'honey'), 373), (('margarine', 'butter'), 349), (('butter', 'margarine'), 320), (('pecan', 'walnut'), 272), (('vegetable_oil', 'applesauce'), 239), (('ground_beef', 'ground_turkey'), 230), (('egg', 'egg_white'), 222), (('onion', 'onion_powder'), 213), (('sour_cream', 'yogurt'), 212), (('water', 'beef_broth'), 200), (('water', 'milk'), 199), (('water', 'chicken_stock'), 194)]\n"
     ]
    }
   ],
   "source": [
    "print(list(ground_truth_tuple_counts.items())[:15])\n",
    "ground_truth_tuple_counts_sorted = sorted(ground_truth_tuple_counts.items(), key=lambda x:x[1], reverse=True)\n",
    "print(ground_truth_tuple_counts_sorted[:15])\n",
    "# print(list(ground_truth_tuple_counts.items())[-5:])\n",
    "\n",
    "#('ground_beef', 'ground_turkey'): 253,\n",
    "#('vegetable_oil', 'applesauce'): 240,\n",
    "#('heavy_cream', 'milk'): 219,\n",
    "#('plain_yogurt', 'sour_cream'): 168,\n",
    "#('butter', 'applesauce'): 133, # could be interesting because it will not always work\n",
    "#('parsley', 'cilantro'): 132, # this too\n",
    "#('salt', 'garlic_salt'): 115,\n",
    "\n",
    "#('beef', 'boneless_skinless_chicken_breast'): 8,\n",
    "#('beer', 'beef_broth'): 8,\n",
    "#('frozen_spinach', 'broccoli'): 8,\n",
    "#('red_wine', 'red_wine_vinegar'): 8,\n",
    "#('lean_ground_beef', 'veggie_crumbles'): 8,\n",
    "#('chicken', 'ground_turkey'): 2, # rare but should often fit, except the preparation could make it different?\n",
    "#('carrot', 'green_bell_pepper'): 8,\n",
    "#('mushroom', 'red_bell_pepper'): 7,\n"
   ]
  },
  {
   "cell_type": "code",
   "execution_count": 8,
   "metadata": {},
   "outputs": [
    {
     "name": "stdout",
     "output_type": "stream",
     "text": [
      "['32ac082c31', 'dd43625438', '0fe9a1105b', 'beb22afa59', '99ae52fa77', '5c7aeac637', 'f472881b2e', '4f73ae2f24']\n",
      "8\n"
     ]
    }
   ],
   "source": [
    "print(ground_truth_tuple_recipes[('egg_noodle', 'macaroni_noodle')])\n",
    "print(ground_truth_tuple_counts[('egg_noodle', 'macaroni_noodle')])"
   ]
  },
  {
   "cell_type": "code",
   "execution_count": 9,
   "metadata": {},
   "outputs": [
    {
     "data": {
      "text/plain": [
       "[]"
      ]
     },
     "execution_count": 9,
     "metadata": {},
     "output_type": "execute_result"
    }
   ],
   "source": [
    "one_hot_recipe_ingredients, failed_recipes = create_one_hot_ingredients_per_df(extended_recipes, ingredients, PATH_ONE_HOT_RECIPE_INGREDIENTS)\n",
    "failed_recipes"
   ]
  },
  {
   "cell_type": "code",
   "execution_count": 10,
   "metadata": {},
   "outputs": [],
   "source": [
    "# recipe_id = \"ffb1c2b5ad\"\n",
    "# distances_hamming = get_hamming_distances(recipe_id, one_hot_recipe_ingredients)\n"
   ]
  },
  {
   "cell_type": "code",
   "execution_count": 11,
   "metadata": {},
   "outputs": [],
   "source": [
    "# distances_hamming = list(set(distances_hamming))\n",
    "# distances_hamming = sorted(distances_hamming, key=lambda x: x[1])\n",
    "# distances_hamming"
   ]
  },
  {
   "cell_type": "code",
   "execution_count": 10,
   "metadata": {},
   "outputs": [],
   "source": [
    "def getRecipeFromComments(recipeId, allComments):\n",
    "    recipe = None\n",
    "    for commentRecipe in allComments:\n",
    "        gt_ingredient_found = False\n",
    "        comment_recipe_id = commentRecipe['id']\n",
    "        if recipeId == comment_recipe_id:\n",
    "            if recipe is None:\n",
    "                recipe = {}\n",
    "                recipe[\"id\"] = comment_recipe_id\n",
    "                recipe[\"subs\"] = []\n",
    "                recipe[\"ingredients\"] = commentRecipe[\"ingredients\"]\n",
    "\n",
    "            if recipe is not None:\n",
    "                recipe[\"subs\"].append(commentRecipe[\"subs\"])\n",
    "\n",
    "    return recipe\n",
    "\n",
    "# def getRecipeIdsForGTSub(gt_sub, extended_recipes):\n",
    "#     recipe_ids = []\n",
    "#     for recipe in extended_recipes:\n",
    "#         recipe_id = recipe[\"id\"]\n",
    "#         subs = recipe[\"subs\"]\n",
    "#         if isinstance(subs, list) and gt_sub in subs:\n",
    "#             recipe_ids.append(recipe_id)\n",
    "#         elif gt_sub == subs:\n",
    "#             recipe_ids.append(recipe_id)\n",
    "#     return recipe_ids"
   ]
  },
  {
   "cell_type": "code",
   "execution_count": 13,
   "metadata": {},
   "outputs": [],
   "source": [
    "# sample_gt_sub = ('chicken', 'ground_turkey')\n",
    "# sample_recipe_ids = getRecipeIdsForGTSub(sample_gt_sub, extended_recipes)\n",
    "# sample_recipe_ids"
   ]
  },
  {
   "cell_type": "code",
   "execution_count": 11,
   "metadata": {},
   "outputs": [
    {
     "name": "stdout",
     "output_type": "stream",
     "text": [
      "{\n",
      "    \"id\": \"ffb1c2b5ad\",\n",
      "    \"ingredients\": [\n",
      "        [\n",
      "            \"flour\"\n",
      "        ],\n",
      "        [\n",
      "            \"puff_pastry_sheet\",\n",
      "            \"puff_pastry_sheets\"\n",
      "        ],\n",
      "        [\n",
      "            \"tuna\"\n",
      "        ],\n",
      "        [\n",
      "            \"onion\",\n",
      "            \"onions\",\n",
      "            \"round_onion\"\n",
      "        ],\n",
      "        [\n",
      "            \"celery\"\n",
      "        ],\n",
      "        [\n",
      "            \"mayonnaise\",\n",
      "            \"lemon_mayonnaise\",\n",
      "            \"wasabi_mayonnaise\",\n",
      "            \"canola_oil_mayonnaise\"\n",
      "        ],\n",
      "        [\n",
      "            \"salt_and_pepper\"\n",
      "        ],\n",
      "        [\n",
      "            \"american_cheese\"\n",
      "        ],\n",
      "        [\n",
      "            \"egg_wash\"\n",
      "        ]\n",
      "    ],\n",
      "    \"subs\": [\n",
      "        \"onion\",\n",
      "        \"scallion\"\n",
      "    ],\n",
      "    \"instructions\": [\n",
      "        \"Preheat the oven to 375F\",\n",
      "        \"On a floured surface, roll out puff pastry sheets into 12- by 18-inch rectangles.\",\n",
      "        \"Slide them onto a baking pan and place in the refrigerator.\",\n",
      "        \"Let them settle about one hour, until firm.\",\n",
      "        \"While the dough is settling, make the tuna salad.\",\n",
      "        \"Drain the cans of tuna and mix with the onions celery, mayonnaise, and salt and pepper.\",\n",
      "        \"Set it aside.\",\n",
      "        \"Using a floured fish-shaped cookie cutter, help your kids cut out 16 pieces from the pastry sheets.\",\n",
      "        \"(If you do not have a fish-shaped cutter, draw a simple fish on a piece of cardboard, cut it out, and use it as a template.)\",\n",
      "        \"Divide the filling evenly among eight of the fish pieces, leaving a 1/4-inch border all around.\",\n",
      "        \"Place a cheese slice on top of the filling.\",\n",
      "        \"With a pastry brush or small, clean paintbrush, brush the 1/4-inch border of the pastry with the egg wash.\",\n",
      "        \"Place the top pieces on the filled bases and lightly press together the edges with a fork to seal in the filling.\",\n",
      "        \"Brush the tops of all the fish with the egg wash. With the tip of a knife, poke a small hole to make an eye.\",\n",
      "        \"You can also lightly cut a fin shape, being careful not to press the knife tip all the way through the dough.\",\n",
      "        \"Bake for about 20 minutes until well colored and crisp.\"\n",
      "    ],\n",
      "    \"title\": \"Mrs. Puff's Pastry Fish\",\n",
      "    \"original_ingredients\": [\n",
      "        \"flour\",\n",
      "        \"2 puff pastry sheets\",\n",
      "        \"2 (6 ounce) cans tuna (I used salmon and crab before)\",\n",
      "        \"2 tablespoons chopped onions\",\n",
      "        \"2 tablespoons chopped celery\",\n",
      "        \"12 cup mayonnaise\",\n",
      "        \"salt and pepper\",\n",
      "        \"4 slices American cheese, cut in half\",\n",
      "        \"egg wash (1 egg, 1 yolk, pinch of salt, beaten together)\"\n",
      "    ],\n",
      "    \"ingredient_quantities\": {\n",
      "        \"2 puff pastry sheets\": 2.0,\n",
      "        \"2 (6 ounce) cans tuna (I used salmon and crab before)\": 56.699,\n",
      "        \"2 tablespoons chopped onions\": 29.5736,\n",
      "        \"2 tablespoons chopped celery\": 29.5736,\n",
      "        \"12 cup mayonnaise\": 118.294,\n",
      "        \"4 slices American cheese, cut in half\": 4.0\n",
      "    },\n",
      "    \"subs_collection\": [\n",
      "        [\n",
      "            \"onion\",\n",
      "            \"scallion\"\n",
      "        ]\n",
      "    ]\n",
      "}\n"
     ]
    }
   ],
   "source": [
    "# r1 = getRecipeFromComments(\"ffb1c2b5ad\", extended_recipes)\n",
    "# r2 = getRecipeFromComments(\"999d8c4b0d\", extended_recipes)\n",
    "# r3 = getRecipeFromComments(\"4b6a3ba513\", extended_recipes)\n",
    "\n",
    "print(json.dumps(recipes_extended_dict[\"ffb1c2b5ad\"], indent=4))"
   ]
  },
  {
   "cell_type": "markdown",
   "metadata": {},
   "source": [
    "## Check for some Common side ingredients"
   ]
  },
  {
   "cell_type": "markdown",
   "metadata": {},
   "source": [
    "### set up filter phrase categories"
   ]
  },
  {
   "cell_type": "code",
   "execution_count": 12,
   "metadata": {},
   "outputs": [
    {
     "name": "stdout",
     "output_type": "stream",
     "text": [
      "blacklist phrases: ['pasta', 'noodle', 'flour', 'wheat', 'starch', 'rice', 'bread', 'potato', 'oil', 'butter', 'cream', 'margarine', 'salt', 'sugar', 'celery', 'water', 'egg', 'baking_powder', 'baking_soda', 'juice', 'extract', 'seed', 'mix', 'syrup', 'milk', 'shallot', 'onion']\n",
      "Did granulated sugar get blacklisted? True\n",
      "Did steve jobs get blacklisted? False\n",
      "106\n",
      "155\n",
      "106\n",
      "128\n",
      "64\n",
      "366\n",
      "198\n",
      "770\n"
     ]
    }
   ],
   "source": [
    "PASTA = [\"pasta\", \"noodle\"]\n",
    "FLOUR = [\"flour\", \"wheat\", \"starch\"]\n",
    "RICE = [\"rice\"]\n",
    "BREAD = [\"bread\"]\n",
    "POTATO = [\"potato\"]\n",
    "OIL = [\"oil\"]\n",
    "OIL = [\"oil\", \"butter\", \"cream\", \"margarine\"]\n",
    "SPICES = [\"salt\", \"sugar\", \"celery\"] #maybe pepper? maybe mustard? but they could miss many interesting recipes but we can remove pepper for pepper for sure\n",
    "MISC = [\"water\", \"egg\", \"baking_powder\", \"baking_soda\", \"juice\", \"extract\", \"seed\", \"mix\", \"syrup\", \"milk\", \"shallot\", \"onion\"]\n",
    "\n",
    "BLACKLIST_PHRASES = [*PASTA, *FLOUR, *RICE, *BREAD, *POTATO, *OIL, *SPICES, *MISC]\n",
    "print(f\"blacklist phrases: {BLACKLIST_PHRASES}\")\n",
    "\n",
    "def getAllSpecificIngredientNamesForCommonSideIngredient(ingredients, common_side_ingredients, exclude_keywords):\n",
    "    matched_ingredients = []\n",
    "    for ingredient in ingredients:\n",
    "        for side_ingredient in common_side_ingredients:\n",
    "            if len(exclude_keywords) < 1:\n",
    "                if side_ingredient in ingredient and ingredient not in matched_ingredients:\n",
    "                    matched_ingredients.append(ingredient)\n",
    "            else:\n",
    "                for exclude_keyword in exclude_keywords:\n",
    "                    if side_ingredient in ingredient and ingredient not in matched_ingredients and exclude_keyword not in ingredient:\n",
    "                        matched_ingredients.append(ingredient)\n",
    "    return matched_ingredients\n",
    "\n",
    "def checkIngredientContainsBlacklistPhrase(ingredient, blacklist_phrases, whitelist_phrases = []):\n",
    "    for blacklist_phrase in blacklist_phrases:\n",
    "        if blacklist_phrase in ingredient:\n",
    "            for whitelist_phrase in whitelist_phrases:\n",
    "                if whitelist_phrase in ingredient:\n",
    "                    return False\n",
    "            return True\n",
    "    return False\n",
    "\n",
    "checked_for_sugga = checkIngredientContainsBlacklistPhrase(\"sugar, granulated\", BLACKLIST_PHRASES)\n",
    "print(f\"Did granulated sugar get blacklisted? {checked_for_sugga}\")\n",
    "checked_for_steve = checkIngredientContainsBlacklistPhrase(\"jobs, steve\", BLACKLIST_PHRASES)\n",
    "print(f\"Did steve jobs get blacklisted? {checked_for_steve}\")\n",
    "\n",
    "pasta_matched_ingredients = getAllSpecificIngredientNamesForCommonSideIngredient(ingredients, PASTA, [\"sauce\"])\n",
    "flour_matched_ingredients = getAllSpecificIngredientNamesForCommonSideIngredient(ingredients, FLOUR, [])\n",
    "rice_matched_ingredients = getAllSpecificIngredientNamesForCommonSideIngredient(ingredients, RICE, [])\n",
    "bread_matched_ingredients = getAllSpecificIngredientNamesForCommonSideIngredient(ingredients, BREAD, [])\n",
    "potato_matched_ingredients = getAllSpecificIngredientNamesForCommonSideIngredient(ingredients, POTATO, [])\n",
    "oil_matched_ingredients = getAllSpecificIngredientNamesForCommonSideIngredient(ingredients, OIL, [])\n",
    "spices_matched_ingredients = getAllSpecificIngredientNamesForCommonSideIngredient(ingredients, SPICES, [])\n",
    "misc_matched_ingredients = getAllSpecificIngredientNamesForCommonSideIngredient(ingredients, MISC, [])\n",
    "\n",
    "\n",
    "print(len(pasta_matched_ingredients))\n",
    "print(len(flour_matched_ingredients))\n",
    "print(len(rice_matched_ingredients))\n",
    "print(len(bread_matched_ingredients))\n",
    "print(len(potato_matched_ingredients))\n",
    "print(len(oil_matched_ingredients))\n",
    "print(len(spices_matched_ingredients))\n",
    "print(len(misc_matched_ingredients))"
   ]
  },
  {
   "cell_type": "markdown",
   "metadata": {},
   "source": [
    "# Generating Recipe Set\n",
    "1. get extended recipes\n",
    "1. Filter GT samples according to frequency of pairs, ingredients, baseline model prediction quality\n",
    "1. Fitler recipes based on if the gt source is in the recipe (? This is more relevant for the extension of the recipe)\n",
    "1. Filter based on trivial substitutions (but how?)\n",
    "1. Filter based on assumed importance of the ingredient to the recipe (but how?)\n",
    "1. Filter according to additional features, like substituting one food class with another or with the same food class\n"
   ]
  },
  {
   "cell_type": "code",
   "execution_count": 13,
   "metadata": {},
   "outputs": [
    {
     "name": "stdout",
     "output_type": "stream",
     "text": [
      "3842\n",
      "Top most common ingredients: ['salt', 'butter', 'onion', 'egg', 'sugar', 'garlic_clove', 'water', 'olive_oil', 'flour', 'milk', 'pepper', 'baking_powder', 'brown_sugar', 'baking_soda', 'all_purpose_flour', 'vegetable_oil', 'carrot', 'parmesan_cheese', 'salt_and_pepper', 'vanilla', 'cinnamon', 'sour_cream', 'black_pepper', 'green_onion', 'lemon_juice', 'celery', 'garlic_powder', 'tomato', 'oil', 'vanilla_extract', 'garlic', 'chicken_broth', 'soy_sauce', 'honey', 'potato', 'cream_cheese', 'mayonnaise', 'fresh_parsley']\n",
      "Filtered out uncommon ingredients: ['100%_bran', '12_inch_pizza_crust', '2%_buttermilk', '2%_evaporated_milk', '2%_mozzarella_cheese', '6_inch_corn_tortilla', '85%_lean_ground_beef', '8_inch_flour_tortilla', '9\"_pastry_pie_shell', '9\"_unbaked_pie_shell', '96%_lean_ground_beef', '9_inch_baked_pie_crust', '9_inch_graham_cracker_crust', 'a.1._original_sauce', 'abalone', 'absinthe', 'absolut_citron_vodka', 'achiote', 'achiote_oil', 'achiote_paste', 'achiote_powder', 'acorn', 'active_starter', 'advocaat', 'agar', 'agar_agar', 'agar_agar_flake', 'agave', 'aged_white_cheddar_cheese', 'ahi', 'aioli', 'ajinomoto', 'ajwain', 'alcaparrado', 'alcohol', 'ale', 'alfalfa', 'alfredo_sauce_mix', 'alligator_meat', 'almond_bark', 'almond_biscotti', 'almond_brickle_chip', 'almond_filling', 'almond_flavored_liqueur', 'almond_half', 'almond_liqueur', 'almond_macaroon', 'almond_powder', 'almond_syrup', 'almond_toffee_bit', 'alum', 'aluminum_free_baking_powder', 'amaranth_flour', 'amaretti', 'amaretto_cooky', 'amber_beer', 'amber_rum', 'amchoor_powder', 'amchur_powder', 'amish_starter', 'ammonia', 'anasazi_bean', 'anchovies_packed_in_oil', 'andes_mints_candy', 'anejo_cheese', 'angel_flake_coconut', 'angelica', 'animal_cracker', 'anise', 'anise_flavored_liqueur', 'anise_flavoring', 'anise_oil', 'anisette', 'annatto_oil', 'apple_chip', 'apple_liqueur', 'apple_pie', 'apple_schnapps', 'apple_smoked_bacon', 'applejack', 'apricot_baby_food', 'apricot_filling', 'apricot_fruit_spread', 'apricot_gelatin', 'apricot_liqueur', 'apricot_puree', 'aquavit', 'arame_seaweed', 'arbol_chile', 'arctic_char', 'arm_roast', 'armagnac', 'aromatic_bitter', 'artichoke_bottom', 'artisan_bread', 'asadero_cheese', 'ascorbic_acid', 'asian_pear', 'atkins_baking_mix', 'au_gratin_potato_mix', 'au_jus_sauce', 'avocado_dip', 'azuki_bean', 'baby_artichoke', 'baby_back_rib_rack', 'baby_beet', 'baby_calamari', 'baby_chicken', 'baby_dill_pickle', 'baby_eggplant', 'baby_food', 'baby_leek', 'baby_lettuce', 'baby_octopus', 'baby_sweet_corn_cob', 'baby_swiss_cheese', 'baby_tomato', 'baby_turnip', 'bacardi_dark_rum', 'bacardi_light_rum', 'bacardi_limon', 'back_bacon', 'backfin_crab_meat', 'bagel_chip', 'baked_beans_in_tomato_sauce', 'baked_tofu', \"baker's_semi_sweet_baking_chocolate\", \"baker's_unsweetened_chocolate_square\", 'baking_chocolate_square', 'baking_hen', 'balsamic_dressing', 'balsamic_glaze', 'banana_bread', 'banana_cake_mix', 'banana_cream_instant_pudding', 'banana_flavoring', 'banana_instant_pudding', 'banana_schnapps', 'barbecued_pork', 'barberry', 'barley_malt', 'barley_malt_syrup', 'barley_nugget_cereal', 'basic_pizza_dough', 'basil_chiffonade', 'basil_oil', 'basil_olive_oil', 'basil_vinaigrette', 'bass_fillet', 'batter', 'batter_frying_mix', 'bay_leaf_powder', 'bay_shrimp', 'bean_curd', 'bean_dip', 'bean_paste', 'bean_sauce', 'bean_thread', 'bean_with_bacon_soup', 'bearnaise_sauce', 'beau_monde_spice', 'bechamel_sauce', 'bee_pollen', 'beef_bone', 'beef_bones_with_marrow', 'beef_burger', 'beef_cheek', 'beef_consomme_soup', 'beef_dripping', 'beef_eye_round', 'beef_fat', 'beef_gravy_mix', 'beef_heart', 'beef_jerky', 'beef_kidney', 'beef_neck_bone', 'beef_rib_eye_roast', 'beef_rib_roast', 'beef_round_tip_steak', 'beef_rump', 'beef_sausage', 'beef_shoulder', 'beef_stew', 'beef_stew_seasoning', 'beef_suet', 'beef_tenderloin_fillet', 'beef_tip', 'beef_tongue', 'beeswax', 'beet_sugar', 'bel_paese_cheese', 'benedictine', 'bengal_gram_dal', 'berbere', 'berry_juice', 'besan_flour', 'best_foods_mayonnaise', 'betty_crocker_fudge_brownie_mix', 'bing_cherry', 'bird_chile', 'bird_seed', 'biscotti', 'bisquick_heart_smart_mix', 'bisto', 'bitter', 'bitter_chocolate', 'bitter_melon', 'bittersweet_baking_chocolate', 'bittersweet_chocolate_piece', 'bittersweet_chocolate_square', 'black_bean_garlic_sauce', 'black_bread', 'black_caviar', 'black_cherry', 'black_cherry_jell_o', 'black_cumin', 'black_cumin_seed', 'black_currant', 'black_decorating_gel', 'black_food_coloring', 'black_forest_ham', 'black_gram', 'black_grape', 'black_greek_olive', 'black_kale', 'black_lentil', 'black_licorice', 'black_mission_fig', 'black_mushroom', 'black_olive_paste', 'black_plum', 'black_pudding', 'black_raspberry', 'black_rice', 'black_salt', 'black_soybean', 'black_tea_bag', 'black_treacle', 'black_truffle', 'black_turtle_bean', 'blackberry_brandy', 'blackberry_jam', 'blackberry_liqueur', 'blackberry_preserve', 'blackberry_schnapps', 'blackberry_wine', 'bleach', 'bleached_all_purpose_flour', 'bloody_mary_mix', 'blue_corn_tortilla', 'blue_crab', 'blue_crab_meat', 'blue_potato', 'blueberry_juice', 'blueberry_muffin_mix', 'blueberry_preserve', 'blueberry_sauce', 'blueberry_schnapps', 'blueberry_yogurt', 'bluefish', 'bluefish_fillet', 'bob_evans_sausage', 'boboli_pizza_crust', 'boca_meatless_ground_burger', 'bock_beer', 'boil_in_the_bag_rice', 'bolognese_sauce', 'boneless_beef_brisket', 'boneless_beef_chuck_shoulder_pot_roast', 'boneless_beef_rump_roast', 'boneless_beef_top_loin_steak', 'boneless_beef_top_round_steak', 'boneless_bottom_round_roast', 'boneless_center_cut_pork_loin_roast', 'boneless_duck_breast', 'boneless_duck_breast_half', 'boneless_pork_butt', 'boneless_pork_cutlet', 'boneless_rib_eye_steak', 'boneless_short_rib', 'boneless_skinless_chicken_cutlet', 'boneless_skinless_pink_salmon', 'boneless_veal_shoulder', 'boneless_veal_steak', 'bonito_flake', 'borlotti_bean', 'boston_butt', 'bottled_garlic', 'bottled_water', 'boysenberry', 'boysenberry_jam', 'brandy_extract', 'brandy_flavoring', 'braunschweiger_sausage', 'bread_and_butter_pickle', 'bread_dough', 'bread_improver', 'bread_mix', 'bread_pudding', 'bread_round', 'bread_stuffing_mix', 'breadfruit', 'breakfast_cereal', 'breakfast_sausage_link', 'breakfast_sausage_patty', \"breakstone's_sour_cream\", 'breasts_of_veal', 'bresaola', 'brewed_black_tea', 'brewed_green_tea', \"brewer's_yeast\", 'brick_cheese', 'brine_cured_black_olive', 'brinjal', 'brioche_bread', 'brioche_roll', 'broad_bean', 'broccoli_cheese_soup', 'broccoli_raab', 'broccoli_spear', 'broccoli_stem', 'broccolini', 'broiler', 'broiler_chicken', 'brown_ale', 'brown_and_serve_sausage', 'brown_basmati_rice', 'brown_bean_sauce', 'brown_breadcrumb', 'brown_flour', 'brown_rice_vinegar', 'brown_sauce', 'brown_sesame_seed', 'brown_stock', 'brown_sugar_twin', 'brownie', 'brut_champagne', 'buckwheat_groat', 'buckwheat_noodle', 'budweiser_beer', 'buffalo', 'buffalo_mozzarella', 'bugles_original_flavor_snack', 'bulb_shallot', 'bulbs_of_garlic', 'burdock_root', 'burrata_cheese', 'burrito', 'butter_cooky', 'butter_pecan_ice_cream', 'butter_substitute', 'buttercream_frosting', 'buttercup_squash', 'butterfish', 'butterflied_leg_of_lamb', 'butterhead_lettuce', 'buttermilk_pancake_mix', 'buttermilk_ranch_dressing', 'butterscotch_pudding', 'butterscotch_sundae_sauce', 'butterscotch_topping', 'cabbage_kimchi', 'cabrales_cheese', 'cachaca', 'caciocavallo', 'cactus_piece', 'caesar_flavor_crouton', 'cajun_style_stewed_tomato', 'cake_and_pastry_flour', 'cake_crumb', 'cake_yeast', 'california_blend_frozen_vegetable', 'california_walnut', 'calimyrna_fig', 'calrose_rice', 'calumet_baking_powder', 'campanelle_pasta', 'campari', \"campbell's_cheddar_cheese_soup\", \"campbell's_condensed_cream_of_celery_soup\", \"campbell's_condensed_tomato_soup\", \"campbell's_french_onion_soup\", 'candied_citron_peel', 'candied_citrus_peel', 'candied_green_cherry', 'candied_lemon_peel', 'candied_orange', 'candied_pecan', 'candied_violet', 'candied_walnut', 'candlenut', 'candy_bar', 'candy_covered_plain_chocolate_candy', 'candy_orange_slice', 'canela', 'canned_anchovy_fillet', 'canned_beet', 'canned_cherry_pie_filling', 'canned_clam', 'canned_fruit', 'canned_italian_tomato', 'canned_lychee', 'canned_navy_bean', 'canned_pea', 'canned_peach_half', 'canned_pear', 'canned_pimiento', 'canned_pineapple', 'canned_pineapple_juice', 'canned_red_bean', 'canned_sauerkraut', 'canned_shrimp', 'canned_sweet_potato', 'canned_vegetable_broth', 'canned_white_bean', 'canned_whole_kernel_corn', 'cannelloni_tube', 'cannoli_shell', 'cantaloupe_ball', 'caper_berry', 'caper_juice', 'caperberries', 'capers_in_brine', 'capers_packed_in_salt', 'capicola', 'capon', 'caponata', 'capsicum', 'carambola', 'caramel_apple_dip', 'caramel_candy', 'caramel_extract', 'caramel_square', 'caramel_sundae_syrup', 'cardoon', 'carnaroli_rice', 'carnation_instant_milk', 'carom_seed', 'carp', 'carrot_baby_food', 'carrot_curl', 'carrot_juice', 'carrot_stick', 'cashew_milk', 'cassava', 'cassia', 'caster', 'cauliflower_head', 'cavatelli', 'caviar', 'cavolo_nero', 'cedar_plank', 'celery_&_top', 'celery_heart', 'celery_soup', 'celery_top', 'center_cut_pork_loin', 'cereal_flake', 'certo', 'chai_tea', 'chai_tea_mix', 'chai_tea_teabags', 'chamomile_flower', 'chamomile_tea_bag', 'champagne_grape', 'champignon_mushroom', 'char_siu_pork', 'char_siu_sauce', 'charcoal', 'chard_leaf', 'cheddar_cheese_cube', 'cheddar_cheese_spread', 'cheese_curd', 'cheese_soup', 'cheesecake', 'cheesecake_filling', 'cheesecake_flavor_instant_pudding_and_pie_filling', 'cheesecloth', 'cheez_it_cracker', 'cherries_in_syrup', 'cherry_brandy', 'cherry_cola', 'cherry_extract', 'cherry_flavored_liqueur', 'cherry_heering', 'cherry_jam', 'cherry_syrup', 'cherrystone_clam', 'chestnut_flour', 'chestnut_honey', 'chestnut_mushroom', 'chestnut_puree', 'chicken_and_rice_soup', 'chicken_apple_sausage', 'chicken_back', 'chicken_bone', 'chicken_breast_halve', 'chicken_carcass', 'chicken_chunk', 'chicken_consomme', 'chicken_giblet', 'chicken_gizzard', 'chicken_gumbo_soup', 'chicken_half', 'chicken_neck', 'chicken_noodle_soup', 'chicken_noodle_soup_mix', 'chicken_portion', 'chicken_rice_a_roni', 'chicken_rice_pilaf_mix', 'chicken_seasoning', 'chicken_soup', 'chicken_soup_powder', 'chicken_stove_top_stuffing_mix', 'chicken_wing_sauce', 'chicory_lettuce', 'chihuahua_cheese', 'chile', 'chile_puree', 'chile_sauce_with_garlic', 'chiles_de_arbol', 'chili_bean_paste', 'chili_bean_sauce', 'chili_pod', 'chimichurri_sauce', 'chinese_barbecue_pork', 'chinese_black_mushroom', 'chinese_celery', 'chinese_chive', 'chinese_eggplant', 'chinese_hot_mustard', 'chinese_pea_pod', 'chinese_sausage', 'chinese_vegetable', 'chinese_wheat_noodle', 'chipotle_hot_sauce', 'chipotle_paste', 'chipotle_salsa', 'chipped_beef', 'chive_blossom', 'chocolate_almond_bark', 'chocolate_bar', 'chocolate_bark', 'chocolate_bars_with_almond', 'chocolate_biscuit', 'chocolate_cake', 'chocolate_chip_cookie_mix', 'chocolate_cookie_crumb', 'chocolate_cooky', 'chocolate_covered_caramel_candy', 'chocolate_covered_english_toffee_bar', 'chocolate_covered_espresso_bean', 'chocolate_covered_graham_cracker_cooky', 'chocolate_covered_mint_candy', 'chocolate_covered_peanut', 'chocolate_extract', 'chocolate_flavor_nestle_nesquik_powder', 'chocolate_flavored_liqueur', 'chocolate_flavored_syrup', 'chocolate_flavoring', 'chocolate_fudge_frosting', 'chocolate_glaze', 'chocolate_graham_cracker_crumb', 'chocolate_ice_cream_topping', 'chocolate_icing', 'chocolate_instant_pudding', 'chocolate_leaf', 'chocolate_mousse_mix', 'chocolate_sandwich_style_cooky', 'chocolate_sorbet', 'chocolate_soymilk', 'chocolate_spread', 'chocolate_square', 'chocolate_truffle', 'chocolate_whipped_cream', 'chop_suey_vegetable', 'chopped_clams_with_juice', 'choy_sum', 'chuck', 'cilantro_leaves_and_stem', 'cilantro_root', 'cilantro_stem', 'cinnamon_applesauce', 'cinnamon_bark', 'cinnamon_extract', 'cinnamon_graham_cracker', 'cinnamon_graham_cracker_crumb', 'cinnamon_oil', 'cinnamon_roll', 'cinnamon_roll_dough', 'cinnamon_schnapps', 'cinnamon_swirl_bread', 'cinnamon_syrup', 'cinnamon_toast_crunch_cereal', 'cipollini_onion', 'citrus_fruit', 'citrus_juice', 'citrus_peel', 'citrus_zest', 'clam_base', 'clams_in_shell', 'classico_tomato_and_basil_pasta_sauce', 'clear_jel', 'clementine_juice', 'clementine_zest', 'clotted_cream', 'cloud_ear_mushroom', 'clove_powder', 'coating_mix', 'cockle', 'cocktail_onion', 'cocoa_nib', 'coconut_amino', 'coconut_ice_cream', 'coconut_juice', 'coconut_liqueur', 'coconut_macaroon', 'coconut_milk_powder', 'coconut_pecan_frosting', 'coconut_sorbet', 'coconut_sugar_crystal', 'coconut_syrup', 'coconut_vinegar', 'coconut_water', 'coconut_yogurt', 'cod_steak', 'coffee_extract', 'coffee_mate', 'cola_drink', 'cola_flavored_carbonated_beverage', \"coleman's_dry_mustard\", 'coleslaw_dressing', 'colored_miniature_marshmallow', 'colored_sugar_sprinkle', 'comice_pear', 'compressed_yeast_cake', 'comte_cheese', 'conch', 'concord_grape', 'condensed_cream_of_broccoli_soup', 'condensed_cream_of_tomato_soup', 'condiment', 'cooked_chicken_breast_strip', 'cooked_corned_beef', 'cooked_grit', 'cooked_italian_sausage', 'cooked_long_grain_brown_rice', 'cooked_minute_rice', 'cooked_sausage', 'cooked_short_grain_rice', 'cooked_spiral_shaped_pasta', 'cookie_crumb', 'cookie_cutter', 'cookie_dough', 'cookie_mix', 'cooking_sauce', 'coriander_root', 'corn_beef_hash', 'corn_cob', 'corn_muffin', 'corn_oil_margarine', 'corn_tortilla_strip', 'cornmeal_mix', 'cornstarch_paste', 'corona_beer', 'cortland_apple', 'cos_lettuce', 'cotto_salami', 'country_biscuit', 'country_ham', 'country_sausage', 'country_style_sparerib', 'court_bouillon', 'crab_boil_seasoning', 'crab_claw', 'crab_claw_meat', 'crab_leg', 'crabapple', 'cracked_bulgur_wheat', 'cracker_barrel_sharp_cheddar_cheese', 'cranberry_apple_juice', 'cranberry_bean', 'cranberry_jell_o_gelatin', 'cranberry_jelly', 'cranberry_raspberry_juice', 'crawfish_tail_meat', 'crayfish', 'crayfish_tail', 'cream_cheese_with_garlic_and_herb', 'cream_of_chicken_and_mushroom_soup', 'cream_of_tomato_soup', 'cream_style_sweet_corn', 'creamed_horseradish', 'creamed_spinach', 'creamy_italian_dressing', 'crema', 'creme_anglaise', 'creme_de_cassis', 'creme_de_menthe', 'creme_de_menthe_baking_chip', 'crisp_chow_mein_noodle', 'crisp_salad_green', 'crispy_brown_rice_cereal', 'cross_rib_roast', 'crostini', 'crumb_topping', 'crumpet', 'crushed_plum_tomato', 'crushed_red_chile_flake', 'crystal_hot_sauce', 'cuban_bread', 'cucumber_juice', 'cucumber_salad_dressing', 'culantro', 'cupcake', 'cupcake_liner', 'curacao', 'curd_cheese', 'curing_salt', 'curly_endive_lettuce', 'currant_jelly', 'curry_sauce', 'cuttlefish', 'daikon_sprout', 'dairy_eggnog', 'dal', 'dandelion_flower', 'dandelion_green', 'dark_amber_maple_syrup', 'dark_baking_chocolate', 'dark_chicken_meat', 'dark_chocolate_bar', 'dark_chocolate_frosting', 'dark_chocolate_melt', 'dark_chocolate_shaving', 'dark_cooking_chocolate', 'dark_creme_de_cacao', 'dark_jamaican_rum', 'dark_karo_syrup', 'dark_mexican_beer', 'dark_miso', 'dark_roast_coffee', 'dark_rye_bread', 'dark_rye_flour', 'dark_semi_sweet_chocolate', 'dark_sweet_cherry', 'dark_turkey_meat', 'dashi', 'dashi_powder', 'dashida', 'decorating_gel', 'deep_frying_oil', 'deer', 'deli_chicken', 'delicata_squash', 'demi_glace', 'desiccated_unsweetened_coconut', 'dessert_apple', 'dessert_topping', 'deviled_ham', 'dhaniya_powder', 'diced_tomatoes_in_tomato_puree', 'diced_tomatoes_with_garlic_and_olive_oil', 'diced_tomatoes_with_green_pepper_and_onion', 'diet_ginger_ale', 'dijonnaise_mustard', 'dill_leaf', 'dill_pickle_spear', 'dip_mix', 'dipper', 'dipping_chocolate', 'dipping_sauce', 'dish_detergent', 'distilled_vinegar', 'double_crust', 'doughnut', 'dove', 'dragee', 'drambuie', 'dream_whip_topping_mix', 'dried_ancho_pepper', 'dried_anchovy', 'dried_apple_ring', 'dried_apricot_half', 'dried_arbol_chile', 'dried_baby_lima_bean', 'dried_black_fig', 'dried_black_fungus', 'dried_black_mushroom', 'dried_calimyrna_fig', 'dried_cayenne_pepper', 'dried_chervil', 'dried_chipotle_pepper', 'dried_cranberry_bean', 'dried_curry_leaf', 'dried_fava_bean', 'dried_fennel_seed', 'dried_funghi_porcini', 'dried_guajillo_chilies', 'dried_hibiscus_flower', 'dried_hijiki_seaweed', 'dried_hot_chili_pepper', 'dried_hot_red_chile', 'dried_hot_red_chilies', 'dried_kasha', 'dried_kelp', 'dried_kidney_bean', 'dried_large_lima_bean', 'dried_lavender_blossom', 'dried_lemongrass', 'dried_lily_bud', 'dried_lima_bean', 'dried_lime', 'dried_mission_fig', 'dried_morel', 'dried_pasilla_pepper', 'dried_pea', 'dried_pear_half', 'dried_pitted_prune', 'dried_plum', 'dried_rose_petal', 'dried_scallop', 'dried_sour_cherry', 'dried_soybean', 'dried_strawberry', 'dried_summer_savory', 'dried_thai_chile', 'dried_tomato', 'dried_whole_thyme', 'dried_wild_mushroom', 'dried_wood_ear_mushroom', 'drinking_chocolate', 'dry_bread_cube', 'dry_champagne', 'dry_chili_pepper', 'dry_cider', 'dry_curd_cottage_cheese', 'dry_enchilada_mix', 'dry_gin', 'dry_instant_coffee', 'dry_onion', 'dry_red_pepper', 'dry_rub_seasoning', 'dry_salami', 'dry_tapioca', 'dry_vegetable_soup_mix', 'dry_wine', 'duck_breast', 'duck_breast_half', 'duck_confit', 'duck_fat', 'duck_leg', 'duck_stock', 'duckling', 'dulce_de_leche_ice_cream', 'dumpling', 'dumpling_wrapper', 'duncan_hines_yellow_cake_mix', 'dungeness_crab', 'durkee_onion', 'durum_flour', 'earl_grey_tea', 'earth_balance_natural_buttery_spread', 'eau_de_vie', 'edible_glitter', 'edible_silver_foil', 'eel', 'egg_bread', 'egg_white_powder', 'elderberry', 'elderflower_liqueur', 'elephant_garlic_clove', 'endive', 'english_mustard_powder', 'english_seedless_cucumber', 'english_toffee_flavored_candy_bar', 'enoki_mushroom', 'enriched_flour', 'epazote_leaf', 'erythritol', 'escargot', 'espresso_granule', 'evaporated_2%_milk', 'evaporated_cane_juice', 'everclear_alcohol', 'extra_finely_granulated_sugar', 'extra_large_egg_white', 'extra_light_vegetable_oil_spread', 'extra_strong_coffee', 'eye_of_round_roast', 'fajita_size_flour_tortilla', 'family_size_tea_bag', 'fat_free_american_cheese', 'fat_free_chocolate_syrup', 'fat_free_lemon_yogurt', 'fat_free_liquid_egg_product', 'fat_free_low_sodium_beef_broth', 'fat_free_miracle_whip', 'fat_free_pound_cake', 'fat_free_ranch_dressing', 'fat_free_thousand_island_salad_dressing', 'fat_free_vegetable_broth', 'fennel_pollen', 'fennel_powder', 'fermented_black_bean', 'fiddlehead', 'fiddlehead_fern', 'field_green', 'field_mushroom', 'fig_jam', 'fig_preserve', 'filbert', 'fillet', 'fillets_of_sole', 'fine_cracker_crumb', 'fine_graham_cracker_crumb', 'fine_noodle', 'fine_semolina', 'fine_soft_bread_crumb', 'firm_butter', 'firm_ripe_peach', 'firm_white_fish', 'fish_bone', 'fish_bouillon_cube', 'fish_cake', 'fish_fumet', 'fish_head', 'fish_roe', 'flageolet_bean', 'flaked_sea_salt', 'flat_rice_noodle', 'flavor_enhancer', 'flavoring', 'fleur_de_sel', 'flounder', 'foie_gras', 'foil_liner', 'fondant', 'four_cheese_blend', 'four_cheese_pasta_sauce', 'framboise_eau_de_vie', 'framboise_liqueur', 'frank', 'free_range_chicken', \"french's_mustard\", 'french_bread_cube', 'french_bread_dough', 'french_haricots_vert', 'french_lentil', 'french_style_ladyfinger_cooky', 'french_vanilla_cake_mix', 'french_vanilla_pudding_mix', 'fresh_ahi_tuna', 'fresh_chestnut', 'fresh_chinese_noodle', 'fresh_crab', 'fresh_dill_leaf', 'fresh_edible_flower', 'fresh_lasagna_noodle', 'fresh_lima_bean', 'fresh_meyer_lemon_juice', 'fresh_pasta', 'fresh_pineapple_juice', 'fresh_portabella_mushroom', 'fresh_red_raspberry', 'fresh_rosemary_needle', 'fresh_sardine', 'fresh_sauerkraut', 'fresh_scallion', 'fresh_seaweed', 'fresh_sweet_basil_leaf', 'fresh_tarragon_sprig', 'fresh_tuna', 'fresh_turmeric', 'fresh_water', 'fresh_whole_wheat_bread_crumb', 'fresh_yeast_cake', 'fresno_chile_pepper', 'fried_chicken', 'fried_chinese_noodle', 'fried_corn_tortilla_strip', 'fried_rice', 'fried_tofu', 'frito_corn_chip', \"frog's_leg\", 'fromage_blanc', 'fromage_frais', 'frosted_flake', 'frozen_9_inch_deep_dish_pie_shell', 'frozen_artichoke', 'frozen_asparagus', 'frozen_broccoli_spear', 'frozen_butternut_squash', 'frozen_coconut', 'frozen_cooked_shrimp', 'frozen_crabmeat', 'frozen_creamed_spinach', 'frozen_cubed_hash_brown_potato', 'frozen_deep_dish_pie_shell', 'frozen_dough_roll', 'frozen_french_fry', 'frozen_hash_browns_with_onions_and_pepper', 'frozen_italian_cut_green_bean', 'frozen_lobster_tail', 'frozen_mango_chunk', 'frozen_non_dairy_topping', 'frozen_petits_poi', 'frozen_pineapple_chunk', 'frozen_pineapple_concentrate', 'frozen_pink_lemonade_concentrate', 'frozen_pizza_dough', 'frozen_puff_pastry_shell', 'frozen_sliced_carrot', 'frozen_sliced_strawberry', 'frozen_snow_pea', 'frozen_stew_vegetable', 'frozen_strawberries_in_syrup', 'frozen_sugar_snap_pea', 'frozen_sweetened_raspberry', 'frozen_tart_shell', 'frozen_unsweetened_blackberry', 'frozen_unsweetened_mixed_berry', 'frozen_unsweetened_raspberry', 'frozen_waffle', 'frozen_white_bread_dough', 'frozen_whole_strawberry', 'frozen_yogurt', 'fructose', 'fruit_filling', 'fruit_fresh', 'fruit_jam', 'fruit_jelly', 'fruit_juice_concentrate', 'fruit_leather', 'fruit_pectin', 'fruit_punch', 'fruit_puree', 'fruit_salad', 'fruit_slice', 'fruit_snack', 'fruit_spread', 'fruit_sugar', 'fruit_yogurt', 'frying_oil', 'fudge', 'fudge_sauce', 'fudge_striped_shortbread_cooky', 'full_bodied_red_wine', 'fuyu_persimmon', 'gai_lan', 'ganache', 'garlic_&_herb_spreadable_cheese', 'garlic_cheese_roll', 'garlic_head', 'garlic_infused_olive_oil', 'garlic_juice', 'garlic_mayonnaise', 'garlic_salt_with_parsley', 'garlic_sausage', 'garlic_seasoning', 'garnet_yam', 'gelatin_sheet', 'gelato', 'gem_lettuce', 'gemelli_pasta', 'german_chocolate', 'german_sweet_chocolate', 'ginger_beer', 'ginger_biscuit', 'ginger_in_syrup', 'ginger_liqueur', 'ginger_preserve', 'ginger_snap', 'ginger_syrup', 'gingerbread', 'ginkgo_nut', 'glace_de_viande', 'glace_ginger', 'glace_pineapple', 'glazed_doughnut', 'glitter', 'globe_eggplant', 'glue', 'gluten_free_bread', 'gluten_free_breadcrumb', 'gluten_free_chocolate_chip', 'glutinous_rice', 'glycerine', \"goat's_cheese\", \"goat's_milk\", 'goat_meat', 'gochujang', 'godiva_original_chocolate_liqueur', 'godiva_white_chocolate_liqueur', 'golden_beet', 'golden_caster_sugar', 'golden_grahams_cereal', 'goldschlager', 'goose', 'goose_fat', 'gooseberry', 'gourd', 'gourmet_salad_green', 'graham_cracker_crumb_crust', 'grain', 'grain_alcohol', 'grain_bread', 'grain_cereal', 'grains_of_paradise', 'gram_flour', 'grana_padano', 'granola_bar', 'granular_fructose', 'granulated_brown_sugar', 'granulated_maple_sugar', 'granulated_onion', 'granulated_yeast', 'grape_gelatin', 'grape_jam', 'grapefruit_peel', 'grapefruit_section', 'grapefruit_zest', 'grappa', 'grated_fresh_coconut', 'gravlax', 'gravy_mix', 'gray_salt', 'greek_dressing', 'greek_feta_cheese', 'greek_salad_dressing', 'green_banana', 'green_cabbage_head', 'green_cardamom_seed', 'green_cherry', 'green_chili_paste', 'green_chutney', 'green_coriander', 'green_giant_sliced_mushroom', 'green_ginger', 'green_glazed_cherry', 'green_gram', 'green_hot_pepper_sauce', 'green_jalapeno_pepper', 'green_mango', 'green_olives_in_brine', 'green_pepper_ring', 'green_pepper_strip', 'green_peppercorns_in_brine', 'green_plantain', 'green_salad', 'green_serrano_chilies', 'green_sprinkle', 'green_sugar_crystal', 'green_swiss_chard', 'green_taco_sauce', 'green_tomatillo_sauce', 'gremolata', 'grey_poupon', 'ground_ancho_chili_pepper', 'ground_annatto_seed', 'ground_caraway', 'ground_deer_meat', 'ground_dried_chile', 'ground_elk', 'ground_espresso', 'ground_habanero_chile_pepper', 'ground_mixed_spice', 'ground_nut', 'ground_oat', 'ground_pasilla_chile_powder', 'ground_pork_breakfast_sausage', 'ground_pork_butt', 'ground_roasted_cumin_seed', 'ground_savory', 'ground_szechuan_peppercorn', 'grouper', 'guajillo_chilies', 'guava_nectar', 'guava_paste', 'guinness_draught', 'gumbo_file', 'gummy_worm', 'gyoza_skin', 'habanero_sauce', 'hake', 'hake_fillet', 'halloween_oreo_cooky', 'ham_shank', 'ham_slice', 'ham_soup_base', 'hamburger_bun_with_sesame_seed', 'hanger_steak', 'hard_alcoholic_cider', 'hard_apple_cider', 'hard_boiled_egg_yolk', 'hard_candy', 'hard_cheese', 'hard_shelled_clam', 'haricot_bean', 'hatch_chile', 'hawaiian_bread', 'hawaiian_roll', 'hawaiian_sea_salt', 'hazelnut_butter', 'hazelnut_extract', 'hazelnut_meal', 'hazelnut_oil', 'hazelnut_syrup', 'head_of_broccoli', 'head_of_lettuce', 'heads_cauliflower', 'heavy_syrup', 'heinz_apple_cider_vinegar', 'hemp_milk', 'hen', 'herb_cheese_spread', 'herb_seasoned_salt', 'herb_seasoned_stuffing_cube', 'herb_seasoning_mix', 'herb_with_garlic_soup_mix', 'herbal_tea_bag', 'herbsaint', 'herring_fillet', \"hershey's_hugs_chocolate\", \"hershey's_semi_sweet_chocolate_chip\", \"hershey's_syrup\", 'hersheys_cocoa_powder', 'hibiscus_tea_bag', 'hickory_chip', 'hickory_flavored_barbecue_sauce', 'hickory_smoke_salt', 'hidden_valley_original_ranch_dips_mix', 'hidden_valley_original_ranch_dressing', 'hidden_valley_original_ranch_dressing_and_seasoning_mix', 'hidden_valley_original_ranch_dressing_mix', 'hidden_valley_original_ranch_seasoning_mix', 'hijiki_seaweed', 'hog_casing', 'hollandaise_sauce', 'hollandaise_sauce_mix', 'homemade_beef_stock', 'homemade_mayonnaise', 'hominy_grit', 'honey_baked_ham', 'honey_bunches_of_oats_cereal', 'honey_butter', 'honey_dijon_salad_dressing', 'honey_roasted_almond', 'honey_syrup', 'honeydew_ball', 'hop', 'hormel_chili', 'hormel_chili_without_bean', 'horseradish_mustard', 'horseradish_root', 'hostess_twinkie', 'hot_chili_bean', 'hot_chili_flake', 'hot_chinese_chili_paste', 'hot_cocoa', 'hot_cocoa_mix', 'hot_english_mustard', 'hot_fudge_topping', 'hot_green_pepper', 'hot_pepper_oil', 'hot_pepper_paste', 'hot_roll_mix', 'hot_smoked_paprika', 'hp_steak_sauce', 'hubbard_squash', 'huckleberry', 'hunts_tomato_paste', 'hydrogen_peroxide', 'ice_cream_cone', 'ice_cream_sandwich', 'ice_cream_topping', 'iced_tea', 'idaho_baking_potato', 'imitation_coconut_extract', 'imitation_crab_stick', 'imitation_maple_flavor', 'imported_white_chocolate', 'instant_cappuccino_mix', 'instant_chicken_broth', 'instant_dashi_stock', 'instant_decaffeinated_coffee', 'instant_dry_milk_powder', 'instant_oat', 'instant_onion', 'instant_oxo', 'instant_plain_oatmeal', 'instant_polenta', 'instant_tea', 'instant_white_chocolate_pudding_and_pie_filling_mix', 'iodized_salt', 'irish_moss', 'irish_potato', 'italian_cheese', 'italian_chicken_sausage', 'italian_cut_green_bean', 'italian_pepper', 'italian_plum', 'italian_pork_sausage', 'italian_sauce', 'italian_style_crushed_tomato', 'italian_style_tomato_paste', 'italian_style_tomato_sauce', 'italian_tomato_paste', 'italian_vegetable', 'italian_vinaigrette_dressing', 'jackfruit', 'jalapeno_pepper_cheese', 'jalapeno_powder', 'jalapeno_sauce', 'jamaican_rum', 'japanese_cucumber', 'japanese_mayonnaise', 'jasmine_tea', 'jell_o_chocolate_instant_pudding', 'jell_o_chocolate_pudding_and_pie_filling', 'jell_o_pudding_mix', 'jelly_powder', 'jerusalem_artichoke', 'jiffy_baking_mix', 'jonagold_apple', 'jonathan_apple', 'jumbo_egg', 'jumbo_lump_crab_meat', 'kamaboko', 'kamut_flour', 'kashmiri_chili_powder', 'kasuri_methi', 'katakuriko', 'kefalotiri', 'kefalotyri', \"kellogg's_all_bran_cereal\", 'kelp', 'kelp_powder', 'kewra_essence', 'key_lime', 'key_lime_zest', 'khoya', 'kikkoman_soy_sauce', 'kim_chee', 'king_crab_leg', 'king_crab_meat', 'king_oyster_mushroom', 'kingfish', 'kirsch_liqueur', 'kirschwasser', 'kitchen_twine', 'kix_cereal', 'kluski_noodle', 'knockwurst', 'knorr_chicken_bouillon', 'knudsen_sour_cream', 'kombu', 'kombu_seaweed', 'konbu', 'konnyaku', 'kool_aid', 'korean_red_pepper_paste', 'korean_red_pepper_powder', 'koshi_an', 'kraft_mayonnaise', 'kraft_mexican_style_finely_shredded_four_cheese', 'kraft_mexican_style_shredded_four_cheese_with_a_touch_of_philadelphia', 'kraft_natural_blue_cheese_crumbles', 'kraft_old_english_cheese_spread', 'kraft_shredded_mild_cheddar_cheese', 'kraft_shredded_monterey_jack_cheese', 'kraft_shredded_mozzarella_cheese_with_a_touch_of_philadelphia', 'kraft_shredded_three_cheese_with_a_touch_of_philadelphia', 'kraft_shredded_triple_cheddar_cheese_with_a_touch_of_philadelphia', 'kudzu', 'kumara', 'lactose_free_milk', 'lamb_bone', 'lamb_breast', 'lamb_cutlet', 'lamb_fillet', 'lamb_liver', 'lamb_neck', 'lamb_rack', 'lamb_rib', 'lamb_rib_chop', 'lamb_sausage', 'lamb_steak', 'lamb_stew_meat', 'lamb_stock', 'lambs_kidney', 'large_marshmallow', 'large_scallop', 'laurel_leaf', 'lavash_bread', 'lavender_bud', 'lavender_honey', 'lavender_leaf', 'le_seuer_pea', 'leaf_thyme', 'leafy_green', 'lean_beef_chuck', 'lean_boneless_lamb', 'lean_boneless_pork', 'lean_boneless_pork_loin', 'lean_chuck', 'lean_flank_steak', 'lean_ground_veal', 'lean_meat', 'lean_salt_pork', 'lean_steak', 'lean_stew_meat', 'lean_veal', 'lecithin_granule', 'lemon,_juice_and_zest_of', 'lemon,_juice_of', 'lemon,_rind_of', 'lemon,_zest_of', 'lemon_balm', 'lemon_balm_leaf', 'lemon_basil', 'lemon_butter', 'lemon_essence', 'lemon_flavor_instant_pudding_and_pie_filling', 'lemon_flavored_vodka', 'lemon_jelly_powder', 'lemon_leaf', 'lemon_low_fat_yogurt', 'lemon_oil', 'lemon_peel_strip', 'lemon_pudding_mix', 'lemon_sherbet', 'lemon_sorbet', 'lemon_syrup', 'lemon_thyme_leaf', 'lemon_verbena', 'lemon_verbena_leaf', 'lemon_vinaigrette', 'lemonade_mix', 'lemongrass_paste', 'lemons,_juice_and_zest_of', 'lemons,_juice_of', 'lemons,_rind_of', 'lemons,_zest_of', 'lettuce_cup', 'lettuce_green', 'licor_43', 'licorice', 'licorice_twist', 'light_balsamic_vinaigrette_salad_dressing', 'light_bread', 'light_caesar_salad_dressing', 'light_cheese', 'light_cherry_pie_filling', 'light_chocolate_syrup', 'light_italian_dressing', 'light_maple_syrup', 'light_miso', 'light_muscovado_sugar', 'light_oil', 'light_processed_cheese', 'light_raisin', 'light_ranch_salad_dressing', 'light_rye_bread', 'light_syrup', 'light_vanilla_ice_cream', 'light_vanilla_soymilk', 'light_vanilla_yogurt', 'lightly_salted_butter', 'lightly_sweetened_whipped_cream', 'lillet_blanc', 'lime,_juice_of', 'lime,_zest_of', 'lime_cordial', 'lime_curd', 'lime_sherbet', 'lime_twist', 'limeade', 'limes,_juice_and_zest_of', 'limes,_juice_of', 'limes,_zest_of', 'lingonberry', 'lipton_recipe_secrets_onion_soup_mix', 'liquid_coffee_creamer', 'liquid_dish_soap', 'liquid_glucose', 'liquid_gravy_browner', 'liquid_lecithin', 'liquid_low_calorie_sweetener', 'liquid_soap', 'liquid_stevia', 'liquor', 'live_blue_crab', 'live_lobster', 'liver', 'liver_pate', 'liver_sausage', 'liverwurst', 'lo_mein_noodle', 'lobster_base', 'lobster_stock', 'lobster_tail_meat', 'locatelli_cheese', 'loin_lamb', 'loin_veal_chop', 'lollipop', 'lollipop_stick', 'long_bean', 'loose_tea', 'lotus_seed', 'lovage', 'low_calorie_bread', 'low_calorie_catalina_salad_dressing', 'low_carb_flour_tortilla', 'low_carb_ketchup', 'low_fat_alfredo_sauce', 'low_fat_coconut_milk', 'low_fat_condensed_cream_of_chicken_soup', 'low_fat_flour_tortilla', 'low_fat_frozen_yogurt', 'low_fat_graham_cracker', 'low_fat_granola', 'low_fat_italian_salad_dressing', 'low_fat_marinara_sauce', 'low_fat_ricotta', 'low_fat_small_curd_cottage_cheese', 'low_fat_strawberry_yogurt', 'low_fat_vanilla_frozen_yogurt', 'low_fat_vanilla_ice_cream', 'low_fat_whipping_cream', 'low_moisture_part_skim_mozzarella_cheese', 'low_sodium_beef_bouillon_granule', 'low_sodium_black_bean', 'low_sodium_chickpea', 'low_sodium_cream_of_mushroom_soup', 'low_sodium_kidney_bean', 'low_sodium_taco_seasoning', 'low_sodium_tomato_juice', 'low_sodium_tomato_paste', 'lowfat_margarine', 'lowfat_parmesan_cheese', 'lox', \"m_&_m's_peanut_chocolate_candy\", 'maca', 'macadamia', 'macadamia_nut_oil', 'macaroon', 'mace_blade', 'mache', 'mackerel', 'mackerel_fillet', 'maggi_seasoning_sauce', 'maida_flour', 'maitake_mushroom', 'malt_drink_powder', 'malt_extract', 'malt_syrup', 'maltesers', 'mandarin_orange_juice', 'mange_touts_pea', 'mango_salsa', 'mango_sorbet', 'manila_clam', 'manwich_sloppy_joe_mix', 'manzanilla_olive', 'maple_bacon', 'maple_sausage', 'maraschino_juice', 'marbled_rye_bread', 'marie_biscuit', 'marinated_mushroom', 'marjoram_leaf', 'marmite', 'marrow', 'mars_bar', 'masoor_dal', 'matcha_green_tea_powder', 'mature_cheddar_cheese', 'matzo_cake_meal', 'matzo_cracker', 'matzoh', 'maytag_blue_cheese', 'meal', 'meat_broth', 'meat_dripping', 'meat_seasoning', 'meatloaf', 'meatloaf_mixture', 'meatloaf_seasoning_mix', 'medium_grain_white_rice', 'medium_rye_flour', 'medium_sherry', 'medium_sized_shrimp', 'melon_ball', 'melon_liqueur', 'meringue', 'meringue_nest', 'mesquite_powder', 'mesquite_wood_chip', 'methi_leaf', 'methi_seed', 'mexican_beer', 'mexican_cornbread_mix', 'mexican_hot_sauce', 'mexican_style_diced_tomato', 'mexican_tomato_sauce', \"meyer's_dark_rum\", 'meyer_lemon', 'meyer_lemon_zest', 'mezcal', 'mild_cheese', 'mild_chile', 'mild_enchilada_sauce', 'milk_chocolate_frosting', 'milk_chocolate_melt', 'milky_way_bar', 'milo', 'minced_clams_with_juice', 'minced_meat', 'miniature_bagel', 'miniature_candy_cane', 'miniature_graham_cracker_pie_crust', 'miniature_phyllo_cup', 'mint_chip', 'mint_chocolate_chip_ice_cream', 'mint_jelly', 'mint_sauce', 'minute_steak', 'miracle_whip_calorie_wise', 'mirepoix', 'mirlitons', 'mitsuba', 'mixed_candied_peel', 'mixed_peel', 'mixed_peppercorn', 'mixed_seed', 'mizuna', 'mochi_rice', 'mochiko_sweet_rice_flour', 'mole', 'monkfish_fillet', 'montrachet', 'montreal_chicken_seasoning', 'morel', 'moroccan_seasoning', 'mortadella', 'morton_lite_salt', 'mountain_dew_soda', 'mrs._dash_table_blend_seasoning', 'muesli', 'muffin', 'mulberry', 'multi_grain_bread', 'multi_grain_flour', 'mung_bean_noodle', 'muscat_wine', 'muscovado_sugar', 'mushroom_broth', 'mushroom_gravy', 'mushroom_gravy_mix', 'mushroom_soup_mix', 'mushroom_soy_sauce', 'mushroom_stock', 'mustard_paste', 'mustard_vinaigrette', 'mutton', 'nabisco_triscuits', 'nacho_cheese', 'nacho_cheese_flavor_doritos', 'nan', 'napa_cabbage_leaf', 'natural_cane_sugar', 'nestle_sweetened_condensed_milk', 'nestle_toll_house_baking_cocoa', 'nestle_toll_house_premier_white_morsel', 'new_mexico_pepper', 'no_bean_chili', 'no_salt_added_beef_broth', 'no_salt_added_black_bean', 'no_salt_added_chicken_broth', 'no_salt_added_chicken_stock', 'no_salt_added_corn', 'no_salt_added_kidney_bean', 'no_salt_added_whole_tomato', 'no_sugar_added_applesauce', 'no_sugar_added_peanut_butter', 'no_yolk_noodle', 'non_alcoholic_beer', 'non_dairy_chocolate_chip', 'non_dairy_milk_substitute', 'non_fat_strawberry_yogurt', 'non_hydrogenated_margarine', 'non_iodized_salt', 'nonpareil', 'nopales', 'nut_butter', 'nut_oil', 'oatmeal_cookie_mix', 'oatmeal_cooky', 'oaxaca_cheese', 'octopus', 'oil_and_vinegar_dressing', 'okara', 'okonomiyaki_sauce', 'old_english_cheese', 'olive_juice', 'olive_oil_mayonnaise', 'olive_salad', 'onion_and_mushroom_soup_mix', 'onion_hamburger_bun', 'onion_marmalade', 'onion_paste', 'onion_seed', 'onion_top', 'opal_basil', 'orange,_juice_and_zest_of', 'orange,_juice_of', 'orange,_rind_of', 'orange,_zest_of', 'orange_bitter', 'orange_blossom_honey', 'orange_curacao', 'orange_drink_mix', 'orange_flavored_yogurt', 'orange_flavoring', 'orange_lentil', 'orange_oil', 'orange_pekoe_tea_bag', 'orange_pepper', 'orange_rind_twist', 'orange_roughy', 'orange_sauce', 'orange_slice_candy', 'orange_strip', 'orange_sweet_bell_pepper', 'orange_twist', 'orange_wedge', 'oranges,_juice_of', 'oranges,_zest_of', 'oregano_flake', 'oregano_sprig', 'oreo_cookie_pie_crust', 'organic_whole_wheat_flour', 'orgeat_syrup', 'original_ranch_dressing_mix', 'oscar_mayer_center_cut_bacon', 'oscar_mayer_smoked_ham', 'other_pasta', 'other_sweet_onion', 'ovaltine', 'oven_cooking_bag', 'oven_roasted_turkey_breast', 'oxo_beef_cube', 'oyster_liquor', 'pak_choi', 'pale_ale', 'palm_oil', 'pan_juice', 'panang_curry_paste', 'pancake', 'pancake_batter', 'panch_phoron', 'pandan_leaf', 'panela_cheese', 'panettone', 'papaya_nectar', 'paper', 'pappadams', 'paraffin_wax_block', 'parkay_margarine', 'parmesan_rind', 'parmigiano', 'parsley_root', 'parsley_stem', 'pasilla_chile', 'passion_fruit', 'passion_fruit_juice', 'passion_fruit_nectar', 'passion_fruit_pulp', 'passion_fruit_puree', 'pasta_dough', 'pasta_sauce_with_mushroom', 'pastina', 'pastis', 'pastry_cream', 'pate', 'pate_brisee', 'patis', 'patty_shell', 'pawpaw', 'pea_shoot', 'pea_tendril', 'peach_chutney', 'peach_gelatin', 'peach_ice_cream', 'peach_jell_o', 'peach_liqueur', 'peach_puree', 'peach_slices_in_heavy_syrup', 'peach_syrup', 'peaches_in_heavy_syrup', 'peaches_in_juice', 'peanut_brittle', 'peanut_butter_and_milk_chocolate_chip', 'peanut_butter_cookie_dough', 'peanut_butter_cookie_mix', 'peanut_butter_cooky', 'peanut_butter_cup', 'peanut_butter_sandwich_cooky', 'peanut_flour', 'pear_brandy', 'pear_half', 'pear_juice', 'pear_liqueur', 'pear_nectar', 'pear_vodka', 'pears_in_heavy_syrup', 'peas_and_pearl_onion', 'peasant_bread', 'pecan_meal', 'pecan_shortbread_cooky', 'peking_duck', 'pen', 'peppadew_pepper', 'pepper_bacon', 'pepper_vinegar', 'peppercorn_ranch_dressing', 'pepperidge_farm_herb_stuffing', 'pepperidge_farm_stuffing', 'peppermint', 'peppermint_ice_cream', 'peppermint_patty', 'peppermint_schnapps', 'peppermint_stick_candy', 'perch', 'perch_fillet', 'perciatelli', 'peri_peri', 'persian_cucumber', 'persimmon', 'pet_milk', 'pheasant', 'pheasant_breast', 'philadelphia_chive_&_onion_cream_cheese_spread', 'philadelphia_savory_garlic_cooking_creme', 'picante_salsa', 'pickle_spear', 'pickled_beet', 'pickled_cucumber', 'pickled_daikon', 'pickled_hot_cherry_pepper', 'pickled_jalapeno_chilies', 'pickled_okra', 'pickled_onion', 'pickled_pepper', 'pickled_red_onion', 'pickled_vegetable', 'pickling_lime', 'pickling_onion', 'pie_apple', 'pie_cherry', 'pie_crust_mix', 'pie_dough', 'pie_plate', 'pig', \"pig's_foot\", 'pigeon', 'pignoli_nut', 'pignolis', 'pigs_tail', 'pike', 'pillsbury_ready_made_pie_dough', 'pillsbury_refrigerated_biscuit', 'pillsbury_refrigerated_classic_pizza_crust', 'pillsbury_refrigerated_crusty_french_loaf', 'pillsbury_sugar_cookie_dough', 'piloncillo', 'pilsner_beer', 'pimento_cheese', 'pimiento_strip', 'pimms', 'pineapple_extract', 'pineapple_in_juice', 'pineapple_jam', 'pineapple_jell_o', 'pineapple_orange_banana_juice', 'pineapple_orange_juice', 'pineapple_rum', 'pineapple_sherbet', 'pineapple_syrup', 'pineapple_yogurt', 'pink_food_coloring', 'pink_grapefruit_juice', 'pink_lemonade', 'pinot_grigio_wine', 'pippin_apple', 'piquillo_pepper', 'piri_piri', 'pirouette_cooky', 'pisco', 'pistachio_ice_cream', 'pistachio_oil', 'pistachio_paste', 'pistachio_pudding_mix', 'pita_chip', 'pizza_crust_mix', 'plain_cornmeal', 'plain_gelatin', 'plain_sweet_biscuit', 'plain_sweet_biscuit_crumb', 'plantain_chip', 'planters_pecan', 'planters_sliced_almond', 'planters_walnut', 'plastic_cup', 'plum_baby_food', 'plum_brandy', 'plum_preserve', 'plum_tomatoes_in_puree', 'plum_wine', 'pluots', 'pocketless_pita', 'polish_kielbasa', 'polly_o_natural_part_skim_ricotta_cheese', 'pomegranate_aril', 'pomegranate_liqueur', 'pomegranate_syrup', 'pomelo_fruit', 'pommery_mustard', 'ponzu_sauce', 'popped_corn', 'poppy_seed_dressing', 'poppy_seed_filling', 'poppy_seed_salad_dressing', 'porcini_mushroom', 'pork_&_bean', 'pork_and_beans_in_tomato_sauce', 'pork_belly', 'pork_blade_steak', 'pork_bone', 'pork_broth', 'pork_fatback', 'pork_gravy', 'pork_hock', 'pork_leg', 'pork_liver', 'pork_mince', 'pork_neck_bone', 'pork_rib_chop', 'pork_rib_rack', 'pork_sausage_casing', 'pork_shank', 'pork_shoulder_butt', 'pork_shoulder_chop', 'pork_spare_rib_rack', 'pork_stew_meat', 'pork_stock', 'pork_stuffing_mix', 'porter', 'portuguese_roll', 'posole', 'post_grape_nuts_cereal', 'pot_barley', 'potato_bread', 'potato_bun', 'potato_salad', 'potato_stick', 'potato_water', 'poultry', 'pound_cake', 'poundcake_mix', 'powdered_cocoa_mix', 'powdered_egg_white', 'powdered_instant_coffee', 'powdered_peanut_butter', 'powdered_sugar_icing', 'powdered_thyme', 'praline', 'praline_liqueur', 'praline_paste', 'prego_spaghetti_sauce', 'premade_puff_pastry', 'premium_white_baking_chocolate', 'prepared_brown_mustard', 'prepared_custard', 'prepared_hot_mustard', 'prepared_instant_mashed_potato', 'prepared_macaroni_and_cheese', 'prepared_mayonnaise', 'prepared_pizza_sauce', 'preserved_black_bean', 'preserved_gingerroot', 'pretzel_crumb', 'pretzel_rod', 'pretzel_roll', 'prickly_pear', 'prime_rib_roast', 'processed_cheese_food', 'processed_cheese_spread', 'processed_swiss_cheese', 'prosciutto_di_parma', 'prosecco', 'prune_juice', 'prune_puree', 'psyllium', 'psyllium_husk', 'pudding', 'pudding_mix', 'pudding_rice', 'puff_pastry_shell', 'puffed_wheat_cereal', 'pumpernickel_cocktail_bread', 'pumpkin_butter', 'pumpkin_flesh', 'pumpkin_pie', 'pumpkin_pie_mix', 'pumpkin_seed_oil', 'pumpkin_spice', 'pureed_chipotle_chile', 'purple_plum', 'purple_potato', 'purslane', 'quahog', 'quail', 'quail_egg', 'quark', 'quatre_epices', 'queso_blanco', 'quick_cooking_couscous', 'quick_cooking_polenta', 'quick_cooking_rice', 'quick_rising_yeast', 'quince', 'rack_of_lamb', 'racks_of_lamb', 'radiatore', 'radish_sprout', 'ragu_pizza_sauce', 'ragu_tomato_sauce', 'raita', 'ramp', 'ranch_dip', 'rapeseed_oil', 'rapini', 'raspberry_coulis', 'raspberry_extract', 'raspberry_jelly', 'raspberry_juice', 'raspberry_pie_filling', 'raspberry_puree', 'raspberry_sauce', 'raspberry_schnapps', 'raspberry_sherbet', 'raspberry_sorbet', 'raspberry_vodka', 'raspberry_yogurt', 'raw_beet', 'raw_brown_sugar', 'raw_cacao_powder', 'raw_cauliflower', 'raw_chicken', 'raw_egg_yolk', 'raw_wild_rice', 'razor_clam', 'ready_to_serve_beef_broth', 'ready_to_use_baked_pizza_crust', 'realemon_juice', 'recipe_cream_filling', 'recipe_pizza_dough', 'red_bean_paste', 'red_beet', 'red_bliss_potato', 'red_bull_energy_drink', 'red_caviar', 'red_cherry', 'red_chile', 'red_chili_sauce', 'red_date', 'red_decorating_gel', 'red_food_coloring_paste', 'red_fresno_chile', 'red_hot_candy', 'red_hot_pepper', 'red_hot_pepper_sauce', 'red_jell_o', 'red_leicester_cheese', 'red_licorice', 'red_pasta_sauce', 'red_pear', 'red_pear_tomato', 'red_pearl_onion', 'red_raspberry_preserve', 'red_rice', 'red_ripe_tomato', 'red_shallot', 'red_sugar_crystal', 'red_swiss_chard', 'red_table_wine', 'red_velvet_cake_mix', 'red_wine_vinaigrette', 'reduced_calorie_whipped_topping', 'reduced_fat_baking_mix', 'reduced_fat_butter', 'reduced_fat_buttermilk', 'reduced_fat_cream_of_mushroom_soup', 'reduced_fat_creamy_peanut_butter', 'reduced_fat_firm_tofu', 'reduced_fat_italian_salad_dressing', 'reduced_fat_oreo_cooky', 'reduced_fat_reduced_sodium_condensed_cream_of_chicken_soup', 'reduced_fat_reduced_sodium_condensed_cream_of_mushroom_soup', 'reduced_fat_ricotta_cheese', 'reduced_fat_thousand_island_dressing', 'reduced_fat_vanilla_wafer', 'reduced_fat_whipped_topping', 'reduced_sodium_cream_of_chicken_soup', 'reduced_sodium_fat_free_beef_broth', 'reduced_sodium_taco_seasoning_mix', 'reduced_sodium_tomato_sauce', 'refined_flour', 'refried_black_bean', 'refrigerated_cheese_tortellini', 'refrigerated_pie_dough', 'regular_margarine', 'remoulade_sauce', 'rennet', 'reserved_juice', 'rhodes_frozen_roll', 'rib', 'rib_eye', 'rib_roast', 'rib_veal_chop', 'rice_a_roni', 'rice_bran_oil', 'rice_cake', 'rice_cracker', 'rice_powder', 'rice_syrup', 'rich_turkey_stock', 'ricotta_salata', 'ro_tel_diced_tomatoes_with_pepper', 'roast_pork', 'roasted_cashew_nut', 'roasted_chestnut', 'roasted_deli_chicken', 'roasted_green_chilies', 'roasted_pecan', 'roasted_potato', 'roasted_sesame_seed', 'roasted_soybean', 'roasted_tomato_salsa', 'roasted_turkey', 'roasted_walnut', 'roasting_bag', 'robin_hood_nutri_flour_blend', 'robiola_cheese', 'rock_cornish_game_hen', 'rock_cornish_hen', 'rock_shrimp', 'rock_sugar', 'rockfish_fillet', 'roll_of_pork_sausage', 'rolled_barley', 'rolled_oatmeal', 'rolling_pin', 'rom', 'rome_apple', 'romesco_sauce', 'root_beer_concentrate', 'root_beer_extract', 'root_vegetable', 'rose', \"rose's_lime_juice\", 'rose_essence', 'rose_scented_geranium_leaf', 'rose_syrup', 'rose_wine', 'rosemary_oil', 'round_loaf_italian_bread', 'round_rice_paper_sheet', 'roux', 'royal_icing', 'rubbing_alcohol', 'ruby_red_grapefruit_juice', 'rum_flavoring', 'runner_bean', 'russet_baking_potato', 'rye_breadcrumb', 'rye_cracker', 'rye_flake', 'rye_meal', 'sage_sausage', 'sage_sprig', 'sago', 'salad_dressing_mix', 'salad_macaroni', 'salad_potato', 'salad_seasoning', 'salad_supreme_dry_seasoning', 'salmon_caviar', 'salmon_roe', 'salsa_con_queso', 'salsa_fresca', 'salsify', 'salt_cod_fish', 'salt_free_garlic_and_herb_seasoning', 'salt_free_tomato_sauce', 'salt_packed_anchovy_fillet', 'salted_almond', 'salted_anchovy', 'salted_macadamia_nut', 'salted_mixed_nut', 'salted_nut', 'salted_salmon', 'saltpeter', 'sambal_chili_paste', 'sambal_oelek_chili_paste', 'sambhar_powder', 'sansho', 'sansho_pepper', 'sardine', 'sardines_in_oil', 'sashimi_grade_tuna', 'saskatoon_berry', 'satay_sauce', 'sausage_patty', 'sauterne', 'sauterne_white_wine', 'sauternes_wine', 'sauvignon_blanc_wine', 'sazon_goya_con_culantro_y_achiote', 'sazon_goya_seasoning', 'scampi', 'schmaltz', 'schnapps', 'scone', 'scotch', 'scrod_fish', 'sea_bream', 'seafood_sauce', 'seafood_stock', 'seasoned_rice_wine_vinegar', 'seed_oil', 'seedless_blackberry_jam', 'seedless_red_raspberry_jam', 'seedless_strawberry_jam', 'self_rising_cake_flour', 'self_rising_cornmeal_mix', 'semisweet_chocolate_chip', 'serranos', 'sesame', 'sesame_breadstick', 'sesame_ginger_salad_dressing', 'sesame_salt', 'sesame_seed_paste', 'sev', 'seven_grain_cereal', 'seville_orange', 'sevruga_caviar', 'shad', 'shark_steak', 'shea_butter', 'shell_noodle', 'shell_steak', 'shelled_pea', 'shichimi_togarashi', 'shimeji_mushroom', 'shin_beef', 'shiraz_wine', 'shiro_miso', 'shiso', 'shiso_leaf', 'shoe_peg_corn', 'shoestring_potato', 'short_grain_white_rice', 'shortbread', 'shortbread_cookie_crumb', 'shortbread_pie_crust', 'shortcake', 'shortcut_bacon', 'shredded_wheat_biscuit', 'shreddies_cereal', 'shrimp_sauce', 'shrimp_shell', 'shrimp_stock', 'sicilian_olive', 'silver_beet', 'simply_potatoes_shredded_hash_brown', 'sirloin_beef', 'skate', 'skim_milk_ricotta_cheese', 'skinless_halibut_fillet', 'skinless_salmon_fillet', 'skor_candy_bar', 'sliced_peaches_in_juice', 'sloe_gin', 'sloppy_joe_sandwich_sauce', 'sloppy_joe_seasoning_mix', 'small_clam', 'small_macaroni_noodle', 'small_marshmallow', 'small_scallop', 'small_squid', 'small_white_potato', 'smarties_candy', 'smelt', 'smithfield_ham', 'smoked_almond', 'smoked_back_bacon', 'smoked_beef_sausage', 'smoked_chicken', 'smoked_chicken_breast', 'smoked_fish_fillet', 'smoked_haddock', 'smoked_link_sausage', 'smoked_mackerel', 'smoked_meat', 'smoked_oyster', 'smoked_pork_hock', 'smoked_pork_sausage', 'smoked_provolone_cheese', 'smoked_streaky_bacon', 'smoked_tofu', 'smoked_trout', 'smoked_trout_fillet', 'smoked_turkey_leg', 'smoked_whitefish', 'snail', 'snickers_miniature_candy_bar', 'snow', 'snow_crab_leg', 'snow_pea_sprout', 'sockeye_salmon', 'soda_cracker_crumb', 'soft_cheese', 'soft_shelled_crab', 'soppressata', 'sopressata', 'sorbet', 'sorghum_molasses', 'sorrel', 'soup_bone', 'soup_stock', 'sour_apple', 'sour_apple_liqueur', 'sour_apple_schnapps', 'sour_cherry', 'sour_dill_pickle', 'sour_orange_juice', 'sour_pitted_cherry', 'sourdough_baguette', 'sourdough_bread_cube', 'sourdough_breadcrumb', 'sourdough_roll', 'southern_comfort', 'southern_style_hash_brown', 'soy_cheddar_cheese', 'soy_cheese', 'soy_chorizo', 'soy_coffee_creamer', 'soy_cream_cheese', 'soy_mayonnaise', 'soy_mozzarella_cheese', 'soy_oil', 'soy_protein_powder', 'soya_flour', 'soybean_paste', 'soymilk_powder', 'spaghetti_sauce_with_meat', 'spanish_chorizo', 'spanish_olive_oil', 'spanish_olives_with_pimento', 'spanish_rice', 'spanish_rice_mix', 'sparkling_apple_cider', 'sparkling_white_wine', 'spearmint', 'speck', 'spicy_bulk_sausage', 'spicy_tomato_sauce', 'spicy_vegetable_juice', 'spike_seasoning', 'spinach_pasta', 'spinach_souffle', 'spinach_tortellini', 'spinach_tortilla', 'spirulina', 'sponge_cake_finger', 'spray_bottle', 'spreadable_cheese_with_garlic_and_herb', 'spring_cabbage', 'spring_roll', 'squab', 'squash_blossom', 'squash_puree', 'squid_ink', 'squid_ring', 'squirrel', 'st._germain_elderflower_liqueur', 'standing_rib_roast', 'star_anise_pod', 'star_fruit', 'starch', 'steak_spice', 'steak_ums', 'steamer_clam', 'stevia_truvia', 'stewing_chicken', 'stewing_veal', 'sticky_rice', 'stir_fry_beef', 'stock_cube', 'stone_ground_dijon_mustard', 'stone_ground_white_cornmeal', 'stone_ground_whole_wheat_flour', 'stone_ground_yellow_cornmeal', 'strawberry_all_fruit_spread', 'strawberry_cream_cheese', 'strawberry_extract', 'strawberry_glaze', 'strawberry_ice_cream_topping', 'strawberry_jelly', 'strawberry_juice', 'strawberry_liqueur', 'strawberry_pie_filling', 'strawberry_puree', 'strawberry_sauce', 'strawberry_slice', 'strawberry_soda', 'strawberry_sorbet', 'strawberry_vodka', 'string', 'strip_steak', 'striped_bass', 'strong_black_tea', 'strong_white_flour', 'stuffing_cube', 'sturgeon_fillet', 'submarine_roll', 'suckling_pig', 'sugar_cane', 'sugar_cooky', 'sugar_crystal', 'sugar_cube', 'sugar_free_chocolate_syrup', 'sugar_free_cool_whip', 'sugar_free_fat_free_instant_pudding_mix', 'sugar_free_instant_pudding_mix', 'sugar_free_non_fat_vanilla_yogurt', 'sugar_free_orange_gelatin', 'sugar_free_shortbread_cooky', 'sugar_free_vanilla_ice_cream', 'sugar_free_vanilla_pudding', 'sugar_free_vanilla_pudding_mix', 'sugar_free_whipped_topping', 'sugar_ice_cream_cone', 'sugar_pumpkin', 'sugar_twin', 'sumac', 'summer_sausage', 'summer_savory', 'sun_dried_tomato_dressing', 'sun_dried_tomato_packed_in_oil', 'sunflower_seed_butter', 'sunflower_sprout', 'sure_jell', 'swanson_chicken_broth', 'sweet_apple_cider', 'sweet_bean_paste', 'sweet_chocolate', 'sweet_corn_relish', 'sweet_cream', 'sweet_creamy_butter', 'sweet_dessert_wine', 'sweet_hot_mustard', 'sweet_marjoram', 'sweet_milk', 'sweet_red_cherry_pepper', 'sweet_red_wine', 'sweet_rice', 'sweet_sausage', 'sweet_tart_crust', 'sweet_wine', 'sweetbread', 'sweetened_chestnut_puree', 'sweetened_cocoa_powder', 'sweetened_lemonade_drink_mix', 'sweetened_lime_juice', 'swiss_brown_mushroom', 'swordfish', 'swordfish_fillet', 'szechuan_hot_bean_sauce', 'szechuan_sauce', 'szechwan_pepper', \"taco_bell_home_originals_thick_'n_chunky_salsa\", 'taco_blend_cheese', 'taco_chip', 'tahini_sauce', 'taleggio', 'tamarind_chutney', 'tamarind_pod', 'tandoori_masala', 'tang_orange_crystal', 'tangerine_peel', 'tapioca_pudding', 'tarama', 'taro_root', 'tart_baking_apple', 'tart_crust', 'tart_red_cherry', 'tart_shell', 'tartaric', 'tasso', 'tatsoi', 'tawny_port', 'tea_biscuit', 'teff', 'tempura_batter', 'tempura_flour', 'tender_quick', 'tenderloin', 'tex_mex_cheese', 'texas_pete', 'thai_chili_paste', 'thai_curry_paste', 'thai_green_chili', 'thai_pepper', 'thick_bread', 'thick_soy_sauce', 'thin_cucumber_slice', 'thin_mint_cooky', 'thin_pizza_crust', 'thin_soy_sauce', 'thyme_honey', 'tiger_sauce', 'tiny_pasta', 'tiny_pea', 'toast_point', 'toasted_breadcrumb', 'toasted_oat_cereal', 'toasted_rice_cereal', 'tobiko', 'toblerone_chocolate_bar', 'tofutti_better_than_cream_cheese', 'tofutti_sour_cream', 'tom_yum_paste', 'tomato_bouillon', 'tomato_chutney', 'tomato_cocktail_juice', 'tomato_jam', 'tomato_relish', 'tomato_with_juice', 'tomatoes_in_puree', 'tonic_water', 'tonkatsu_sauce', 'toor_dal', 'top_ramen_noodle', 'top_round_beef', 'top_round_roast', 'topping_mix', 'trail_mix', 'treacle', 'tri_colored_pasta', 'tri_tip_steak', 'tripe', 'trout_fillet', 'truffle', 'truffle_butter', 'truffle_oil', 'truffle_salt', 'trumpet_mushroom', 'truvia', 'tubetti', 'tuna_fillet', 'tuna_in_brine', 'turbot', 'turkey_breakfast_sausage', 'turkey_breast_half', 'turkey_dripping', 'turkey_drumstick', 'turkey_giblet', 'turkey_gizzard', 'turkey_gravy_mix', 'turkey_hot_dog', 'turkey_leg', 'turkey_liver', 'turkey_meatball', 'turkey_neck', 'turkey_part', 'turkey_slice', 'turkey_stock', 'turkey_stuffing', 'turkey_stuffing_mix', 'turkey_thigh', 'turkish_bay_leaf', 'turkish_bread', 'umeboshi', 'unbaked_10_inch_pie_shell', 'unbaked_tart_shell', 'unblanched_whole_almond', \"uncle_ben's_converted_brand_rice\", 'unpopped_popcorn', 'unsalted_almond', 'unsalted_beef_stock', 'unsalted_dry_roasted_cashew', 'unsalted_macadamia_nut', 'unsalted_pistachio_nut', 'unsalted_saltine_cracker', 'unsalted_shelled_pistachio', 'unsmoked_bacon', 'unsweetened_almond_milk', 'unsweetened_apple_juice_concentrate', 'unsweetened_coconut_cream', 'unsweetened_cranberry_juice', 'unsweetened_dark_chocolate', 'unsweetened_dutch_cocoa', 'unsweetened_flavored_drink_mix', 'unsweetened_frozen_blueberry', 'unsweetened_instant_tea', 'unsweetened_pomegranate_juice', 'valencia_orange', 'vanilla_candy_coating', 'vanilla_caramel', 'vanilla_cooky', 'vanilla_cupcake', 'vanilla_custard', 'vanilla_custard_powder', 'vanilla_gelato', 'vanilla_greek_yogurt', 'vanilla_icing', 'vanilla_liqueur', 'vanilla_oil', 'vanilla_schnapps', 'veal_bone', 'veal_chop', 'veal_demi_glace', 'veal_kidney', 'veal_knuckle', 'veal_loin', 'veal_medallion', 'veal_reduction', 'veal_roast', 'veal_shoulder', 'veal_steak', 'veal_stew_meat', 'veal_tenderloin', 'vegan_burger', 'vegan_cheddar_cheese', 'vegan_egg_replacer_powder', 'vegan_parmesan_cheese', 'vegan_worcestershire_sauce', 'vegan_yogurt', 'vegetable_juice_cocktail', 'vegetable_soup', 'vegetable_stock_base', 'vegetable_suet', 'vegetarian_broth', 'vegetarian_chicken_broth', 'vegetarian_oyster_sauce', 'vegetarian_parmesan_cheese', 'vegetarian_worcestershire_sauce', 'veggie_burger', 'velveeta_shells_and_cheese_dinner', 'venison_loin', 'venison_stew_meat', 'venison_tenderloin', 'verjuice', 'verjus', 'vermicelli_rice_noodle', 'very_strong_coffee', 'vienna_sausage', 'vin_santo', 'violet', 'vitamin_c_powder', 'vitamin_e', 'wafer', 'wafer_cooky', 'waffle_cone', 'waffle_mix', 'wagon_wheel_macaroni', 'wakame_seaweed', 'walleye', 'walleyed_pike_fillet', 'walnut_meat', 'wasabi_pea', 'water_cracker', 'watermelon_ball', 'watermelon_juice', 'watermelon_rind', 'wax_paper', 'western_salad_dressing', 'wheat_beer', 'wheat_bread_flour', 'wheat_cracker', 'wheat_flake', 'wheat_flakes_cereal', 'wheat_hamburger_bun', 'wheat_noodle', 'wheat_starch', 'wheat_thins_cracker', 'wheatberries', 'whey', 'whey_powder', 'whipped_butter', 'whipped_dessert_topping_mix', 'white_asparagus', 'white_baking_bar', 'white_baking_chocolate', 'white_bread_cube', 'white_cake_layer', 'white_cake_mix_with_pudding', 'white_chocolate_baking_bar', 'white_chocolate_chunk', 'white_chocolate_liqueur', 'white_chocolate_pudding_mix', 'white_chocolate_sauce', 'white_corn_kernel', 'white_corn_tortilla_chip', 'white_crab_meat', 'white_cranberry_juice', 'white_creme_de_cacao', 'white_creme_de_menthe', 'white_decorating_icing', 'white_dinner_roll', 'white_fleshed_fish', 'white_flour_tortilla', 'white_grape', 'white_grapefruit', 'white_meat_chicken', 'white_mustard_seed', 'white_pea_bean', 'white_peach', 'white_poppy_seed', 'white_port', 'white_radish', 'white_sauce_mix', 'white_seedless_grape', 'white_syrup', 'white_tequila', 'white_truffle', 'white_truffle_oil', 'white_vermouth', 'whole_buttermilk', 'whole_duck', 'whole_grain_brown_rice', 'whole_grain_english_muffin', 'whole_grain_tortilla', 'whole_grain_wheat_flour', 'whole_leaf_oregano', 'whole_meal_bread', 'whole_meal_flour', 'whole_mixed_pickling_spice', 'whole_mustard_seed', 'whole_pumpkin', 'whole_salmon', 'whole_trout', 'whole_turkey_breast', 'whole_unblanched_almond', 'whole_wheat_angel_hair_pasta', 'whole_wheat_baguette', 'whole_wheat_bread_flour', 'whole_wheat_egg_noodle', 'whole_wheat_elbow_macaroni', 'whole_wheat_fettuccine', 'whole_wheat_pizza_crust', 'whole_wheat_pizza_dough', 'whole_wheat_toast', 'wild_duck', 'wild_salmon', 'wildflower_honey', 'winter_melon', 'winter_savory', 'winter_squash_puree', 'wishbone_italian_dressing', 'wonton', 'wood_ear_mushroom', 'wooden_stick', 'wrap', 'x_rated_fusion_liqueur', 'xylitol_sugar_substitute', 'xylitol_sweetener', 'yacon_syrup', 'yakisoba_noodle', 'yamaimo', 'yeast_extract', 'yellow_apple', 'yellow_bean_sauce', 'yellow_beet', 'yellow_cake_mix_with_pudding', 'yellow_capsicum', 'yellow_cheese', 'yellow_cherry_tomato', 'yellow_cling_peach', 'yellow_corn_grit', 'yellow_curry_paste', 'yellow_lentil', 'yellow_miso', 'yellow_moong_dal', 'yellow_pear_tomato', 'yellow_rock_sugar', 'yellow_wax_bean', 'yellow_zucchini', 'yellowfin_tuna_fillet', 'yellowfin_tuna_steak', 'young_roasting_chicken', 'your_favorite_barbecue_rub', 'your_favorite_dressing', 'yucca_root', 'yuzu', 'yuzu_juice', 'ziploc_bag']\n"
     ]
    }
   ],
   "source": [
    "# from the list of the most common sub tuples, remove the ones with the most common ingredients and most common combined ingredient counts (for the least common tuples vice versa)\n",
    "\n",
    "ingredient_frequency_theshold = 3\n",
    "\n",
    "recipes_per_ingredient_filtered = {ingredient_name: recipes for ingredient_name, recipes in recipes_per_ingredient.items() if len(recipes)>3}\n",
    "filtered_out_uncommon_ingredients = list({ingredient_name: recipes for ingredient_name, recipes in recipes_per_ingredient.items() if len(recipes)<=3}.keys())\n",
    "recipe_ingredient_counts_filtered = {recipe_id: len(recipes) for recipe_id, recipes in recipes_per_ingredient_filtered.items()}\n",
    "recipe_ingredient_counts_filtered = dict(sorted(recipe_ingredient_counts_filtered.items(), key=lambda item: item[1], reverse=True))\n",
    "total_ingredient_count_filtered = len(recipe_ingredient_counts_filtered)\n",
    "print(total_ingredient_count_filtered)\n",
    "\n",
    "very_most_common_ingrs = list(recipe_ingredient_counts_filtered.keys())[:38]\n",
    "print(f\"Top most common ingredients: {very_most_common_ingrs}\")\n",
    "print(f\"Filtered out uncommon ingredients: {filtered_out_uncommon_ingredients}\")"
   ]
  },
  {
   "cell_type": "code",
   "execution_count": 14,
   "metadata": {},
   "outputs": [
    {
     "name": "stdout",
     "output_type": "stream",
     "text": [
      "Number of distinct ground truth substitution tuples (prints after applying another filter (inline)) \n",
      "\n",
      "30832 \n",
      "\n",
      "29410 \n",
      "\n",
      "29410 \n",
      "\n",
      "Total number of remainingsubstitution tuples: 29410\n"
     ]
    }
   ],
   "source": [
    "print(\"Number of distinct ground truth substitution tuples (prints after applying another filter (inline)) \\n\")\n",
    "print(len(ground_truth_tuple_counts.keys()), \"\\n\")\n",
    "\n",
    "trivial_subs = []\n",
    "def checkTrivialSubs(sub_tuple):\n",
    "    ingr_1, ingr_2 = sub_tuple\n",
    "    if ingr_1 in ingr_2 or ingr_2 in ingr_1:\n",
    "        trivial_subs.append(sub_tuple)\n",
    "        return True\n",
    "    else:\n",
    "        return False\n",
    "\n",
    "unimportant_subs = []\n",
    "def checkUnimportantSource(sub_tuple, very_most_common_ingrs):\n",
    "    ingr_1, ingr_2 = sub_tuple\n",
    "    for very_common_ingr in very_most_common_ingrs:\n",
    "        if very_common_ingr in ingr_1:\n",
    "            unimportant_subs.append(sub_tuple)\n",
    "            return True\n",
    "        else:\n",
    "            return False\n",
    "\n",
    "esoteric_subs = []\n",
    "def check_esotericSource(sub_tuple, filtered_out_uncommon_ingredients):\n",
    "    ingr_1, ingr_2 = sub_tuple\n",
    "    for esoteric_ingr in filtered_out_uncommon_ingredients:\n",
    "        if esoteric_ingr in ingr_1:\n",
    "            esoteric_subs.append(sub_tuple)\n",
    "            return True\n",
    "        else:\n",
    "            return False\n",
    "\n",
    "### we could also remove subst that partially overlap, but that potentially removes many interesting substitutions (like \"beef roast - venison roast\" maybe) but we could try\n",
    "\n",
    "ground_truth_tuple_counts = {gt_tuple: recipe_count for gt_tuple, recipe_count in ground_truth_tuple_counts.items() if not checkTrivialSubs(gt_tuple)}\n",
    "ground_truth_tuple_counts = {gt_tuple: recipe_count for gt_tuple, recipe_count in ground_truth_tuple_counts.items() if not checkUnimportantSource(gt_tuple, very_most_common_ingrs)}\n",
    "ground_truth_tuple_counts = {gt_tuple: recipe_count for gt_tuple, recipe_count in ground_truth_tuple_counts.items() if not check_esotericSource(gt_tuple, filtered_out_uncommon_ingredients)}\n",
    "\n",
    "\n",
    "print(len(ground_truth_tuple_counts), \"\\n\")\n",
    "INCLUDE_FILTER_INGREDIENTS = True\n",
    "if not INCLUDE_FILTER_INGREDIENTS:\n",
    "    ground_truth_tuple_counts = {gt_tuple: recipe_count for gt_tuple, recipe_count in ground_truth_tuple_counts.items() if not gt_tuple[0] in pasta_matched_ingredients}\n",
    "    print(len(ground_truth_tuple_counts), \"\\n\")\n",
    "    ground_truth_tuple_counts = {gt_tuple: recipe_count for gt_tuple, recipe_count in ground_truth_tuple_counts.items() if not gt_tuple[0] in flour_matched_ingredients}\n",
    "    print(len(ground_truth_tuple_counts), \"\\n\")\n",
    "    ground_truth_tuple_counts = {gt_tuple: recipe_count for gt_tuple, recipe_count in ground_truth_tuple_counts.items() if not gt_tuple[0] in rice_matched_ingredients}\n",
    "    print(len(ground_truth_tuple_counts), \"\\n\")\n",
    "    ground_truth_tuple_counts = {gt_tuple: recipe_count for gt_tuple, recipe_count in ground_truth_tuple_counts.items() if not gt_tuple[0] in bread_matched_ingredients}\n",
    "    print(len(ground_truth_tuple_counts), \"\\n\")\n",
    "    ground_truth_tuple_counts = {gt_tuple: recipe_count for gt_tuple, recipe_count in ground_truth_tuple_counts.items() if not gt_tuple[0] in potato_matched_ingredients}\n",
    "    print(len(ground_truth_tuple_counts), \"\\n\")\n",
    "    ground_truth_tuple_counts = {gt_tuple: recipe_count for gt_tuple, recipe_count in ground_truth_tuple_counts.items() if not gt_tuple[0] in oil_matched_ingredients}\n",
    "    print(len(ground_truth_tuple_counts), \"\\n\")\n",
    "    ground_truth_tuple_counts = {gt_tuple: recipe_count for gt_tuple, recipe_count in ground_truth_tuple_counts.items() if not gt_tuple[0] in spices_matched_ingredients}\n",
    "    ground_truth_tuple_counts = {gt_tuple: recipe_count for gt_tuple, recipe_count in ground_truth_tuple_counts.items() if not gt_tuple[1] in spices_matched_ingredients} # throw away spicy tail\n",
    "    print(len(ground_truth_tuple_counts), \"\\n\")\n",
    "    ground_truth_tuple_counts = {gt_tuple: recipe_count for gt_tuple, recipe_count in ground_truth_tuple_counts.items() if not gt_tuple[0] in misc_matched_ingredients}\n",
    "    ground_truth_tuple_counts = {gt_tuple: recipe_count for gt_tuple, recipe_count in ground_truth_tuple_counts.items() if not gt_tuple[1] in misc_matched_ingredients} # throw away miscelanious tail\n",
    "print(len(ground_truth_tuple_counts), \"\\n\")\n",
    "\n",
    "total_nr_sub_tuples = len(ground_truth_tuple_counts.keys())\n",
    "print(f\"Total number of remainingsubstitution tuples: {total_nr_sub_tuples}\")\n",
    "# print(f\"nr of trivial substitutions {len(trivial_subs)}\")\n",
    "# print(f\"nr of unimportant substitutions {len(unimportant_subs)}\")\n",
    "\n",
    "most_common_sub_tuples = list(ground_truth_tuple_counts.keys())[:total_nr_sub_tuples // 4]\n",
    "least_common_sub_tuples = list(ground_truth_tuple_counts.keys())[total_nr_sub_tuples // 4 * 3:]\n",
    "# print(len(most_common_sub_tuples))\n",
    "# print(len(least_common_sub_tuples))"
   ]
  },
  {
   "cell_type": "markdown",
   "metadata": {},
   "source": [
    "## get most and least common ingredients"
   ]
  },
  {
   "cell_type": "code",
   "execution_count": 15,
   "metadata": {},
   "outputs": [
    {
     "name": "stdout",
     "output_type": "stream",
     "text": [
      "The most common remaining ingredients: ['carrot', 'parmesan_cheese', 'salt_and_pepper', 'vanilla', 'cinnamon', 'sour_cream', 'black_pepper', 'green_onion', 'lemon_juice', 'celery', 'garlic_powder', 'tomato', 'oil', 'vanilla_extract', 'garlic', 'chicken_broth', 'soy_sauce', 'honey', 'potato', 'cream_cheese', 'mayonnaise', 'fresh_parsley', 'paprika', 'cornstarch', 'ground_beef', 'chili_powder', 'worcestershire_sauce', 'unsalted_butter', 'fresh_ground_black_pepper', 'walnut', 'parsley', 'ground_cinnamon', 'nutmeg', 'cayenne_pepper', 'lemon', 'margarine', 'bacon', 'extra_virgin_olive_oil', 'green_pepper', 'red_onion', 'ground_cumin', 'cheddar_cheese', 'granulated_sugar', 'bay_leaf', 'ground_black_pepper', 'raisin', 'pecan', 'boneless_skinless_chicken_breast', 'tomato_sauce', 'heavy_cream', 'banana', 'red_bell_pepper', 'zucchini', 'dried_oregano', 'cumin', 'mozzarella_cheese', 'canola_oil', 'dijon_mustard', 'kosher_salt', 'mushroom', 'tomato_paste', 'diced_tomato', 'chicken_stock', 'dry_parsley_flake', 'green_bell_pepper', 'oregano', 'fresh_lemon_juice', 'whole_wheat_flour', 'powdered_sugar', 'shredded_cheddar_cheese', 'buttermilk', 'fresh_cilantro', 'sea_salt', 'egg_white', 'fresh_ginger', 'ketchup', 'scallion', 'shallot', 'white_sugar', 'dried_basil', 'apple', 'ground_ginger', 'dried_thyme', 'cilantro', 'orange_juice', 'onion_powder', 'ginger', 'dry_white_wine', 'crushed_red_pepper_flake', 'lean_ground_beef', 'shortening', 'thyme', 'vinegar', 'curry_powder', 'fresh_ground_pepper', 'fresh_basil', 'yellow_onion', 'garlic_salt', 'balsamic_vinegar', 'chicken_breast', 'lime_juice', 'red_wine_vinegar', 'white_wine', 'sesame_oil', 'black_bean', 'cucumber', 'ground_nutmeg', 'basil', 'light_brown_sugar', 'red_pepper_flake', 'white_pepper', 'salsa', 'lime', 'red_pepper', 'egg_yolk', 'breadcrumb', 'monterey_jack_cheese', 'whipping_cream', 'celery_rib', 'nut', 'dry_mustard', \"confectioners'_sugar\", 'chocolate_chip', 'seasoning_salt', 'cider_vinegar', 'avocado', 'salt_&_freshly_ground_black_pepper', 'sharp_cheddar_cheese', 'half_and_half', 'semi_sweet_chocolate_chip', 'peanut_butter', 'cooked_chicken', 'cheese', 'ground_clove', 'feta_cheese', 'boiling_water', 'blueberry', 'cream_of_mushroom_soup', 'cabbage', 'cold_water', 'skim_milk', 'beef_broth', 'flour_tortilla', 'rolled_oat', 'italian_seasoning', 'low_fat_sour_cream', 'white_vinegar', 'sliced_mushroom', 'ground_coriander', 'bell_pepper', 'salt_&_pepper', 'almond_extract', 'turmeric', 'cooked_rice', 'tabasco_sauce', 'sesame_seed', 'chicken', 'frozen_pea', 'cream', 'sweet_potato', 'swiss_cheese', 'hot_sauce', 'jalapeno_pepper', 'cocoa', 'green_bean', 'fresh_lime_juice', 'shrimp', 'low_sodium_chicken_broth', 'evaporated_milk', 'whole_milk', 'green_chili', 'green_chilies', 'cayenne', 'black_olive', 'plain_yogurt', 'molasses', 'maple_syrup', 'ham', 'dried_cranberry', 'cooking_spray', 'vegetable_broth', 'fresh_thyme', 'strawberry', 'broccoli', 'allspice', 'warm_water', 'chip', 'cornmeal', 'jalapeno', 'orange', 'cream_of_chicken_soup', 'leek', 'pine_nut', 'peanut_oil', 'almond', 'bread', 'cooking_oil', 'clove', 'lettuce', 'white_onion', 'lemon_zest', 'coconut_milk', 'corn', 'orange_zest', 'sweet_onion', 'kidney_bean', 'rice_vinegar', 'red_potato', 'dark_brown_sugar', 'pure_vanilla_extract', 'rice', 'slivered_almond', 'applesauce', 'cocoa_powder', 'red_wine', 'chopped_tomato', 'vegetable_stock', 'ground_turkey', 'crushed_pineapple', 'fresh_rosemary', 'fish_sauce', 'long_grain_rice', 'sweetened_condensed_milk', 'corn_tortilla', 'oatmeal', 'fresh_garlic_clove', 'chickpea', 'caper', 'cherry_tomato', 'cinnamon_stick', 'coconut', 'plum_tomato', 'fresh_spinach', 'crushed_tomato', 'fresh_dill', 'prepared_mustard', 'white_wine_vinegar', 'active_dry_yeast', 'broccoli_floret', 'ricotta_cheese', 'hard_boiled_egg', 'bread_flour', 'apple_cider_vinegar', 'ground_allspice', 'rosemary', 'fresh_chive', 'dry_sherry', 'eggplant', 'sliced_almond', 'dried_rosemary_leaf', 'elbow_macaroni', 'light_mayonnaise', 'cauliflower', 'frozen_chopped_spinach', 'spinach', 'gingerroot', 'ice_cube', 'minced_garlic_clove', 'yeast', 'diced_onion', 'low_fat_milk', 'mustard', 'spaghetti', 'unsweetened_cocoa_powder', 'fresh_basil_leaf', 'frozen_white_corn', 'chicken_bouillon_cube', 'oat', 'celery_seed', 'barbecue_sauce', 'spaghetti_sauce', 'beef_stock', 'dry_breadcrumb', 'quick_cooking_oat', 'flat_leaf_parsley', 'unsweetened_applesauce', 'pork_chop', 'beer', 'french_bread', 'garam_masala', 'cumin_seed', 'hot_pepper_sauce', 'pumpkin', 'blue_cheese', 'pasta', 'cooked_ham', 'pineapple_juice', 'russet_potato', 'stewed_tomato', 'taco_seasoning', 'cottage_cheese', 'sunflower_seed', 'coriander', 'egg_noodle', 'apple_juice', 'dry_red_wine', 'golden_raisin', 'granny_smith_apple', 'of_fresh_mint', 'sun_dried_tomato', 'egg_substitute', 'roma_tomato', 'boneless_chicken_breast', 'cool_whip', 'mango', 'onion_soup_mix', 'red_pepper_powder', 'plain_flour', 'sweet_red_pepper', 'tortilla_chip', 'half_and_half_cream', 'nonfat_milk', 'kalamata_olive', 'soymilk', 'pork_tenderloin', 'baking_potato', 'ground_pork', 'peach', 'salmon_fillet', 'icing_sugar', 'asparagus', 'peanut', 'splenda_sugar_substitute', 'wheat_germ', 'white_bread', 'salt_and_black_pepper', 'whipped_cream', 'penne_pasta', 'pinto_bean', 'pumpkin_puree', 'dried_apricot', 'heavy_whipping_cream', 'light_corn_syrup', 'sherry_wine', 'old_fashioned_oat', 'whole_kernel_corn', 'butternut_squash', 'cream_of_tartar', 'frozen_spinach', 'orange_rind', 'date', 'ice', 'yellow_cake_mix', 'celery_salt', 'ground_cardamom', 'creamy_peanut_butter', 'roasted_red_pepper', 'baby_spinach', 'canned_pumpkin', 'green_chili_pepper', 'poppy_seed', 'brown_rice', 'dry_onion_flake', 'baby_carrot', 'fresh_strawberry', 'diced_green_chili', 'diced_green_chilies', 'beef_bouillon_cube', 'dill_weed', 'flaked_coconut', 'rice_wine_vinegar', 'tomato_puree', 'yellow_bell_pepper', 'light_cream', 'taco_seasoning_mix', 'whole_tomato', 'low_sodium_soy_sauce', 'unbleached_white_flour', 'pumpkin_pie_spice', 'romaine_lettuce', 'velveeta_cheese', 'button_mushroom', 'yellow_cornmeal', 'poultry_seasoning', 'sage', 'mashed_banana', 'tomato_juice', 'linguine', 'parsley_flake', 'quick_oat', 'chili_sauce', 'hoisin_sauce', 'spring_onion', 'fresh_oregano', 'lasagna_noodle', 'basil_leaf', 'boneless_chicken_thigh', 'caraway_seed', 'pea', 'cake_flour', 'ground_turmeric', 'oyster_sauce', 'graham_cracker_crumb', 'cajun_seasoning', 'cannellini_bean', 'couscous', 'italian_sausage', 'pear', 'provolone_cheese', 'caster_sugar', 'frozen_broccoli_cut', 'white_rice', 'light_soy_sauce', 'pepperoni', 'self_rising_flour', 'tuna', 'garbanzo_bean', 'plain_white_flour', 'bean_sprout', 'cashew', 'catsup', 'corn_flake', 'pie_crust', 'quinoa', 'artichoke_heart', 'red_kidney_bean', 'whole_clove', 'yogurt', 'corn_syrup', 'crabmeat', 'yellow_squash', 'fennel_seed', 'hamburger', 'shredded_coconut', 'vodka', 'fresh_breadcrumb', 'fresh_tomato', 'hamburger_bun', 'maraschino_cherry', 'mashed_potato', 'cilantro_leaf', 'dill', 'vegetable_shortening', 'miracle_whip', 'water_chestnut', 'refried_bean', 'lemon_pepper', 'tomato_soup', 'lettuce_leaf', 'long_grain_white_rice', 'semisweet_chocolate', 'tahini', 'medium_shrimp', 'brandy', 'grape_tomato', 'marjoram', 'chicken_thigh', 'orzo_pasta', 'romano_cheese', 'tilapia_fillet', 'basmati_rice', 'fresh_parsley_leaf', 'green_cabbage', 'nonstick_cooking_spray', 'fresh_coriander', 'lime_zest', 'old_bay_seasoning', 'splenda_granular', 'american_cheese', 'dried_marjoram', 'fresh_gingerroot', 'lemon_peel', 'white_chocolate_chip', 'whole_chicken', 'green_olive', 'kale', 'oat_bran', 'pineapple', 'pineapple_chunk', 'dried_dill', 'panko_breadcrumb', 'pimento', 'pimento_pepper', 'pimiento', 'firm_tofu', 'fresh_orange_juice', 'cooked_brown_rice', 'arborio_rice', 'black_peppercorn', 'cranberry', 'fresh_cilantro_leaf', 'olive', 'beef', 'self_raising_flour', 'dried_tarragon', 'fresh_cranberry', 'liquid_smoke', 'pizza_sauce', 'goat_cheese', 'mandarin_orange', 'condensed_cream_of_mushroom_soup', 'corn_kernel', 'parmigiano_reggiano_cheese', 'rice_flour', 'vanilla_ice_cream', 'lemon_wedge', 'snow_pea', '2%_milk', 'angel_hair_pasta', 'light_cheddar_cheese', 'macaroni', 'minute_rice', 'onion_salt', 'pecan_half', 'prosciutto', 'xanthan_gum', 'cooked_bacon', 'dark_rum', 'ground_chuck', 'mustard_powder', 'powdered_milk', 'extra_large_shrimp', 'lentil', 'sun_dried_tomatoes_packed_in_oil', 'dark_unsweetened_cocoa', 'fresh_thyme_leaf', 'rum', 'sauerkraut', 'toasted_sesame_seed', 'baby_spinach_leaf', 'ground_flax_seed', 'red_chili_pepper', 'lemon_rind', 'parsnip', 'salad_oil', 'bisquick', 'dried_sage', 'portabella_mushroom', 'smoked_sausage', 'dried_dill_weed', 'frozen_mixed_vegetable', 'ground_chicken', 'iceberg_lettuce', 'monterey_jack_pepper_cheese', 'mustard_seed', 'tart_apple', 'chili', 'chilies', 'corn_oil', 'dark_sesame_oil', 'flank_steak', 'raspberry', 'canned_tomato', 'chipotle_chiles_in_adobo', 'dill_pickle', 'great_northern_bean', 'part_skim_mozzarella_cheese', 'prepared_horseradish', 'apple_cider', 'flax_seed', 'italian_seasoned_breadcrumb', 'uncooked_rice', 'cornflour', 'hot_red_pepper_flake', 'lime_wedge', 'pancetta', 'tequila', 'bourbon', 'fresh_sage', 'salt_&_fresh_ground_pepper', 'enchilada_sauce', 'sausage', 'wide_egg_noodle', 'bow_tie_pasta', 'cooked_turkey', 'cream_of_celery_soup', 'whole_wheat_pastry_flour', 'yellow_mustard', 'cardamom', 'chicken_breast_half', 'chicken_piece', 'frozen_green_pea', 'kielbasa', 'lemongrass', 'yellow_pepper', 'yukon_gold_potato', 'pure_maple_syrup', 'seasoned_bread_crumb', 'mint_leaf', 'sweet_pickle_relish', 'fresh_mint_leaf', 'new_potato', 'orange_marmalade', 'chocolate_syrup', 'horseradish', 'sweet_paprika', 'condensed_cream_of_chicken_soup', 'peppercorn', 'plain_breadcrumb', 'sweetened_flaked_coconut', 'lemon_extract', 'milk_chocolate_chip', 'pearl_barley', 'salmon', 'dry_thyme_leaf', 'noodle', 'reduced_sodium_soy_sauce', 'barley', 'chicken_bouillon_granule', 'creme_fraiche', 'pasta_sauce', 'seasoning', 'smoked_paprika', 'gruyere_cheese', 'instant_coffee', 'minced_ginger', 'miniature_marshmallow', 'plain_low_fat_yogurt', 'shiitake_mushroom', 'tortilla', 'chorizo_sausage', 'flax_seed_meal', 'fresh_raspberry', 'greek_yogurt', 'marinara_sauce', 'unsweetened_chocolate', 'beet', 'cherry_pie_filling', 'extra_lean_ground_beef', 'ground_mustard', 'skinless_chicken_breast', 'agave_nectar', 'bacon_bit', 'bittersweet_chocolate', 'cooked_white_rice', 'ground_cayenne_pepper', 'instant_vanilla_pudding', 'red_cabbage', 'saffron', 'white_chocolate', 'whole_wheat_bread', 'mexican_blend_cheese', 'mint', 'pesto_sauce', 'sifted_flour', 'toasted_sesame_oil', '1%_fat_buttermilk', 'beef_stew_meat', 'chicken_bouillon', 'coconut_oil', 'coleslaw', 'dark_chocolate', 'dried_cherry', 'dried_oregano_leaf', 'mini_chocolate_chip', 'refrigerated_crescent_dinner_roll', 'butterscotch_chip', 'pita_bread', 'pork_sausage', 'rhubarb', 'tarragon', 'cumin_powder', 'currant', 'fresh_lemon_rind', 'instant_nonfat_dry_milk_powder', 'italian_parsley', 'macadamia_nut', 'wheat_bran', 'wild_rice', 'chili_pepper', 'dry_basil_leaf', 'dry_yeast', 'lemon_slice', 'ranch_dressing', 'tuna_in_water', 'turnip', 'chicken_wing', 'fat_free_cheddar_cheese', 'fat_free_chicken_broth', 'red_food_coloring', 'round_steak', 'salted_butter', 'soft_breadcrumb', 'teriyaki_sauce', 'creamed_corn', 'cremini_mushroom', 'fresh_flat_leaf_parsley', 'graham_cracker', 'red_lentil', 'colby_monterey_jack_cheese', 'creole_seasoning', 'frozen_strawberry', 'red_chili_powder', 'vanilla_essence', 'beef_bouillon', 'dried_italian_seasoning', 'white_mushroom', 'fresh_tarragon', 'frozen_corn_kernel', 'ghee', 'light_cream_cheese', 'mirin', 'red_capsicum', 'turkey', 'vidalia_onion', 'baking_cocoa', 'diced_tomatoes_with_juice', 'green_pea', 'instant_coffee_crystal', 'semisweet_mini_chocolate_chip', 'sunflower_oil', 'vegetable', 'asiago_cheese', 'cooked_shrimp', 'fresh_asparagus', 'penne', 'taco_sauce', 'black_eyed_pea', 'coriander_seed', 'english_cucumber', 'unsalted_dry_roasted_peanut', 'bok_choy', 'deli_ham', 'fine_dry_breadcrumb', 'gouda_cheese', 'hazelnut', 'hot_dog', 'italian_bread', 'lean_ground_turkey', 'low_fat_cottage_cheese', 'low_fat_cream_cheese', 'sliced_ripe_olive', 'tomatoes_and_green_chilies', 'coriander_powder', 'cream_style_corn', 'extra_large_egg', 'fettuccine', 'ground_lamb', 'guacamole', 'low_sodium_low_fat_chicken_broth', 'napa_cabbage', 'smoked_salmon', 'whipped_topping', 'cauliflower_floret', 'feta', 'oregano_leaf', 'pumpkin_seed', 'sea_scallop', 'bamboo_shoot', 'canned_unsweetened_coconut_milk', 'picante_sauce', 'rice_krispies', 'rice_wine', 'turmeric_powder', 'wine_vinegar', 'arugula', 'fresh_broccoli', 'ground_sage', 'pizza_dough', 'whole_chicken_breast', 'braggs_liquid_amino', 'club_soda', 'italian_dressing', 'lard', 'plain_fat_free_yogurt', 'plain_nonfat_yogurt', 'fresh_italian_parsley', 'frozen_concentrated_orange_juice', 'ice_water', 'instant_minced_onion', 'nonfat_plain_yogurt', 'raw_shrimp', 'roasting_chicken', 'rotini_noodle', 'sliced_water_chestnut', 'vanilla_bean', 'vanilla_yogurt', 'watermelon', 'white_bean', 'white_cake_mix', 'chicken_tenderloin', 'dried_breadcrumb', 'english_muffin', 'fish_fillet', 'low_fat_plain_yogurt', 'quick_cooking_rolled_oat', 'rigatoni_pasta', 'skinless_chicken_thigh', 'spinach_leaf', 'chili_paste', 'chunky_salsa', 'crouton', 'extra_firm_silken_tofu', 'liquid_honey', 'mascarpone_cheese', 'nutritional_yeast', 'onion_flake', 'pork', 'radish', 'saltine_cracker', 'sirloin_steak', 'soya_sauce', 'spanish_onion', 'triple_sec', 'vanilla_instant_pudding_mix', 'wonton_wrapper', 'acorn_squash', 'baguette', 'beef_bouillon_granule', 'chili_bean', 'condensed_tomato_soup', 'cranberry_juice', 'gorgonzola', 'hot_italian_sausage', 'marshmallow', 'orange_peel', 'pistachio', 'potato_starch', 'ritz_cracker', 'sherry_wine_vinegar', 'tapioca_flour', 'tofu', 'cracker', 'dried_red_pepper_flake', 'frozen_blueberry', 'frozen_whipped_topping', 'stewing_beef', 'white_potato', 'apricot_jam', 'apricot_preserve', 'bread_machine_yeast', 'clam_juice', 'cream_of_coconut', 'fresh_pineapple', 'grand_marnier', 'ground_almond', 'marinated_artichoke_heart', 'prepared_yellow_mustard', 'bisquick_baking_mix', 'ginger_powder', 'kahlua', 'lemon_pepper_seasoning', 'mini_marshmallow', 'papaya', 'pecorino_romano_cheese', 'ranch_dressing_mix', 'saffron_thread', 'walnut_piece', 'wheat_flour', 'alfredo_sauce', 'brewed_coffee', 'brussels_sprout', 'fat_free_cream_cheese', 'reduced_sodium_beef_broth', 'white_distilled_vinegar', 'whole_wheat_tortilla', 'all_bran_cereal', 'chuck_roast', 'coffee', 'dark_soy_sauce', 'fettuccine_pasta', 'fresh_spinach_leaf', 'mixed_salad_green', 'mussel', 'prawn', 'raw_sugar', 'rice_noodle', 'sweet_chili_sauce', 'tamari', 'chocolate', 'clam', 'coriander_leaf', 'crisco', 'dried_currant', 'lean_ground_sirloin', 'olive_oil_flavored_cooking_spray', 'pimento_stuffed_olive', 'raspberry_jam', 'roasted_peanut', 'thyme_leaf', 'vanilla_wafer', 'cardamom_pod', 'dry_sweetener', 'extra_sharp_cheddar_cheese', 'french_fried_onion', 'fudge_cake_mix', 'light_coconut_milk', 'light_olive_oil', 'smooth_peanut_butter', 'strong_coffee', 'sultana', 'unflavored_gelatin', 'ziti_pasta', 'blackberry', 'blanched_almond', 'crescent_roll', 'dried_lentil', 'dried_onion', 'italian_salad_dressing', 'natural_style_peanut_butter', 'pickled_jalapeno_pepper', 'red_curry_paste', 'scallop', 'white_fish_fillet', 'canned_black_bean', 'dijon_style_mustard', 'green_food_coloring', 'habanero_pepper', 'orange_bell_pepper', 'pitted_date', 'rubbed_sage', 'sake', 'small_shell_pasta', 'walnut_half', 'asparagus_spear', 'bulgur', 'cinnamon_sugar', 'fresh_herb', 'quick_cooking_oatmeal', 'salted_peanut', 'whole_berry_cranberry_sauce', 'amaretto', 'brie_cheese', 'crunchy_peanut_butter', 'dried_mint', 'fresh_jalapeno_pepper', 'honey_mustard', 'instant_chocolate_pudding_mix', 'jalapeno_chile', 'jasmine_rice', 'kosher_salt_&_freshly_ground_black_pepper', 'mild_cheddar_cheese', 'part_skim_ricotta_cheese', 'red_chilies', 'rotel', 'summer_squash', 'chinese_five_spice_powder', 'cod_fish_fillet', 'cognac', 'corn_chip', 'dried_red_chili', 'dried_red_chilies', 'philadelphia_neufchatel_cheese', 'pretzel', 'small_onion', 'andouille_sausage', 'bourbon_whiskey', 'canadian_bacon', 'chili_garlic_sauce', 'chow_mein_noodle', 'diced_tomatoes_with_green_chilies', 'dried_chili_pepper_flake', 'fontina_cheese', 'food_coloring']\n",
      "\n",
      "\n",
      "The least common remaining ingredients['wesson_oil', 'wheat_berry', 'white_karo', 'white_raisin', 'white_sauce', 'whole_corn', 'whole_grain_bun', 'whole_oat', 'whole_pecan', 'whole_wheat_couscous', 'whole_wheat_lasagna_noodle', 'whole_wheat_rotini', 'wholemeal_self_rising_flour', 'wide_rice_noodle', 'yellow_mustard_seed', 'yellow_tomato', '10%_cream', '93%_lean_ground_beef', '98%_fat_free_cream_of_chicken_soup', 'annatto_seed', 'apple_brandy', 'asian_chili_sauce', 'asian_seasoning', 'asparagus_tip', 'au_gratin_potato', 'baby_back_rib', 'baby_bella_mushroom', 'banana_chip', 'banana_extract', 'beef_t_bone_steak', 'black_tea', 'blue_corn_tortilla_chip', 'boneless_beef_round_steak', 'bottom_round_steak', 'breaded_chicken_patty', 'brown_sugar_substitute', 'butter_flavoring', 'cabbage_leaf', 'cacao', 'california_avocado', 'canned_beef_broth', 'canned_solid_pack_pumpkin', 'canned_stewed_tomato', 'center_cut_bacon', 'chablis', 'chanterelle_mushroom', 'cherry_jell_o', 'chervil', 'chestnut', 'chianti_wine', 'chicken_drummettes', 'chicken_strip', 'chocolate_cookie_pie_crust', 'chocolate_crumb_crust', 'cinnamon_raisin_bread', 'condensed_mushroom_soup', 'cooked_couscous', 'crepe', 'crisco_cooking_oil', 'daikon_radish', 'danish_blue_cheese', 'dark_seedless_raisin', 'diced_tomatoes_with_jalapeno', 'dried_banana_piece', 'dried_coconut', 'dried_lavender_flower', 'dried_new_mexico_chile', 'dried_red_bean', 'dry_coconut_powder', 'dry_fettuccine', 'dry_linguine', 'dutch_process_cocoa', 'emmenthaler_cheese', 'epazote', 'fat_free_cheese', 'fat_free_feta_cheese', 'fat_free_greek_yogurt', 'fat_free_sugar_free_instant_vanilla_pudding_mix', 'fiesta_nacho_cheese_soup', 'fine_sugar', 'flat_bread', 'french_vanilla_flavored_coffee_creamer', 'fresh_cherry', 'fresh_coconut', 'fresh_jalapeno_chilies', 'fresh_large_mushroom', 'fresh_salmon', 'fried_bacon', 'frisee', 'frozen_baby_lima_bean', 'frozen_cheese_ravioli', 'frozen_cherry', 'frozen_dinner_roll', 'frozen_pea_pod', 'frozen_peppers_and_onion', 'frozen_tiny_pea', 'fruit_chutney', 'fryer_chicken', 'galliano', 'garbanzo_flour', 'garlic_bread', 'garlic_sauce', 'german_mustard', 'ginger_juice', 'glycerin', 'good_seasonings_italian_salad_dressing_mix', 'graham_cracker_square', 'graham_flour', 'greek_olive', 'green_asparagus', 'green_zucchini', 'ground_aniseed', 'ground_chicken_breast', 'ground_meat', 'half_&_half_light_cream', 'halibut', 'heads_of_cabbage', 'heinz_57_steak_sauce', 'herb_salad_dressing', 'hickory_liquid_smoke', 'hing', 'hokkien_noodle', 'hormel_real_bacon_bit', 'hot_italian_turkey_sausage', 'hot_pork_sausage', 'hot_red_pepper', 'instant_bouillon_granule', 'instant_coconut_cream_pudding_mix', 'instant_lemon_pudding', 'instant_oatmeal', 'italian_sweet_sausage', 'jaggery', 'jar', 'jarlsberg_cheese', 'kirsch', 'lager_beer', 'lean_ground_chicken', 'lean_ground_chuck', 'lean_pork_loin', 'lean_round_steak', 'lean_sirloin_steak', 'lemon_juice_concentrate', 'light_beer', 'light_vegetable_oil', 'liqueur', 'little_smokies_sausage', 'low_fat_cream_of_celery_soup', 'low_fat_parmesan_cheese', 'low_fat_soymilk', 'low_sodium_beef_bouillon_cube', 'lychee', 'masala', 'medium_dry_sherry', 'meringue_powder', 'mexicorn_whole_kernel_corn', 'mild_sausage', 'minestrone_soup', 'minute_tapioca', 'mixed_candied_fruit', 'mixed_fresh_herb', 'mizithra_cheese', 'mung_dal', 'non_fat_vanilla_frozen_yogurt', 'nutter_butter_sandwich_cooky', 'onion_juice', 'onion_soup', 'pancake_syrup', 'parmesan_romano_cheese_mix', 'peach_halves_in_syrup', 'peach_jam', 'peanut_sauce', 'pectin', 'pepper_sauce', 'phyllo_pastry_sheet', 'pickling_cucumber', 'pina_colada_nonalcoholic_drink_mix', 'pineapple_chunks_in_syrup', 'pita_pocket_bread', 'pizza_topping', 'pork_back_rib', 'pork_loin_chops_with_bone', 'pork_rind', 'pork_sausage_link', 'porterhouse_steak', 'puffed_rice_cereal', 'pure_olive_oil', 'quick_cooking_brown_rice', 'raspberry_flavored_syrup', 'raw_peanut', 'red_chili_paste', 'reduced_fat_graham_cracker_crust', 'reduced_fat_swiss_cheese', 'refrigerated_chocolate_chip_cookie_dough', 'rice_bubble', 'rocket', 'rose_petal', 'rotel_diced_tomato', 'sazon_goya', 'scalloped_potatoes_mix', 'scotch_whisky', 'shredded_hash_brown_potato', 'smooth_cashew_butter', 'snow_pea_pod', 'sodium_free_seasoning', 'sole', 'sorghum', 'sour_mix', 'spelt', 'spicy_hot_v8', 'split_red_lentil', 'stir_fry_sauce', 'stuffed_olive', 'sugar_free_syrup', 'sugar_syrup', \"sweet_'n_low\", 'sweet_sherry', 'tabasco_jalapeno_sauce', 'tagliatelle_pasta_noodle', 'teff_flour', 'texas_toast_thick_bread', 'tomatoes_seasoned_with_basil_garlic_&_oregano', 'tomatoes_with_onion_and_garlic', \"tony_chachere's_seasoning\", 'tuna_fish', 'tuna_in_vegetable_oil', 'turkey_breast_cutlet', 'turkey_breast_tenderloin', 'unsalted_margarine', 'vanilla_baking_chip', 'vanilla_flavor_instant_pudding_and_pie_filling_mix', 'vanilla_flavored_syrup', 'vanilla_pod', 'vegan_butter', 'vegan_sour_cream', 'vegemite', 'vegetable_soup_mix', 'vegetarian_baked_bean', 'vegetarian_refried_bean', 'vegetarian_sausage', 'velveeta_mexican_cheese', 'venison_roast', 'vermouth', 'wheat', 'whey_protein', 'white_chicken_meat_packed_in_water', 'white_chocolate_baking_square', 'white_cornmeal', 'white_miso', 'white_wine_worcestershire_sauce', 'whole_wheat_cereal', 'yellow_hominy', '7_up', '80%_lean_ground_beef', '95%_lean_ground_beef', 'acini_di_pepe_pasta', 'ahi_tuna_steak', 'amaretti_cooky', 'angel_food_cake_mix', 'angostura_bitter', 'au_jus_mix', 'baby_lima_bean', 'baby_pea', 'baharat', 'banana_pepper_ring', 'basil_sprig', 'beau_monde_seasoning', 'beef_shank', 'beef_top_round_steak', 'beet_leaf', 'besan', 'birds_eye_chile', 'black_bean_soup', 'black_vinegar', 'black_walnut', 'blood_orange_juice', 'boneless_ham', 'boneless_lamb_shoulder', 'boneless_sirloin', 'boneless_turkey_breast', 'bottled_lemon_juice', 'bottom_round_beef_roast', 'bran_bud', 'brazil_nut', 'breadstick', 'broad_egg_noodle', 'butter_bud', 'butternut_pumpkin', 'calamari', 'calf_liver', 'camembert_cheese', 'canned_mandarin_orange', 'cashew_half', 'cherry_pepper', 'chex_cereal', 'chicken_leg_quarter', 'chicken_legs_with_thigh', 'chicken_quarter', 'chili_without_bean', 'chinese_mustard', 'chinese_white_rice_vinegar', 'chocolate_fudge_topping', 'chocolate_pudding_mix', 'cider', 'citrus_infused_vodka', 'clam_broth', 'clamato_juice', 'clementine', 'cocktail_frank', 'cocoa_butter', 'colored_sprinkle', 'cooked_beet', 'cooked_fettuccine', 'cooked_lamb', 'cooked_oatmeal', 'cookie', 'cooky', 'corn_husk', 'cornichons', 'country_style_dijon_mustard', 'cracked_ice', 'crawfish_tail', 'cream_of_onion_soup', 'cream_soup', 'creamed_coconut', 'crusty_italian_bread', 'curd', 'cut_wax_bean', 'dairy_free_margarine', 'dark_chili_powder', 'dark_chocolate_cake_mix', 'dark_soya_sauce', 'decorator_sugar', 'diced_fire_roasted_tomato', 'distilled_water', 'ditali_pasta', 'dried_chipotle_chile', 'dried_lemon_peel', 'dried_mango', 'dried_peach', 'dried_pear', 'dried_prune', 'dried_shredded_coconut', 'dry_dill_weed', 'dry_green_lentil', 'duck', 'earth_balance_margarine', 'egg_wash', 'english_walnut', 'espresso_bean', 'extract', 'flakey_biscuit', 'flat_iron_steak', 'flavored_oil', 'free_range_egg', 'french_bean', 'french_onion_dip', 'fresh_apricot', 'fresh_button_mushroom', 'fresh_fettuccine', 'fresh_galangal_root', 'fresh_lime_zest', 'fresh_linguine', 'fresh_mozzarella_ball', 'fresh_pear', 'fresh_sweet_potato', 'frozen_chopped_onion', 'frozen_cut_okra', 'frozen_english_pea', 'frozen_french_cut_green_bean', 'frozen_fruit', 'frozen_leaf_spinach', 'frozen_sliced_peach', 'frozen_sliced_strawberries_in_syrup', 'frozen_southern_style_hash_brown_potato', 'frozen_sweet_pea', 'garlic_chive', 'garlic_flake', 'garlic_flavored_olive_oil', 'garlic_scape', 'gluten_flour', 'gluten_free_vanilla_extract', 'green_tea_bag', 'ground_basil', 'ground_beef_round', 'ground_chipotle_chile_pepper', 'ground_hazelnut', 'ground_sumac', 'grouper_fillet', 'guava_juice', 'half_and_half_milk', 'ham_stock', 'hazelnut_flavored_liqueur', 'healthy_request_cream_of_chicken_soup', 'herbed_goat_cheese', 'honey_mustard_dressing', 'honey_nut_cheerio', 'honeydew', 'hot_banana_pepper', 'hot_bean_paste', 'hot_italian_sausage_link', \"i_can't_believe_it's_not_butter\", 'imitation_vanilla', 'instant_couscous', 'instant_espresso', 'jelly_bean', 'kabocha_squash', 'king_prawn', 'knorr_vegetable_soup_mix', 'kraft_caramel', 'lardons', 'large_curd_cottage_cheese', 'lean_lamb', 'leek_soup_mix', 'lemon_gelatin', 'lemon_supreme_cake_mix', 'lemon_thyme', 'lemonade_concentrate', \"libby's_canned_pumpkin\", 'light_cream_cheese_spread', 'limoncello', 'linguica_sausage', 'link_sausage', 'lipton_beefy_onion_soup_mix', 'lipton_recipe_secrets_savory_herb_with_garlic_soup_mix', 'liquid', 'littleneck_clam', 'low_fat_butter', 'low_fat_margarine', 'low_sodium_tomato_sauce', 'mango_juice', 'mango_puree', 'margarita_mix', 'masa_corn_flour', 'maui_onion', 'mccormick_grill_seasoning', 'meatless_sauce', 'melon', 'mexican_chocolate', 'mexican_seasoning', 'microwave_popcorn', 'milk_chocolate_kiss', \"miniature_m_&_m's_chocolate_candy\", 'miniature_m_&_m_baking_bit', 'mint_chocolate_chip', 'multigrain_bread', 'mushroom_stem', 'nacho_cheese_flavored_tortilla_chip', 'natural_almond', 'nicoise_olive', 'nigella_seed', 'no_added_salt_tomato_paste', 'no_salt_added_ketchup', 'nuoc_nam', 'nutmeats', \"o'brien_potato\", 'onion_ring', 'orange_cake_mix', 'orange_flower_water', 'orange_gelatin', 'pamelas_ultimate_baking_and_pancake_mix', 'passata', 'pastrami', 'pastry_for_single_crust_pie', 'peanut_butter_morsel', 'pepsi', 'pernod', 'pickapeppa_sauce', 'pizza_cheese', 'plum_jam', 'pork_baby_back_rib', 'pork_cutlet', 'pork_sirloin_roast', 'porridge_oat', 'powdered_chocolate_milk_mix', 'powdered_clove', 'prepared_graham_cracker_crust', 'prepared_polenta', 'prosciutto_ham', 'prune_baby_food', 'quinoa_flour', 'raw_cashew_nut', 'raw_cranberry', 'ready_to_bake_refrigerated_buttermilk_flaky_biscuit', 'red_cinnamon_candy', 'red_hot_sauce', 'red_jalapeno_chile', 'red_miso', 'red_onion_ring', 'red_pepper_paste', 'red_plum', 'red_raspberry', 'red_thai_chile', 'reduced_fat_coconut_milk', 'reduced_fat_parmesan_cheese', 'reduced_sodium_vegetable_broth', \"reese's_piece\", 'rice_paper', 'rice_paper_sheet', 'risotto_rice', 'rolo_chocolate', 'romano_bean', 'round_roast', 'salt_and_fresh_pepper', 'san_marzano_tomato', 'sausage_meat', 'seedless_orange', 'semolina_flour', 'sesame_paste', 'sharp_american_cheese', 'shirataki_noodle', 'short_grain_brown_rice', 'shoyu', 'skim_evaporated_milk', 'skinless_chicken_drumstick', 'small_elbow_macaroni', 'small_potato', 'smart_balance_light_butter_spread', 'soft_bread_cube', 'soft_cream_cheese', 'spaghetti_sauce_mix', 'stewing_lamb', 'strawberry_syrup', 'suet', 'sugar_free_instant_butterscotch_pudding_mix', 'sumaq', 'sun_dried_tomato_paste', 'sushi_rice', 'sweet_apple', 'sweet_bell_pepper', 'sweet_white_wine', 'table_cream', 'tamale', 'tapenade', 'tart_cooking_apple', 'tea_leaf', 'thai_rice_noodle', 'turkey_ham', 'turnip_green', 'unbleached_bread_flour', 'unsweetened_raspberry', 'unsweetened_soymilk', 'vanilla_whey_protein_powder', 'veal_scallop', 'veal_scallopini', 'veal_shank', 'vegan_cheese', 'vegan_sugar', 'venison_steak', 'whey_protein_powder', 'white_cabbage', 'white_cheese', 'white_grape_juice', 'white_pepper_powder', 'white_sesame_seed', 'white_zinfandel_wine', 'whole_grain_dijon_mustard', 'whole_wheat_breadcrumb', 'whole_wheat_cracker', 'whole_wheat_english_muffin', 'wondra_flour', 'yellow_bean', '10_inch_flour_tortilla', '6_inch_flour_tortilla', '9_inch_deep_dish_pie_crust', 'aleppo_pepper', 'anjou_pear', 'apricot_brandy', 'avocado_oil', 'baby_green_pea', 'baby_rocket', 'bacon_piece', 'baking_chocolate', 'barbecue_seasoning', 'beef_hot_dog', 'beef_stock_cube', 'beef_stock_powder', 'beet_juice', 'bermuda_onion', 'biscuit_dough', 'black_bean_paste', 'black_soy_sauce', 'blue_cornmeal', 'blue_food_coloring', 'blueberry_jam', 'boiling_onion', 'bone_in_ham', 'boneless_lean_pork', 'boneless_leg_of_lamb', 'boneless_skinless_salmon_fillet', 'borax', 'braeburn_apple', 'brewed_tea', 'brie_round', 'brown_bread', 'brown_paper_bag', 'butter_pecan_cake_mix', 'buttermilk_biscuit_mix', 'buttermilk_ranch_salad_dressing_mix', 'cabernet_sauvignon_wine', 'calvados', 'candied_peel', 'cane_syrup', 'canned_chilies', 'canned_crabmeat', 'canned_milk', \"cap'n_crunch_cereal\", 'caramelized_onion', 'carbonated_water', 'carrot_cake_mix', 'casing', 'cavenders_all_purpose_greek_seasoning', 'chat_masala', 'cheese_whiz', 'cheesecake_flavor_instant_pudding_and_pie_filling_mix', 'cherry_gelatin', 'chicken_fat', 'chicken_gravy_mix', 'chinese_chili_sauce', 'chinese_duck_sauce', 'chinese_noodle', 'chipotle_chili_sauce', 'chocolate_chip_cookie', 'chocolate_chip_cooky', 'chocolate_covered_raisin', 'chocolate_covered_toffee_bit', 'chocolate_flavor_instant_pudding_and_pie_filling_mix', 'chocolate_flavored_candy_coating', 'chocolate_fudge_instant_pudding_mix', 'chocolate_graham_cracker', 'chocolate_liqueur', 'chocolate_piece', 'chocolate_pudding', 'chocolate_wafer_cookie', 'chocolate_wafer_cooky', 'chocolate_wafer_pie_crust', 'chocolate_whey_protein_powder', 'chunk_light_tuna', 'chunk_tuna', 'citron', 'club_cracker', 'coconut_butter', 'coconut_meat', 'coffee_ice_cream', 'colored_crystal_sugar', 'condensed_beef_consomme', 'condensed_cream_of_mushroom_&_garlic_soup', 'converted_long_grain_rice', 'cooked_angel_hair_pasta', 'cooked_barley', 'cooked_bow_tie_pasta', 'cooked_lobster_meat', 'cooked_orzo_pasta', 'cooked_sushi_rice', 'cooking_fat', 'copha', 'coriander_sprig', 'country_gravy_mix', 'cracked_farro', 'cracker_meal', 'cream_cheese_with_chives_and_onion', 'cream_cheese_with_herb', 'cream_filled_chocolate_sandwich_cooky', 'cream_of_asparagus_soup', 'cream_of_broccoli_soup', 'creme_de_banane', 'crushed_pineapple_in_syrup', 'custard', 'dark_muscovado_sugar', 'dashi_stock', 'date_sugar', 'deli_corned_beef', 'diet_cola', 'digestive_biscuit', 'dill_sprig', 'dough_enhancer', 'dried_bread', 'dried_cannellini_bean', 'dried_fenugreek_leaf', 'dried_greek_oregano', 'dried_lavender', 'dried_leaf_basil', 'dried_mint_flake', 'dried_orange_peel', 'dried_pineapple', 'dried_rice_noodle', 'dried_shrimp_paste', 'dried_split_green_pea', 'dried_split_yellow_pea', 'dry_english_style_mustard', 'dry_marsala_wine', 'dry_tarragon', 'dry_white_vermouth', 'dulce_de_leche', 'dungeness_crabmeat', 'ears_of_corn', 'espresso_coffee', 'fat_free_caramel_topping', 'fat_free_cream_of_chicken_soup', 'fennel_leaf', 'fenugreek_leaf', 'filet_mignon_steak', 'fines_herbes', 'firm_margarine', 'fish_steak', 'floury_potato', 'french_vanilla_ice_cream', 'fresh_cayenne_pepper', 'fresh_curly_leaf_parsley', 'fresh_egg_noodle', 'fresh_savory', 'fresh_sea_scallop', 'fresh_sorrel', 'fresh_tortellini', 'fresh_udon_noodle', 'fresh_whole_wheat_breadcrumb', 'fried_shallot', 'frozen_carrot', 'frozen_cut_broccoli_in_cheese_sauce', 'frozen_dark_sweet_cherry', 'frozen_edamame', 'frozen_fat_free_whipped_topping', 'frozen_light_whipped_dessert_topping', 'frozen_mini_tart_shell', 'frozen_orange_juice', 'frozen_pound_cake', 'frozen_rhubarb', 'frozen_small_whole_onion', 'frozen_sweetened_strawberry', 'ghirardelli_semi_sweet_chocolate_chip', 'giardiniera', 'gingerbread_mix', 'gluten_free_baking_mix', 'gluten_free_oat', 'gluten_free_pasta', 'gluten_free_self_raising_flour', 'glutinous_rice_flour', 'goji_berry', 'golden_rum', 'graham_wafer', 'gravy_master', 'green_creme_de_menthe', 'green_maraschino_cherry', 'green_tea', 'green_tea_leaf', 'green_tea_powder', 'grey_poupon_mustard', 'ground_galangal', 'ground_star_anise', 'guava', 'gumdrop', 'hash_brown_patty', 'head_iceberg_lettuce', 'head_lettuce', 'head_romaine_lettuce', 'heirloom_tomato', 'hemp_seed', 'herbed_crouton', 'hershey_chocolate_candy_bar', 'hickory_smoked_bacon', 'hidden_valley_ranch_dip', 'homemade_chicken_broth', 'homogenized_milk', 'honey_graham_cracker', 'honey_roasted_ham', 'iceberg_lettuce_leaf', 'imitation_bacon_bit', 'instant_banana_pudding_mix', 'instant_flour', 'instant_milk', 'italian_roll', 'italian_turkey_sausage_link', 'jamaican_jerk_spice', 'japanese_soy_sauce', 'jeera_powder', 'jello_instant_vanilla_pudding_mix', 'kasseri_cheese', 'kefir', 'kraft_zesty_italian_dressing', 'kumquat', 'lavender_oil', 'lean_ground_meat', 'lean_pork_chop', 'lemon_frosting', 'lemon_lime_flavored_soda', 'lemon_pie_filling', 'light_kidney_bean', 'light_mozzarella_cheese', 'light_soya_sauce', 'lingonberry_jam', 'lingonberry_preserve', 'liquid_fruit_pectin', 'liquid_sweetener', 'longhorn_cheese', 'low_fat_evaporated_milk', 'low_fat_greek_yogurt', 'low_sodium_tamari', 'low_sodium_teriyaki_sauce', 'low_sodium_v8_juice', 'lumpia_skin', 'macaroni_shells_and_cheese', 'mahi_mahi', 'malted_milk_ball', 'manchego_cheese', 'mandarin_oranges_in_juice', 'mango_pulp', 'marzipan', 'matzo', 'matzo_farfel', 'meat_stock', 'mexican_rice', 'mexican_tomato', 'mild_taco_sauce', 'milk_chocolate_piece', 'minced_chicken', 'miniature_party_rye_round', 'miniature_pretzel', 'mixed_baby_lettuces_and_spring_green', 'mixed_cheese', 'mixed_pepper', 'mixed_sprout', 'mustard_oil', 'naan_bread', 'nacho_cheese_soup', 'natural_applesauce', 'nestle_toll_house_butterscotch_flavored_morsel', 'nonfat_chicken_broth', 'nonstick_spray_coating', 'oil_cured_olive', 'okra_pod', 'onion_roll', 'orange_food_coloring', 'orange_soda', 'oxtail', 'paneer_cheese', 'paper_baking_cup', 'paper_cup', 'paper_towel', 'parboiled_rice', 'parma_ham', 'pasteurized_liquid_egg_white', 'pastry_crust', 'peach_brandy', 'peach_juice', 'peach_pie_filling', 'peaches_in_light_syrup', 'pearl_tapioca', 'pepper_ring', 'peppermint_oil', 'pineapple_cake_mix', 'pineapple_slices_in_juice', 'pink_peppercorn', 'pinot_noir_wine', 'pizza_seasoning', 'pomegranate', 'pork_fat', 'portuguese_chourico', 'powdered_soy_protein_concentrate', 'prepared_tart_shell', 'prepared_vanilla_pudding', 'preserve', 'pretzel_twist', 'puree', 'rainbow_trout', 'raisin_bread', 'ranch_dip_mix', 'red_baking_apple', 'red_burgundy_wine', 'red_currant', 'red_grapefruit', 'red_paprika', 'red_sweet_pepper', 'reduced_calorie_italian_dressing', \"reese's_peanut_butter_cup\", 'reynolds_wrap_foil', 'ribbon', 'roasted_chicken_breast', 'roasted_pepper', 'roasted_pistachio', 'roasted_sweet_pepper', 'roasted_sweet_red_pepper', 'round_sourdough_loaf', 'rye_whiskey', 'salted_sunflower_seed', 'sea_bass_fillet', 'seedless_european_cucumber', 'semi_sweet_chocolate_bit', 'semisweet_chocolate_bar', 'serrano_ham', 'sherbet', 'shortbread_cookie', 'shortbread_cooky', 'shredded_wheat_cereal', 'simply_potatoes_diced_potatoes_with_onion', 'simply_potatoes_traditional_mashed_potato', 'skor_english_toffee_bit', 'small_caper', 'smoked_pork', 'somen_noodle', 'soup_mix', 'soy_crumbles', 'soya_milk', 'soybean_oil', 'spaetzle_noodle', 'sparkling_wine', 'spicy_pork_sausage', 'spinach_linguine', 'spinach_noodle', 'sponge_cake', 'stew_beef_chunk', 'strawberry_cake_mix', 'strawberry_ice_cream', 'sugar_cookie_mix', 'sugar_free_raspberry_gelatin', 'sugar_free_strawberry_gelatin', 'surimi', 'sweet_baking_chocolate', 'sweet_marsala_wine', 'sweet_pickle_juice', 'sweet_smoked_paprika', 'sweet_soy_sauce', 'sweet_yellow_onion', 'tabasco_brand_chipotle_pepper_sauce', 'tandoori_paste', 'thin_egg_noodle', 'tri_tip_roast', 'turkey_tenderloin', 'turkey_wing', 'tzatziki', 'unbaked_pie_crust', 'unrefined_sugar', 'unsalted_pumpkin_seed', 'unsweetened_apple_cider', 'unsweetened_frozen_peach_slice', 'unsweetened_sliced_peach', 'unsweetened_vanilla_almond_milk', 'vanilla_bean_paste', 'vanilla_cake_mix', 'veal_stock', 'veg_all', 'vegan_cream_cheese', 'vegetable_bouillon', 'vegetable_seasoning', 'vegetarian_ground_beef', 'veggie_crumbles', 'vital_wheat_gluten_flour', 'waffle', 'wheat_gluten', 'white_almond_bark', 'white_corn_tortilla', 'white_frosting', 'whole_chestnut', 'whole_milk_mozzarella', 'whole_wheat_linguine', 'whole_wheat_macaroni', 'whole_wheat_roll', 'wild_blueberry', 'wild_rice_mix', 'wood_chip', 'yellow_potato', 'yellow_rice', 'yogurt_cheese', 'zinfandel']\n"
     ]
    }
   ],
   "source": [
    "\n",
    "\n",
    "most_common_ingredients = list(recipe_ingredient_counts_filtered.keys())[:total_ingredient_count_filtered // 4]\n",
    "least_common_ingredients = list(recipe_ingredient_counts_filtered.keys())[total_ingredient_count_filtered // 4 * 3:]\n",
    "\n",
    "# make upper ban list until index 16\n",
    "most_common_ingredients = list(recipe_ingredient_counts_filtered.keys())[16:total_ingredient_count_filtered // 4]\n",
    "# limit occurence of lower edge ingredients to being required to occur in 10(?) recipes?\n",
    "print(f\"The most common remaining ingredients: {most_common_ingredients}\")\n",
    "print(\"\\n\")\n",
    "print(f\"The least common remaining ingredients{least_common_ingredients}\")"
   ]
  },
  {
   "cell_type": "code",
   "execution_count": 16,
   "metadata": {},
   "outputs": [
    {
     "name": "stdout",
     "output_type": "stream",
     "text": [
      "top tuples - top sources 5431\n",
      "top tuples - bot sources 61\n",
      "bot tuples - tot sources 4403\n",
      "bot tuples - bot sources 290\n"
     ]
    }
   ],
   "source": [
    "# print(len(most_common_sub_tuples))\n",
    "top_tuples_top_sources = [common_tuple for common_tuple in most_common_sub_tuples if common_tuple[0] in most_common_ingredients]\n",
    "top_tuples_bot_sources = [common_tuple for common_tuple in most_common_sub_tuples if common_tuple[0] in least_common_ingredients]\n",
    "\n",
    "bot_tuples_top_sources = [common_tuple for common_tuple in least_common_sub_tuples if common_tuple[0] in most_common_ingredients]\n",
    "bot_tuples_bot_sources = [common_tuple for common_tuple in least_common_sub_tuples if common_tuple[0] in least_common_ingredients]\n",
    "\n",
    "print(f\"top tuples - top sources {len(top_tuples_top_sources)}\")\n",
    "print(f\"top tuples - bot sources {len(top_tuples_bot_sources)}\")\n",
    "print(f\"bot tuples - tot sources {len(bot_tuples_top_sources)}\")\n",
    "print(f\"bot tuples - bot sources {len(bot_tuples_bot_sources)}\")"
   ]
  },
  {
   "cell_type": "code",
   "execution_count": 17,
   "metadata": {},
   "outputs": [
    {
     "data": {
      "text/plain": [
       "[('chicken_leg_quarter', 'smoked_salmon'),\n",
       " ('beef_top_round_steak', 'seasoning'),\n",
       " ('cream_soup', 'cream_of_mushroom_soup'),\n",
       " ('frozen_sweetened_strawberry', 'orange_slice'),\n",
       " ('fresh_udon_noodle', 'spaghetti_noodle')]"
      ]
     },
     "execution_count": 17,
     "metadata": {},
     "output_type": "execute_result"
    }
   ],
   "source": [
    "bot_tuples_bot_sources[:5]"
   ]
  },
  {
   "cell_type": "code",
   "execution_count": 18,
   "metadata": {},
   "outputs": [
    {
     "data": {
      "text/plain": [
       "[('lean_ground_beef', 'rice'),\n",
       " ('cream_of_mushroom_soup', 'cream_of_shrimp_soup'),\n",
       " ('whipping_cream', 'cream_cheese'),\n",
       " ('celery', 'grape'),\n",
       " ('red_lentil', 'red_bean')]"
      ]
     },
     "execution_count": 18,
     "metadata": {},
     "output_type": "execute_result"
    }
   ],
   "source": [
    "bot_tuples_top_sources[:5]"
   ]
  },
  {
   "cell_type": "code",
   "execution_count": 19,
   "metadata": {},
   "outputs": [
    {
     "data": {
      "text/plain": [
       "[('plum_jam', 'apricot_jam'),\n",
       " ('vegemite', 'marmite'),\n",
       " ('pepsi', 'coke'),\n",
       " ('lean_ground_chicken', 'ground_turkey'),\n",
       " ('yellow_hominy', 'corn')]"
      ]
     },
     "execution_count": 19,
     "metadata": {},
     "output_type": "execute_result"
    }
   ],
   "source": [
    "top_tuples_bot_sources[:5]"
   ]
  },
  {
   "cell_type": "code",
   "execution_count": 20,
   "metadata": {},
   "outputs": [
    {
     "name": "stdout",
     "output_type": "stream",
     "text": [
      "[]\n"
     ]
    }
   ],
   "source": [
    "recipe_ingredient_pair = ('hot_pork_sausage', 'turkey_sausage')\n",
    "recipe_ids = recipes_per_ingredient_pairs[('hot_pork_sausage', 'turkey_sausage')]\n",
    "print(recipe_ids)"
   ]
  },
  {
   "cell_type": "code",
   "execution_count": 21,
   "metadata": {},
   "outputs": [
    {
     "name": "stdout",
     "output_type": "stream",
     "text": [
      "['d7c2a81e73', '8886e63259']\n",
      "[]\n",
      "[]\n"
     ]
    }
   ],
   "source": [
    "print(recipes_per_ingredient_pairs[('1%_fat_buttermilk', '1%_fat_cottage_cheese')])\n",
    "print(recipes_per_ingredient_pairs[('hot_pork_sausage', 'turkey_sausage')])\n",
    "print(recipes_per_ingredient_pairs[('cooked_ham', 'pork')])\n",
    "# print(recipes_per_ingredient_pairs[('pork', 'cooked_ham')])\n",
    "# I should check that... if, for a recipe, there are gt subst for which not both ingredients are contained in the recipe ingredient set, then this must be filtered (and can also help maybe understanding some of the performance of the gismo model)"
   ]
  },
  {
   "cell_type": "code",
   "execution_count": null,
   "metadata": {},
   "outputs": [],
   "source": []
  },
  {
   "cell_type": "markdown",
   "metadata": {},
   "source": [
    "## Get recipes where the sub source is one of the ingredients with the highest weight "
   ]
  },
  {
   "cell_type": "code",
   "execution_count": 22,
   "metadata": {},
   "outputs": [
    {
     "name": "stdout",
     "output_type": "stream",
     "text": [
      "['onion', 'scallion']\n",
      "{'2 puff pastry sheets': 2.0, '2 (6 ounce) cans tuna (I used salmon and crab before)': 56.699, '2 tablespoons chopped onions': 29.5736, '2 tablespoons chopped celery': 29.5736, '12 cup mayonnaise': 118.294, '4 slices American cheese, cut in half': 4.0}\n",
      "3\n"
     ]
    }
   ],
   "source": [
    "def getAbsoluteRankOfIngredient(ingredient, recipe):\n",
    "    ingredient_quantities = recipe[\"ingredient_quantities\"]\n",
    "    # sort the quantities dict\n",
    "    ingredient_quantities = dict(sorted(ingredient_quantities.items(), key=lambda item: item[1], reverse=True))\n",
    "\n",
    "    # get the 1m name from recipe\n",
    "    for _ingr_gismo, _ingr_1m in zip(recipe[\"ingredients\"], recipe[\"original_ingredients\"]):\n",
    "        is_found = False\n",
    "        if isinstance(_ingr_gismo, list):\n",
    "            for _ingr_var_gismo in _ingr_gismo:\n",
    "                if _ingr_var_gismo == ingredient:\n",
    "                    ingredient = _ingr_1m\n",
    "                    is_found = True\n",
    "                    break\n",
    "        else:\n",
    "            if _ingr_gismo == ingredient:\n",
    "                ingredient = _ingr_1m\n",
    "                break\n",
    "        if is_found:\n",
    "            break\n",
    "\n",
    "\n",
    "    rank = len(ingredient_quantities)\n",
    "    # get placement of ingredient\n",
    "    for i, ingr_with_quantity  in enumerate(list(ingredient_quantities.keys())):\n",
    "        if ingr_with_quantity == ingredient:\n",
    "            rank = i + 1\n",
    "\n",
    "    return rank\n",
    "\n",
    "def getRelativeRankOfIngredient(ingredient, recipe):\n",
    "    absolute_rank = getAbsoluteRankOfIngredient(ingredient, recipe)\n",
    "    relative_rank = absolute_rank / len(recipe[\"ingredients\"])\n",
    "    return relative_rank\n",
    "\n",
    "# if relative rank <= 0.25:\n",
    "#  add the gismo recipe and the gt sample to the list of candidate recipe substitutions\n",
    "\n",
    "rec = recipes_extended_dict[\"ffb1c2b5ad\"]\n",
    "sub = rec[\"subs_collection\"][0]\n",
    "source = sub[0]\n",
    "source_rank = getAbsoluteRankOfIngredient(source, rec)\n",
    "print(sub)\n",
    "print(rec[\"ingredient_quantities\"])\n",
    "print(source_rank)"
   ]
  },
  {
   "cell_type": "code",
   "execution_count": 23,
   "metadata": {},
   "outputs": [],
   "source": [
    "def getSubRecipeCouplingsWhereSourceIsNthMostHeavyIngr(n, recipes_extended_dict, relative = False):\n",
    "    \"\"\"Creates a dict with substitution touple keys to a list of extended_recipes as values.\n",
    "\n",
    "    Args:\n",
    "        n (_type_): nth weight rank which should be achieved by the substitution source.\n",
    "        recipes_extended_dict (_type_): _description_\n",
    "    \"\"\"\n",
    "    recipes_to_substitution_tuple_candidates = {}\n",
    "    for __build_class__recipe_id, recipe in list(recipes_extended_dict.items()):\n",
    "        subs = recipe[\"subs_collection\"]\n",
    "        for sub in subs:\n",
    "            if not isinstance(sub, list):\n",
    "                assert(False)\n",
    "            source = sub[0]\n",
    "            target = sub[1]\n",
    "            sub_pair = (source, target)\n",
    "            if relative == False:\n",
    "                source_rank = getAbsoluteRankOfIngredient(source, recipe)\n",
    "            else: source_rank = getRelativeRankOfIngredient(source, recipe)\n",
    "            if source_rank <= n:\n",
    "                if sub_pair not in list(recipes_to_substitution_tuple_candidates.keys()):\n",
    "                    recipes_to_substitution_tuple_candidates[sub_pair] = []\n",
    "                recipes_to_substitution_tuple_candidates[sub_pair].append(recipe)\n",
    "    return recipes_to_substitution_tuple_candidates"
   ]
  },
  {
   "cell_type": "code",
   "execution_count": 24,
   "metadata": {},
   "outputs": [],
   "source": [
    "n = 3\n",
    "\n",
    "recipes_to_substitution_tuple_candidates = getSubRecipeCouplingsWhereSourceIsNthMostHeavyIngr(n, recipes_extended_dict)\n",
    "\n",
    "pass"
   ]
  },
  {
   "cell_type": "markdown",
   "metadata": {},
   "source": [
    "### filter the sub-pair - recipes-list candidates"
   ]
  },
  {
   "cell_type": "code",
   "execution_count": 25,
   "metadata": {},
   "outputs": [],
   "source": [
    "# do some post filtering on the candidtate tuples\n",
    "\n",
    "# filter the remaining recipes with nutri info in which the gt source plays a major role\n",
    "recipes_to_substitution_tuple_candidates = {sub_tuple: recipe_list for sub_tuple, recipe_list in list(recipes_to_substitution_tuple_candidates.items()) if not checkIngredientContainsBlacklistPhrase(sub_tuple[0], BLACKLIST_PHRASES)}\n",
    "\n",
    "\n",
    "# and filter out the very most common ingredients from the gismo dataset (should filter target as well?)\n",
    "recipes_to_substitution_tuple_candidates = {sub_tuple: recipe_list for sub_tuple, recipe_list in list(recipes_to_substitution_tuple_candidates.items()) if not sub_tuple[0] in very_most_common_ingrs}\n",
    "\n",
    "# filter the very least common ingredients (very few ingredients may have a hard time in inference, do for source and target)\n",
    "recipes_to_substitution_tuple_candidates = {sub_tuple: recipe_list for sub_tuple, recipe_list in list(recipes_to_substitution_tuple_candidates.items()) if not sub_tuple[0] in least_common_ingredients}\n",
    "recipes_to_substitution_tuple_candidates = {sub_tuple: recipe_list for sub_tuple, recipe_list in list(recipes_to_substitution_tuple_candidates.items()) if not sub_tuple[1] in least_common_ingredients}\n",
    "\n",
    "# filter out very short recipes\n",
    "for sub_pair, recipe_list in list(recipes_to_substitution_tuple_candidates.items()):\n",
    "    recipes_to_substitution_tuple_candidates[sub_pair] = [recipe for recipe in recipe_list if len(recipe[\"ingredients\"])>=3]\n",
    "\n",
    "# filter tuples such that we have at least 3 recipes to select from\n",
    "recipes_to_substitution_tuple_candidates = {sub_tuple: recipe_list for sub_tuple, recipe_list in list(recipes_to_substitution_tuple_candidates.items()) if len(recipe_list)>=3}\n",
    "\n"
   ]
  },
  {
   "cell_type": "code",
   "execution_count": 29,
   "metadata": {},
   "outputs": [
    {
     "name": "stdout",
     "output_type": "stream",
     "text": [
      "number of distinct gt substitution tuples 768\n"
     ]
    },
    {
     "name": "stdout",
     "output_type": "stream",
     "text": [
      "total number of recipe-tuple pairs 5302\n"
     ]
    }
   ],
   "source": [
    "print(f\"number of distinct gt substitution tuples {len(recipes_to_substitution_tuple_candidates)}\")\n",
    "\n",
    "nr_recipe_pair_combinations = 0\n",
    "for sub_pair, recipe_list in list(recipes_to_substitution_tuple_candidates.items()):\n",
    "    nr_recipe_pair_combinations += len(recipe_list)\n",
    "print(f\"total number of recipe-tuple pairs {nr_recipe_pair_combinations}\")"
   ]
  },
  {
   "cell_type": "code",
   "execution_count": 31,
   "metadata": {},
   "outputs": [],
   "source": [
    "with open(os.path.abspath(\"./outputs/recipes_to_substitution_tuple_candidate_common_filtered.pkl\"), \"wb\") as tmp_res_file:\n",
    "    pickle.dump(recipes_to_substitution_tuple_candidates, tmp_res_file)"
   ]
  },
  {
   "cell_type": "code",
   "execution_count": 23,
   "metadata": {},
   "outputs": [
    {
     "name": "stdout",
     "output_type": "stream",
     "text": [
      "('sliced_almond', 'walnut')\n",
      "('diced_tomato', 'tomato_sauce')\n",
      "('sliced_almond', 'pecan')\n",
      "('sliced_mushroom', 'broccoli')\n",
      "('vermicelli', 'spaghetti')\n",
      "('diced_tomato', 'crushed_tomato')\n",
      "('diced_tomato', 'rotel_tomato')\n",
      "('ice_cube', 'banana')\n",
      "('sliced_mushroom', 'onion')\n",
      "('ice', 'banana')\n",
      "('ice', 'water')\n"
     ]
    }
   ],
   "source": [
    "def printPairsForIngredientToken(ingredient_token, pairs):\n",
    "    for sub_pair in pairs:\n",
    "        if ingredient_token in sub_pair[0]:\n",
    "            print(sub_pair)\n",
    "\n",
    "query_ingredient = \"ice\"\n",
    "printPairsForIngredientToken(query_ingredient, list(recipes_to_substitution_tuple_candidates.keys()))"
   ]
  },
  {
   "cell_type": "code",
   "execution_count": 24,
   "metadata": {},
   "outputs": [
    {
     "name": "stdout",
     "output_type": "stream",
     "text": [
      "[('lean_ground_beef', 'chicken_breast'), ('goat_cheese', 'feta_cheese'), ('lemon', 'orange'), ('bay_scallop', 'shrimp'), ('chicken', 'turkey'), ('blueberry', 'strawberry'), ('apple', 'applesauce'), ('leek', 'scallion'), ('ground_beef', 'ground_turkey'), ('ground_beef', 'ground_sausage'), ('ground_beef', 'turkey_sausage'), ('ground_beef', 'turkey'), ('shortening', 'butter'), ('ground_turkey', 'ground_beef'), ('raisin', 'dried_apricot'), ('corn_flake', 'french_fried_onion'), ('green_pepper', 'red_pepper'), ('ground_turkey', 'beef'), ('ground_beef', 'ground_venison'), ('pistachio', 'almond'), ('catsup', 'tomato_sauce'), ('parsley', 'cilantro'), ('tomato_sauce', 'diced_tomato'), ('white_wine', 'chicken_broth'), ('yellow_squash', 'zucchini'), ('half_and_half', 'heavy_cream'), ('salsa', 'rotel_tomato'), ('salsa', 'rotel'), ('salsa', 'diced_tomato'), ('walnut', 'pecan'), ('semi_sweet_chocolate_chip', 'white_chocolate_chip'), ('italian_sausage', 'ground_beef'), ('banana', 'applesauce'), ('pecan', 'walnut'), ('cool_whip', 'whipped_cream'), ('low_sodium_chicken_broth', 'vegetable_broth'), ('red_wine_vinegar', 'lime_juice'), ('ground_beef', 'meat'), ('corn_flake', 'breadcrumb'), ('currant', 'date'), ('red_wine', 'water'), ('shortening', 'margarine'), ('ground_beef', 'italian_sausage'), ('beef_broth', 'chicken_broth'), ('pecan_half', 'walnut_half'), ('ground_beef', 'buffalo'), ('boneless_skinless_chicken_breast', 'shrimp'), ('extra_lean_ground_beef', 'ground_turkey'), ('fresh_strawberry', 'banana'), ('fresh_spinach', 'swiss_chard'), ('raisin', 'pecan'), ('raisin', 'chocolate_chip'), ('raisin', 'dried_cranberry'), ('raisin', 'cranberry'), ('raisin', 'dried_blueberry'), ('raisin', 'chip'), ('raisin', 'chocolate'), ('raisin', 'dried_cherry'), ('mushroom', 'red_bell_pepper'), ('plain_fat_free_yogurt', 'sour_cream'), ('kale_leaf', 'collard_green'), ('lean_ground_beef', 'ground_chicken'), ('lean_ground_beef', 'ground_turkey'), ('lean_ground_beef', 'turkey'), ('lean_ground_beef', 'sausage'), ('lean_ground_beef', 'meatball'), ('walnut_half', 'almond_half'), ('ground_beef', 'ground_chicken'), ('ritz_cracker', 'saltine_cracker'), ('tomato_paste', 'tomato_sauce'), ('semi_sweet_chocolate_chip', 'milk_chocolate_chip'), ('blueberry', 'raisin'), ('blueberry', 'raspberry'), ('pecan_half', 'mixed_nut'), ('pork_tenderloin', 'pork_loin_roast'), ('ground_turkey', 'ground_pork'), ('pine_nut', 'walnut'), ('pine_nut', 'almond'), ('chicken_breast', 'shrimp'), ('arugula_leaf', 'baby_spinach_leaf'), ('green_bell_pepper', 'red_bell_pepper'), ('ground_lamb', 'ground_beef'), ('strawberry', 'fruit'), ('monterey_jack_cheese', 'pepper'), ('half_and_half', 'whipping_cream'), ('graham_cracker_crumb', 'gingersnap_crumb'), ('leek', 'onion'), ('dry_white_wine', 'cooking_wine'), ('feta_cheese', 'goat_cheese'), ('feta_cheese', 'blue_cheese'), ('apple_cider', 'apple_juice'), ('boneless_skinless_chicken_breast', 'ground_turkey_breast'), ('ground_beef', 'chicken'), ('turkey_breast', 'chicken_breast'), ('cashew', 'almond'), ('sliced_almond', 'walnut'), ('elbow_macaroni', 'egg_noodle'), ('cilantro', 'parsley'), ('plain_yogurt', 'sour_cream'), ('fat_free_chicken_broth', 'vegetable_broth'), ('vinegar', 'lemon_juice'), ('green_bean', 'zucchini'), ('parsley', 'dill'), ('peanut', 'cashew'), ('vegetable_broth', 'beef_broth'), ('ground_beef', 'ground_pork'), ('shortening', 'lard'), ('cooked_ham', 'turkey_bacon'), ('dry_white_wine', 'chicken_broth'), ('dried_cranberry', 'raisin'), ('tahini', 'peanut_butter'), ('chili_powder', 'seasoning'), ('tequila', 'vodka'), ('spaghetti_sauce', 'marinara_sauce'), ('elbow_macaroni', 'pasta'), ('cornmeal', 'breadcrumb'), ('gin', 'vodka'), ('green_bell_pepper', 'red_pepper'), ('zucchini', 'summer_squash'), ('walnut', 'raisin'), ('fat_free_chicken_broth', 'beef_broth'), ('white_wine', 'white_wine_vinegar'), ('fresh_cilantro', 'fresh_parsley'), ('fresh_cilantro', 'parsley'), ('tortilla_chip', 'corn_tortilla_chip'), ('white_vinegar', 'rice_vinegar'), ('ketchup', 'chili_sauce'), ('chili_sauce', 'ketchup'), ('unsweetened_applesauce', 'banana'), ('ground_beef', 'sausage'), ('vinegar', 'apple_cider_vinegar'), ('white_vinegar', 'apple_cider_vinegar'), ('snow_pea', 'sugar_snap_pea'), ('strawberry', 'blueberry'), ('miracle_whip', 'mayonnaise'), ('pecan', 'toasted_almond'), ('raisin', 'sultana'), ('fresh_spinach', 'broccoli'), ('blue_cheese', 'gorgonzola'), ('spaghetti', 'pasta'), ('salsa', 'enchilada_sauce'), ('pork_roast', 'pork_chop'), ('ginger_ale', 'sprite'), ('raspberry', 'strawberry'), ('low_fat_cottage_cheese', 'ricotta_cheese'), ('walnut', 'pine_nut'), ('pecan', 'mixed_nut'), ('pecan', 'almond'), ('ground_beef', 'pork_sausage'), ('green_pepper', 'red_bell_pepper'), ('ketchup', 'tomato_paste'), ('beer', 'water'), ('dry_red_wine', 'beef_broth'), ('walnut', 'chocolate_chip'), ('beef_stock', 'chicken_stock'), ('beer', 'chicken_broth'), ('dried_rosemary', 'oregano'), ('lettuce', 'spinach'), ('smoked_sausage', 'ham'), ('chicken_stock', 'vegetable_stock'), ('chicken_stock', 'broth'), ('banana', 'pumpkin'), ('pecan_half', 'almond_half'), ('dry_red_wine', 'water'), ('blueberry', 'chocolate_chip'), ('blueberry', 'frozen_blueberry'), ('blueberry', 'blackberry'), ('cheddar_cheese', 'fat'), ('shortening', 'oil'), ('sun_dried_tomato', 'roasted_red_pepper'), ('strawberry', 'raspberry'), ('half_and_half', 'cream'), ('half_and_half', 'whole_milk'), ('cooked_chicken', 'turkey'), ('bacon', 'sausage'), ('dry_white_wine', 'stock'), ('grand_marnier', 'triple_sec'), ('prosciutto', 'bacon'), ('nonfat_yogurt', 'sour_cream'), ('bean_sprout', 'cabbage'), ('okra', 'zucchini'), ('cottage_cheese', 'cream_cheese'), ('lean_ground_beef', 'ground_pork'), ('lean_ground_beef', 'steak'), ('cottage_cheese', 'ricotta_cheese'), ('chocolate_chip', 'nut'), ('bulgur', 'quinoa'), ('bacon', 'ham'), ('vegetable_stock', 'water'), ('ground_pork', 'ground_turkey'), ('paprika', 'chili_powder'), ('chicken_thigh', 'chicken_breast'), ('walnut', 'hazelnut'), ('creme_fraiche', 'sour_cream'), ('salsa', 'tomato'), ('green_bean', 'sugar_snap_pea'), ('sausage', 'bacon'), ('beef_broth', 'water'), ('half_and_half', 'fat'), ('scallion', 'white_onion'), ('frozen_white_corn', 'hominy'), ('cauliflower', 'broccoli'), ('walnut_piece', 'almond'), ('walnut_piece', 'pecan_piece'), ('diced_tomato', 'tomato_sauce'), ('raisin', 'date'), ('ground_turkey', 'hamburger'), ('ground_turkey', 'ground_chicken'), ('italian_sausage', 'ground_turkey'), ('italian_sausage', 'breakfast_sausage'), ('date', 'raisin'), ('dry_red_wine', 'cranberry_juice'), ('tomato_sauce', 'pizza_sauce'), ('tomato_sauce', 'pasta_sauce'), ('tomato_sauce', 'spaghetti_sauce'), ('blueberry', 'muffin'), ('balsamic_vinegar', 'red_wine_vinegar'), ('macaroni', 'egg_noodle'), ('walnut', 'almond'), ('walnut', 'slivered_almond'), ('pork_sausage', 'ground_beef'), ('ham', 'bacon'), ('chicken_wing', 'chicken_leg'), ('beef', 'chicken'), ('feta_cheese', 'parmesan_cheese'), ('canned_pumpkin', 'squash'), ('whole_almond', 'walnut'), ('half_and_half', 'milk'), ('dry_white_wine', 'dry_sherry'), ('ground_beef', 'steak'), ('pork_tenderloin', 'pork_steak'), ('vodka', 'gin'), ('raisin', 'currant'), ('apple', 'pear'), ('mascarpone_cheese', 'cream_cheese'), ('vegetable_broth', 'chicken_broth'), ('applesauce', 'oil'), ('cocoa_powder', 'hot_cocoa_mix'), ('ketchup', 'tomato_sauce'), ('pork_tenderloin', 'pork_chop'), ('lean_ground_beef', 'lean_ground_turkey'), ('picante_sauce', 'salsa'), ('fresh_chive', 'scallion'), ('kidney_bean', 'black_bean'), ('white_vinegar', 'lemon_juice'), ('pepperoni', 'sausage'), ('pancetta', 'bacon'), ('ground_beef', 'bulk_sausage'), ('blueberry', 'cherry'), ('chicken_broth_with_roasted_garlic', 'garlic_powder'), ('balsamic_vinegar', 'balsamic_glaze'), ('ground_chuck', 'ground_turkey'), ('bacon', 'turkey_bacon'), ('graham_cracker_crumb', 'wafer'), ('lean_ground_turkey', 'beef'), ('frozen_pea', 'broccoli'), ('cool_whip', 'whipping_cream'), ('bacon', 'bacon_bit'), ('chicken_breast', 'pork'), ('ritz_cracker_crumb', 'breadcrumb'), ('pearl_barley', 'rice'), ('shortening', 'coconut_oil'), ('lean_ground_beef', 'turkey_meat'), ('lean_ground_beef', 'italian_sausage'), ('chicken_stock', 'beef_stock'), ('nut', 'coconut'), ('rotel', 'salsa'), ('ground_pork', 'ground_chicken'), ('lemon', 'lime'), ('beef_stew_meat', 'venison'), ('pine_nut', 'toasted_almond'), ('cornmeal', 'cornbread'), ('broccoli', 'mushroom'), ('extra_firm_silken_tofu', 'chicken'), ('walnut', 'sliced_almond'), ('sweet_relish', 'dill_relish'), ('ground_pork', 'beef'), ('fresh_raspberry', 'blueberry'), ('corn_flake', 'rice'), ('spaghetti', 'fettuccine'), ('lean_ground_turkey', 'ground_beef'), ('cooked_ham', 'bacon'), ('coleslaw', 'broccoli'), ('beef', 'ground_turkey'), ('spaghetti', 'egg_noodle'), ('cooked_turkey', 'chicken_breast'), ('beer', 'beef_broth'), ('cider_vinegar', 'lemon_juice'), ('shortening', 'unsalted_butter'), ('swiss_chard', 'spinach'), ('cilantro', 'green_onion'), ('banana', 'apple'), ('zucchini', 'banana'), ('boneless_skinless_chicken_breast', 'turkey_breast'), ('cashew', 'pecan'), ('white_wine', 'chicken_stock'), ('cool_whip', 'dream_whip'), ('italian_sausage', 'meatball'), ('dried_currant', 'dried_cranberry'), ('hamburger', 'ground_turkey'), ('agave_nectar', 'honey'), ('tomato_sauce', 'crushed_tomato'), ('cider_vinegar', 'balsamic_vinegar'), ('ground_beef', 'chicken_broth'), ('pecan', 'sliced_almond'), ('yogurt', 'sour_cream'), ('cranberry', 'blueberry'), ('cranberry', 'dried_cherry'), ('ground_beef', 'meatball'), ('salsa', 'picante_sauce'), ('blue_cheese', 'feta_cheese'), ('chocolate_chip', 'walnut'), ('chocolate_chip', 'raisin'), ('tomato_puree', 'diced_tomato'), ('frozen_blueberry', 'chocolate_chip'), ('frozen_blueberry', 'raspberry'), ('frozen_hash_brown', 'tater_tot'), ('vegetable_broth', 'water'), ('sea_scallop', 'shrimp'), ('peanut', 'walnut'), ('tomato_sauce', 'salsa'), ('cooked_turkey', 'chicken'), ('chicken_breast', 'sausage'), ('cherry_pie_filling', 'blueberry_pie_filling'), ('dry_white_wine', 'chicken_stock'), ('corn_chip', 'tortilla_chip'), ('ground_beef', 'lean_ground_turkey'), ('ground_beef', 'ground_turkey_breast'), ('ground_beef', 'ground_lamb'), ('pork_tenderloin', 'chicken_breast'), ('ground_turkey', 'lean_ground_beef'), ('cilantro_leaf', 'parsley'), ('hazelnut', 'walnut'), ('dry_white_wine', 'dry_vermouth'), ('medium_shrimp', 'lobster'), ('white_wine', 'water'), ('blueberry', 'dried_cranberry'), ('chicken_thigh', 'tofu'), ('walnut', 'sunflower_seed'), ('ketchup', 'heinz_chili_sauce'), ('chives', 'scallion'), ('sliced_almond', 'pecan'), ('beef', 'venison'), ('shrimp', 'chicken'), ('raisin', 'walnut'), ('boneless_chicken_thigh', 'pork'), ('miracle_whip', 'sour_cream'), ('pine_nut', 'slivered_almond'), ('broccoli', 'green_bean'), ('tomato_sauce', 'taco_sauce'), ('broccoli_floret', 'green_bean'), ('ham', 'sausage'), ('almond', 'pecan'), ('tuna', 'canned_salmon'), ('cabbage', 'sauerkraut'), ('white_wine', 'lemon_juice'), ('ground_beef', 'hamburger'), ('chicken_stock', 'vegetable_broth'), ('black_olive', 'kalamata_olive'), ('bisquick', 'pancake_mix'), ('zucchini', 'apple'), ('ground_beef', 'pork'), ('cauliflower_floret', 'broccoli_floret'), ('chicken_piece', 'chicken_breast'), ('whole_almond', 'pecan'), ('low_sodium_chicken_broth', 'water'), ('corn_flake', 'ritz_cracker'), ('white_wine', 'apple_juice'), ('semi_sweet_chocolate_chip', 'peanut_butter_chip'), ('white_wine', 'cooking_sherry'), ('pork_tenderloin', 'chicken_tenderloin'), ('triple_sec', 'grand_marnier'), ('lime', 'lemon'), ('turkey', 'chicken'), ('cooked_chicken', 'ground_beef'), ('tomato_puree', 'tomato_sauce'), ('arugula', 'spinach'), ('plain_yogurt', 'coconut_milk'), ('ground_beef', 'ground_round'), ('ground_beef', 'roast_beef'), ('ground_beef', 'venison'), ('ground_chicken', 'ground_turkey'), ('walnut_half', 'pecan_half'), ('tomato_sauce', 'ketchup'), ('italian_sausage', 'hamburger'), ('italian_sausage', 'turkey_meatball'), ('chives', 'green_onion'), ('kielbasa', 'sausage'), ('almond', 'walnut'), ('pea', 'corn'), ('kale', 'collard_green'), ('kale', 'spinach'), ('beef_stew_meat', 'chicken_meat'), ('frozen_hash_brown', 'potato'), ('sausage', 'ham'), ('marsala_wine', 'white_wine'), ('pork_tenderloin', 'boneless_pork_chop'), ('jicama', 'water_chestnut'), ('zucchini', 'mushroom'), ('hamburger', 'sausage'), ('pistachio', 'pecan'), ('italian_sausage', 'meat'), ('chocolate_chip', 'chocolate_bar'), ('pine_nut', 'sunflower_seed'), ('chocolate_chip', 'peanut_butter_chip'), ('fresh_basil', 'cilantro'), ('sliced_mushroom', 'broccoli'), ('raisin', 'white_chocolate_chip'), ('cabbage', 'coleslaw_mix'), ('cabbage', 'potato'), ('zucchini', 'yellow_squash'), ('sea_scallop', 'bay_scallop'), ('cider_vinegar', 'white_wine_vinegar'), ('lean_ground_beef', 'ground_turkey_breast'), ('vegetable_stock', 'chicken_broth'), ('vegetable_stock', 'chicken_stock'), ('chocolate_chip', 'mint_chip'), ('chicken', 'ground_beef'), ('zucchini', 'cucumber'), ('semi_sweet_chocolate_chip', 'carob_chip'), ('chicken_stock', 'turkey_stock'), ('chicken_broth_with_roasted_garlic', 'clove'), ('deli_ham', 'bacon'), ('pork_sausage', 'bacon'), ('lean_ground_beef', 'ground_sausage'), ('frozen_pea', 'green_bean'), ('walnut', 'macadamia_nut'), ('fresh_mushrooms', 'onion'), ('cheddar_cheese', 'colby_cheese'), ('shortening', 'olive_oil'), ('vanilla_wafer_crumb', 'graham_cracker_crumb'), ('macadamia_nut', 'walnut'), ('oleo', 'butter'), ('matzo_meal', 'breadcrumb'), ('ground_pork', 'sausage'), ('fresh_blackberry', 'blueberry'), ('ground_turkey', 'extra_lean_ground_beef'), ('boneless_skinless_chicken_breast', 'pork'), ('fresh_spinach', 'water'), ('vegetable_broth', 'chicken_stock'), ('green_pepper', 'jalapeno_pepper'), ('white_wine', 'broth'), ('italian_sausage', 'fat'), ('linguine', 'noodle'), ('vegetable_shortening', 'margarine'), ('zucchini', 'carrot'), ('shortening', 'canola_oil'), ('vegetable_shortening', 'butter'), ('raspberry', 'blueberry'), ('raw_shrimp', 'chicken'), ('corn_tortilla', 'flour_tortilla'), ('smoked_sausage', 'bacon'), ('chocolate_chip', 'butterscotch_chip'), ('spaghetti', 'noodle'), ('vegetable_stock', 'beef_stock'), ('vegetable_stock', 'homemade_chicken_stock'), ('fresh_rosemary', 'fresh_basil'), ('pecan', 'cashew'), ('chicken_stock', 'water'), ('scallion', 'onion'), ('fresh_cilantro', 'basil'), ('slivered_almond', 'pecan'), ('bacon_grease', 'butter'), ('pine_nut', 'pecan_nut'), ('baby_spinach', 'lettuce'), ('salsa', 'pico_de_gallo'), ('crisco_shortening', 'butter'), ('cocoa_powder', 'carob_powder'), ('ground_beef', 'chicken_breast'), ('rhubarb', 'apple'), ('lemon_mayonnaise', 'lime_juice'), ('peanut', 'pecan'), ('semi_sweet_chocolate_chip', 'chocolate_bar'), ('chicken_breast', 'turkey_breast'), ('bacon', 'pancetta'), ('canned_pumpkin', 'sweet_potato'), ('raisin', 'mini_chocolate_chip'), ('shredded_cheddar_cheese', 'colby_cheese'), ('lean_ground_beef', 'meat'), ('red_wine_vinegar', 'balsamic_vinegar'), ('gorgonzola', 'blue_cheese'), ('frozen_pea', 'mushroom'), ('extra_large_shrimp', 'chicken'), ('italian_sausage', 'chicken_sausage'), ('pecan', 'coconut'), ('pecan', 'chocolate_chip'), ('beer', 'red_wine'), ('raisin', 'apple'), ('pecan', 'slivered_almond'), ('slivered_almond', 'peanut'), ('dry_white_wine', 'apple_juice'), ('dry_white_wine', 'water'), ('macadamia_nut', 'almond'), ('nut', 'oatmeal'), ('frozen_pea', 'frozen_corn'), ('boneless_skinless_chicken_breast', 'beef'), ('bacon', 'breakfast_sausage'), ('canned_pumpkin', 'butternut_squash'), ('white_wine', 'champagne'), ('cheese_tortellini', 'cheese_ravioli'), ('green_pepper', 'yellow_pepper'), ('oat_bran', 'wheat_bran'), ('fresh_tomato', 'diced_tomato'), ('ground_beef', 'breakfast_sausage'), ('ground_beef', 'kidney_bean'), ('vinegar', 'fresh_lemon_juice'), ('pecan', 'hazelnut'), ('slivered_almond', 'walnut'), ('snow_pea', 'broccoli'), ('fat_free_ricotta_cheese', 'cottage_cheese'), ('golden_raisin', 'dried_cranberry'), ('semi_sweet_chocolate_chip', 'walnut'), ('red_wine', 'red_wine_vinegar'), ('semi_sweet_chocolate_chip', 'nut'), ('broccoli', 'cauliflower'), ('apricot', 'peach'), ('tequila', 'rum'), ('shrimp', 'crab'), ('beef_broth', 'vegetable_broth'), ('ground_turkey', 'chicken'), ('ground_turkey', 'mushroom'), ('bacon', 'salt_pork'), ('plain_nonfat_yogurt', 'sour_cream'), ('blueberry', 'peach'), ('scallion', 'chive'), ('cooked_ham', 'sausage'), ('vodka', 'rum'), ('cooked_ham', 'mushroom'), ('cooked_ham', 'chicken'), ('ground_pork', 'ground_beef'), ('lard', 'butter'), ('boneless_skinless_chicken_breast', 'ground_beef'), ('dry_white_wine', 'sake'), ('vermicelli', 'spaghetti'), ('crisco', 'butter'), ('chicken_stock', 'beef_broth'), ('ground_beef', 'lamb'), ('raisin', 'blueberry'), ('kale_leaf', 'spinach_leaf'), ('plain_low_fat_yogurt', 'sour_cream'), ('diced_tomato', 'crushed_tomato'), ('currant', 'raisin'), ('lean_ground_beef', 'venison'), ('cider_vinegar', 'white_vinegar'), ('ricotta_cheese', 'cottage_cheese'), ('red_wine', 'beef_broth'), ('crushed_pineapple', 'peach'), ('baby_arugula', 'spinach'), ('broccoli', 'spinach'), ('beef_flank_steak', 'chicken'), ('shredded_cheddar_cheese', 'pepper'), ('cooked_chicken', 'beef'), ('cooked_chicken', 'meat'), ('ground_chicken', 'chicken_breast'), ('fresh_raspberry', 'blackberry'), ('kale', 'fresh_spinach'), ('skinless_boneless_turkey_breast', 'chicken_breast'), ('pecan', 'peanut'), ('breakfast_sausage', 'bacon'), ('chocolate_chip', 'blueberry'), ('chocolate_chip', 'white_chocolate_chip'), ('white_vinegar', 'red_wine_vinegar'), ('tomato_sauce', 'water'), ('shortening', 'vegetable_oil'), ('italian_sausage', 'turkey_sausage'), ('salsa', 'taco_sauce'), ('chocolate_chip', 'pecan'), ('green_olive', 'kalamata_olive'), ('diced_tomato', 'rotel_tomato'), ('cooked_chicken', 'cream'), ('pecan_piece', 'walnut_piece'), ('cottage_cheese', 'sour_cream'), ('ice_cube', 'banana'), ('walnut', 'white_chocolate_chip'), ('ground_beef', 'stew_meat'), ('low_sodium_chicken_broth', 'vegetable_stock'), ('white_vinegar', 'white_wine_vinegar'), ('pork_tenderloin', 'shrimp'), ('fresh_strawberry', 'raspberry'), ('hazelnut', 'almond'), ('caper', 'green_olive'), ('flank_steak', 'sirloin_steak'), ('frozen_chopped_broccoli', 'cauliflower'), ('vodka', 'vanilla_vodka'), ('elbow_macaroni', 'penne_pasta'), ('black_bean', 'kidney_bean'), ('ground_beef', 'tofu'), ('cabbage', 'lettuce'), ('cooked_chicken', 'tuna'), ('beef_stock', 'water'), ('whole_chicken', 'chicken_breast'), ('shortening', 'applesauce'), ('refried_bean', 'black_bean'), ('lean_ground_beef', 'chicken'), ('lean_ground_beef', 'sirloin_beef'), ('chocolate_chip', 'almond_bark'), ('toasted_hazelnut', 'almond'), ('red_wine_vinegar', 'cider_vinegar'), ('american_cheese', 'cheddar_cheese'), ('cherry_tomato', 'plum_tomato'), ('scallion', 'shallot'), ('boneless_skinless_chicken', 'tofu'), ('zucchini', 'broccoli'), ('ground_beef', 'boneless_skinless_chicken_breast'), ('nectarine', 'peach'), ('parsley', 'basil'), ('fresh_spinach', 'kale'), ('half_and_half', 'skim_milk'), ('chicken_stock', 'chicken_broth'), ('frozen_pea', 'frozen_green_bean'), ('sliced_mushroom', 'onion'), ('green_bean', 'broccoli'), ('feta_cheese', 'gorgonzola'), ('tahini', 'sesame_oil'), ('cooked_chicken', 'pork'), ('pork_tenderloin', 'ground_pork'), ('beer', 'apple_juice'), ('date', 'dried_cranberry'), ('canadian_bacon', 'ham'), ('strawberry', 'banana'), ('boneless_skinless_chicken_breast', 'tofu'), ('red_wine_vinegar', 'rice_wine_vinegar'), ('red_wine', 'white_wine'), ('dried_cranberry', 'dried_cherry'), ('graham_cracker_crumb', 'vanilla_wafer_crumb'), ('miracle_whip', 'fat'), ('frozen_corn', 'canned_corn'), ('tomato_sauce', 'tomato_paste'), ('ketchup', 'tomato'), ('taco_sauce', 'salsa'), ('pine_nut', 'pistachio_nut'), ('apple', 'blueberry'), ('nut', 'raisin'), ('nut', 'chocolate_chip'), ('low_sodium_chicken_broth', 'beef_broth'), ('beef_stew_meat', 'roast'), ('ketchup', 'barbecue_sauce'), ('yam', 'sweet_potato'), ('semi_sweet_chocolate_chip', 'dark_chocolate_chip'), ('zucchini', 'squash'), ('red_wine_vinegar', 'lemon_juice'), ('fresh_chive', 'green_onion'), ('fresh_raspberry', 'strawberry'), ('gruyere_cheese', 'swiss_cheese'), ('canned_chicken_broth', 'vegetable_broth'), ('low_fat_cottage_cheese', 'cream_cheese'), ('pea', 'green_bean'), ('kielbasa', 'smoked_sausage'), ('pumpkin_puree', 'sweet_potato_puree'), ('ground_chicken', 'turkey'), ('cabbage', 'kale'), ('ham', 'chicken'), ('cooked_chicken', 'tofu'), ('spaghetti_sauce', 'pizza_sauce'), ('spinach', 'kale'), ('slivered_almond', 'cashew'), ('club_soda', 'lime_soda'), ('pork_sausage', 'ham'), ('green_bean', 'pea'), ('dried_apricot', 'dried_cranberry'), ('green_cabbage', 'coleslaw_mix'), ('flat_leaf_parsley', 'cilantro'), ('italian_seasoning', 'herb'), ('parsnip', 'potato'), ('walnut', 'chip'), ('chicken_stock', 'white_wine'), ('halibut_fillet', 'cod'), ('pear', 'apple'), ('tomato_paste', 'ketchup'), ('pumpkin', 'butternut_squash'), ('beef_broth', 'red_wine'), ('sherry_wine_vinegar', 'red_wine_vinegar'), ('linguine', 'spaghetti'), ('cooked_chicken', 'canned_chicken'), ('nutmeg', 'allspice'), ('lean_ground_beef', 'lamb'), ('lettuce', 'baby_spinach'), ('cracker_crumb', 'breadcrumb'), ('unsweetened_cocoa_powder', 'chocolate'), ('date', 'dried_apricot'), ('black_bean', 'pinto_bean'), ('chicken', 'shrimp'), ('low_sodium_chicken_broth', 'stock'), ('club_soda', 'ginger_ale'), ('pork', 'chicken'), ('sake', 'mirin'), ('graham_cracker_crumb', 'cookie_crumb'), ('vegetable_shortening', 'lard'), ('ice', 'banana'), ('barley', 'rice'), ('coffee', 'espresso'), ('pepperoni', 'salami'), ('sole_fillet', 'cod'), ('ground_chuck', 'ground_sirloin'), ('barley', 'brown_rice'), ('scallion', 'vidalia_onion'), ('fresh_basil', 'parsley'), ('yellow_cornmeal', 'polenta'), ('tomato_puree', 'tomato_paste'), ('vinegar', 'pickle_juice'), ('cracker', 'breadcrumb'), ('crabmeat', 'shrimp'), ('fish_sauce', 'soy_sauce'), ('frozen_strawberry', 'raspberry'), ('frozen_chopped_spinach', 'broccoli'), ('tomato_soup', 'tomato_sauce'), ('green_olive', 'black_olive'), ('frozen_pea', 'edamame'), ('dried_cherry', 'dried_cranberry'), ('vegetable_shortening', 'coconut_oil'), ('green_bean', 'snow_pea'), ('lean_ground_beef', 'buffalo'), ('peanut', 'cashew_nut'), ('zucchini', 'eggplant'), ('blueberry', 'apple'), ('half_and_half', 'evaporated_milk'), ('cherry_tomato', 'grape_tomato'), ('vanilla_yogurt', 'sour_cream'), ('plain_fat_free_yogurt', 'fat_free_sour_cream'), ('fresh_mushrooms', 'zucchini'), ('vegetable_stock', 'beef_broth'), ('oat_bran', 'wheat_germ'), ('round_steak', 'sirloin_steak'), ('bourbon', 'whiskey'), ('deli_turkey', 'chicken'), ('green_grape', 'red_grape'), ('beef_stock', 'chicken_broth'), ('almond', 'peanut'), ('monterey_jack_cheese', 'colby_cheese'), ('ice', 'water'), ('dry_white_wine', 'broth'), ('snow_pea', 'green_bean'), ('ground_lamb', 'beef'), ('dried_currant', 'raisin'), ('blueberry', 'saskatoon_berry'), ('red_wine_vinegar', 'apple_cider_vinegar'), ('frozen_spinach', 'broccoli'), ('blue_cheese_dressing', 'ranch_dressing'), ('raspberry', 'blackberry'), ('chicken', 'turkey_breast'), ('tomato_paste', 'pizza_sauce'), ('white_wine', 'milk'), ('dried_basil', 'italian_seasoning'), ('cottage_cheese', 'fat'), ('pea', 'broccoli'), ('baby_spinach_leaf', 'kale_leaf'), ('dried_parsley', 'basil'), ('lean_beef', 'ground_turkey'), ('triple_sec', 'orange_juice'), ('mushroom', 'carrot'), ('frozen_white_corn', 'frozen_pea'), ('corn', 'mexicorn'), ('ground_beef', 'pepperoni'), ('ground_almond', 'cashew'), ('nonfat_plain_yogurt', 'sour_cream'), ('broccoli_floret', 'cauliflower_floret'), ('applesauce', 'pear'), ('boneless_skinless_chicken', 'shrimp'), ('fresh_pumpkin', 'squash'), ('gorgonzola', 'goat_cheese'), ('chicken', 'canned_chicken'), ('chili_powder', 'paprika'), ('salmon_fillet', 'fish_fillet'), ('sausage', 'ground_beef'), ('lard', 'olive_oil'), ('date', 'prune'), ('walnut', 'cashew'), ('bisquick', 'flour')]\n"
     ]
    }
   ],
   "source": [
    "print(list(recipes_to_substitution_tuple_candidates.keys()))"
   ]
  },
  {
   "cell_type": "code",
   "execution_count": 29,
   "metadata": {},
   "outputs": [
    {
     "name": "stdout",
     "output_type": "stream",
     "text": [
      "63\n"
     ]
    }
   ],
   "source": [
    "short_recipe_count = 0\n",
    "\n",
    "for sub_pair, recipe_list in list(recipes_to_substitution_tuple_candidates.items()):\n",
    "    recipes_to_substitution_tuple_candidates[sub_pair] = [recipe for recipe in recipe_list if len(recipe[\"ingredients\"])>=3]\n",
    "\n",
    "\n",
    "for sub_pair, recipe_list in list(recipes_to_substitution_tuple_candidates.items()):\n",
    "    for recipe in recipe_list:\n",
    "        if len(recipe[\"ingredients\"]) < 4:\n",
    "            short_recipe_count += 1\n",
    "        # if len(recipe[\"ingredients\"])<4:\n",
    "        #     print(recipe[\"original_ingredients\"])\n",
    "    if len(recipe_list) < 3:\n",
    "        print(f\"recipes for recipe pair {sub_pair}: {len(recipe_list)}\")\n",
    "    # print(recipe_ingredient_counts[sub_pair[0]])\n",
    "\n",
    "print(short_recipe_count)"
   ]
  },
  {
   "cell_type": "markdown",
   "metadata": {},
   "source": [
    "## Make final preparations\n",
    "- sample form the candidate list, with 2-3 recipes per sub pair (maybe apply some of additional criteria layed out in the draft)\n",
    "- maybe balance that it is not too much meat or nuts\n",
    "- fill up with 2-3 recipes where the ingredient was not recommended\n",
    "- send it"
   ]
  },
  {
   "cell_type": "markdown",
   "metadata": {},
   "source": [
    "### sample from source ingredients with a range of how common they are in the recipe dataset."
   ]
  },
  {
   "cell_type": "code",
   "execution_count": 30,
   "metadata": {},
   "outputs": [
    {
     "name": "stdout",
     "output_type": "stream",
     "text": [
      "(('paprika', 'chili_powder'), [{'id': '1314caaf2a', 'ingredients': [['black_pepper', 'coarse_black_pepper', 'mccormick_black_pepper'], ['garlic_powder', 'salt_free_garlic_powder', 'garlic_powder_with_parsley'], ['paprika'], ['pork_chop', 'pork_chops', 'pork_neck'], ['vegetable_oil', 'vegetable_oil_cooking_spray', 'castor_oil'], ['bacon_grease'], ['flour']], 'subs': ['paprika', 'chili_powder'], 'instructions': ['Heat oven to 250F (low).', 'Mix spices together and rub generously onto both sides of chops.', 'Set aside.', 'Heat oil and bacon grease in a large skillet.', 'Dredge chops in flour (using a plastic grocery bag makes it super easy) and sear chops (in batches) over medium high heat just to brown the outside.', 'Add extra oil if necessary.', 'Place the chops into a 9x13 pan directly from the pan so the excess grease also goes into the baking dish.', 'When all the chops are seared and in the baking dish, cover very tightly with foil.', 'Bake for about 2 hours for perfect tenderness.'], 'title': 'Pork Chops Paprikash', 'original_ingredients': ['1 teaspoon black pepper', '1 tablespoon garlic powder', '2 tablespoons paprika', '8 pork chops', '2 tablespoons vegetable oil', '1 tablespoon bacon grease', 'flour, for dredging'], 'ingredient_quantities': {'1 teaspoon black pepper': 4.92892, '1 tablespoon garlic powder': 14.7868, '2 tablespoons paprika': 29.5736, '8 pork chops': 8.0, '2 tablespoons vegetable oil': 29.5736, '1 tablespoon bacon grease': 14.7868}, 'subs_collection': [['paprika', 'chili_powder'], ['vegetable_oil', 'olive_oil']]}, {'id': '1c1c165612', 'ingredients': [['potato', 'potatoes'], ['cooking_oil'], ['parmesan_cheese', 'fresh_parmesan_cheese'], ['salt', 'vegetable_salt', 'low_sodium_salt'], ['paprika'], ['pepper', 'peppers'], ['garlic_powder', 'salt_free_garlic_powder', 'garlic_powder_with_parsley']], 'subs': ['garlic_powder', 'onion_powder'], 'instructions': ['Wash potatoes, cut into wedges.', 'Place potatoes skin down in a baking dish.', 'Mix the next 6 ingredients together and brush onto potatoes.', 'Bake at 350 for 1 hour.'], 'title': 'Easy Baked Potato Wedges', 'original_ingredients': ['4 large potatoes', '14 cup cooking oil', '1 tablespoon parmesan cheese', '1 teaspoon salt', '1 tablespoon paprika', '12 teaspoon pepper', '12 teaspoon garlic powder'], 'ingredient_quantities': {'4 large potatoes': 4.0, '14 cup cooking oil': 59.147, '1 tablespoon parmesan cheese': 14.7868, '1 teaspoon salt': 4.92892, '1 tablespoon paprika': 14.7868, '12 teaspoon pepper': 2.46446, '12 teaspoon garlic powder': 2.46446}, 'subs_collection': [['garlic_powder', 'onion_powder'], ['paprika', 'chili_powder'], ['cooking_oil', 'olive_oil'], ['cooking_oil', 'seasoning']]}, {'id': 'f6277509fb', 'ingredients': [['chicken_breast', 'chicken_breasts', 'breaded_chicken_breast'], ['chicken_broth', 'chicken_broth_with_roasted_garlic'], ['olive_oil', 'lemon_infused_olive_oil'], ['paprika'], ['salt', 'vegetable_salt', 'low_sodium_salt'], ['pepper', 'peppers']], 'subs': ['paprika', 'spice'], 'instructions': ['Heat oven to 425 degrees.', 'Pour chicken broth over chicken.', 'Drizzle with olive oil.', 'Sprinkle with salt, pepper and paprika.', 'Bake for 45-55 minutes.', 'Enjoy!'], 'title': 'Easy Bone-In (Split) Chicken Breasts', 'original_ingredients': ['2 chicken breasts (Bone-In)', '2 cups chicken broth', 'olive oil', 'paprika', 'salt', 'pepper'], 'ingredient_quantities': {'2 chicken breasts (Bone-In)': 2.0, '2 cups chicken broth': 473.176}, 'subs_collection': [['paprika', 'spice'], ['paprika', 'chili_powder'], ['paprika', 'poultry_seasoning']]}, {'id': '331aa851cf', 'ingredients': [['paprika'], ['oregano'], ['cumin'], ['garlic_powder', 'salt_free_garlic_powder', 'garlic_powder_with_parsley'], ['cayenne_pepper', 'red_pepper_pod'], ['onion_powder', 'onion_and_garlic_powder']], 'subs': ['paprika', 'chili_powder'], 'instructions': [\"Mix'em up.\"], 'title': 'Chili Powder', 'original_ingredients': ['2 tablespoons paprika', '2 teaspoons oregano', '1 14 teaspoons cumin', '1 14 teaspoons garlic powder', '1 14 teaspoons cayenne pepper', '34 teaspoon onion powder'], 'ingredient_quantities': {'2 tablespoons paprika': 29.5736, '2 teaspoons oregano': 9.85784, '1 14 teaspoons cumin': 6.161149999999999, '1 14 teaspoons garlic powder': 6.161149999999999, '1 14 teaspoons cayenne pepper': 6.161149999999999, '34 teaspoon onion powder': 3.69669}, 'subs_collection': [['paprika', 'chili_powder']]}])\n"
     ]
    }
   ],
   "source": [
    "# print(recipe_ingredient_counts)\n",
    "_samples_ordered_by_source_ingredient_counts = [(sample, recipe_ingredient_counts[sample[0][0]]) for sample in list(recipes_to_substitution_tuple_candidates.items()) if sample[0][0] in recipe_ingredient_counts]\n",
    "_samples_ordered_by_source_ingredient_counts = sorted(_samples_ordered_by_source_ingredient_counts, key=lambda x: x[1], reverse=True)\n",
    "\n",
    "samples_ordered_by_source_ingredient_counts = {sample[0]: sample[1] for sample, _freq in _samples_ordered_by_source_ingredient_counts}\n",
    "\n",
    "print(list(samples_ordered_by_source_ingredient_counts.items())[0])\n",
    "\n"
   ]
  },
  {
   "cell_type": "code",
   "execution_count": 36,
   "metadata": {},
   "outputs": [
    {
     "name": "stdout",
     "output_type": "stream",
     "text": [
      "sample stride: 3\n",
      "number of sampled substitution pairs wiht gt reicpe lists appended 252\n"
     ]
    }
   ],
   "source": [
    "CANDIDATE_SAMPLES_SET_PATH = os.path.abspath(\"./outputs/survey_candidate_samples.pkl\")\n",
    "\n",
    "desired_nr_sample_keys = 190\n",
    "sample_stride = len(list(samples_ordered_by_source_ingredient_counts.items())) // desired_nr_sample_keys\n",
    "print(f\"sample stride: {sample_stride}\")\n",
    "substitution_candidates_with_gt_recipes = {sub_pair: recipe_list for sub_pair, recipe_list in list(samples_ordered_by_source_ingredient_counts.items())[::sample_stride]}\n",
    "\n",
    "print(f\"number of sampled substitution pairs wiht gt reicpe lists appended {len(substitution_candidates_with_gt_recipes)}\")\n",
    "\n",
    "# print_substitution_candidates_with_gt_recipes = [[list(sub_pair), recipe] for sub_pair, recipe in substitution_candidates_with_gt_recipes]\n",
    "with open(CANDIDATE_SAMPLES_SET_PATH, \"wb\") as candidate_samples_file:\n",
    "    pickle.dump(substitution_candidates_with_gt_recipes, candidate_samples_file, protocol=pickle.HIGHEST_PROTOCOL)\n"
   ]
  },
  {
   "cell_type": "markdown",
   "metadata": {},
   "source": [
    "### Build actual samples with 3 recipes from the gt set where the gt sub is recommended"
   ]
  },
  {
   "cell_type": "code",
   "execution_count": 178,
   "metadata": {},
   "outputs": [
    {
     "name": "stdout",
     "output_type": "stream",
     "text": [
      "756\n",
      "(('paprika', 'chili_powder'), {'id': '1314caaf2a', 'ingredients': [['black_pepper', 'coarse_black_pepper', 'mccormick_black_pepper'], ['garlic_powder', 'salt_free_garlic_powder', 'garlic_powder_with_parsley'], ['paprika'], ['pork_chop', 'pork_chops', 'pork_neck'], ['vegetable_oil', 'vegetable_oil_cooking_spray', 'castor_oil'], ['bacon_grease'], ['flour']], 'subs': ['paprika', 'chili_powder'], 'instructions': ['Heat oven to 250F (low).', 'Mix spices together and rub generously onto both sides of chops.', 'Set aside.', 'Heat oil and bacon grease in a large skillet.', 'Dredge chops in flour (using a plastic grocery bag makes it super easy) and sear chops (in batches) over medium high heat just to brown the outside.', 'Add extra oil if necessary.', 'Place the chops into a 9x13 pan directly from the pan so the excess grease also goes into the baking dish.', 'When all the chops are seared and in the baking dish, cover very tightly with foil.', 'Bake for about 2 hours for perfect tenderness.'], 'title': 'Pork Chops Paprikash', 'original_ingredients': ['1 teaspoon black pepper', '1 tablespoon garlic powder', '2 tablespoons paprika', '8 pork chops', '2 tablespoons vegetable oil', '1 tablespoon bacon grease', 'flour, for dredging'], 'ingredient_quantities': {'1 teaspoon black pepper': 4.92892, '1 tablespoon garlic powder': 14.7868, '2 tablespoons paprika': 29.5736, '8 pork chops': 8.0, '2 tablespoons vegetable oil': 29.5736, '1 tablespoon bacon grease': 14.7868}, 'subs_collection': [['paprika', 'chili_powder'], ['vegetable_oil', 'olive_oil']]})\n",
      "\n",
      "\n",
      "(('paprika', 'chili_powder'), {'id': '331aa851cf', 'ingredients': [['paprika'], ['oregano'], ['cumin'], ['garlic_powder', 'salt_free_garlic_powder', 'garlic_powder_with_parsley'], ['cayenne_pepper', 'red_pepper_pod'], ['onion_powder', 'onion_and_garlic_powder']], 'subs': ['paprika', 'chili_powder'], 'instructions': [\"Mix'em up.\"], 'title': 'Chili Powder', 'original_ingredients': ['2 tablespoons paprika', '2 teaspoons oregano', '1 14 teaspoons cumin', '1 14 teaspoons garlic powder', '1 14 teaspoons cayenne pepper', '34 teaspoon onion powder'], 'ingredient_quantities': {'2 tablespoons paprika': 29.5736, '2 teaspoons oregano': 9.85784, '1 14 teaspoons cumin': 6.161149999999999, '1 14 teaspoons garlic powder': 6.161149999999999, '1 14 teaspoons cayenne pepper': 6.161149999999999, '34 teaspoon onion powder': 3.69669}, 'subs_collection': [['paprika', 'chili_powder']]})\n",
      "\n",
      "\n",
      "(('paprika', 'chili_powder'), {'id': '1c1c165612', 'ingredients': [['potato', 'potatoes'], ['cooking_oil'], ['parmesan_cheese', 'fresh_parmesan_cheese'], ['salt', 'vegetable_salt', 'low_sodium_salt'], ['paprika'], ['pepper', 'peppers'], ['garlic_powder', 'salt_free_garlic_powder', 'garlic_powder_with_parsley']], 'subs': ['garlic_powder', 'onion_powder'], 'instructions': ['Wash potatoes, cut into wedges.', 'Place potatoes skin down in a baking dish.', 'Mix the next 6 ingredients together and brush onto potatoes.', 'Bake at 350 for 1 hour.'], 'title': 'Easy Baked Potato Wedges', 'original_ingredients': ['4 large potatoes', '14 cup cooking oil', '1 tablespoon parmesan cheese', '1 teaspoon salt', '1 tablespoon paprika', '12 teaspoon pepper', '12 teaspoon garlic powder'], 'ingredient_quantities': {'4 large potatoes': 4.0, '14 cup cooking oil': 59.147, '1 tablespoon parmesan cheese': 14.7868, '1 teaspoon salt': 4.92892, '1 tablespoon paprika': 14.7868, '12 teaspoon pepper': 2.46446, '12 teaspoon garlic powder': 2.46446}, 'subs_collection': [['garlic_powder', 'onion_powder'], ['paprika', 'chili_powder'], ['cooking_oil', 'olive_oil'], ['cooking_oil', 'seasoning']]})\n",
      "\n",
      "\n",
      "(('ground_beef', 'turkey_sausage'), {'id': 'c0d4ab70bd', 'ingredients': [['ground_beef'], ['salt_and_pepper'], ['toasted_sesame_oil'], ['garlic_clove', 'garlic_cloves'], ['green_onion', 'green_onions'], ['coleslaw', 'coleslaw_mix'], ['low_sodium_soy_sauce'], ['sriracha_sauce'], ['ginger_paste', 'ginger_puree'], ['white_vinegar'], ['sriracha_sauce']], 'subs': ['white_vinegar', 'rice_wine_vinegar'], 'instructions': ['Brown ground beef and season with salt and pepper to taste.', 'Remove from pan and set aside.', 'Heat up sesame oil and saute garlic, onions, and slaw in sesame oil until cabbage cooked to desired tenderness.', 'Stir in the soy sauce, Sriracha sauce, Splenda, ginger and vinegar.', 'Add back in hamburger.', 'Mix well and serve!', 'Serve with additional Sriracha sauce on the side for people who want to add spice.'], 'title': 'Crack Slaw - Low Carb', 'original_ingredients': ['1 lb ground beef', 'salt and pepper', '2 tablespoons toasted sesame oil', '2 garlic cloves, minced', '3 green onions, sliced', \"14 ounces coleslaw mix (if you don't want the carrots use the angel hair cole slaw or just shred up a head of cabbage)\", '2 tablespoons low sodium soy sauce', '12 teaspoon sriracha sauce (this will be pretty mild so add to taste or you can use pepper flakes to taste)', '1 (1 g) Splenda quick pack', '12 teaspoon ginger paste (you could also use 1/2 teaspoon fresh minced ginger or ground ginger)', '1 teaspoon white vinegar (any kind really)', 'sriracha sauce (to garnish)'], 'ingredient_quantities': {'1 lb ground beef': 453.592, '2 tablespoons toasted sesame oil': 29.5736, '2 garlic cloves, minced': 10.0, '3 green onions, sliced': 300.0, \"14 ounces coleslaw mix (if you don't want the carrots use the angel hair cole slaw or just shred up a head of cabbage)\": 7.087375, '2 tablespoons low sodium soy sauce': 29.5736, '12 teaspoon sriracha sauce (this will be pretty mild so add to taste or you can use pepper flakes to taste)': 2.46446, '1 (1 g) Splenda quick pack': 1.0, '12 teaspoon ginger paste (you could also use 1/2 teaspoon fresh minced ginger or ground ginger)': 2.46446, '1 teaspoon white vinegar (any kind really)': 4.92892}, 'subs_collection': [['white_vinegar', 'rice_wine_vinegar'], ['ground_beef', 'turkey_sausage'], ['ground_beef', 'lean_ground_turkey'], ['ground_beef', 'ground_turkey'], ['low_sodium_soy_sauce', 'liquid'], ['ground_beef', 'chicken'], ['sriracha_sauce', 'sweet_chili_sauce'], ['low_sodium_soy_sauce', 'coconut_amino']]})\n",
      "\n",
      "\n"
     ]
    }
   ],
   "source": [
    "nr_of_recipes_to_include = 3\n",
    "\n",
    "final_samples = []\n",
    "\n",
    "for substitution_tuple, recipe_list in list(substitution_candidates_with_gt_recipes.items()):\n",
    "    sample_recipes_for_sub_pair = random.sample(recipe_list, nr_of_recipes_to_include)\n",
    "    for recipe in sample_recipes_for_sub_pair:\n",
    "        final_samples.append((substitution_tuple, recipe))\n",
    "\n",
    "print(len(final_samples))\n",
    "for final_samples_item in final_samples[:4]:\n",
    "    print(final_samples_item)\n",
    "    print(\"\\n\")\n"
   ]
  },
  {
   "cell_type": "markdown",
   "metadata": {},
   "source": [
    "### Add to actual samples with 2 recipes from the recipe set where the gt sub is not explicitly recommended"
   ]
  },
  {
   "cell_type": "code",
   "execution_count": 179,
   "metadata": {},
   "outputs": [],
   "source": [
    "# for all considered gt_sub_pairs, conisder all recipes that contain the source ingredient but that don't have the sub pair as gt_sub_pair\n",
    "\n",
    "def getRecipesSubsAreIngredientsButNotGT(gt_source, gt_target, recipes_extended_dict):\n",
    "    matched_recipes = []\n",
    "    for recipe_id, recipe in list(recipes_extended_dict.items()):\n",
    "        ingredients = recipe[\"ingredients\"]\n",
    "\n",
    "        # TODO exclude recipes where (gt_source, gt_target) is already in the sub list\n",
    "\n",
    "        has_gt_source_as_sub_source = False\n",
    "        subs_collection = recipe[\"subs_collection\"]\n",
    "        for sub in subs_collection:\n",
    "            if isinstance(sub[0], list):\n",
    "                sub_source = sub[0][0]\n",
    "            else:\n",
    "                sub_source = sub[0]\n",
    "            if gt_source == sub_source:\n",
    "                has_gt_source_as_sub_source = True\n",
    "                break\n",
    "        if has_gt_source_as_sub_source:\n",
    "            continue\n",
    "\n",
    "        for ingredient in ingredients:\n",
    "            for ingredient_variant in ingredient:\n",
    "                if ingredient_variant == gt_source:\n",
    "                    matched_recipes.append(recipe)\n",
    "                else:\n",
    "                    continue\n",
    "    return matched_recipes\n",
    "\n",
    "\n",
    "alternative_potential_recipes = {}\n",
    "for sub_pair, _recipe_list in list(substitution_candidates_with_gt_recipes.items()):\n",
    "    source = sub_pair[0]\n",
    "    target = sub_pair[1]\n",
    "    alternative_recipes = getRecipesSubsAreIngredientsButNotGT(source, target, recipes_extended_dict)\n",
    "    if len(alternative_recipes) > 3:\n",
    "        alternative_potential_recipes[sub_pair] = alternative_recipes\n",
    "\n",
    "for sub_pair, _recipe_list in list(substitution_candidates_with_gt_recipes.items()):\n",
    "    if sub_pair not in list(alternative_potential_recipes.keys()):\n",
    "        print(sub_pair)\n",
    "\n"
   ]
  },
  {
   "cell_type": "code",
   "execution_count": 180,
   "metadata": {},
   "outputs": [
    {
     "name": "stdout",
     "output_type": "stream",
     "text": [
      "('salsa', 'tomato')\n",
      "{'id': '0487b7c56a', 'ingredients': [['olive_oil', 'lemon_infused_olive_oil'], ['scallion', 'scallions'], ['garlic_clove', 'garlic_cloves'], ['green_chilies', 'green_chili', 'green_chilies'], ['black_bean', 'black_beans', 'black_bean_salsa'], ['water', 'hot_water'], ['salsa'], ['salt_and_pepper']], 'subs': ['water', 'chicken_broth'], 'instructions': ['In a medium saucepan, heat olive oil over medium heat.', 'Add scallions and garlic cloves and saute until fragrant, about 1 minute.', 'Add black beans and water.', 'Increase heat and bring to a boil.', 'Reduce heat and simmer for about 30 minutes, stirring occasionally.', 'Add salsa and stir until heated through.', 'Add salt and pepper to taste.'], 'title': 'Soupy Black Beans', 'original_ingredients': ['1 teaspoon olive oil', '2 scallions, thinly sliced', '2 garlic cloves, minced', '2 tablespoons green chilies, chopped', '2 (14 1/2 ounce) cans black beans, rinsed and drained', '4 cups water', '14 cup salsa', 'salt and pepper'], 'ingredient_quantities': {'1 teaspoon olive oil': 4.92892, '2 scallions, thinly sliced': 2.0, '2 garlic cloves, minced': 10.0, '2 tablespoons green chilies, chopped': 29.5736, '2 (14 1/2 ounce) cans black beans, rinsed and drained': 56.699, '4 cups water': 946.352, '14 cup salsa': 59.147}, 'subs_collection': [['water', 'chicken_broth']]}\n"
     ]
    }
   ],
   "source": [
    "print(list(alternative_potential_recipes.keys())[80])\n",
    "print(list(alternative_potential_recipes.values())[80][5])"
   ]
  },
  {
   "cell_type": "code",
   "execution_count": 181,
   "metadata": {},
   "outputs": [
    {
     "name": "stdout",
     "output_type": "stream",
     "text": [
      "1260\n",
      "(('fat_free_ricotta_cheese', 'cottage_cheese'), {'id': 'a3223573df', 'ingredients': [['garbanzo_bean', 'garbanzo_beans'], ['lemon_juice'], ['tahini'], ['sesame_oil', 'wok_oil'], ['fat_free_ricotta_cheese'], ['garlic_clove', 'garlic_cloves'], ['green_onion', 'green_onions'], ['green_pepper', 'green_peppers'], ['carrot', 'carrots'], ['cucumber', 'cucumbers', 'lemon_cucumber'], ['ground_cumin'], ['paprika'], ['chili_powder'], ['fresh_parsley'], ['black_pepper', 'coarse_black_pepper', 'mccormick_black_pepper'], ['red_pepper_flake', 'red_pepper_flakes']], 'subs': ['tahini', 'peanut_butter'], 'instructions': ['In a medium bowl, mash the garbanzo beans to your desired texture with a potato masher.', 'A fork would also work.', 'Add lemon juice, tahini, sesame oil, and ricotta.', 'Mix well.', 'Combine garlic, spices, and vegetables with hummus mixture (you may want a bit more or less of each of these depending on your tastes).', 'Add black and red pepper to taste.', 'Serve with pita and fresh vegetables.', 'This is a great veggie dip!'], 'title': 'Spicy Vegetable Hummus', 'original_ingredients': ['1 (15 ounce) can garbanzo beans, drained', '1 tablespoon lemon juice', '14 cup tahini', '1 teaspoon sesame oil', '14 cup fat-free ricotta cheese or 14 cup part-skim ricotta cheese', '2 garlic cloves, minced', '2 tablespoons green onions, minced', '2 tablespoons green peppers, minced', '2 tablespoons carrots, chopped finely', '1 tablespoon cucumber, chopped finely', '1 teaspoon ground cumin', '12 teaspoon paprika', '14 teaspoon chili powder', '1 tablespoon fresh parsley, chopped finely', 'black pepper', 'red pepper flakes'], 'ingredient_quantities': {'1 (15 ounce) can garbanzo beans, drained': 28.3495, '1 tablespoon lemon juice': 14.7868, '14 cup tahini': 59.147, '1 teaspoon sesame oil': 4.92892, '14 cup fat-free ricotta cheese or 14 cup part-skim ricotta cheese': 59.147, '2 garlic cloves, minced': 10.0, '2 tablespoons green onions, minced': 29.5736, '2 tablespoons green peppers, minced': 29.5736, '2 tablespoons carrots, chopped finely': 29.5736, '1 tablespoon cucumber, chopped finely': 14.7868, '1 teaspoon ground cumin': 4.92892, '12 teaspoon paprika': 2.46446, '14 teaspoon chili powder': 1.23223, '1 tablespoon fresh parsley, chopped finely': 14.7868}, 'subs_collection': [['tahini', 'peanut_butter']]})\n",
      "\n",
      "\n",
      "(('fat_free_ricotta_cheese', 'cottage_cheese'), {'id': '6fb64cecc1', 'ingredients': [['boneless_skinless_chicken_breast', 'boneless_skinless_chicken_breasts', 'boneless_skinless_chicken_breast_half'], ['onion', 'onions', 'round_onion'], ['garlic_clove', 'garlic_cloves'], ['crushed_tomato', 'crushed_tomatoes'], ['black_pepper', 'coarse_black_pepper', 'mccormick_black_pepper'], ['italian_seasoning'], ['ziti_pasta'], ['fat_free_ricotta_cheese'], ['part_skim_mozzarella_cheese'], ['parmesan_cheese', 'fresh_parmesan_cheese'], ['parmesan_cheese', 'fresh_parmesan_cheese']], 'subs': ['crushed_tomato', 'spaghetti'], 'instructions': ['Spray a large nonstick skillet with nonstick cooking spray; heat.', 'Add the chicken and cook, turning as needed, until lightly browned, 5-6 minutes.', 'Transfer to a plate.', 'Preheat the oven to 375 degrees F.', 'Spray the same skillet with more nonstick cooking spray.', 'Add the onion and garlic; cook, stirring as needed, until softened, about 5 minutes.', 'Add the tomatoes, Italian seasoning and pepper; bring to a boil.', 'Reduce the heat and simmer, uncovered, stirring as needed, until the mixture is thickened slightly, 8-10 minutes.', 'Meanwhile, cook the ziti according to package directions.', 'Drain and mix with the ricotta cheese.', 'Pour half of the tomato mixture into a 13 x 9-inch baking pan.layer with the ziti mixture, the chicken and the remaining tomato mixture.', 'Sprinkle with the cheeses.', 'Bake until hot and bubbling and the cheese is melted, 15-20 minutes.', 'Serves 4.'], 'title': 'Chicken and Ziti Bake Recipe', 'original_ingredients': ['12 lb boneless skinless chicken breast', '1 onion, chopped', '2 garlic cloves, minced', '1 (28 ounce) can crushed tomatoes (no salt added)', '12 teaspoon black pepper, freshly ground', '1 teaspoon italian seasoning', '2 cups ziti pasta or 2 cups penne pasta', '23 cup fat-free ricotta cheese', '13 cup part-skim mozzarella cheese, shredded', '2 tablespoons grated parmesan cheese', '2 tablespoons grated parmesan cheese'], 'ingredient_quantities': {'12 lb boneless skinless chicken breast': 226.796, '1 onion, chopped': 100.0, '2 garlic cloves, minced': 10.0, '1 (28 ounce) can crushed tomatoes (no salt added)': 28.3495, '12 teaspoon black pepper, freshly ground': 2.46446, '1 teaspoon italian seasoning': 4.92892, '2 cups ziti pasta or 2 cups penne pasta': 473.176, '23 cup fat-free ricotta cheese': 157.7253333333333, '13 cup part-skim mozzarella cheese, shredded': 78.86266666666666, '2 tablespoons grated parmesan cheese': 29.5736}, 'subs_collection': [['crushed_tomato', 'spaghetti'], ['boneless_skinless_chicken_breast', 'turkey_breast']]})\n",
      "\n",
      "\n",
      "(('blue_cheese_dressing', 'ranch_dressing'), {'id': '265fbd0236', 'ingredients': [['nonfat_plain_yogurt', 'unsweetened_plain_yogurt'], ['blue_cheese', 'reduced_fat_blue_cheese', 'saga_blue_cheese'], ['blue_cheese_dressing', 'fat_free_blue_cheese_dressing'], ['chip', 'chives', 'chips'], ['bulgur'], ['salt', 'vegetable_salt', 'low_sodium_salt'], ['boiling_water'], ['white_mushroom', 'white_mushrooms'], ['wild_mushroom', 'wild_mushrooms'], ['onion', 'onions', 'round_onion'], ['garlic', 'garlic_sprouts'], ['balsamic_vinegar', 'saba'], ['pecan_piece', 'pecan_pieces', 'pecan_chips'], ['egg', 'eggs', 'duck_egg'], ['fine_dry_breadcrumb', 'fine_dry_breadcrumbs'], ['italian_seasoning'], ['fresh_ground_pepper']], 'subs': ['pecan_piece', 'walnut_piece'], 'instructions': ['Combine yogurt, blue cheese, chives (if using) and dressing in a small bowl and blend with a fork to make a chunky sauce.', 'Refrigerate it while you make the burgers; it will keep for up to 2 days.', 'Place bulgur and 1/4 teaspoon salt in a small bowl.', 'Pour the boiling water over, cover and set aside until the water is absorbed, about 20 minutes.', 'Drain in a sieve, pressing out excess liquid.', 'Meanwhile, spray a large nonstick skillet with cooking spray and turn on stove to medium heat.', 'Add mushrooms, onion and remaining 1/2 teaspoon salt; cook, stirring, until the vegetables are softened, 8 to 10 minutes.', 'Stir in vinegar and garlic.', 'Immediately transfer the mixture to a plate and let cool to room temperature, about 30 minutes.', 'Combine the vegetable mixture in a food processor; pulse briefly until coarsely chopped.', 'Add egg; pulse briefly, scraping down the sides if necessary, until the mixture is cohesive but roughly textured.', 'Transfer to a bowl; stir in bulgur, breadcrumbs, pecans Italian seasoning and pepper.', 'Mix well.', 'With dampened hands, form the mixture into eight 1/2-inch-thick patties, using about 1/2 cup for each.', '(I made mine into 13 mini burgers using a slider station).', 'Place burgers on a cookie sheet (coated with cooking spray) and place under a broiler on high.', 'Mine took 8 minutes to crisp ever so slightly and to become heated through.', \"You can also cook them in a frying pan for 4 minutes per side (mine fell apart doing this though, that's why I put the rest of them under the broiler).\", 'Garnish the burgers with watercress and the blue cheese sauce, if desired.'], 'title': 'Pecan and Mushroom Burger With Blue Cheese Sauce', 'original_ingredients': ['13 cup nonfat plain yogurt', '3 tablespoons crumbled blue cheese (1 ounce)', '1 tablespoon prepared blue cheese dressing (plus more for garnish)', '1 tablespoon chives', '23 cup bulgur', '34 teaspoon salt, divided', '1 cup boiling water', '8 ounces white mushrooms, stems trimmed, wiped clean and chopped (may sub brown mushrooms)', '1 cup mixed chopped wild mushroom (optional)', '1 cup chopped onion', '1 teaspoon minced garlic', '1 tablespoon balsamic vinegar', '12 cup pecan pieces', '1 large egg, lightly beaten', '12 cup fine dry breadcrumb (Italian flavored work great)', '1 tablespoon italian seasoning (may sub 1/2 T Greek seasoning)', 'fresh ground pepper'], 'ingredient_quantities': {'13 cup nonfat plain yogurt': 78.86266666666666, '3 tablespoons crumbled blue cheese (1 ounce)': 44.3604, '1 tablespoon prepared blue cheese dressing (plus more for garnish)': 14.7868, '1 tablespoon chives': 14.7868, '23 cup bulgur': 157.7253333333333, '34 teaspoon salt, divided': 3.69669, '1 cup boiling water': 236.588, '8 ounces white mushrooms, stems trimmed, wiped clean and chopped (may sub brown mushrooms)': 226.796, '1 cup mixed chopped wild mushroom (optional)': 236.588, '1 cup chopped onion': 236.588, '1 teaspoon minced garlic': 4.92892, '1 tablespoon balsamic vinegar': 14.7868, '12 cup pecan pieces': 118.294, '1 large egg, lightly beaten': 1.0, '12 cup fine dry breadcrumb (Italian flavored work great)': 118.294, '1 tablespoon italian seasoning (may sub 1/2 T Greek seasoning)': 14.7868}, 'subs_collection': [['pecan_piece', 'walnut_piece']]})\n",
      "\n",
      "\n",
      "(('blue_cheese_dressing', 'ranch_dressing'), {'id': '3f75e42361', 'ingredients': [['chicken', 'chickens'], ['ground_coriander'], ['kosher_salt'], ['olive_oil', 'lemon_infused_olive_oil'], ['garlic', 'garlic_sprouts'], ['lemon', 'lemons'], ['butter', 'molly_mcbutter'], ['hot_chili_sauce'], ['golden_syrup'], ['lemon', 'lemons'], ['cilantro'], ['salt', 'vegetable_salt', 'low_sodium_salt'], ['blue_cheese_dressing', 'fat_free_blue_cheese_dressing'], ['celery_rib', 'celery_ribs']], 'subs': ['golden_syrup', 'honey_syrup'], 'instructions': [\"Wash wings and using kitchen shears, trim fatty wing 'flaps'; discard sheared fat .\", 'Place wings in a zip lock bag; set aside.', 'Together mix ground coriander, Kosher salt, olive oil, minced garlic and lemon or orange juice.', 'Place marinade mixture together with prepared wings in plastic bag.', 'Seal, squeeze out air then squish around to disperse marinade.', 'Refrigerate at least 4 hours or overnight.', 'Preheat oven 400 degrees.', 'Prepare baking sheet by lining with aluminum foil and grease with oil.', 'Remove wings from marinade and dry with paper toweling.', \"It's important to have them as dry as possible.\", 'Place on prepared baking sheet then sprinkle with salt to taste.', 'Place in oven and bake 35 minutes or until golden.', 'In the meantime, mix together the sriracha sauce ingredients: melted butter, sriracha, golden syrup, zest, and cilantro; set aside.', 'When wings are ready, remove baking sheet from oven and brush over each wing generously with the sriracha sauce.', 'Once finished brush once again.', 'Return pan to oven and bake an additional 5 minutes to set the glaze.', 'Reserve remaining sauce.', 'Serve with remaining sauce for dipping, blue cheese dressing and celery sticks.', 'For Grilling:.', 'Use a 30-20-10 method.', 'On indirect heat cook 30 minutes, flip the chicken.', 'Cook an additional 20 minutes more.', 'Remove the wings from the grill and toss into sauce.', 'Return back to the grill and cook 10 more minutes until crisp.'], 'title': 'Sriracha Garlic Wings', 'original_ingredients': ['2 lbs chicken, wing (sections)', '1 teaspoon ground coriander', '2 teaspoons kosher salt', '2 tablespoons olive oil', '2 garlic, minced', '1 tablespoon lemons or 1 tablespoon orange juice', '2 12 tablespoons butter, melted', '5 tablespoons sriracha hot chili sauce', \"3 tablespoons golden syrup (like Delta or Lyle's) or 3 tablespoons honey\", 'lemons (zest of 1) or orange (zest of 1)', '2 tablespoons cilantro, minced', 'salt', 'blue cheese dressing', 'celery stick'], 'ingredient_quantities': {'2 lbs chicken, wing (sections)': 907.184, '1 teaspoon ground coriander': 4.92892, '2 teaspoons kosher salt': 9.85784, '2 tablespoons olive oil': 29.5736, '2 garlic, minced': 2.0, '1 tablespoon lemons or 1 tablespoon orange juice': 14.7868, '2 12 tablespoons butter, melted': 36.967, '5 tablespoons sriracha hot chili sauce': 73.934, \"3 tablespoons golden syrup (like Delta or Lyle's) or 3 tablespoons honey\": 44.3604, '2 tablespoons cilantro, minced': 29.5736}, 'subs_collection': [['golden_syrup', 'honey_syrup'], ['golden_syrup', 'pure_maple_syrup']]})\n",
      "\n",
      "\n"
     ]
    }
   ],
   "source": [
    "# sample the alternative recipes\n",
    "nr_of_alt_recipes_to_include = 2\n",
    "\n",
    "for substitution_tuple, recipe_list in list(alternative_potential_recipes.items()):\n",
    "    sample_recipes_for_sub_pair = random.sample(recipe_list, nr_of_alt_recipes_to_include)\n",
    "    for recipe in sample_recipes_for_sub_pair:\n",
    "        final_samples.append((substitution_tuple, recipe))\n",
    "\n",
    "print(len(final_samples))\n",
    "for final_samples_item in final_samples[-4:]:\n",
    "    print(final_samples_item)\n",
    "    print(\"\\n\")"
   ]
  },
  {
   "cell_type": "markdown",
   "metadata": {},
   "source": [
    "### finally save the dataset"
   ]
  },
  {
   "cell_type": "code",
   "execution_count": 184,
   "metadata": {},
   "outputs": [],
   "source": [
    "with open(SURVEY_COMPLETE_SUB_TUPLE_AND_RECIPE_SET_PATH, \"w\") as json_file:\n",
    "    json.dump(final_samples, json_file, indent=2)"
   ]
  },
  {
   "cell_type": "markdown",
   "metadata": {},
   "source": [
    "# Distribute the suvey data into 2 question sets, add questions IDs"
   ]
  },
  {
   "cell_type": "code",
   "execution_count": 83,
   "metadata": {},
   "outputs": [
    {
     "name": "stdout",
     "output_type": "stream",
     "text": [
      "1260\n"
     ]
    }
   ],
   "source": [
    "with open(SURVEY_COMPLETE_SUB_TUPLE_AND_RECIPE_SET_PATH, \"r\") as survey_data_file:\n",
    "    survey_data = json.load(survey_data_file)\n",
    "\n",
    "print(len(survey_data))"
   ]
  },
  {
   "cell_type": "code",
   "execution_count": 84,
   "metadata": {},
   "outputs": [
    {
     "name": "stdout",
     "output_type": "stream",
     "text": [
      "1260\n",
      "1075\n"
     ]
    }
   ],
   "source": [
    "subs = [datum[0] for datum in survey_data]\n",
    "\n",
    "already_printed = []\n",
    "print(len(subs))\n",
    "additional_filters = [\n",
    "    ['paprika', 'chili_powder'],\n",
    "    ['walnut', 'macadamia_nut'],\n",
    "    ['lemon', 'lime'],\n",
    "    ['green_pepper', 'red_bell_pepper'],\n",
    "    ['pecan', 'slivered_almond'],\n",
    "    ['tomato_sauce', 'pasta_sauce'],\n",
    "    ['tomato_sauce', 'water'],\n",
    "    ['tomato_paste', 'ketchup'],\n",
    "    ['chicken_stock', 'broth'],\n",
    "    ['chicken_stock', 'turkey_stock'],\n",
    "    ['chicken_stock', 'chicken_broth'],\n",
    "    ['green_bell_pepper', 'red_pepper'],\n",
    "    ['ketchup', 'tomato_sauce'],\n",
    "    ['scallion', 'chive'],\n",
    "    ['dry_white_wine', 'chicken_stock'],\n",
    "    ['vinegar', 'apple_cider_vinegar'],\n",
    "    ['balsamic_vinegar', 'balsamic_glaze'],\n",
    "    ['salsa', 'taco_sauce'],\n",
    "    ['cooked_chicken', 'meat'],\n",
    "    ['blueberry', 'blackberry'],\n",
    "    ['blueberry', 'saskatoon_berry'],\n",
    "    ['white_vinegar', 'white_wine_vinegar'],\n",
    "    ['leek', 'scallion'],\n",
    "    ['elbow_macaroni', 'penne_pasta'],\n",
    "    ['cherry_tomato', 'plum_tomato'],\n",
    "    ['fresh_chive', 'scallion'],\n",
    "    ['spaghetti', 'fettuccine'],\n",
    "    ['cool_whip', 'whipping_cream'],\n",
    "    ['ice', 'banana'],\n",
    "    ['tomato_puree', 'diced_tomato'],\n",
    "    ['italian_sausage', 'meat'],\n",
    "    ['catsup', 'tomato_sauce'],\n",
    "    ['miracle_whip', 'mayonnaise'],\n",
    "    ['lard', 'butter'],\n",
    "    ['whole_almond', 'pecan'],\n",
    "    ['walnut_half', 'almond_half'],\n",
    "    ['macaroni', 'egg_noodle']\n",
    "]\n",
    "\n",
    "survey_data = [data for data in survey_data if data[0] not in additional_filters]\n",
    "\n",
    "# for sub in subs:\n",
    "#     if sub not in already_printed:\n",
    "#         already_printed.append(sub)\n",
    "#         print(sub)\n",
    "\n",
    "print(len(survey_data))"
   ]
  },
  {
   "cell_type": "code",
   "execution_count": 18,
   "metadata": {},
   "outputs": [
    {
     "name": "stdout",
     "output_type": "stream",
     "text": [
      "458\n",
      "457\n"
     ]
    }
   ],
   "source": [
    "survey_question_set_A = []\n",
    "survey_question_set_B = []\n",
    "for i, survey_datum in enumerate(survey_data):\n",
    "    survey_datum.append(i)\n",
    "    if i % 2 == 0:\n",
    "        survey_question_set_A.append(survey_datum)\n",
    "    else:\n",
    "        survey_question_set_B.append(survey_datum)\n",
    "\n",
    "random.shuffle(survey_question_set_A)\n",
    "random.shuffle(survey_question_set_B)\n",
    "\n",
    "with open(SURVEY_QUESTION_SET_A_PATH, \"w\") as question_set_a_file:\n",
    "    json.dump(survey_question_set_A, question_set_a_file, indent=2)\n",
    "\n",
    "with open(SURVEY_QUESTION_SET_B_PATH, \"w\") as question_set_b_file:\n",
    "    json.dump(survey_question_set_B, question_set_b_file, indent=2)\n",
    "\n",
    "\n",
    "print(len(survey_question_set_A))\n",
    "print(len(survey_question_set_B))"
   ]
  },
  {
   "cell_type": "code",
   "execution_count": 85,
   "metadata": {},
   "outputs": [
    {
     "name": "stdout",
     "output_type": "stream",
     "text": [
      "915\n",
      "183\n",
      "ground_lamb->ground_beef\n",
      "monterey_jack_cheese->colby_cheese\n",
      "tomato_sauce->salsa\n",
      "ground_beef->turkey_sausage\n",
      "sliced_almond->pecan\n",
      "pork_sausage->bacon\n",
      "walnut->pecan\n",
      "pork_tenderloin->shrimp\n",
      "turkey->chicken\n",
      "frozen_chopped_spinach->broccoli\n",
      "pistachio->pecan\n",
      "boneless_skinless_chicken_breast->shrimp\n",
      "chicken_wing->chicken_leg\n",
      "ketchup->chili_sauce\n",
      "white_wine->lemon_juice\n",
      "semi_sweet_chocolate_chip->walnut\n",
      "dry_red_wine->beef_broth\n",
      "walnut->slivered_almond\n",
      "unsweetened_cocoa_powder->chocolate\n",
      "feta_cheese->gorgonzola\n",
      "half_and_half->whipping_cream\n",
      "raisin->pecan\n",
      "slivered_almond->walnut\n",
      "walnut->chocolate_chip\n",
      "tahini->sesame_oil\n",
      "italian_sausage->ground_beef\n",
      "broccoli_floret->green_bean\n",
      "triple_sec->orange_juice\n",
      "shortening->lard\n",
      "extra_large_shrimp->chicken\n",
      "canned_pumpkin->squash\n",
      "chocolate_chip->peanut_butter_chip\n",
      "zucchini->yellow_squash\n",
      "black_bean->kidney_bean\n",
      "white_vinegar->apple_cider_vinegar\n",
      "pecan->mixed_nut\n",
      "ground_beef->lean_ground_turkey\n",
      "mushroom->red_bell_pepper\n",
      "refried_bean->black_bean\n",
      "bourbon->whiskey\n",
      "chocolate_chip->blueberry\n",
      "parsley->basil\n",
      "chicken_breast->sausage\n",
      "cracker->breadcrumb\n",
      "white_wine->white_wine_vinegar\n",
      "pork_roast->pork_chop\n",
      "plain_fat_free_yogurt->fat_free_sour_cream\n",
      "cottage_cheese->ricotta_cheese\n",
      "bisquick->flour\n",
      "extra_lean_ground_beef->ground_turkey\n",
      "dried_cranberry->dried_cherry\n",
      "gorgonzola->goat_cheese\n",
      "beef_stew_meat->roast\n",
      "blueberry->raspberry\n",
      "lean_ground_beef->chicken\n",
      "ground_pork->ground_chicken\n",
      "green_bean->snow_pea\n",
      "kidney_bean->black_bean\n",
      "ground_chicken->turkey\n",
      "fresh_raspberry->blueberry\n",
      "lean_ground_beef->turkey_meat\n",
      "bacon->turkey_bacon\n",
      "ground_beef->pepperoni\n",
      "vegetable_stock->chicken_stock\n",
      "boneless_skinless_chicken_breast->pork\n",
      "pearl_barley->rice\n",
      "vegetable_shortening->butter\n",
      "salsa->tomato\n",
      "yellow_cornmeal->polenta\n",
      "bacon_grease->butter\n",
      "cooked_ham->turkey_bacon\n",
      "oleo->butter\n",
      "currant->date\n",
      "pork_tenderloin->chicken_breast\n",
      "smoked_sausage->ham\n",
      "snow_pea->broccoli\n",
      "ground_beef->breakfast_sausage\n",
      "dry_white_wine->chicken_broth\n",
      "lean_ground_turkey->beef\n",
      "ground_turkey->mushroom\n",
      "bulgur->quinoa\n",
      "chili_sauce->ketchup\n",
      "italian_sausage->turkey_sausage\n",
      "cranberry->dried_cherry\n",
      "fresh_pumpkin->squash\n",
      "boneless_skinless_chicken_breast->tofu\n",
      "plain_yogurt->sour_cream\n",
      "fresh_spinach->broccoli\n",
      "broccoli->spinach\n",
      "blue_cheese_dressing->ranch_dressing\n",
      "ground_beef->roast_beef\n",
      "lean_ground_beef->chicken_breast\n",
      "pork_tenderloin->pork_loin_roast\n",
      "pecan->cashew\n",
      "vanilla_yogurt->sour_cream\n",
      "shortening->unsalted_butter\n",
      "chocolate_chip->walnut\n",
      "zucchini->banana\n",
      "extra_firm_silken_tofu->chicken\n",
      "sole_fillet->cod\n",
      "frozen_hash_brown->tater_tot\n",
      "peanut->walnut\n",
      "ground_pork->ground_beef\n",
      "lean_ground_beef->turkey\n",
      "date->raisin\n",
      "red_wine_vinegar->lemon_juice\n",
      "gin->vodka\n",
      "cooked_ham->mushroom\n",
      "corn_flake->ritz_cracker\n",
      "beef_stew_meat->venison\n",
      "yam->sweet_potato\n",
      "red_wine->water\n",
      "beer->beef_broth\n",
      "cabbage->potato\n",
      "pumpkin_puree->sweet_potato_puree\n",
      "spaghetti_sauce->marinara_sauce\n",
      "raisin->white_chocolate_chip\n",
      "flank_steak->sirloin_steak\n",
      "currant->raisin\n",
      "shortening->vegetable_oil\n",
      "pea->green_bean\n",
      "leek->onion\n",
      "ground_beef->ground_chicken\n",
      "ground_beef->stew_meat\n",
      "vegetable_broth->water\n",
      "lean_ground_beef->ground_pork\n",
      "chicken->turkey_breast\n",
      "bean_sprout->cabbage\n",
      "chicken->turkey\n",
      "cilantro->parsley\n",
      "red_wine->white_wine\n",
      "arugula->spinach\n",
      "ground_beef->bulk_sausage\n",
      "vermicelli->spaghetti\n",
      "chocolate_chip->almond_bark\n",
      "raisin->blueberry\n",
      "broccoli->mushroom\n",
      "cooked_chicken->turkey\n",
      "unsweetened_applesauce->banana\n",
      "fish_sauce->soy_sauce\n",
      "ground_turkey->ground_pork\n",
      "tuna->canned_salmon\n",
      "beef_broth->red_wine\n",
      "italian_sausage->meatball\n",
      "dried_currant->dried_cranberry\n",
      "barley->brown_rice\n",
      "ketchup->barbecue_sauce\n",
      "lean_ground_beef->ground_sausage\n",
      "raisin->chocolate\n",
      "red_wine_vinegar->balsamic_vinegar\n",
      "frozen_pea->frozen_green_bean\n",
      "strawberry->blueberry\n",
      "green_bean->sugar_snap_pea\n",
      "zucchini->broccoli\n",
      "half_and_half->evaporated_milk\n",
      "sausage->ground_beef\n",
      "raisin->date\n",
      "blueberry->dried_cranberry\n",
      "cooked_chicken->pork\n",
      "nut->raisin\n",
      "banana->pumpkin\n",
      "semi_sweet_chocolate_chip->peanut_butter_chip\n",
      "golden_raisin->dried_cranberry\n",
      "beef->venison\n",
      "cauliflower_floret->broccoli_floret\n",
      "white_wine->broth\n",
      "nectarine->peach\n",
      "frozen_pea->green_bean\n",
      "chicken_thigh->tofu\n",
      "fresh_cilantro->fresh_parsley\n",
      "fresh_basil->cilantro\n",
      "canned_pumpkin->butternut_squash\n",
      "walnut_piece->almond\n",
      "tequila->vodka\n",
      "lean_ground_beef->buffalo\n",
      "bacon->breakfast_sausage\n",
      "lettuce->spinach\n",
      "raisin->cranberry\n",
      "ground_turkey->lean_ground_beef\n",
      "vegetable_stock->beef_broth\n",
      "crabmeat->shrimp\n",
      "pine_nut->sunflower_seed\n",
      "walnut->cashew\n"
     ]
    }
   ],
   "source": [
    "# print(\"\\n\".join(set([\"->\".join(p[0]) for p in survey_data])))\n",
    "\n",
    "even_more_filters = [\n",
    "    ['green_grape', 'red_grape'],\n",
    "    ['apple', 'applesauce'],\n",
    "    ['macaroni', 'egg_noodle'],\n",
    "    ['cherry_tomato', 'plum_tomato'],\n",
    "    ['green_pepper', 'red_bell_pepper'],\n",
    "    ['cider_vinegar', 'white_wine_vinegar'],\n",
    "    ['elbow_macaroni', 'penne_pasta'],\n",
    "    ['graham_cracker_crumb', 'wafer'],\n",
    "    ['chicken_piece', 'chicken_breast'],\n",
    "    ['fat_free_ricotta_cheese', 'cottage_cheese'],\n",
    "    ['fresh_chive', 'scallion'],\n",
    "    ['half_and_half', 'fat'],\n",
    "    ['paprika', 'chili_powder'],\n",
    "    ['ice', 'banana'],\n",
    "    ['feta_cheese', 'goat_cheese'],\n",
    "    ['ketchup', 'tomato_sauce'],\n",
    "    ['blueberry', 'blackberry'],\n",
    "    ['cheddar_cheese', 'fat'],\n",
    "    ['marsala_wine', 'white_wine'],\n",
    "    ['italian_sausage', 'meat'],\n",
    "    ['ground_beef', 'sausage'],\n",
    "    ['green_olive', 'black_olive'],\n",
    "    ['cool_whip', 'whipping_cream'],\n",
    "    ['low_sodium_chicken_broth', 'beef_broth'],\n",
    "    ['cheese_tortellini', 'cheese_ravioli'],\n",
    "    ['diced_tomato', 'crushed_tomato'],\n",
    "    ['chicken_stock', 'chicken_broth'],\n",
    "    ['chicken_stock', 'turkey_stock'],\n",
    "    ['low_sodium_chicken_broth', 'vegetable_broth'],\n",
    "    ['ham', 'sausage'],\n",
    "    ['walnut', 'macadamia_nut'],\n",
    "    ['fresh_tomato', 'diced_tomato'],\n",
    "    ['cocoa_powder', 'hot_cocoa_mix'],\n",
    "    ['catsup', 'tomato_sauce'],\n",
    "    ['beef_stock', 'water'],\n",
    "    ['cooked_chicken', 'meat'],\n",
    "    ['american_cheese', 'cheddar_cheese'],\n",
    "    ['green_bell_pepper', 'red_pepper'],\n",
    "    ['spaghetti', 'fettuccine'],\n",
    "    ['tomato_sauce', 'pasta_sauce'],\n",
    "    ['pecan_half', 'mixed_nut'],\n",
    "    ['miracle_whip', 'mayonnaise'],\n",
    "    ['oat_bran', 'wheat_bran'],\n",
    "    ['whole_almond', 'pecan'],\n",
    "    ['chicken_stock', 'broth'],\n",
    "    ['pecan', 'slivered_almond'],\n",
    "    ['balsamic_vinegar', 'balsamic_glaze'],\n",
    "    ['salsa', 'rotel'],\n",
    "    ['ground_beef', 'hamburger'],\n",
    "    ['tomato_puree', 'diced_tomato'],\n",
    "    ['almond', 'pecan'],\n",
    "    ['deli_ham', 'bacon'],\n",
    "    ['pumpkin', 'butternut_squash'],\n",
    "    ['hamburger', 'sausage'],\n",
    "    ['white_vinegar', 'white_wine_vinegar'],\n",
    "    ['beef_broth', 'chicken_broth'],\n",
    "    ['dry_white_wine', 'water'],\n",
    "    ['vinegar', 'apple_cider_vinegar'],\n",
    "    ['ground_beef', 'meat']\n",
    "]\n",
    "\n",
    "survey_data = [data for data in survey_data if data[0] not in even_more_filters]\n",
    "\n",
    "print(len(survey_data))\n",
    "\n",
    "# print([data[0] for data in survey_data])\n",
    "print(len(set([\"->\".join(p[0]) for p in survey_data])))\n",
    "print(\"\\n\".join(set([\"->\".join(p[0]) for p in survey_data])))\n",
    "\n",
    "# print([p[0] for p in survey_data])"
   ]
  },
  {
   "cell_type": "code",
   "execution_count": 86,
   "metadata": {},
   "outputs": [
    {
     "name": "stdout",
     "output_type": "stream",
     "text": [
      "500\n"
     ]
    }
   ],
   "source": [
    "\n",
    "more_and_more_filters = [\n",
    "    ['pistachio', 'pecan'],\n",
    "    ['walnut', 'cashew'],\n",
    "    ['crabmeat', 'shrimp'],\n",
    "    ['vegetable_stock', 'beef_broth'],\n",
    "    ['pecan', 'cashew'],\n",
    "    ['pork_tenderloin', 'pork_loin_roast'],\n",
    "    ['fresh_pumpkin', 'squash'],\n",
    "    ['dry_white_wine', 'chicken_broth'],\n",
    "    ['oleo', 'butter'],\n",
    "    ['bacon_grease', 'butter'],\n",
    "    ['semi_sweet_chocolate_chip', 'peanut_butter_chip'],\n",
    "    ['nut', 'raisin'],\n",
    "    ['half_and_half', 'evaporated_milk'],\n",
    "    ['lean_ground_beef', 'ground_sausage'],\n",
    "    ['unsweetened_applesauce', 'banana'],\n",
    "    ['vegetable_broth', 'water'],\n",
    "    ['currant', 'raisin'],\n",
    "    ['dried_currant', 'dried_cranberry'],\n",
    "    ['italian_sausage', 'meatball'],\n",
    "    ['vegetable_broth', 'water'],\n",
    "    ['monterey_jack_cheese', 'colby_cheese'],\n",
    "    ['sole_fillet', 'cod'],\n",
    "    ['frozen_hash_brown', 'tater_tot'],\n",
    "    ['cooked_chicken', 'turkey'],\n",
    "    ['nut', 'raisin'],\n",
    "    ['blueberry', 'dried_cranberry'],\n",
    "    ['ketchup', 'barbecue_sauce'],\n",
    "    ['raisin', 'blueberry'],\n",
    "    ['lean_ground_beef', 'ground_pork'],\n",
    "    ['shortening', 'unsalted_butter'],\n",
    "    ['bourbon', 'whiskey'],\n",
    "    ['salsa', 'tomato'],\n",
    "    ['corn_flake', 'ritz_cracker'],\n",
    "    ['red_wine', 'water'],\n",
    "    ['beer', 'beef_broth'],\n",
    "    ['dried_cranberry', 'dried_cherry'],\n",
    "    ['beef_stew_meat', 'roast'],\n",
    "    ['cracker', 'breadcrumb'],\n",
    "    ['vegetable_shortening', 'butter'],\n",
    "    ['sliced_almond', 'pecan'],\n",
    "    ['half_and_half', 'whipping_cream'],\n",
    "    ['tomato_sauce', 'salsa'],\n",
    "    ['slivered_almond', 'walnut'],\n",
    "    ['bacon', 'breakfast_sausage'],\n",
    "    ['walnut_piece', 'almond'],\n",
    "    ['canned_pumpkin', 'butternut_squash'],\n",
    "    ['nectarine', 'peach'],\n",
    "    ['cauliflower_floret', 'broccoli_floret'],\n",
    "    ['beef_broth', 'red_wine'],\n",
    "    ['chicken', 'turkey_breast'],\n",
    "    ['shortening', 'vegetable_oil'],\n",
    "    ['ground_beef', 'roast_beef'],\n",
    "    ['cranberry', 'dried_cherry'],\n",
    "    ['currant', 'date'],\n",
    "    ['extra_lean_ground_beef', 'ground_turkey'],\n",
    "    ['bisquick', 'flour'],\n",
    "    ['chili_sauce', 'ketchup'],\n",
    "    ['ground_chicken', 'turkey'],\n",
    "    ['vermicelli', 'spaghetti'],\n",
    "    ['frozen_pea', 'green_bean'],\n",
    "    ['yellow_cornmeal', 'polenta'],\n",
    "    ['blueberry', 'raspberry'],\n",
    "    ['chicken_wing', 'chicken_leg'],\n",
    "    ['shortening', 'lard'],\n",
    "    ['semi_sweet_chocolate_chip', 'walnut'],\n",
    "    ['triple_sec', 'orange_juice'],\n",
    "    ['red_wine', 'white_wine'],\n",
    "    ['golden_raisin', 'dried_cranberry'],\n",
    "    ['spaghetti_sauce', 'marinara_sauce'],\n",
    "    ['ketchup', 'chili_sauce'],\n",
    "    ['bacon', 'turkey_bacon'],\n",
    "    ['raisin', 'pecan'],\n",
    "    ['walnut', 'slivered_almond'],\n",
    "    ['ground_beef', 'bulk_sausage'],\n",
    "    ['flank_steak', 'sirloin_steak'],\n",
    "    ['italian_sausage', 'turkey_sausage'],\n",
    "    ['cooked_ham', 'turkey_bacon'],\n",
    "    ['tequila', 'vodka'],\n",
    "    ['ground_turkey', 'lean_ground_beef'],\n",
    "    ['white_wine', 'lemon_juice'],\n",
    "    ['lean_ground_turkey', 'beef'],\n",
    "    ['lean_ground_beef', 'turkey_meat'],\n",
    "    ['ground_beef', 'turkey_sausage'],\n",
    "    ['ground_beef', 'breakfast_sausage'],\n",
    "    ['pecan', 'mixed_nut'],\n",
    "]\n",
    "\n",
    "survey_data = [data for data in survey_data if data[0] not in more_and_more_filters]\n",
    "\n",
    "print(len(survey_data))"
   ]
  },
  {
   "cell_type": "code",
   "execution_count": 87,
   "metadata": {},
   "outputs": [],
   "source": [
    "for i, survey_datum in enumerate(survey_data):\n",
    "    survey_datum.append(i)\n",
    "\n",
    "with open(SURVEY_QUESTION_500_SET_PATH, \"w\") as question_set_a_file:\n",
    "    json.dump(survey_data, question_set_a_file, indent=2)\n"
   ]
  },
  {
   "cell_type": "code",
   "execution_count": 88,
   "metadata": {},
   "outputs": [
    {
     "name": "stdout",
     "output_type": "stream",
     "text": [
      "100\n",
      "ground_lamb->ground_beef\n",
      "pork_sausage->bacon\n",
      "walnut->pecan\n",
      "pork_tenderloin->shrimp\n",
      "turkey->chicken\n",
      "frozen_chopped_spinach->broccoli\n",
      "boneless_skinless_chicken_breast->shrimp\n",
      "dry_red_wine->beef_broth\n",
      "unsweetened_cocoa_powder->chocolate\n",
      "feta_cheese->gorgonzola\n",
      "walnut->chocolate_chip\n",
      "tahini->sesame_oil\n",
      "italian_sausage->ground_beef\n",
      "broccoli_floret->green_bean\n",
      "extra_large_shrimp->chicken\n",
      "canned_pumpkin->squash\n",
      "chocolate_chip->peanut_butter_chip\n",
      "zucchini->yellow_squash\n",
      "black_bean->kidney_bean\n",
      "refried_bean->black_bean\n",
      "mushroom->red_bell_pepper\n",
      "ground_beef->lean_ground_turkey\n",
      "white_vinegar->apple_cider_vinegar\n",
      "chocolate_chip->blueberry\n",
      "parsley->basil\n",
      "chicken_breast->sausage\n",
      "pork_roast->pork_chop\n",
      "white_wine->white_wine_vinegar\n",
      "plain_fat_free_yogurt->fat_free_sour_cream\n",
      "cottage_cheese->ricotta_cheese\n",
      "gorgonzola->goat_cheese\n",
      "lean_ground_beef->chicken\n",
      "ground_pork->ground_chicken\n",
      "green_bean->snow_pea\n",
      "kidney_bean->black_bean\n",
      "fresh_raspberry->blueberry\n",
      "ground_beef->pepperoni\n",
      "vegetable_stock->chicken_stock\n",
      "boneless_skinless_chicken_breast->pork\n",
      "pearl_barley->rice\n",
      "pork_tenderloin->chicken_breast\n",
      "smoked_sausage->ham\n",
      "snow_pea->broccoli\n",
      "ground_turkey->mushroom\n",
      "bulgur->quinoa\n",
      "boneless_skinless_chicken_breast->tofu\n",
      "plain_yogurt->sour_cream\n",
      "fresh_spinach->broccoli\n",
      "broccoli->spinach\n",
      "blue_cheese_dressing->ranch_dressing\n",
      "lean_ground_beef->chicken_breast\n",
      "vanilla_yogurt->sour_cream\n",
      "chocolate_chip->walnut\n",
      "zucchini->banana\n",
      "extra_firm_silken_tofu->chicken\n",
      "peanut->walnut\n",
      "ground_pork->ground_beef\n",
      "lean_ground_beef->turkey\n",
      "date->raisin\n",
      "red_wine_vinegar->lemon_juice\n",
      "gin->vodka\n",
      "cooked_ham->mushroom\n",
      "beef_stew_meat->venison\n",
      "yam->sweet_potato\n",
      "cabbage->potato\n",
      "pumpkin_puree->sweet_potato_puree\n",
      "raisin->white_chocolate_chip\n",
      "pea->green_bean\n",
      "leek->onion\n",
      "ground_beef->ground_chicken\n",
      "ground_beef->stew_meat\n",
      "bean_sprout->cabbage\n",
      "chicken->turkey\n",
      "cilantro->parsley\n",
      "arugula->spinach\n",
      "chocolate_chip->almond_bark\n",
      "broccoli->mushroom\n",
      "fish_sauce->soy_sauce\n",
      "ground_turkey->ground_pork\n",
      "tuna->canned_salmon\n",
      "barley->brown_rice\n",
      "raisin->chocolate\n",
      "red_wine_vinegar->balsamic_vinegar\n",
      "frozen_pea->frozen_green_bean\n",
      "strawberry->blueberry\n",
      "green_bean->sugar_snap_pea\n",
      "zucchini->broccoli\n",
      "sausage->ground_beef\n",
      "raisin->date\n",
      "cooked_chicken->pork\n",
      "banana->pumpkin\n",
      "beef->venison\n",
      "white_wine->broth\n",
      "chicken_thigh->tofu\n",
      "fresh_cilantro->fresh_parsley\n",
      "fresh_basil->cilantro\n",
      "lean_ground_beef->buffalo\n",
      "lettuce->spinach\n",
      "raisin->cranberry\n",
      "pine_nut->sunflower_seed\n"
     ]
    }
   ],
   "source": [
    "#remained substitution tuples\n",
    "print(len(set([\"->\".join(p[0]) for p in survey_data])))\n",
    "print(\"\\n\".join(set([\"->\".join(p[0]) for p in survey_data])))"
   ]
  },
  {
   "cell_type": "markdown",
   "metadata": {},
   "source": [
    "# Get additional Recipes with nutritional information"
   ]
  },
  {
   "cell_type": "code",
   "execution_count": 32,
   "metadata": {},
   "outputs": [
    {
     "name": "stdout",
     "output_type": "stream",
     "text": [
      "('000095fc1d', {'fsa_lights_per100g': {'fat': 'green', 'salt': 'green', 'saturates': 'green', 'sugars': 'orange'}, 'id': '000095fc1d', 'ingredients': ['yogurt, greek, plain, nonfat', 'strawberries, raw', 'cereals ready-to-eat, granola, homemade'], 'instructions': [{'text': 'Layer all ingredients in a serving dish.'}], 'nutr_per_ingredient': [{'fat': 0.8845044000000001, 'nrg': 133.80964, 'pro': 23.110512399999998, 'sat': 0.26535132, 'sod': 81.64656, 'sug': 7.348190400000001}, {'fat': 0.46, 'nrg': 49.0, 'pro': 1.02, 'sat': 0.023, 'sod': 2.0, 'sug': 7.43}, {'fat': 7.415, 'nrg': 149.25, 'pro': 4.17, 'sat': 1.207, 'sod': 8.0, 'sug': 6.04}], 'nutr_values_per100g': {'energy': 81.12946131894766, 'fat': 2.140139263515891, 'protein': 6.914436593565536, 'salt': 0.05597816738985967, 'saturates': 0.36534716195613937, 'sugars': 5.08634103436144}, 'partition': 'train', 'quantity': [{'text': '8'}, {'text': '1'}, {'text': '1/4'}], 'title': 'Yogurt Parfaits', 'unit': [{'text': 'ounce'}, {'text': 'cup'}, {'text': 'cup'}], 'url': 'http://tastykitchen.com/recipes/breakfastbrunch/yogurt-parfaits/', 'weight_per_ingr': {'yogurt, greek, plain, nonfat': 226.796, 'strawberries, raw': 152.0, 'cereals ready-to-eat, granola, homemade': 30.5}})\n",
      "('00051d5b9d', {'fsa_lights_per100g': {'fat': 'red', 'salt': 'orange', 'saturates': 'orange', 'sugars': 'orange'}, 'id': '00051d5b9d', 'ingredients': ['sugars, granulated', 'oil, corn, peanut, and olive', 'egg substitute, powder', 'orange juice, raw', 'orange juice, raw', 'leavening agents, baking powder, double-acting, sodium aluminum sulfate', 'wheat flour, white, all-purpose, unenriched'], 'instructions': [{'text': 'Cream sugar and butter together till smooth.'}, {'text': 'Add in egg beaters, orange rind, orange juice, and mix well.'}, {'text': 'Mix together low sodium baking powder and flour.'}, {'text': 'Add in to creamed mix and mix well.'}, {'text': 'Roll dough into 1 inch balls and place on ungreased cookie sheet.'}, {'text': 'Rub small amount of salt free butter on bottom of glass.'}, {'text': 'Dip glass in granulated sugar.'}, {'text': 'Flatten cookie dough ball slightly using flat end of glass.'}, {'text': 'Bake at 300 degrees for 10-12 min.'}], 'nutr_per_ingredient': [{'fat': 0.0, 'nrg': 384.0, 'pro': 0.0, 'sat': 0.0, 'sod': 0.0, 'sug': 100.56000000000002}, {'fat': 168.0, 'nrg': 1488.0, 'pro': 0.0, 'sat': 24.132, 'sod': 0.0, 'sug': 0.0}, {'fat': 2.7625, 'nrg': 94.35000000000001, 'pro': 11.793750000000001, 'sat': 0.800275, 'sod': 170.0, 'sug': 4.6325}, {'fat': 0.010416666666666666, 'nrg': 2.333333333333333, 'pro': 0.03625, 'sat': 0.0012499999999999998, 'sod': 0.041666666666666664, 'sug': 0.4339583333333333}, {'fat': 0.0026041666666666665, 'nrg': 0.5833333333333333, 'pro': 0.0090625, 'sat': 0.00031249999999999995, 'sod': 0.010416666666666666, 'sug': 0.10848958333333332}, {'fat': 0.0, 'nrg': 6.0, 'pro': 0.0, 'sat': 0.0, 'sod': 1464.0, 'sug': 0.0}, {'fat': 4.305, 'nrg': 1592.5, 'pro': 45.185, 'sat': 0.679, 'sod': 7.0, 'sug': 1.1900000000000002}], 'nutr_values_per100g': {'energy': 477.09640393594606, 'fat': 23.412485931109796, 'protein': 7.625491714677334, 'salt': 0.5486205522805532, 'saturates': 3.4250537682338384, 'sugars': 14.298442949953758}, 'partition': 'val', 'quantity': [{'text': '1/2'}, {'text': '3/4'}, {'text': '1/4'}, {'text': '1'}, {'text': '1/4'}, {'text': '1'}, {'text': '3 1/2'}], 'title': 'Salt Free, Low Cholesterol Sugar Cookies Recipe', 'unit': [{'text': 'cup'}, {'text': 'cup'}, {'text': 'cup'}, {'text': 'teaspoon'}, {'text': 'teaspoon'}, {'text': 'tablespoon'}, {'text': 'cup'}], 'url': 'http://cookeatshare.com/recipes/salt-free-low-cholesterol-sugar-cookies-6256', 'weight_per_ingr': {'wheat flour, white, all-purpose, unenriched': 437.5, 'oil, corn, peanut, and olive': 168.0, 'sugars, granulated': 100.80000000000001, 'egg substitute, powder': 21.25, 'leavening agents, baking powder, double-acting, sodium aluminum sulfate': 13.799999999999999, 'orange juice, raw': 1.2916666666666665}})\n",
      "('00059b093b', {'fsa_lights_per100g': {'fat': 'orange', 'salt': 'orange', 'saturates': 'orange', 'sugars': 'green'}, 'id': '00059b093b', 'ingredients': ['chicken, broilers or fryers, wing, meat and skin, raw', 'salt, table', 'spices, pepper, black', 'oil, olive, salad or cooking', 'butter, without salt', 'sauce, hot chile, sriracha', 'honey', 'rice, white, long-grain, regular, unenriched, cooked without salt', 'soy sauce made from soy (tamari)', 'sauce, hoisin, ready-to-serve', 'salt, table', 'spices, coriander seed'], 'instructions': [{'text': 'Preheat oven to 400 degrees F.'}, {'text': 'In a large bowl, toss the wings with salt and pepper and oil.'}, {'text': 'Line a sheet pan with nonstick foil or parchment paper, and spread the wings evenly on the pan.'}, {'text': 'Bake for about 50 minutes, turning the wings halfway through.'}, {'text': 'In the last couple of minutes, you can turn on the broiler to get them to really crisp up.'}, {'text': 'Keep an eye on them, though!'}, {'text': 'When the wings are done, melt the butter in a skillet or wok and add the Sriracha, honey, rice wine, soy sauce, hoisin, and salt.'}, {'text': 'Stir over low heat until bubbly.'}, {'text': 'Transfer the wings from the baking sheet into the pan with the sauce.'}, {'text': 'Toss until coated.'}, {'text': 'Garnish with chopped cilantro and serve immediately.'}], 'nutr_per_ingredient': [{'fat': 174.859716, 'nrg': 2599.0821599999995, 'pro': 238.40795519999998, 'sat': 48.10343159999999, 'sod': 1143.0518399999999, 'sug': 0.0}, {'fat': 0.0, 'nrg': 0.0, 'pro': 0.0, 'sat': 0.0, 'sod': 2325.0, 'sug': 0.0}, {'fat': 0.035, 'nrg': 3.0, 'pro': 0.11999999999999998, 'sat': 0.016, 'sod': 0.0, 'sug': 0.005}, {'fat': 13.5, 'nrg': 119.0, 'pro': 0.0, 'sat': 1.864, 'sod': 0.0, 'sug': 0.0}, {'fat': 34.56, 'nrg': 306.0, 'pro': 0.36, 'sat': 21.506999999999998, 'sod': 6.0, 'sug': 0.03}, {'fat': 0.72, 'nrg': 72.0, 'pro': 1.56, 'sat': 0.0, 'sod': 1656.0, 'sug': 11.76}, {'fat': 0.0, 'nrg': 128.875, 'pro': 0.1275, 'sat': 0.0, 'sod': 1.75, 'sug': 34.79875}, {'fat': 0.0275, 'nrg': 12.8125, 'pro': 0.265625, 'sat': 0.007625, 'sod': 0.125, 'sug': 0.005}, {'fat': 0.006666666666666666, 'nrg': 3.6666666666666665, 'pro': 0.6299999999999999, 'sat': 0.0006666666666666666, 'sod': 335.0, 'sug': 0.10333333333333333}, {'fat': 0.18, 'nrg': 11.666666666666666, 'pro': 0.17666666666666667, 'sat': 0.03033333333333333, 'sod': 86.0, 'sug': 1.4533333333333334}, {'fat': 0.0, 'nrg': 0.0, 'pro': 0.0, 'sat': 0.0, 'sod': 1162.5, 'sug': 0.0}, {'fat': 1.9200000000000002, 'nrg': 30.0, 'pro': 1.32, 'sat': 0.108, 'sod': 6.0, 'sug': 0.0}], 'nutr_values_per100g': {'energy': 208.05898280960727, 'fat': 14.297046237538591, 'protein': 15.383456444054616, 'salt': 1.0639146385526406, 'saturates': 4.535686543577051, 'sugars': 3.0489510002473503}, 'partition': 'train', 'quantity': [{'text': '3'}, {'text': '1'}, {'text': '1/2'}, {'text': '1'}, {'text': '3'}, {'text': '1/4'}, {'text': '2'}, {'text': '1'}, {'text': '1'}, {'text': '1'}, {'text': '1/2'}, {'text': '2'}], 'title': 'Honey Sriracha Chicken Wings', 'unit': [{'text': 'pound'}, {'text': 'teaspoon'}, {'text': 'teaspoon'}, {'text': 'tablespoon'}, {'text': 'tablespoon'}, {'text': 'cup'}, {'text': 'tablespoon'}, {'text': 'tablespoon'}, {'text': 'teaspoon'}, {'text': 'teaspoon'}, {'text': 'teaspoon'}, {'text': 'tablespoon'}], 'url': 'http://tastykitchen.com/recipes/main-courses/honey-sriracha-chicken-wings/', 'weight_per_ingr': {'chicken, broilers or fryers, wing, meat and skin, raw': 1360.7759999999998, 'sauce, hot chile, sriracha': 78.0, 'butter, without salt': 42.599999999999994, 'honey': 42.375, 'oil, olive, salad or cooking': 13.5, 'spices, coriander seed': 10.8, 'rice, white, long-grain, regular, unenriched, cooked without salt': 9.875, 'soy sauce made from soy (tamari)': 6.0, 'sauce, hoisin, ready-to-serve': 5.333333333333333, 'salt, table': 3.0, 'spices, pepper, black': 1.15}})\n",
      "('0005fc89f7', {'fsa_lights_per100g': {'fat': 'orange', 'salt': 'orange', 'saturates': 'orange', 'sugars': 'green'}, 'id': '0005fc89f7', 'ingredients': ['crustaceans, shrimp, raw (not previously frozen)', 'onions, spring or scallions (includes tops and bulb), raw', 'celery, raw', 'capers, canned', 'olives, ripe, canned (small-extra large)', 'oil, olive, salad or cooking', 'salad dressing, mayonnaise, regular', 'celery, raw', 'lemon juice, raw'], 'instructions': [{'text': 'In a large bowl, toss the shrimp, green onions, celery, capers, black olives, oil and vinegar dressing, mayonnaise, celery seed, and lemon juice.'}, {'text': 'Chill at least 1 hour in the refrigerator before serving.'}], 'nutr_per_ingredient': [{'fat': 4.6266384, 'nrg': 771.1064, 'pro': 182.343984, 'sat': 0.91625584, 'sod': 1079.5489599999999, 'sug': 0.0}, {'fat': 0.14250000000000002, 'nrg': 24.0, 'pro': 1.3725, 'sat': 0.024, 'sod': 12.0, 'sug': 1.7475}, {'fat': 0.255, 'nrg': 24.0, 'pro': 1.0499999999999998, 'sat': 0.063, 'sod': 121.5, 'sug': 2.0250000000000004}, {'fat': 0.21000000000000002, 'nrg': 6.0, 'pro': 0.6000000000000001, 'sat': 0.06, 'sod': 606.0, 'sug': 0.12}, {'fat': 14.4, 'nrg': 160.0, 'pro': 1.12, 'sat': 1.904, 'sod': 992.0, 'sug': 0.0}, {'fat': 108.0, 'nrg': 952.0, 'pro': 0.0, 'sat': 14.912, 'sod': 0.0, 'sug': 0.0}, {'fat': 123.96000000000001, 'nrg': 1128.0, 'pro': 1.56, 'sat': 19.38, 'sod': 1056.0, 'sug': 0.96}, {'fat': 0.010625, 'nrg': 1.0, 'pro': 0.04375, 'sat': 0.002625, 'sod': 5.0625, 'sug': 0.084375}, {'fat': 0.0015364583333333333, 'nrg': 0.140625, 'pro': 0.0022135416666666666, 'sat': 0.0002552083333333333, 'sod': 0.005208333333333333, 'sug': 0.016015625}], 'nutr_values_per100g': {'energy': 194.7525956849092, 'fat': 15.980767233874783, 'protein': 11.94668664618344, 'salt': 0.6148434599400219, 'saturates': 2.366703548999658, 'sugars': 0.31458271218777695}, 'partition': 'train', 'quantity': [{'text': '2'}, {'text': '3/4'}, {'text': '1 1/2'}, {'text': '3'}, {'text': '1'}, {'text': '1/2'}, {'text': '3/4'}, {'text': '1'}, {'text': '1'}], 'title': 'Shrimp and Caper Salad', 'unit': [{'text': 'pound'}, {'text': 'cup'}, {'text': 'cup'}, {'text': 'tablespoon'}, {'text': 'cup'}, {'text': 'cup'}, {'text': 'cup'}, {'text': 'tablespoon'}, {'text': 'dash'}], 'url': 'http://allrecipes.com/recipe/shrimp-and-caper-salad/', 'weight_per_ingr': {'crustaceans, shrimp, raw (not previously frozen)': 907.184, 'salad dressing, mayonnaise, regular': 165.60000000000002, 'olives, ripe, canned (small-extra large)': 134.4, 'oil, olive, salad or cooking': 108.0, 'onions, spring or scallions (includes tops and bulb), raw': 75.0, 'capers, canned': 25.799999999999997, 'celery, raw': 6.3125, 'lemon juice, raw': 0.6354166666666666}})\n",
      "('0006ca31f4', {'fsa_lights_per100g': {'fat': 'orange', 'salt': 'green', 'saturates': 'orange', 'sugars': 'red'}, 'id': '0006ca31f4', 'ingredients': ['cocoa, dry powder, unsweetened', 'honey', 'peanut butter, smooth style, without salt'], 'instructions': [{'text': 'Measure out the cocoa powder into a mixing bowl.'}, {'text': 'Grease your measuring cup with a little oil or cooking spray to measure out 1/2 cup honey, and mix with the cocoa powder with a fork or whisk.'}, {'text': 'Blend until the mixture resembles frosting and there are no loose cocoa particles floating around.'}, {'text': 'Cut in the peanut butter, until the chocolate mix absorbs it.'}, {'text': 'Form balls of the mixture with your hands and place on a plate, and freeze for at least 2 hours prior to eating.'}, {'text': 'Can be eaten cold or frozen.'}], 'nutr_per_ingredient': [{'fat': 141.35999999999999, 'nrg': 2352.0, 'pro': 202.32, 'sat': 83.28, 'sod': 216.0, 'sug': 18.0}, {'fat': 0.0, 'nrg': 12372.0, 'pro': 12.24, 'sat': 0.0, 'sod': 168.0, 'sug': 3340.68}, {'fat': 131.52, 'nrg': 1528.0, 'pro': 56.88, 'sat': 26.432, 'sod': 40.0, 'sug': 26.88}], 'nutr_values_per100g': {'energy': 303.43539955190437, 'fat': 5.0948469006721435, 'protein': 5.067961165048543, 'salt': 0.019790888722927558, 'saturates': 2.0483943241224796, 'sugars': 63.21060492905153}, 'partition': 'train', 'quantity': [{'text': '12'}, {'text': '12'}, {'text': '1'}], 'title': 'Natural Peanut Butter Chocolate Bon Bons', 'unit': [{'text': 'cup'}, {'text': 'cup'}, {'text': 'cup'}], 'url': 'http://www.food.com/recipe/natural-peanut-butter-chocolate-bon-bons-449265', 'weight_per_ingr': {'honey': 4068.0, 'cocoa, dry powder, unsweetened': 1032.0, 'peanut butter, smooth style, without salt': 256.0}})\n"
     ]
    }
   ],
   "source": [
    "with open(\"C:/UM/Master/FoodRecommendations/datasources/Recipe1M/recipes_with_nutritional_info.json\", 'r') as recipes_original_with_nutr_info_path:\n",
    "    recipes_original_with_nutritional_info = json.load(recipes_original_with_nutr_info_path)\n",
    "\n",
    "recipes_orig_w_nutr_info_dict = {recipe[\"id\"]: recipe for recipe in recipes_original_with_nutritional_info}\n",
    "\n",
    "for recipe_id, recipe in recipes_orig_w_nutr_info_dict.items():\n",
    "    recipes_orig_w_nutr_info_dict[recipe_id][\"ingredients\"] = [ingr[\"text\"] for ingr in recipe[\"ingredients\"]]\n",
    "\n",
    "\n",
    "def add_most_frequent_ingredient_info_to_orig_w_nutr_info(orig_recipes_w_nutr):\n",
    "    for recipe_id, recipe in orig_recipes_w_nutr.items():\n",
    "        ingredients_n_weight = {ingredient_name: ingredient_weight for ingredient_name, ingredient_weight in list(zip(recipe[\"ingredients\"], recipe[\"weight_per_ingr\"]))}\n",
    "        ingredients_n_weight = dict(sorted(ingredients_n_weight.items(), key=lambda item: item[1], reverse=True))\n",
    "        orig_recipes_w_nutr[recipe_id][\"weight_per_ingr\"] = ingredients_n_weight\n",
    "        # then sort is\n",
    "    return orig_recipes_w_nutr\n",
    "\n",
    "recipes_orig_w_nutr_info_dict = add_most_frequent_ingredient_info_to_orig_w_nutr_info(recipes_orig_w_nutr_info_dict)\n",
    "\n",
    "for i in range(5):\n",
    "    print(list(recipes_orig_w_nutr_info_dict.items())[i])"
   ]
  },
  {
   "cell_type": "code",
   "execution_count": 33,
   "metadata": {},
   "outputs": [],
   "source": [
    "\n",
    "matching_recipe_ids_from_gismo_and_nutriinfo = list(set(recipes_extended_dict.keys()) & set(recipes_orig_w_nutr_info_dict.keys()))"
   ]
  },
  {
   "cell_type": "code",
   "execution_count": 34,
   "metadata": {},
   "outputs": [
    {
     "name": "stdout",
     "output_type": "stream",
     "text": [
      "2498\n"
     ]
    }
   ],
   "source": [
    "print(len(matching_recipe_ids_from_gismo_and_nutriinfo))"
   ]
  },
  {
   "cell_type": "markdown",
   "metadata": {},
   "source": [
    "## Verify that matching recipes are indeed the same"
   ]
  },
  {
   "cell_type": "code",
   "execution_count": 35,
   "metadata": {},
   "outputs": [
    {
     "name": "stdout",
     "output_type": "stream",
     "text": [
      "['cheese, parmesan, hard', 'sauce, worcestershire', 'spices, garlic powder', 'catsup', 'oil, olive, salad or cooking']\n",
      "\n",
      "{'id': '42270b17e8', 'ingredients': [['cream_cheese'], ['worcestershire_sauce'], ['garlic_salt'], ['ketchup'], ['vegetable_oil', 'vegetable_oil_cooking_spray', 'castor_oil']], 'subs': ['garlic_salt', 'garlic_powder'], 'instructions': ['Mix all ingredients until creamy and smooth.', 'Chill.', 'Serve with potato chips, corn chips or pretzels.'], 'title': 'Schneider Family Cheese Dip', 'original_ingredients': ['8 ounces cream cheese', '12 tablespoon Worcestershire sauce', '1 teaspoon garlic salt', '13 cup ketchup', '14 cup vegetable oil'], 'ingredient_quantities': {'8 ounces cream cheese': 226.796, '12 tablespoon Worcestershire sauce': 7.3934, '1 teaspoon garlic salt': 4.92892, '13 cup ketchup': 78.86266666666666, '14 cup vegetable oil': 59.147}, 'subs_collection': [['garlic_salt', 'garlic_powder']]}\n"
     ]
    }
   ],
   "source": [
    "recipe_id = matching_recipe_ids_from_gismo_and_nutriinfo[273]\n",
    "print(f\"{recipes_orig_w_nutr_info_dict[recipe_id]['ingredients']}\\n\")\n",
    "print(f\"{recipes_extended_dict[recipe_id]}\")"
   ]
  },
  {
   "cell_type": "markdown",
   "metadata": {},
   "source": [
    "## Build map between gismo/flavorgraph ingredients and recipe1m with nutri info ingredients\n",
    "\n",
    "Actually the recipes lists seem to be in the same order in both sources, but I wanted to try how good the matching via these other techniques is"
   ]
  },
  {
   "cell_type": "code",
   "execution_count": 36,
   "metadata": {},
   "outputs": [],
   "source": [
    "def get_gizmo_name_from_reipce1mnutri_ingredient(ingredient_name, recipe_gismo, recipe_1mnutri):\n",
    "    for gismo_ingr_name, recipe1mnutri_ingr_name in zip(recipe_gismo[\"ingredients\"], recipe_1mnutri[\"ingredients\"]):\n",
    "        if recipe1mnutri_ingr_name == ingredient_name:\n",
    "            return gismo_ingr_name\n",
    "    raise Exception(\"ingredient could not be matched for {ingredient_name} in recipe {recipe['id']}\")\n",
    "\n"
   ]
  },
  {
   "cell_type": "markdown",
   "metadata": {},
   "source": [
    "## Get relative ranks for recipes with nutritional info"
   ]
  },
  {
   "cell_type": "code",
   "execution_count": 37,
   "metadata": {},
   "outputs": [],
   "source": [
    "\n",
    "def get_relative_weight_rank_of_gt_ingredient_from_1mnutri(gt_ingredient_gismo, recipe_gismo, recipe_1mnutri):\n",
    "    ingredient_nutri = None\n",
    "    for _ingr_gismo, _ingr_1mnutri in zip(recipe_gismo[\"ingredients\"], recipe_1mnutri[\"ingredients\"]):\n",
    "        if isinstance(_ingr_gismo, list):\n",
    "            for _ingr_var_gismo in _ingr_gismo:\n",
    "                if _ingr_var_gismo == gt_ingredient_gismo:\n",
    "                    ingredient_nutri = _ingr_1mnutri\n",
    "        else:\n",
    "            if _ingr_gismo == gt_ingredient_gismo:\n",
    "                ingredient_nutri = _ingr_1mnutri\n",
    "    if ingredient_nutri is None:\n",
    "        return -1\n",
    "\n",
    "    for rank, _ingr_name in enumerate(list(recipe_1mnutri[\"weight_per_ingr\"].keys())):\n",
    "        if ingredient_nutri == _ingr_name:\n",
    "            return rank / len(recipe_1mnutri[\"weight_per_ingr\"].keys())"
   ]
  },
  {
   "cell_type": "code",
   "execution_count": 38,
   "metadata": {},
   "outputs": [],
   "source": [
    "for recipe_id, recipe in list(recipes_extended_dict.items()):\n",
    "    if len(recipe[\"subs\"])>2:\n",
    "        print(recipe[\"subs\"])\n",
    "        break"
   ]
  },
  {
   "cell_type": "code",
   "execution_count": 39,
   "metadata": {},
   "outputs": [
    {
     "name": "stdout",
     "output_type": "stream",
     "text": [
      "597\n",
      "1901\n"
     ]
    }
   ],
   "source": [
    "candidate_substitution_recipes_from_1mnutri = {} #key = substitution pair, value = recipe\n",
    "\n",
    "in_bounds_counter = 0\n",
    "out_of_bounds_counter = 0\n",
    "for recipe_id in matching_recipe_ids_from_gismo_and_nutriinfo:\n",
    "    recipe_gismo = recipes_extended_dict[recipe_id]\n",
    "    recipe_1mnutri = recipes_orig_w_nutr_info_dict[recipe_id]\n",
    "    gt_subs = recipe_gismo[\"subs\"]\n",
    "\n",
    "    if isinstance(gt_subs[0], list):\n",
    "        for gt_sub in gt_subs:\n",
    "            source_ingr = gt_sub[0]\n",
    "            source_relative_weight_rank = get_relative_weight_rank_of_gt_ingredient_from_1mnutri(source_ingr, recipe_gismo, recipe_1mnutri)\n",
    "            if source_relative_weight_rank <= 0.1:\n",
    "                if not gt_sub in list(candidate_substitution_recipes_from_1mnutri.keys()):\n",
    "                    candidate_substitution_recipes_from_1mnutri[gt_sub] = []\n",
    "                candidate_substitution_recipes_from_1mnutri[gt_sub].append(recipe_gismo)\n",
    "                in_bounds_counter += 1\n",
    "            else:\n",
    "                out_of_bounds_counter += 1\n",
    "    else:\n",
    "        gt_sub = gt_subs\n",
    "        source_ingr = gt_sub[0]\n",
    "        target_ingr = gt_sub[1]\n",
    "        sub_tuple = (source_ingr, target_ingr)\n",
    "        source_relative_weight_rank = get_relative_weight_rank_of_gt_ingredient_from_1mnutri(source_ingr, recipe_gismo, recipe_1mnutri)\n",
    "        if source_relative_weight_rank <= 0.1:\n",
    "            if not sub_tuple in list(candidate_substitution_recipes_from_1mnutri.keys()):\n",
    "                candidate_substitution_recipes_from_1mnutri[sub_tuple] = []\n",
    "            candidate_substitution_recipes_from_1mnutri[sub_tuple].append(recipe_gismo)\n",
    "            in_bounds_counter += 1\n",
    "        else:\n",
    "            out_of_bounds_counter += 1\n",
    "\n",
    "print(in_bounds_counter)\n",
    "print(out_of_bounds_counter)\n",
    "\n",
    "    # for gt_sub in gt_subs:\n",
    "    #     source_ingr = gt_sub[0]\n",
    "    #     source_relative_weight_rank = get_relative_weight_rank_of_gt_ingredient_from_1mnutri(source_ingr, recipe_gismo, recipe_1mnutri)\n",
    "    #     if source_relative_weight_rank <= 0.25:\n",
    "    #         if not gt_sub in list(candidate_substitution_recipes_from_1mnutri.keys()):\n",
    "    #             candidate_substitution_recipes_from_1mnutri[gt_sub] = []\n",
    "    #         candidate_substitution_recipes_from_1mnutri[gt_sub].append(recipe_gismo))"
   ]
  },
  {
   "cell_type": "code",
   "execution_count": 40,
   "metadata": {},
   "outputs": [
    {
     "name": "stdout",
     "output_type": "stream",
     "text": [
      "number of substitution pairs for recipes in which the source is a major component: 185\n",
      "substitution pairs [('ketchup', 'tomato_sauce'), ('red_wine_vinegar', 'white_wine_vinegar'), ('apricot_preserve', 'mango_chutney'), ('cider_vinegar', 'white_wine_vinegar'), ('boneless_skinless_chicken_breast', 'ground_turkey_breast'), ('crushed_pineapple', 'fruit'), ('agave_nectar', 'maple_syrup'), ('white_wine_vinegar', 'balsamic_vinegar'), ('turkey_sausage', 'turkey_pepperoni'), ('pecan', 'almond'), ('rolled_oat', 'oat_bran'), ('non_dairy_chocolate_chip', 'cocoa_powder'), ('balsamic_vinaigrette', 'white_balsamic_vinegar'), ('chicken', 'rib'), ('white_chocolate_chip', 'sweet_chocolate'), ('savoy_cabbage', 'kale'), ('lean_ground_beef', 'turkey'), ('salmon_fillet', 'dried_dill'), ('chocolate_candy_melts', 'crunchy_peanut_butter'), ('lettuce', 'spinach'), ('plain_fat_free_yogurt', 'fat_free_sour_cream'), ('tart_apple', 'frozen_peach'), ('barley', 'barley_flour'), ('unsweetened_applesauce', 'pumpkin'), ('chicken_stock', 'beef_broth'), ('apple_cider', 'water'), ('homemade_beef_stock', 'vegetable_stock'), ('ricotta_cheese', 'cottage_cheese'), ('ketchup', 'water'), ('dried_apricot', 'dried_cranberry'), ('silken_tofu', 'almond_milk'), ('salmon_fillet', 'trout_fillet'), ('chocolate_chip', 'white_almond_bark'), ('raisin', 'currant'), ('club_soda', 'tonic_water'), ('pitted_date', 'raisin'), ('cayenne_powder', 'red_pepper_flake'), ('boneless_skinless_chicken_breast', 'shrimp'), ('raisin', 'dried_cranberry'), ('beer', 'non_alcoholic_beer'), ('cilantro', 'parsley'), ('dry_white_wine', 'apple_juice'), ('lemon_mayonnaise', 'lime_juice'), ('dark_jamaican_rum', 'spiced_rum'), ('vegetable_broth', 'chicken_broth'), ('canadian_bacon', 'turkey_bacon'), ('rolled_oat', 'dried_basil'), ('english_pea', 'soup'), ('ketchup', 'chili_sauce'), ('soft_tofu', 'ice_cream'), ('walnut', 'almond'), ('plain_fat_free_yogurt', 'sour_cream'), ('blueberry', 'strawberry'), ('white_chocolate', 'white_almond_bark'), ('green_bean', 'zucchini'), ('ketchup', 'barbecue_sauce'), ('tomato_sauce', 'ketchup'), ('chili_powder', 'paprika'), ('yogurt_covered_raisins', 'flax_seed_meal'), ('almond', 'hazelnut'), ('shortening', 'olive_oil'), ('sausage_link', 'blueberry'), ('raspberry_jam', 'strawberry_jam'), ('walnut', 'pecan'), ('white_vinegar', 'apple_cider_vinegar'), ('fresh_spinach', 'olive_oil'), ('date', 'prune'), ('blue_cheese', 'feta_cheese'), ('walnut_piece', 'pecan_piece'), ('fresh_pumpkin', 'squash'), ('peanut', 'cashew'), ('white_rum', 'vodka'), ('plain_yogurt', 'sour_cream'), ('chex_cereal', 'pecan_piece'), ('rolled_oat', 'bran_flake'), ('chicken_bouillon_cube', 'beef'), ('raisin', 'dried_apricot'), ('slivered_almond', 'pecan'), ('apple', 'cheese'), ('dutch_processed_cocoa_powder', 'baking_soda'), ('sweet_gherkin', 'sweet_pickle_relish'), ('silken_tofu', 'cream_cheese'), ('ice', 'vanilla_ice_cream'), ('dried_cranberry', 'chocolate_chip'), ('pork_roast', 'pork_loin_roast'), ('breakfast_cereal', 'graham_cracker'), ('tahini', 'milk'), ('non_fat_vanilla_frozen_yogurt', 'pineapple_yogurt'), ('raisin', 'dried_blueberry'), ('low_sodium_soy_sauce', 'fresh_ginger'), ('apricot_jam', 'strawberry_jam'), ('pine_nut', 'pecan_nut'), ('agave_nectar', 'brown_sugar'), ('kielbasa', 'summer_sausage'), ('hickory_smoked_bacon', 'saltines'), ('salsa', 'hot_sauce'), ('beef_broth', 'chicken_stock'), ('farina', 'cream_of_rice'), ('sausage', 'bacon'), ('dried_yeast', 'cornmeal'), ('red_maraschino_cherry', 'jam'), ('shortening', 'butter'), ('barbecue_sauce', 'water'), ('green_pepper', 'red_bell_pepper'), ('dried_cranberry', 'apricot'), ('fresh_strawberry', 'simple_syrup'), ('salsa', 'taco_sauce'), ('green_pepper', 'red_pepper'), ('walnut', 'toasted_hazelnut'), ('vodka', 'white_wine'), ('orange_marmalade', 'pineapple_preserve'), ('shrimp', 'cooked_chicken'), ('greek_olive', 'canola_oil'), ('grand_marnier', 'limoncello'), ('vegetable_shortening', 'canola_oil'), ('lean_ground_beef', 'chicken'), ('dried_apricot', 'berry'), ('honey_roasted_peanut', 'walnut'), ('pistachio', 'pecan'), ('raisin', 'fresh_pineapple'), ('fruity_pebbles_cereal', 'corn'), ('cottage_cheese', 'soya_milk'), ('dried_cranberry', 'blueberry'), ('chili_powder', 'chili_seasoning_mix'), ('tahini', 'peanut_butter'), ('plain_fat_free_yogurt', 'strawberry_yogurt'), ('chili_powder', 'cayenne_pepper'), ('dried_apricot', 'blueberry'), ('blue_cheese', 'vinaigrette'), ('frozen_corn', 'sweet_corn'), ('lard', 'bacon_grease'), ('raisin', 'walnut'), ('oat_bran', 'coconut_flour'), ('rib_eye_steak', 'granulated_garlic'), ('liquid_honey', 'maple_syrup'), ('rib', 'pork'), ('peanut', 'walnut'), ('sharp_cheddar_cheese', 'cookie'), ('strawberry_jam', 'apricot_jam'), ('tomato_paste', 'ketchup'), ('raisin', 'apple_cider_vinegar'), ('nectarine', 'peach'), ('bacon', 'bacon_bit'), ('catsup', 'tomato_sauce'), ('coffee_liqueur', 'almond_liqueur'), ('turkey_tenderloin', 'chicken_tenderloin'), ('plain_nonfat_yogurt', 'sour_cream'), ('baby_carrot', 'dark_muscovado_sugar'), ('fresh_broccoli', 'broccoli_rabe'), ('dried_sweetened_cranberry', 'golden_raisin'), ('chicken_bouillon_granule', 'vegetable_bouillon_granule'), ('sliced_ripe_olive', 'salt'), ('hazelnut', 'almond'), ('dark_raisin', 'date'), ('ground_beef', 'chicken'), ('mango_chutney', 'peach_chutney'), ('raisin', 'dried_cherry'), ('almond', 'pecan'), ('shrimp', 'white_wine'), ('broccoli', 'cauliflower'), ('oat_bran', 'whole_wheat_flour'), ('vegetable_stock', 'water'), ('ground_beef', 'ground_turkey'), ('lemon_yogurt', 'vanilla_yogurt'), ('almond', 'roast'), ('szechuan_peppercorn', 'ginger'), ('ketchup', 'tomato_paste'), ('feta_cheese', 'chive'), ('pecan_half', 'ground_walnut'), ('green_grape', 'red_seedless_grape'), ('raisin', 'date'), ('shrimp', 'minced_chicken'), ('country_style_pork_rib', 'marinade'), ('ground_lean_pork', 'ground_turkey'), ('zucchini', 'summer_squash'), ('cocoa', 'syrup'), ('pine_nut', 'walnut'), ('dried_date', 'prune'), ('lean_ground_beef', 'ground_turkey'), ('pine_nut', 'peanut'), ('slivered_almond', 'onion'), ('white_chocolate_chip', 'peanut_butter_chip'), ('nut', 'oatmeal'), ('nonfat_plain_yogurt', 'buttermilk'), ('bacon', 'spicy_pork_sausage')]\n"
     ]
    }
   ],
   "source": [
    "\n",
    "## filter the remaining recipes with nutri info in which the gt source plays a majo role\n",
    "candidate_substitution_recipes_from_1mnutri = {pair: recipes for pair, recipes in list(candidate_substitution_recipes_from_1mnutri.items()) if not checkIngredientContainsBlacklistPhrase(pair[0], BLACKLIST_PHRASES)}\n",
    "\n",
    "## and filter out the very most common ingredients from the gismo dataset\n",
    "candidate_substitution_recipes_from_1mnutri = {pair: recipes for pair, recipes in list(candidate_substitution_recipes_from_1mnutri.items()) if not pair[0] in very_most_common_ingrs}\n",
    "\n",
    "print(f\"number of substitution pairs for recipes in which the source is a major component: {len(candidate_substitution_recipes_from_1mnutri)}\")\n",
    "print(f\"substitution pairs {list(candidate_substitution_recipes_from_1mnutri.keys())}\")"
   ]
  },
  {
   "cell_type": "code",
   "execution_count": 41,
   "metadata": {},
   "outputs": [
    {
     "name": "stdout",
     "output_type": "stream",
     "text": [
      "number of substitution pairs for recipes in which the source is a major component: 180\n",
      "substitution pairs [('ketchup', 'tomato_sauce'), ('red_wine_vinegar', 'white_wine_vinegar'), ('apricot_preserve', 'mango_chutney'), ('cider_vinegar', 'white_wine_vinegar'), ('boneless_skinless_chicken_breast', 'ground_turkey_breast'), ('crushed_pineapple', 'fruit'), ('agave_nectar', 'maple_syrup'), ('white_wine_vinegar', 'balsamic_vinegar'), ('turkey_sausage', 'turkey_pepperoni'), ('pecan', 'almond'), ('rolled_oat', 'oat_bran'), ('non_dairy_chocolate_chip', 'cocoa_powder'), ('balsamic_vinaigrette', 'white_balsamic_vinegar'), ('chicken', 'rib'), ('white_chocolate_chip', 'sweet_chocolate'), ('savoy_cabbage', 'kale'), ('lean_ground_beef', 'turkey'), ('salmon_fillet', 'dried_dill'), ('chocolate_candy_melts', 'crunchy_peanut_butter'), ('lettuce', 'spinach'), ('plain_fat_free_yogurt', 'fat_free_sour_cream'), ('tart_apple', 'frozen_peach'), ('barley', 'barley_flour'), ('unsweetened_applesauce', 'pumpkin'), ('chicken_stock', 'beef_broth'), ('apple_cider', 'water'), ('homemade_beef_stock', 'vegetable_stock'), ('ricotta_cheese', 'cottage_cheese'), ('ketchup', 'water'), ('dried_apricot', 'dried_cranberry'), ('silken_tofu', 'almond_milk'), ('salmon_fillet', 'trout_fillet'), ('chocolate_chip', 'white_almond_bark'), ('raisin', 'currant'), ('club_soda', 'tonic_water'), ('pitted_date', 'raisin'), ('cayenne_powder', 'red_pepper_flake'), ('boneless_skinless_chicken_breast', 'shrimp'), ('raisin', 'dried_cranberry'), ('beer', 'non_alcoholic_beer'), ('cilantro', 'parsley'), ('dry_white_wine', 'apple_juice'), ('lemon_mayonnaise', 'lime_juice'), ('dark_jamaican_rum', 'spiced_rum'), ('vegetable_broth', 'chicken_broth'), ('canadian_bacon', 'turkey_bacon'), ('rolled_oat', 'dried_basil'), ('english_pea', 'soup'), ('ketchup', 'chili_sauce'), ('soft_tofu', 'ice_cream'), ('walnut', 'almond'), ('plain_fat_free_yogurt', 'sour_cream'), ('blueberry', 'strawberry'), ('white_chocolate', 'white_almond_bark'), ('green_bean', 'zucchini'), ('ketchup', 'barbecue_sauce'), ('tomato_sauce', 'ketchup'), ('chili_powder', 'paprika'), ('yogurt_covered_raisins', 'flax_seed_meal'), ('almond', 'hazelnut'), ('shortening', 'olive_oil'), ('sausage_link', 'blueberry'), ('raspberry_jam', 'strawberry_jam'), ('walnut', 'pecan'), ('white_vinegar', 'apple_cider_vinegar'), ('fresh_spinach', 'olive_oil'), ('date', 'prune'), ('blue_cheese', 'feta_cheese'), ('walnut_piece', 'pecan_piece'), ('fresh_pumpkin', 'squash'), ('peanut', 'cashew'), ('white_rum', 'vodka'), ('plain_yogurt', 'sour_cream'), ('rolled_oat', 'bran_flake'), ('chicken_bouillon_cube', 'beef'), ('raisin', 'dried_apricot'), ('slivered_almond', 'pecan'), ('apple', 'cheese'), ('dutch_processed_cocoa_powder', 'baking_soda'), ('sweet_gherkin', 'sweet_pickle_relish'), ('silken_tofu', 'cream_cheese'), ('ice', 'vanilla_ice_cream'), ('dried_cranberry', 'chocolate_chip'), ('pork_roast', 'pork_loin_roast'), ('breakfast_cereal', 'graham_cracker'), ('tahini', 'milk'), ('raisin', 'dried_blueberry'), ('low_sodium_soy_sauce', 'fresh_ginger'), ('apricot_jam', 'strawberry_jam'), ('pine_nut', 'pecan_nut'), ('agave_nectar', 'brown_sugar'), ('kielbasa', 'summer_sausage'), ('salsa', 'hot_sauce'), ('beef_broth', 'chicken_stock'), ('farina', 'cream_of_rice'), ('sausage', 'bacon'), ('dried_yeast', 'cornmeal'), ('red_maraschino_cherry', 'jam'), ('shortening', 'butter'), ('barbecue_sauce', 'water'), ('green_pepper', 'red_bell_pepper'), ('dried_cranberry', 'apricot'), ('fresh_strawberry', 'simple_syrup'), ('salsa', 'taco_sauce'), ('green_pepper', 'red_pepper'), ('walnut', 'toasted_hazelnut'), ('vodka', 'white_wine'), ('orange_marmalade', 'pineapple_preserve'), ('shrimp', 'cooked_chicken'), ('grand_marnier', 'limoncello'), ('vegetable_shortening', 'canola_oil'), ('lean_ground_beef', 'chicken'), ('dried_apricot', 'berry'), ('honey_roasted_peanut', 'walnut'), ('pistachio', 'pecan'), ('raisin', 'fresh_pineapple'), ('fruity_pebbles_cereal', 'corn'), ('cottage_cheese', 'soya_milk'), ('dried_cranberry', 'blueberry'), ('chili_powder', 'chili_seasoning_mix'), ('tahini', 'peanut_butter'), ('plain_fat_free_yogurt', 'strawberry_yogurt'), ('chili_powder', 'cayenne_pepper'), ('dried_apricot', 'blueberry'), ('blue_cheese', 'vinaigrette'), ('frozen_corn', 'sweet_corn'), ('lard', 'bacon_grease'), ('raisin', 'walnut'), ('oat_bran', 'coconut_flour'), ('rib_eye_steak', 'granulated_garlic'), ('liquid_honey', 'maple_syrup'), ('rib', 'pork'), ('peanut', 'walnut'), ('sharp_cheddar_cheese', 'cookie'), ('strawberry_jam', 'apricot_jam'), ('tomato_paste', 'ketchup'), ('raisin', 'apple_cider_vinegar'), ('nectarine', 'peach'), ('bacon', 'bacon_bit'), ('catsup', 'tomato_sauce'), ('coffee_liqueur', 'almond_liqueur'), ('plain_nonfat_yogurt', 'sour_cream'), ('baby_carrot', 'dark_muscovado_sugar'), ('fresh_broccoli', 'broccoli_rabe'), ('dried_sweetened_cranberry', 'golden_raisin'), ('chicken_bouillon_granule', 'vegetable_bouillon_granule'), ('sliced_ripe_olive', 'salt'), ('hazelnut', 'almond'), ('dark_raisin', 'date'), ('ground_beef', 'chicken'), ('mango_chutney', 'peach_chutney'), ('raisin', 'dried_cherry'), ('almond', 'pecan'), ('shrimp', 'white_wine'), ('broccoli', 'cauliflower'), ('oat_bran', 'whole_wheat_flour'), ('vegetable_stock', 'water'), ('ground_beef', 'ground_turkey'), ('lemon_yogurt', 'vanilla_yogurt'), ('almond', 'roast'), ('szechuan_peppercorn', 'ginger'), ('ketchup', 'tomato_paste'), ('feta_cheese', 'chive'), ('pecan_half', 'ground_walnut'), ('green_grape', 'red_seedless_grape'), ('raisin', 'date'), ('shrimp', 'minced_chicken'), ('country_style_pork_rib', 'marinade'), ('ground_lean_pork', 'ground_turkey'), ('zucchini', 'summer_squash'), ('cocoa', 'syrup'), ('pine_nut', 'walnut'), ('dried_date', 'prune'), ('lean_ground_beef', 'ground_turkey'), ('pine_nut', 'peanut'), ('slivered_almond', 'onion'), ('white_chocolate_chip', 'peanut_butter_chip'), ('nut', 'oatmeal'), ('nonfat_plain_yogurt', 'buttermilk'), ('bacon', 'spicy_pork_sausage')]\n"
     ]
    }
   ],
   "source": [
    "# try filtering out rare ingredients\n",
    "candidate_substitution_recipes_from_1mnutri = {pair: recipes for pair, recipes in list(candidate_substitution_recipes_from_1mnutri.items()) if not pair[0] in least_common_ingredients}\n",
    "\n",
    "print(f\"number of substitution pairs for recipes in which the source is a major component: {len(candidate_substitution_recipes_from_1mnutri)}\")\n",
    "print(f\"substitution pairs {list(candidate_substitution_recipes_from_1mnutri.keys())}\")"
   ]
  },
  {
   "cell_type": "markdown",
   "metadata": {},
   "source": [
    "## Inspecting some of these recipes:"
   ]
  },
  {
   "cell_type": "code",
   "execution_count": 42,
   "metadata": {},
   "outputs": [
    {
     "name": "stdout",
     "output_type": "stream",
     "text": [
      "test sub pair: ('dried_sweetened_cranberry', 'golden_raisin')\n",
      "test recipe id {'id': 'c6b23133db', 'ingredients': [['frozen_peach', 'frozen_peaches'], ['dried_sweetened_cranberry', 'dried_sweetened_cranberries'], ['peach_nectar'], ['brown_sugar'], ['cinnamon']], 'subs': ['dried_sweetened_cranberry', 'golden_raisin'], 'instructions': ['Mix all the ingredients in a medium sized pan, stirring well.', 'Put the top on the pan and turn the heat to medium.', 'Let it cook for 10 minutes or until the peaches are tender.', '1/4 cup of the mixture is 1 WW point.'], 'title': 'Cinnamon Spiced Peaches (1 Pt)', 'original_ingredients': ['2 cups frozen peaches, thawed', '14 cup dried sweetened cranberries', '14 cup peach nectar', '3 tablespoons brown sugar', '12 teaspoon cinnamon'], 'ingredient_quantities': {'2 cups frozen peaches, thawed': 473.176, '14 cup dried sweetened cranberries': 59.147, '14 cup peach nectar': 59.147, '3 tablespoons brown sugar': 44.3604, '12 teaspoon cinnamon': 2.46446}, 'subs_collection': [['dried_sweetened_cranberry', 'golden_raisin']]}\n"
     ]
    }
   ],
   "source": [
    "# good are [0, 122, 183]\n",
    "# bad is [12, 144]\n",
    "test_idx = 144\n",
    "test_sub_pair = list(candidate_substitution_recipes_from_1mnutri.keys())[test_idx]\n",
    "print(f\"test sub pair: {test_sub_pair}\")\n",
    "test_recipe = candidate_substitution_recipes_from_1mnutri[test_sub_pair][0]\n",
    "print(f\"test recipe id {test_recipe}\")"
   ]
  },
  {
   "cell_type": "markdown",
   "metadata": {},
   "source": [
    "# Prepare the rest of the GISMO recipes to get weight, then calculate the most fitting recipes accordingly"
   ]
  },
  {
   "cell_type": "markdown",
   "metadata": {},
   "source": [
    "# Some more ingredient matching functions (Should not be needed due to each ingredient lists ordering)"
   ]
  },
  {
   "cell_type": "code",
   "execution_count": 43,
   "metadata": {},
   "outputs": [
    {
     "name": "stdout",
     "output_type": "stream",
     "text": [
      "beef, grass-fed, ground, raw matches beef_bouillon_powder\n",
      "spices, pepper, black matches black_pepper\n",
      "onions, raw matches onion_salt\n",
      "spices, onion powder matches onion_powder\n",
      "spices, parsley, dried matches dry_parsley_flake\n",
      "salt, table matches onion_salt\n"
     ]
    }
   ],
   "source": [
    "import difflib\n",
    "\n",
    "gismo_to_recipe1mnutri = {}\n",
    "recipe1mnutri_to_gismo = {}\n",
    "\n",
    "ingredients1 = recipes_orig_w_nutr_info_dict[recipe_id][\"ingredients\"]\n",
    "ingredients2tmp = recipes_extended_dict[recipe_id][\"ingredients\"]\n",
    "ingredients2 = []\n",
    "for ingr in ingredients2tmp:\n",
    "    if isinstance(ingr, list):\n",
    "        ingr = ingr[0]\n",
    "    ing = ingr.replace('_', ' ')\n",
    "    ingredients2.append(ingr)\n",
    "\n",
    "matching_items = {}\n",
    "for item1 in ingredients1:\n",
    "    best_match = difflib.get_close_matches(item1, ingredients2, n=1, cutoff=0.1)\n",
    "    if best_match:\n",
    "        matching_items[item1] = best_match[0]\n",
    "\n",
    "    # for item2 in recipes_extended_dict[recipe_id][\"ingredients\"]:\n",
    "    #     if isinstance(item2, list):\n",
    "    #         item2 = item2[0]\n",
    "    #     item2 = item2.replace('_', ' ')\n",
    "    #     best_match = difflib.get_close_matches(item1, item2, n=1, cutoff=0.1)\n",
    "    #     if best_match:\n",
    "    #         matching_items[item1] = best_match[0]\n",
    "\n",
    "for item, match in matching_items.items():\n",
    "    print(f\"{item} matches {match}\")"
   ]
  },
  {
   "cell_type": "code",
   "execution_count": 44,
   "metadata": {},
   "outputs": [],
   "source": [
    "import spacy\n",
    "import datetime\n",
    "\n",
    "# timestamp1 = datetime.datetime.now().strftime(\"%Y-%m-%d %H:%M:%S\")\n",
    "# print(f\"timestamp1 {timestamp1}\")\n",
    "nlp = spacy.load(\"en_core_web_sm\")\n",
    "\n",
    "# timestamp2 = datetime.datetime.now().strftime(\"%Y-%m-%d %H:%M:%S\")\n",
    "# print(f\"timestamp1 {timestamp2}\")\n",
    "\n",
    "\n",
    "ingredients1 = recipes_orig_w_nutr_info_dict[recipe_id][\"ingredients\"]\n",
    "ingredients2tmp = recipes_extended_dict[recipe_id][\"ingredients\"]\n",
    "ingredients2 = []\n",
    "for ingr in ingredients2tmp:\n",
    "    if isinstance(ingr, list):\n",
    "        ingr = ingr[0]\n",
    "    ing = ingr.replace('_', ' ')\n",
    "    ingredients2.append(ingr)\n",
    "\n",
    "matching_items = {}\n",
    "\n",
    "for item1 in ingredients1:\n",
    "\n",
    "    item1_tokens = set(token.text for token in nlp(item1))\n",
    "\n",
    "    # timestamp3 = datetime.datetime.now().strftime(\"%Y-%m-%d %H:%M:%S\")\n",
    "    # print(f\"timestamp1 {timestamp3}\")\n",
    "\n",
    "    for item2 in ingredients2:\n",
    "        item2_tokens = set(token for token in item2)\n",
    "        common_tokens = item1_tokens.intersection(item2_tokens)\n",
    "        if common_tokens:\n",
    "            matching_items[item1] = item2\n",
    "            break\n",
    "\n",
    "# timestamp4 = datetime.datetime.now().strftime(\"%Y-%m-%d %H:%M:%S\")\n",
    "# print(f\"timestamp1 {timestamp4}\")\n",
    "\n",
    "for item, match in matching_items.items():\n",
    "    print(f\"{item} matches {match}\")"
   ]
  },
  {
   "cell_type": "code",
   "execution_count": 45,
   "metadata": {},
   "outputs": [
    {
     "name": "stdout",
     "output_type": "stream",
     "text": [
      "Matches for list1:\n",
      "beef, grass-fed, ground, raw matches beef bouillon powder\n",
      "spices, pepper, black matches black pepper\n",
      "onions, raw matches onion salt\n",
      "spices, onion powder matches onion powder\n",
      "spices, parsley, dried matches dry parsley flake\n",
      "salt, table matches onion salt\n",
      "\n",
      "Matches for list2:\n",
      "beef bouillon powder matches beef, grass-fed, ground, raw\n",
      "black pepper matches spices, pepper, black\n",
      "onion salt matches salt, table\n",
      "onion powder matches spices, onion powder\n",
      "dry parsley flake matches spices, parsley, dried\n"
     ]
    }
   ],
   "source": [
    "from fuzzywuzzy import fuzz, process\n",
    "\n",
    "ingredients1 = recipes_orig_w_nutr_info_dict[recipe_id][\"ingredients\"]\n",
    "ingredients2tmp = recipes_extended_dict[recipe_id][\"ingredients\"]\n",
    "ingredients2 = []\n",
    "for ingr in ingredients2tmp:\n",
    "    if isinstance(ingr, list):\n",
    "        ingr = ingr[0]\n",
    "    ingr = ingr.replace('_', ' ')\n",
    "    ingredients2.append(ingr)\n",
    "\n",
    "matching_items_list1 = {}\n",
    "matching_items_list2 = {}\n",
    "\n",
    "# Calculate all similarity scores and store the best match for each item in both lists\n",
    "for item1 in ingredients1:\n",
    "    best_match, best_score = None, 0\n",
    "\n",
    "    for item2 in ingredients2:\n",
    "        score = fuzz.token_sort_ratio(item1, item2)\n",
    "\n",
    "        if score > best_score:\n",
    "            best_match = item2\n",
    "            best_score = score\n",
    "\n",
    "    if best_score >= 10:  # You can adjust the threshold as needed\n",
    "        matching_items_list1[item1] = best_match\n",
    "        matching_items_list2[best_match] = item1\n",
    "\n",
    "# Print the matched items for list1\n",
    "print(\"Matches for list1:\")\n",
    "for item1, item2 in matching_items_list1.items():\n",
    "    print(f\"{item1} matches {item2}\")\n",
    "\n",
    "# Print the matched items for list2\n",
    "print(\"\\nMatches for list2:\")\n",
    "for item2, item1 in matching_items_list2.items():\n",
    "    print(f\"{item2} matches {item1}\")"
   ]
  },
  {
   "cell_type": "code",
   "execution_count": 46,
   "metadata": {},
   "outputs": [
    {
     "ename": "SyntaxError",
     "evalue": "incomplete input (3765032402.py, line 23)",
     "output_type": "error",
     "traceback": [
      "\u001b[1;36m  Cell \u001b[1;32mIn[46], line 23\u001b[1;36m\u001b[0m\n\u001b[1;33m    # add the match which the highest counter\u001b[0m\n\u001b[1;37m                                             ^\u001b[0m\n\u001b[1;31mSyntaxError\u001b[0m\u001b[1;31m:\u001b[0m incomplete input\n"
     ]
    }
   ],
   "source": [
    "# try matching based only over word overlap\n",
    "\n",
    "ingredients1 = recipes_orig_w_nutr_info_dict[recipe_id][\"ingredients\"]\n",
    "ingredients2tmp = recipes_extended_dict[recipe_id][\"ingredients\"]\n",
    "ingredients2 = []\n",
    "for ingr in ingredients2tmp:\n",
    "    if isinstance(ingr, list):\n",
    "        ingr = ingr[0]\n",
    "    ingr = ingr.replace('_', ' ')\n",
    "    ingredients2.append(ingr)\n",
    "\n",
    "matching_items = {}\n",
    "\n",
    "# Calculate all similarity scores and store the best match for each item in both lists\n",
    "for item1 in ingredients1:\n",
    "    best_match, best_score = None, 0\n",
    "\n",
    "    for item2 in ingredients2:\n",
    "        words = item2.split(\" \")\n",
    "        for word in words:\n",
    "            if word in item1:\n",
    "                pass\n",
    "                #increase counter\n",
    "        # add the match which the highest counter\n"
   ]
  }
 ],
 "metadata": {
  "kernelspec": {
   "display_name": "foodrecommnederscrapbooks",
   "language": "python",
   "name": "python3"
  },
  "language_info": {
   "codemirror_mode": {
    "name": "ipython",
    "version": 3
   },
   "file_extension": ".py",
   "mimetype": "text/x-python",
   "name": "python",
   "nbconvert_exporter": "python",
   "pygments_lexer": "ipython3",
   "version": "3.11.4"
  },
  "orig_nbformat": 4
 },
 "nbformat": 4,
 "nbformat_minor": 2
}
