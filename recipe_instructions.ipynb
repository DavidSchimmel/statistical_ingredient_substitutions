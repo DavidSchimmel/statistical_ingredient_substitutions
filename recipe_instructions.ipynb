{
 "cells": [
  {
   "cell_type": "code",
   "execution_count": 1,
   "metadata": {},
   "outputs": [],
   "source": [
    "import os\n",
    "import pickle\n",
    "import pandas as pd\n",
    "import json\n",
    "\n",
    "from calc_recipe_ingredient_info_distances import collectSomeRecipeRecommendations, get_all_comments, get_all_mutual_info, evalRecommendations, getRecommendationsBasedOnMutualInformationRole, get_graph_nodes, get_all_gt_recipes, get_recipes_per_ingredient, get_recipes_per_ingredient_pairs, get_all_frequencies,getNaiveBayesRecommendations\n",
    "\n",
    "from generic_preprocessing import (make_recipes_extended_dict)\n",
    "\n",
    "from recipe_clustering_helpers import (\n",
    "    create_one_hot_ingredients_per_df, getRecipeIdsForSubTuples, get_hamming_distances\n",
    ")"
   ]
  },
  {
   "cell_type": "code",
   "execution_count": 2,
   "metadata": {},
   "outputs": [],
   "source": [
    "ORDERED_RECIPE_IDS_PATH = os.path.abspath(\"./outputs/sorted_recipe_ids_list.pkl\")\n",
    "GRAPH_NODES_PATH = os.path.abspath(\"./inputs/graph/nodes_191120.csv\")\n",
    "\n",
    "EXTENDED_RECIPES_PATH_OLD = os.path.abspath(\"./inputs/extended_recipes_with_instructions_and_titles.json\")\n",
    "EXTENDED_RECIPES_PATH = os.path.abspath(\"./inputs/extended_recipes_with_quantities.json\")\n"
   ]
  },
  {
   "cell_type": "code",
   "execution_count": 3,
   "metadata": {},
   "outputs": [],
   "source": [
    "if os.path.isfile(ORDERED_RECIPE_IDS_PATH):\n",
    "    with open(ORDERED_RECIPE_IDS_PATH, \"rb\") as file:\n",
    "        ordered_recipe_ids = pickle.load(file)\n",
    "recipe_ids_with_ranks = ordered_recipe_ids\n",
    "ordered_recipe_ids = [recipe[1] for recipe in recipe_ids_with_ranks]\n",
    "\n",
    "# recipes with comments, lists, names, and gt_truths\n",
    "with open(EXTENDED_RECIPES_PATH, 'r') as recipe_extended_with_original_info:\n",
    "    extended_recipes = json.load(recipe_extended_with_original_info)\n",
    "\n",
    "recipes_extended_dict = make_recipes_extended_dict(extended_recipes)\n"
   ]
  },
  {
   "cell_type": "code",
   "execution_count": 4,
   "metadata": {},
   "outputs": [
    {
     "name": "stdout",
     "output_type": "stream",
     "text": [
      "0\n",
      "1\n",
      "2\n",
      "3\n"
     ]
    }
   ],
   "source": [
    "for i, item in enumerate(recipes_extended_dict.items()):\n",
    "    print(i)\n",
    "    if i > 2:\n",
    "        break"
   ]
  },
  {
   "cell_type": "markdown",
   "metadata": {},
   "source": [
    "## Some notes upon inspection\n",
    "- should split instruction steps at semicolon\n",
    "- probably makes sense to identify the step by the verb that is used in the step phrase\n",
    "- relate all identified ingredients to the step\n",
    "- maybe need to check for *not* keyword (`like do not let overheat`)\n",
    "- that means that some ingredients can be identified, but some or even all might also be missed in a step -> so the processing needs to be tolerant towards this kind of distortion\n",
    "- quesiton is how we want to track entities (maybe if the label is similar, this can be tracked, otherwise not really)\n",
    "- do we want to track cooking items? Some sense of locations? (this would be interesting for things like robotic cooking that require clear instruction sets (for now)).\n",
    "\n"
   ]
  },
  {
   "cell_type": "code",
   "execution_count": null,
   "metadata": {},
   "outputs": [],
   "source": []
  }
 ],
 "metadata": {
  "kernelspec": {
   "display_name": "foodrecommnederscrapbooks",
   "language": "python",
   "name": "python3"
  },
  "language_info": {
   "codemirror_mode": {
    "name": "ipython",
    "version": 3
   },
   "file_extension": ".py",
   "mimetype": "text/x-python",
   "name": "python",
   "nbconvert_exporter": "python",
   "pygments_lexer": "ipython3",
   "version": "3.11.4"
  }
 },
 "nbformat": 4,
 "nbformat_minor": 2
}
