{
 "cells": [
  {
   "cell_type": "code",
   "execution_count": 1,
   "metadata": {},
   "outputs": [],
   "source": [
    "import csv\n",
    "import os\n"
   ]
  },
  {
   "cell_type": "code",
   "execution_count": 2,
   "metadata": {},
   "outputs": [],
   "source": [
    "val_ranks_path = os.path.abspath(\"./val_ranks.txt\")\n",
    "\n",
    "rows = []\n",
    "with open(val_ranks_path, 'r') as file:\n",
    "    for line in file:\n",
    "        values = line.split()\n",
    "\n",
    "        rows.append(values)"
   ]
  },
  {
   "cell_type": "code",
   "execution_count": 3,
   "metadata": {},
   "outputs": [],
   "source": [
    "unique_top_ranks_for_sources = {}\n",
    "\n",
    "for row in rows:\n",
    "    source = row[0]\n",
    "    top_rank_pred = row[3]\n",
    "\n",
    "    if source not in list(unique_top_ranks_for_sources.keys()):\n",
    "        unique_top_ranks_for_sources[source] = []\n",
    "    if top_rank_pred not in unique_top_ranks_for_sources[source]:\n",
    "        unique_top_ranks_for_sources[source].append(top_rank_pred)\n",
    "    else:\n",
    "        pass\n",
    "\n"
   ]
  },
  {
   "cell_type": "code",
   "execution_count": 4,
   "metadata": {},
   "outputs": [
    {
     "name": "stdout",
     "output_type": "stream",
     "text": [
      "average top rank diversity: 1.054054054054054\n",
      "total number of distinct substitution sources: 39\n",
      "number of substitution sources which have only 1 recommended ingredient: 35\n",
      "number of substitution sources which have only 1 recommended ingreident and which is applied to more than 10 recipes: 0\n"
     ]
    }
   ],
   "source": [
    "\n",
    "undiverse_top_rank_count = 0\n",
    "undiverse_top_rank_count_with_more_than_10_recipes = 0\n",
    "abs_div_sum = 0\n",
    "distinct_source_count = 0\n",
    "\n",
    "for source, distinct_targets in unique_top_ranks_for_sources.items():\n",
    "    n_unique_preds = len(distinct_targets)\n",
    "    distinct_source_count += 1\n",
    "    abs_div_sum += n_unique_preds\n",
    "    if n_unique_preds <= 1:\n",
    "        undiverse_top_rank_count += 1\n",
    "\n",
    "\n",
    "\n",
    "print(f\"average top rank diversity: {abs_div_sum / distinct_source_count}\")\n",
    "print(f\"total number of distinct substitution sources: {abs_div_sum}\")\n",
    "print(f\"number of substitution sources which have only 1 recommended ingredient: {undiverse_top_rank_count}\")\n",
    "print(f\"number of substitution sources which have only 1 recommended ingreident and which is applied to more than 10 recipes: {undiverse_top_rank_count_with_more_than_10_recipes}\")"
   ]
  },
  {
   "cell_type": "code",
   "execution_count": 5,
   "metadata": {},
   "outputs": [],
   "source": [
    "all_ranks_for_sources = {}\n",
    "\n",
    "for row in rows:\n",
    "    source = row[0]\n",
    "    top_rank_pred = row[3]\n",
    "\n",
    "    if source not in list(all_ranks_for_sources.keys()):\n",
    "        all_ranks_for_sources[source] = []\n",
    "    all_ranks_for_sources[source].append(top_rank_pred)\n",
    "\n"
   ]
  },
  {
   "cell_type": "code",
   "execution_count": 6,
   "metadata": {},
   "outputs": [
    {
     "name": "stdout",
     "output_type": "stream",
     "text": [
      "average top rank diversity: 1.054054054054054\n",
      "total number of distinct substitution sources: 39\n",
      "number of substitution sources which have only 1 recommended ingredient: 35\n",
      "number of substitution sources which have only 1 recommended ingreident and which is applied to more than 10 recipes: 0\n"
     ]
    }
   ],
   "source": [
    "undiverse_top_rank_count = 0\n",
    "undiverse_top_rank_count_with_more_than_10_recipes = 0\n",
    "abs_div_sum = 0\n",
    "distinct_source_count = 0\n",
    "\n",
    "for source, all_targets in all_ranks_for_sources.items():\n",
    "    distinct_targets = []\n",
    "    for target in all_targets:\n",
    "        if target not in distinct_targets:\n",
    "            distinct_targets.append(target)\n",
    "\n",
    "    n_unique_preds = len(distinct_targets)\n",
    "    distinct_source_count += 1\n",
    "    abs_div_sum += n_unique_preds\n",
    "    if n_unique_preds <= 1:\n",
    "        undiverse_top_rank_count += 1\n",
    "        if len(all_targets) > 10:\n",
    "            undiverse_top_rank_count_with_more_than_10_recipes += 1\n",
    "\n",
    "\n",
    "\n",
    "print(f\"average top rank diversity: {abs_div_sum / distinct_source_count}\")\n",
    "print(f\"total number of distinct substitution sources: {abs_div_sum}\")\n",
    "print(f\"number of substitution sources which have only 1 recommended ingredient: {undiverse_top_rank_count}\")\n",
    "print(f\"number of substitution sources which have only 1 recommended ingreident and which is applied to more than 10 recipes: {undiverse_top_rank_count_with_more_than_10_recipes}\")"
   ]
  },
  {
   "cell_type": "code",
   "execution_count": null,
   "metadata": {},
   "outputs": [],
   "source": []
  },
  {
   "cell_type": "code",
   "execution_count": null,
   "metadata": {},
   "outputs": [],
   "source": []
  },
  {
   "cell_type": "code",
   "execution_count": null,
   "metadata": {},
   "outputs": [],
   "source": []
  },
  {
   "cell_type": "code",
   "execution_count": null,
   "metadata": {},
   "outputs": [],
   "source": []
  },
  {
   "cell_type": "code",
   "execution_count": null,
   "metadata": {},
   "outputs": [],
   "source": []
  }
 ],
 "metadata": {
  "kernelspec": {
   "display_name": "foodrecommnederscrapbooks",
   "language": "python",
   "name": "python3"
  },
  "language_info": {
   "codemirror_mode": {
    "name": "ipython",
    "version": 3
   },
   "file_extension": ".py",
   "mimetype": "text/x-python",
   "name": "python",
   "nbconvert_exporter": "python",
   "pygments_lexer": "ipython3",
   "version": "3.11.4"
  }
 },
 "nbformat": 4,
 "nbformat_minor": 2
}
