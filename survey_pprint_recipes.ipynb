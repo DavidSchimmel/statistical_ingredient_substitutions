{
 "cells": [
  {
   "cell_type": "code",
   "execution_count": 27,
   "metadata": {},
   "outputs": [],
   "source": [
    "import json\n",
    "import os\n",
    "import random"
   ]
  },
  {
   "cell_type": "code",
   "execution_count": 3,
   "metadata": {},
   "outputs": [],
   "source": [
    "SURVEY_COMPLETE_SUB_TUPLE_AND_RECIPE_SET_PATH = os.path.abspath(\"./outputs/suvey_all_subs_and_recipes.json\")\n",
    "\n",
    "with open(SURVEY_COMPLETE_SUB_TUPLE_AND_RECIPE_SET_PATH, \"r\") as json_file:\n",
    "    survey_data = json.load(json_file)"
   ]
  },
  {
   "cell_type": "code",
   "execution_count": 15,
   "metadata": {},
   "outputs": [],
   "source": [
    "def pprint_recipe(recipe):\n",
    "    print(f\"Title: {recipe['title']}\\n\")\n",
    "    print(f\"Ingredient List:\")\n",
    "    for ingredient in recipe[\"ingredients\"]:\n",
    "        first_ingredient_variant = ingredient[0]\n",
    "        print(f\"{first_ingredient_variant}\")\n",
    "    print(f\"\\nInstructions:\")\n",
    "    for step, instruction in enumerate(recipe[\"instructions\"]):\n",
    "        print(f\"Step {step}: {instruction}\")\n",
    "    print(f\"*******************************\")"
   ]
  },
  {
   "cell_type": "code",
   "execution_count": 16,
   "metadata": {},
   "outputs": [
    {
     "name": "stdout",
     "output_type": "stream",
     "text": [
      "Suggested substitution: ['paprika', 'chili_powder']\n",
      "***\n",
      "Title: Pork Chops Paprikash\n",
      "\n",
      "Ingredient List:\n",
      "black_pepper\n",
      "garlic_powder\n",
      "paprika\n",
      "pork_chop\n",
      "vegetable_oil\n",
      "bacon_grease\n",
      "flour\n",
      "\n",
      "Instructions:\n",
      "Step 0: Heat oven to 250F (low).\n",
      "Step 1: Mix spices together and rub generously onto both sides of chops.\n",
      "Step 2: Set aside.\n",
      "Step 3: Heat oil and bacon grease in a large skillet.\n",
      "Step 4: Dredge chops in flour (using a plastic grocery bag makes it super easy) and sear chops (in batches) over medium high heat just to brown the outside.\n",
      "Step 5: Add extra oil if necessary.\n",
      "Step 6: Place the chops into a 9x13 pan directly from the pan so the excess grease also goes into the baking dish.\n",
      "Step 7: When all the chops are seared and in the baking dish, cover very tightly with foil.\n",
      "Step 8: Bake for about 2 hours for perfect tenderness.\n",
      "*******************************\n"
     ]
    }
   ],
   "source": [
    "sub_set, recipe = survey_data[0]\n",
    "print(f\"Suggested substitution: {sub_set}\")\n",
    "print(\"***\")\n",
    "pprint_recipe(recipe)"
   ]
  },
  {
   "cell_type": "code",
   "execution_count": 17,
   "metadata": {},
   "outputs": [
    {
     "name": "stdout",
     "output_type": "stream",
     "text": [
      "Suggested substitution: ['ground_beef', 'lean_ground_turkey']\n",
      "***\n",
      "Title: Sylvie's Easy Peasy Pasta Bake for 2\n",
      "\n",
      "Ingredient List:\n",
      "ground_beef\n",
      "onion\n",
      "zucchini\n",
      "bell_pepper\n",
      "button_mushroom\n",
      "pasta\n",
      "stewed_tomato\n",
      "ketchup\n",
      "milk\n",
      "dried_oregano\n",
      "vegetable_bouillon_granule\n",
      "cheese\n",
      "salt\n",
      "pepper\n",
      "\n",
      "Instructions:\n",
      "Step 0: Preheat oven to 400F/200C/Gas 6.\n",
      "Step 1: Heat a little oil in a n a frying pan and fry onions and ground beef, till beef is browned well.\n",
      "Step 2: Season with salt and pepper.\n",
      "Step 3: Add all the chopped vegetables, stewed tomatoes, ketchup, milk, oregano and vegetable stock granules (if you have stock cubes, just sprinkle 1/2 a cube over the top).\n",
      "Step 4: Stir and allow to simmer for 5-10 minutes.\n",
      "Step 5: Add the pasta and mix well.\n",
      "Step 6: Transfer to an oven dish and top with grated cheese.\n",
      "Step 7: Bake in the oven until the cheese has melted and is beginning to brown, approx 15 minutes.\n",
      "Step 8: This will serve two as a main course or four as a side dish.\n",
      "*******************************\n"
     ]
    }
   ],
   "source": [
    "sub_set, recipe = survey_data[19]\n",
    "print(f\"Suggested substitution: {sub_set}\")\n",
    "print(\"***\")\n",
    "pprint_recipe(recipe)"
   ]
  },
  {
   "cell_type": "code",
   "execution_count": 18,
   "metadata": {},
   "outputs": [
    {
     "name": "stdout",
     "output_type": "stream",
     "text": [
      "Suggested substitution: ['banana', 'pumpkin']\n",
      "***\n",
      "Title: Kittencal's Banana Cinnamon Snack Cake or Muffins (Low-Fat)\n",
      "\n",
      "Ingredient List:\n",
      "all_purpose_flour\n",
      "sugar\n",
      "baking_powder\n",
      "baking_soda\n",
      "cinnamon\n",
      "salt\n",
      "plain_fat_free_yogurt\n",
      "banana\n",
      "oil\n",
      "egg\n",
      "vanilla\n",
      "\n",
      "Instructions:\n",
      "Step 0: Set oven to 350 degrees F.\n",
      "Step 1: Grease a 8 or 9-inch square baking pan or line muffin tins with paper liners.\n",
      "Step 2: In a large bowl, combine flour, sugar, baking powder, baking soda, cinnamon and salt.\n",
      "Step 3: In a small bowl, whisk together yogurt, banana, oil, egg and vanilla.\n",
      "Step 4: Pour over dry ingredients, and gently stir with a spatula until JUST blended (do not over mix).\n",
      "Step 5: Spread the batter into prepared baking pan.\n",
      "Step 6: Bake for about 25 minutes, or until the top of the cake is light brown, and edges begin to pull away from sides of the pan (bake slightly less time for muffins).\n",
      "Step 7: Cool cake in pan on rack for 10 minutes.\n",
      "Step 8: Loosen sides of cake with a dinner knife or a spatula.\n",
      "Step 9: Invert cake right side up and cool completely.\n",
      "Step 10: Sprinkle lightly with powdered sugar.\n",
      "*******************************\n"
     ]
    }
   ],
   "source": [
    "sub_set, recipe = survey_data[114]\n",
    "print(f\"Suggested substitution: {sub_set}\")\n",
    "print(\"***\")\n",
    "pprint_recipe(recipe)"
   ]
  },
  {
   "cell_type": "code",
   "execution_count": 19,
   "metadata": {},
   "outputs": [
    {
     "name": "stdout",
     "output_type": "stream",
     "text": [
      "Suggested substitution: ['salsa', 'rotel']\n",
      "***\n",
      "Title: Low Fat Breakfast Wraps\n",
      "\n",
      "Ingredient List:\n",
      "low_fat_flour_tortilla\n",
      "salsa\n",
      "streaky_bacon\n",
      "fat_free_cream_cheese\n",
      "\n",
      "Instructions:\n",
      "Step 0: Place bacon on paper towel on top of paper plate.\n",
      "Step 1: Cover with another papertowel and cook on high 2 minutes.\n",
      "Step 2: Flip bacon over and cook 30 sec to 1 min more or till crispy.\n",
      "Step 3: Scramble egg substitute in a non-stick pan coated with cooking spray.\n",
      "Step 4: Once egg substitute is fluffy add in salsa and warm through.\n",
      "Step 5: Spread each tortilla with 1 t. cream cheese, fill with 1/4 of egg mixture and one slice bacon.\n",
      "Step 6: Wrap up and serve.\n",
      "*******************************\n"
     ]
    }
   ],
   "source": [
    "sub_set, recipe = survey_data[237]\n",
    "print(f\"Suggested substitution: {sub_set}\")\n",
    "print(\"***\")\n",
    "pprint_recipe(recipe)"
   ]
  },
  {
   "cell_type": "code",
   "execution_count": 20,
   "metadata": {},
   "outputs": [
    {
     "name": "stdout",
     "output_type": "stream",
     "text": [
      "Suggested substitution: ['chicken', 'turkey_breast']\n",
      "***\n",
      "Title: Cast Iron Chicken Pot Pie with Cheddar Drop Biscuits\n",
      "\n",
      "Ingredient List:\n",
      "butter\n",
      "onion\n",
      "flour\n",
      "chicken_broth\n",
      "milk\n",
      "chicken\n",
      "peas_and_carrot\n",
      "salt_and_pepper\n",
      "flour\n",
      "baking_powder\n",
      "baking_soda\n",
      "salt\n",
      "sugar\n",
      "butter\n",
      "medium_cheddar\n",
      "buttermilk\n",
      "black_pepper\n",
      "\n",
      "Instructions:\n",
      "Step 0: For the filling: Heat a 12-inch cast iron skillet over medium heat.\n",
      "Step 1: Add the butter and once its melted add the onions, stirring and cooking until onions are translucent, about 3-4 minutes.\n",
      "Step 2: Sprinkle in the flour, stirring constantly, and cooking for 1-2 minutes more.\n",
      "Step 3: You want the flour to cook a bit (this helps eliminate a floury taste in your filling, so dont skip this step).\n",
      "Step 4: Pour in the chicken broth and the milk, stirring until combined.\n",
      "Step 5: Turn the heat up to medium-high and bring the mixture to a gentle boil.\n",
      "Step 6: Reduce the heat to a low and let it simmer about 10 minutes, stirring occasionally as the mixture thickens.\n",
      "Step 7: Add the chicken, peas and carrots and parsley.\n",
      "Step 8: Season with salt and pepper to taste.\n",
      "Step 9: Preheat oven to 425 F.\n",
      "Step 10: For the biscuits: In a mixing bowl, stir together the flour, baking powder, baking soda, salt and sugar.\n",
      "Step 11: Cut in the butter using a pastry blender or your fingers until the mixture is crumbly.\n",
      "Step 12: Stir in the cheddar cheese, followed by the buttermilk, stirring until it all just comes together and forms a thick, sticky dough.\n",
      "Step 13: Be careful not to overwork the doughthis is the key to a fluffy biscuit.\n",
      "Step 14: To assemble your pot pie: Drop the biscuit dough in 1/4 cup sized dollops onto the top of the pot pie filling.\n",
      "Step 15: Sprinkle the biscuits with black pepper.\n",
      "Step 16: Place the skillet into the preheated oven and bake for 18-20 minutes, until the biscuits are golden.\n",
      "Step 17: Serve promptly.\n",
      "Step 18: Notes: I added some of the chicken juices from the rotisserie chicken to the chicken broth to add depth of flavor.\n",
      "Step 19: If using a rotisserie chicken or leftover homemade roast chicken and have juices on hand, I recommend this.\n",
      "Step 20: Inspired by Homemade with Love by Jennifer Perillo.\n",
      "*******************************\n"
     ]
    }
   ],
   "source": [
    "sub_set, recipe = survey_data[333]\n",
    "print(f\"Suggested substitution: {sub_set}\")\n",
    "print(\"***\")\n",
    "pprint_recipe(recipe)"
   ]
  },
  {
   "cell_type": "code",
   "execution_count": 21,
   "metadata": {},
   "outputs": [
    {
     "name": "stdout",
     "output_type": "stream",
     "text": [
      "Suggested substitution: ['beef_stock', 'water']\n",
      "***\n",
      "Title: Salpicon (Spicy Mexican Beef Salad)\n",
      "\n",
      "Ingredient List:\n",
      "beef_brisket\n",
      "onion\n",
      "beef_stock\n",
      "bay_leaf\n",
      "garlic_clove\n",
      "canned_chipotle_chile\n",
      "salt\n",
      "black_peppercorn\n",
      "beef_broth\n",
      "chipotle_chiles_in_adobo\n",
      "extra_virgin_olive_oil\n",
      "fresh_lime_juice\n",
      "white_vinegar\n",
      "ketchup\n",
      "onion\n",
      "garlic_clove\n",
      "salt\n",
      "fresh_ground_black_pepper\n",
      "roma_tomato\n",
      "avocado\n",
      "red_onion\n",
      "monterey_jack_cheese\n",
      "fresh_cilantro\n",
      "radish\n",
      "\n",
      "Instructions:\n",
      "Step 0: Prepare brisket: In a Dutch oven or a small stockpot, combine meat with onion, stock, bay leaves, garlic, chipotles, salt and peppercorns.\n",
      "Step 1: Bring mixture to a boil over high heat, skimming off any foam.\n",
      "Step 2: Reduce heat to low, cover and simmer 3 1/2 to 4 hours or until the meat is falling-apart tender.\n",
      "Step 3: Let cool 30 minutes in cooking liquid.\n",
      "Step 4: Reserve 2 tablespoons cooking liquid for salad dressing and save remainder, refrigerated, for a Southweswtern soup or stew.\n",
      "Step 5: Pull meat apart into shreds.\n",
      "Step 6: (The dish can be made ahead to this point and refrigerated 1 or 2 days.\n",
      "Step 7: Before proceeding, warm foil-wrapped meat in oven.)\n",
      "Step 8: To make dressing: In a blender or food processor, combine reserved brisket liquid, chipotles, olive oil, lime juice, vinegar, ketchup, onion, garlic, salt and pepper and puree.\n",
      "Step 9: To complete salad: In a bowl, mix brisket with about 3/4 of the dressing.\n",
      "Step 10: Transfer brisket to a serving platter or bowl and toss it lightly with tomatoes, avocados, onion, cheese and cilantro.\n",
      "Step 11: Drizzle additional dressing over top, enough to make the mixture moist.\n",
      "Step 12: Garnish with radish roses if desired.\n",
      "Step 13: Serve warm with fresh hot tortillas, or chilled with tortilla chips for dipping.\n",
      "*******************************\n"
     ]
    }
   ],
   "source": [
    "sub_set, recipe = survey_data[449]\n",
    "print(f\"Suggested substitution: {sub_set}\")\n",
    "print(\"***\")\n",
    "pprint_recipe(recipe)"
   ]
  },
  {
   "cell_type": "code",
   "execution_count": 22,
   "metadata": {},
   "outputs": [
    {
     "name": "stdout",
     "output_type": "stream",
     "text": [
      "Suggested substitution: ['tomato_puree', 'diced_tomato']\n",
      "***\n",
      "Title: Easy Vegetable Curry\n",
      "\n",
      "Ingredient List:\n",
      "onion\n",
      "butter\n",
      "curry_paste\n",
      "potato\n",
      "carrot\n",
      "cauliflower_floret\n",
      "red_lentil\n",
      "tomato_puree\n",
      "water\n",
      "zucchini\n",
      "pea\n",
      "cream\n",
      "\n",
      "Instructions:\n",
      "Step 0: Saute onions in butter.\n",
      "Step 1: Add curry paste, potatoes, carrots, cauliflower, lentils, tomato puree and water.\n",
      "Step 2: Simmer 40 minutes stirring frequently.\n",
      "Step 3: Add zucchini and peas.\n",
      "Step 4: Continue to simmer for 15 minutes.\n",
      "Step 5: Stir in sour cream and serve.\n",
      "*******************************\n"
     ]
    }
   ],
   "source": [
    "sub_set, recipe = survey_data[510]\n",
    "print(f\"Suggested substitution: {sub_set}\")\n",
    "print(\"***\")\n",
    "pprint_recipe(recipe)"
   ]
  },
  {
   "cell_type": "code",
   "execution_count": 23,
   "metadata": {},
   "outputs": [
    {
     "name": "stdout",
     "output_type": "stream",
     "text": [
      "Suggested substitution: ['dried_currant', 'dried_cranberry']\n",
      "***\n",
      "Title: Cod Baked With Currants\n",
      "\n",
      "Ingredient List:\n",
      "dried_currant\n",
      "dry_white_wine\n",
      "olive_oil\n",
      "cod_steak\n",
      "salt\n",
      "pepper\n",
      "garlic_clove\n",
      "lemon\n",
      "onion\n",
      "fresh_parsley\n",
      "chopped_tomato\n",
      "whole_clove\n",
      "\n",
      "Instructions:\n",
      "Step 0: Preheat oven to 400.\n",
      "Step 1: In a small bowl combine currants and wine, set aside.\n",
      "Step 2: Oil a baking dish in which cod steaks will fit side by side.\n",
      "Step 3: Place fish steaks in a baking dish.\n",
      "Step 4: Season with salt and pepper, to taste, then rub with garlic and drizzle with lemon juice.\n",
      "Step 5: In a large skillet over medium high heat, warm the 1/2 cup oil.\n",
      "Step 6: Add onions, parsley and tomatoes and cook till onions are soft (5-6 minutes).\n",
      "Step 7: Add cloves and currants and wine, simmer over medium heat 5 minutes.\n",
      "Step 8: Pour sauce over fish steaks.\n",
      "Step 9: Bake until fish flakes easily with a fork (35-45 minutes), basting several times during cooking.\n",
      "Step 10: Transfer fish to serving plates and spoon sauce over top.\n",
      "*******************************\n"
     ]
    }
   ],
   "source": [
    "sub_set, recipe = survey_data[699]\n",
    "print(f\"Suggested substitution: {sub_set}\")\n",
    "print(\"***\")\n",
    "pprint_recipe(recipe)"
   ]
  },
  {
   "cell_type": "code",
   "execution_count": 24,
   "metadata": {},
   "outputs": [
    {
     "name": "stdout",
     "output_type": "stream",
     "text": [
      "Suggested substitution: ['ground_beef', 'stew_meat']\n",
      "***\n",
      "Title: Stuffed Hamburgers\n",
      "\n",
      "Ingredient List:\n",
      "ground_beef\n",
      "soft_breadcrumb\n",
      "onion\n",
      "egg\n",
      "sugar\n",
      "soy_sauce\n",
      "water\n",
      "garlic_clove\n",
      "msg\n",
      "ginger\n",
      "\n",
      "Instructions:\n",
      "Step 0: Combine ground beef with remaining ingredients.\n",
      "Step 1: Mix well.\n",
      "Step 2: Shape into 6 patties or 3 larger steaks.\n",
      "Step 3: Broil 4 to 5 inches from heat for 10 minutes, turning once.\n",
      "Step 4: These burgers can also be pan grilled.\n",
      "*******************************\n"
     ]
    }
   ],
   "source": [
    "sub_set, recipe = survey_data[777]\n",
    "print(f\"Suggested substitution: {sub_set}\")\n",
    "print(\"***\")\n",
    "pprint_recipe(recipe)"
   ]
  },
  {
   "cell_type": "code",
   "execution_count": 25,
   "metadata": {},
   "outputs": [
    {
     "name": "stdout",
     "output_type": "stream",
     "text": [
      "Suggested substitution: ['boneless_skinless_chicken_breast', 'shrimp']\n",
      "***\n",
      "Title: Angel Chicken Pasta\n",
      "\n",
      "Ingredient List:\n",
      "cream_cheese_with_chive\n",
      "boneless_skinless_chicken_breast\n",
      "butter\n",
      "italian_salad_dressing_mix\n",
      "soup\n",
      "white_wine\n",
      "pasta\n",
      "\n",
      "Instructions:\n",
      "Step 0: Set out cream cheese.\n",
      "Step 1: This stuff is much easier to work with at room temperature.\n",
      "Step 2: Preheat oven to 350 degrees F.\n",
      "Step 3: Cut chicken into bite size pieces and arrange in a single layer in a 9x13 baking dish.\n",
      "Step 4: Melt butter over medium heat.\n",
      "Step 5: Add dressing mix and let dissolve for a few minutes.\n",
      "Step 6: Add soup and cream cheese.\n",
      "Step 7: Mix well.\n",
      "Step 8: Add wine, starting with one cup.\n",
      "Step 9: If you like your sauce a little thinner, add more.\n",
      "Step 10: If not, stick with one cup.\n",
      "Step 11: Make sure its heated through and well combined.\n",
      "Step 12: Pour sauce over the cut up chicken in a baking dish.\n",
      "Step 13: Bake for 1 hour.\n",
      "Step 14: Make pasta so it will be done at the same time as the chicken/sauce mixture.\n",
      "Step 15: Serve pasta topped with the chicken and sauce.\n",
      "Step 16: This goes good with some steamed broccoli or mushrooms, and dont forget bread.\n",
      "Step 17: You will almost want to lick your plate and get every bit of the sauce off, but using bread looks a little bit classier.\n",
      "Step 18: Your house should smell absoultely wonderful by now.\n",
      "*******************************\n"
     ]
    }
   ],
   "source": [
    "sub_set, recipe = survey_data[821]\n",
    "print(f\"Suggested substitution: {sub_set}\")\n",
    "print(\"***\")\n",
    "pprint_recipe(recipe)"
   ]
  },
  {
   "cell_type": "code",
   "execution_count": 26,
   "metadata": {},
   "outputs": [
    {
     "name": "stdout",
     "output_type": "stream",
     "text": [
      "Suggested substitution: ['shortening', 'lard']\n",
      "***\n",
      "Title: Rich Chocolate Truffles\n",
      "\n",
      "Ingredient List:\n",
      "whipping_cream\n",
      "real_butter\n",
      "semisweet_baking_chocolate\n",
      "semi_sweet_chocolate_chip\n",
      "vanilla_extract\n",
      "semi_sweet_chocolate_chip\n",
      "shortening\n",
      "powdered_sugar\n",
      "milk\n",
      "\n",
      "Instructions:\n",
      "Step 0: In saucepan, combine whipping cream & butter.\n",
      "Step 1: Cook over medium heat, stirring constantly, just until mixture boils; remove from heat.\n",
      "Step 2: Stir in chocolates until melted; continue stirring until mixture cools & thickens slightly.\n",
      "Step 3: Stir in vanilla.\n",
      "Step 4: Pour into shallow glass dish.\n",
      "Step 5: Cover; chill until firm.\n",
      "Step 6: With spoon scoop mixture into 1 inch balls.\n",
      "Step 7: Coating Melt chocolate & shortening over low heat; stirring constantly.\n",
      "Step 8: (use 1 Tbsp of shortening for every 6 oz.\n",
      "Step 9: of chocolate).\n",
      "Step 10: When mixture is smooth remove from heat.\n",
      "Step 11: Dip each truffle into coating.\n",
      "Step 12: (I found dr opping them in the chocolate & then fishing them out with a spoon worked best.\n",
      "Step 13: But work quickly or they will melt) Then either place them on foil or in foil candy papers & allow to harden.\n",
      "Step 14: Mix powdered sugar & milk.\n",
      "Step 15: Drizzle over truffles in various designs.\n",
      "*******************************\n"
     ]
    }
   ],
   "source": [
    "sub_set, recipe = survey_data[888]\n",
    "print(f\"Suggested substitution: {sub_set}\")\n",
    "print(\"***\")\n",
    "pprint_recipe(recipe)"
   ]
  },
  {
   "cell_type": "code",
   "execution_count": 29,
   "metadata": {},
   "outputs": [
    {
     "name": "stdout",
     "output_type": "stream",
     "text": [
      "[514, 236, 1254, 846, 1160, 969, 676, 270, 515, 615, 725, 513, 482, 284, 572, 873, 327, 569, 760, 199]\n"
     ]
    }
   ],
   "source": [
    "random_indices = random.sample(range(len(survey_data)), 20)\n",
    "\n",
    "for random_index in random_indices:\n",
    "    print(\"********************************\")\n",
    "    sub_set, recipe = survey_data[random_index]\n",
    "    print(f\"Suggested substitution: {sub_set}\")\n",
    "    print(\"***\")\n",
    "    pprint_recipe(recipe)"
   ]
  },
  {
   "cell_type": "code",
   "execution_count": null,
   "metadata": {},
   "outputs": [],
   "source": []
  }
 ],
 "metadata": {
  "kernelspec": {
   "display_name": "foodrecommnederscrapbooks",
   "language": "python",
   "name": "python3"
  },
  "language_info": {
   "codemirror_mode": {
    "name": "ipython",
    "version": 3
   },
   "file_extension": ".py",
   "mimetype": "text/x-python",
   "name": "python",
   "nbconvert_exporter": "python",
   "pygments_lexer": "ipython3",
   "version": "3.11.4"
  }
 },
 "nbformat": 4,
 "nbformat_minor": 2
}
