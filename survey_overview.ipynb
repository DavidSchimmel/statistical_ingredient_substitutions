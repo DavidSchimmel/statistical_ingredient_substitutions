{
 "cells": [
  {
   "cell_type": "code",
   "execution_count": 3,
   "metadata": {},
   "outputs": [],
   "source": [
    "import os\n",
    "import json\n",
    "\n",
    "from survey_results_utils import (questionTypeSuffixes, INDIVIDUAL_RESPONSES, CONSENSUAL_ANSWERS)"
   ]
  },
  {
   "cell_type": "code",
   "execution_count": 4,
   "metadata": {},
   "outputs": [],
   "source": [
    "SURVEY_SAMPLES_PATH = os.path.abspath(\"./outputs/suvey_question_set_restrained_500.json\")"
   ]
  },
  {
   "cell_type": "code",
   "execution_count": 5,
   "metadata": {},
   "outputs": [
    {
     "name": "stdout",
     "output_type": "stream",
     "text": [
      "500\n"
     ]
    }
   ],
   "source": [
    "with open(SURVEY_SAMPLES_PATH, \"r\") as survey_samples_file:\n",
    "    survey_samples = json.load(survey_samples_file)\n",
    "\n",
    "print(len(survey_samples))"
   ]
  },
  {
   "cell_type": "markdown",
   "metadata": {},
   "source": [
    "## Survey Overview\n"
   ]
  },
  {
   "cell_type": "markdown",
   "metadata": {},
   "source": [
    "## Distinct substitution pais\n",
    "\n",
    "- aiming for 10 samples peir pair: \n",
    "  - 7 where the substitution was suggested by user comments\n",
    "  - the rest up to 10 is fillied with recipes where the substitution was not suggested by users (increase likelyhood of negative samples)"
   ]
  },
  {
   "cell_type": "code",
   "execution_count": 4,
   "metadata": {},
   "outputs": [
    {
     "name": "stdout",
     "output_type": "stream",
     "text": [
      "Total number of distinct substition tuples: 50\n",
      "All distinct substitution tuple: \n",
      "arugula -> spinach\n",
      "boneless_skinless_chicken_breast -> pork\n",
      "boneless_skinless_chicken_breast -> shrimp\n",
      "chicken -> turkey\n",
      "chicken -> turkey_breast\n",
      "cilantro -> parsley\n",
      "cooked_chicken -> pork\n",
      "date -> raisin\n",
      "deli_ham -> bacon\n",
      "dry_white_wine -> water\n",
      "extra_large_shrimp -> chicken\n",
      "extra_lean_ground_beef -> ground_turkey\n",
      "flank_steak -> sirloin_steak\n",
      "fresh_basil -> cilantro\n",
      "fresh_cilantro -> fresh_parsley\n",
      "ground_beef -> ground_chicken\n",
      "ground_beef -> lean_ground_turkey\n",
      "ground_beef -> roast_beef\n",
      "ground_chicken -> turkey\n",
      "ground_lamb -> ground_beef\n",
      "ground_pork -> ground_beef\n",
      "ground_pork -> ground_chicken\n",
      "ground_turkey -> ground_pork\n",
      "ground_turkey -> lean_ground_beef\n",
      "lean_ground_beef -> chicken\n",
      "lean_ground_beef -> chicken_breast\n",
      "lean_ground_beef -> ground_pork\n",
      "lean_ground_beef -> turkey\n",
      "lean_ground_beef -> turkey_meat\n",
      "lean_ground_turkey -> beef\n",
      "parsley -> basil\n",
      "pine_nut -> sunflower_seed\n",
      "pork_roast -> pork_chop\n",
      "pork_tenderloin -> chicken_breast\n",
      "pork_tenderloin -> shrimp\n",
      "raisin -> chocolate\n",
      "raisin -> date\n",
      "raisin -> white_chocolate_chip\n",
      "red_wine_vinegar -> balsamic_vinegar\n",
      "red_wine_vinegar -> lemon_juice\n",
      "semi_sweet_chocolate_chip -> walnut\n",
      "slivered_almond -> walnut\n",
      "strawberry -> blueberry\n",
      "turkey -> chicken\n",
      "unsweetened_applesauce -> banana\n",
      "unsweetened_cocoa_powder -> chocolate\n",
      "white_wine -> lemon_juice\n",
      "white_wine -> white_wine_vinegar\n",
      "zucchini -> banana\n",
      "zucchini -> yellow_squash\n"
     ]
    }
   ],
   "source": [
    "distinct_sub_tuples = list(set([(sub_tuple[0], sub_tuple[1]) for sub_tuple, _recipe, _sample_id in survey_samples]))\n",
    "distinct_sub_tuples_strings = sorted(list([f\"{sub_tuple[0]} -> {sub_tuple[1]}\" for sub_tuple in distinct_sub_tuples]))\n",
    "\n",
    "print(f\"Total number of distinct substition tuples: {len(distinct_sub_tuples)}\")\n",
    "distinct_sub_tuples_string = \"\\n\".join(distinct_sub_tuples_strings)\n",
    "print(f\"All distinct substitution tuple: \\n{distinct_sub_tuples_string}\")"
   ]
  },
  {
   "cell_type": "code",
   "execution_count": null,
   "metadata": {},
   "outputs": [],
   "source": []
  }
 ],
 "metadata": {
  "kernelspec": {
   "display_name": "base",
   "language": "python",
   "name": "python3"
  },
  "language_info": {
   "codemirror_mode": {
    "name": "ipython",
    "version": 3
   },
   "file_extension": ".py",
   "mimetype": "text/x-python",
   "name": "python",
   "nbconvert_exporter": "python",
   "pygments_lexer": "ipython3",
   "version": "3.11.4"
  }
 },
 "nbformat": 4,
 "nbformat_minor": 2
}
